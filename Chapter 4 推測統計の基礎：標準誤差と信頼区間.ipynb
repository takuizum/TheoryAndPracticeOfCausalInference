{
 "cells": [
  {
   "cell_type": "code",
   "execution_count": 1,
   "metadata": {},
   "outputs": [
    {
     "name": "stderr",
     "output_type": "stream",
     "text": [
      "\u001b[32m\u001b[1m  Activating\u001b[22m\u001b[39m project at `~/local_Documents/TheoryAndPracticeOfCausalInference`\n"
     ]
    }
   ],
   "source": [
    "using Pkg\n",
    "Pkg.activate(\".\")"
   ]
  },
  {
   "cell_type": "code",
   "execution_count": 2,
   "metadata": {},
   "outputs": [
    {
     "name": "stderr",
     "output_type": "stream",
     "text": [
      "\u001b[32m\u001b[1m    Updating\u001b[22m\u001b[39m registry at `~/.julia/registries/General`\n",
      "\u001b[32m\u001b[1m    Updating\u001b[22m\u001b[39m git-repo `https://github.com/JuliaRegistries/General.git`\n",
      "\u001b[32m\u001b[1m   Resolving\u001b[22m\u001b[39m package versions...\n",
      "\u001b[32m\u001b[1m  No Changes\u001b[22m\u001b[39m to `~/local_Documents/TheoryAndPracticeOfCausalInference/Project.toml`\n",
      "\u001b[32m\u001b[1m  No Changes\u001b[22m\u001b[39m to `~/local_Documents/TheoryAndPracticeOfCausalInference/Manifest.toml`\n"
     ]
    }
   ],
   "source": [
    "Pkg.add([\"CSV\", \"DataFrames\", \"HTTP\", \"Statistics\"])\n",
    "using CSV, DataFrames, HTTP, Statistics"
   ]
  },
  {
   "cell_type": "code",
   "execution_count": 81,
   "metadata": {},
   "outputs": [],
   "source": [
    "data04 = CSV.read(HTTP.get(\"https://raw.githubusercontent.com/mtakahashi123/causality/main/data04.csv\").body, DataFrame; missingstring = \"\");"
   ]
  },
  {
   "cell_type": "code",
   "execution_count": 82,
   "metadata": {},
   "outputs": [
    {
     "data": {
      "text/plain": [
       "attach (generic function with 1 method)"
      ]
     },
     "execution_count": 82,
     "metadata": {},
     "output_type": "execute_result"
    }
   ],
   "source": [
    "function attach(x::DataFrame)\n",
    "    for i in propertynames(x)\n",
    "        @eval $(i) = $(x).$(i)\n",
    "    end\n",
    "end"
   ]
  },
  {
   "cell_type": "code",
   "execution_count": 83,
   "metadata": {},
   "outputs": [],
   "source": [
    "attach(data04)"
   ]
  },
  {
   "cell_type": "markdown",
   "metadata": {},
   "source": [
    "## 標準誤差"
   ]
  },
  {
   "cell_type": "code",
   "execution_count": 33,
   "metadata": {},
   "outputs": [
    {
     "data": {
      "text/plain": [
       "5.937171043518958"
      ]
     },
     "execution_count": 33,
     "metadata": {},
     "output_type": "execute_result"
    }
   ],
   "source": [
    "# 母数の集計\n",
    "N₁ = 4; n₁ = 2\n",
    "x₁ = [165, 166, 171, 180]\n",
    "μ = mean(x₁)\n",
    "hensa = @. x₁ - μ\n",
    "hensa² = @. hensa^2\n",
    "σ² = sum(hensa²) / N₁\n",
    "σ = √σ²"
   ]
  },
  {
   "cell_type": "code",
   "execution_count": 34,
   "metadata": {},
   "outputs": [
    {
     "data": {
      "text/plain": [
       "170.5"
      ]
     },
     "execution_count": 34,
     "metadata": {},
     "output_type": "execute_result"
    }
   ],
   "source": [
    "μ # 母平均"
   ]
  },
  {
   "cell_type": "code",
   "execution_count": 35,
   "metadata": {},
   "outputs": [
    {
     "data": {
      "text/plain": [
       "5.937171043518958"
      ]
     },
     "execution_count": 35,
     "metadata": {},
     "output_type": "execute_result"
    }
   ],
   "source": [
    "σ # 母標準偏差"
   ]
  },
  {
   "cell_type": "code",
   "execution_count": 36,
   "metadata": {},
   "outputs": [
    {
     "name": "stderr",
     "output_type": "stream",
     "text": [
      "\u001b[32m\u001b[1m   Resolving\u001b[22m\u001b[39m package versions...\n",
      "\u001b[32m\u001b[1m  No Changes\u001b[22m\u001b[39m to `~/local_Documents/TheoryAndPracticeOfCausalInference/Project.toml`\n",
      "\u001b[32m\u001b[1m  No Changes\u001b[22m\u001b[39m to `~/local_Documents/TheoryAndPracticeOfCausalInference/Manifest.toml`\n"
     ]
    }
   ],
   "source": [
    "# 標本抽出と標本平均\n",
    "Pkg.add(\"Combinatorics\")\n",
    "using Combinatorics"
   ]
  },
  {
   "cell_type": "code",
   "execution_count": 37,
   "metadata": {},
   "outputs": [
    {
     "data": {
      "text/plain": [
       "2×6 Matrix{Int64}:\n",
       " 165  165  165  166  166  171\n",
       " 166  171  180  171  180  180"
      ]
     },
     "execution_count": 37,
     "metadata": {},
     "output_type": "execute_result"
    }
   ],
   "source": [
    "# 標本サイズが2であるときの，とりうる標本をすべて列挙する。\n",
    "xs = hcat(collect(combinations(x₁, n₁))...)"
   ]
  },
  {
   "cell_type": "markdown",
   "metadata": {},
   "source": [
    "Rのapplyと同等な，高級関数をJuliaで使うのであれば，`map()`を使えば良い。`eachcol`では`xs`の列要素のgeneratorを生成している。"
   ]
  },
  {
   "cell_type": "code",
   "execution_count": 38,
   "metadata": {},
   "outputs": [
    {
     "data": {
      "text/plain": [
       "3.427827300200522"
      ]
     },
     "execution_count": 38,
     "metadata": {},
     "output_type": "execute_result"
    }
   ],
   "source": [
    "xbars = map(mean, eachcol(xs))\n",
    "# mean(xbars)\n",
    "hensab = @. xbars - μ\n",
    "hensa²b = @. hensab ^2\n",
    "σ²b = sum(hensa²b) / 6\n",
    "σb = √σ²b"
   ]
  },
  {
   "cell_type": "code",
   "execution_count": 39,
   "metadata": {},
   "outputs": [
    {
     "data": {
      "text/plain": [
       "1×6 adjoint(::Vector{Float64}) with eltype Float64:\n",
       " 165.5  168.0  172.5  168.5  173.0  175.5"
      ]
     },
     "execution_count": 39,
     "metadata": {},
     "output_type": "execute_result"
    }
   ],
   "source": [
    "xbars'"
   ]
  },
  {
   "cell_type": "code",
   "execution_count": 40,
   "metadata": {},
   "outputs": [
    {
     "data": {
      "text/plain": [
       "170.5"
      ]
     },
     "execution_count": 40,
     "metadata": {},
     "output_type": "execute_result"
    }
   ],
   "source": [
    "mean(xbars) # 標本平均（不偏推定量）"
   ]
  },
  {
   "cell_type": "code",
   "execution_count": 41,
   "metadata": {},
   "outputs": [
    {
     "data": {
      "text/plain": [
       "3.427827300200522"
      ]
     },
     "execution_count": 41,
     "metadata": {},
     "output_type": "execute_result"
    }
   ],
   "source": [
    "σb # 標本標準偏差（不偏推定量ではない）"
   ]
  },
  {
   "cell_type": "code",
   "execution_count": 42,
   "metadata": {},
   "outputs": [
    {
     "data": {
      "text/plain": [
       "4.198213905936666"
      ]
     },
     "execution_count": 42,
     "metadata": {},
     "output_type": "execute_result"
    }
   ],
   "source": [
    "se₀ = σ / sqrt(n₁)"
   ]
  },
  {
   "cell_type": "code",
   "execution_count": 43,
   "metadata": {},
   "outputs": [
    {
     "data": {
      "text/plain": [
       "3.427827300200522"
      ]
     },
     "execution_count": 43,
     "metadata": {},
     "output_type": "execute_result"
    }
   ],
   "source": [
    "correct = √((N₁ - n₁) / (N₁ - 1))\n",
    "se₁ = se₀ * correct"
   ]
  },
  {
   "cell_type": "markdown",
   "metadata": {},
   "source": [
    "###  中心極限定理\n",
    "\n",
    "### $\\it{t}$統計量\n",
    "\n",
    "母集団の母平均に加えて，母標準偏差も未知であるケースを考える。平均も未知であるときに，標準偏差を推定しようとすると，平均のパラメタの分だけ自由度が減る。したがって，不偏分散や標本標準偏差の分母はn-1で割られる（？？？）\n",
    "\n",
    "標本平均をseで規格化した変数$Z = \\frac{\\bar{X}-\\mu}{\\sigma / \\sqrt{n}}$は標準正規分布に従うが，このとき，分母の$\\sigma$を標本標準偏差で置き換えた統計量が従う確率分布が，$t$分布である（？？？小標本の厳密な標本分布，という表現がいまいち理解できない。正規分布の無限混合分布として導出したほうがわかりやすい気もするが，とりあえずこう説明されているので，そう理解しておく）。\n",
    "\n",
    "## 信頼区間\n",
    "\n",
    "点推定値のまわりに誤差を加味した指標。区間推定値 (interval estimate)。\n",
    "\n",
    "標本から推定されるパラメタのばらつきであるため，n%信頼区間は，無数にある標本（区間）のうちn%の標本において真のパラメタが含まれる区間となる。"
   ]
  },
  {
   "cell_type": "code",
   "execution_count": 44,
   "metadata": {},
   "outputs": [
    {
     "name": "stderr",
     "output_type": "stream",
     "text": [
      "\u001b[32m\u001b[1m   Resolving\u001b[22m\u001b[39m package versions...\n",
      "\u001b[32m\u001b[1m  No Changes\u001b[22m\u001b[39m to `~/local_Documents/TheoryAndPracticeOfCausalInference/Project.toml`\n",
      "\u001b[32m\u001b[1m  No Changes\u001b[22m\u001b[39m to `~/local_Documents/TheoryAndPracticeOfCausalInference/Manifest.toml`\n"
     ]
    }
   ],
   "source": [
    "Pkg.add(\"Distributions\")\n",
    "using Distributions"
   ]
  },
  {
   "cell_type": "code",
   "execution_count": 50,
   "metadata": {},
   "outputs": [
    {
     "data": {
      "text/plain": [
       "2.0095752371292397"
      ]
     },
     "execution_count": 50,
     "metadata": {},
     "output_type": "execute_result"
    }
   ],
   "source": [
    "cquantile(TDist(49), 0.025)"
   ]
  },
  {
   "cell_type": "code",
   "execution_count": 53,
   "metadata": {},
   "outputs": [
    {
     "data": {
      "text/plain": [
       "2.0095752371292397"
      ]
     },
     "execution_count": 53,
     "metadata": {},
     "output_type": "execute_result"
    }
   ],
   "source": [
    "quantile(TDist(49), 0.975)"
   ]
  },
  {
   "cell_type": "markdown",
   "metadata": {},
   "source": [
    "### 信頼区間による対応のある場合の2標本t検定\n",
    "\n",
    "対応のある場合 = 同じ個体に対して2回の測定が実施されているケース。一般的には潜在的結果変数0と1は，それぞれいっぽうの処置でしか観測されないため，多重代入法などを使って補完したデータセットで推論を行う（21章）。"
   ]
  },
  {
   "cell_type": "code",
   "execution_count": 57,
   "metadata": {},
   "outputs": [
    {
     "data": {
      "text/html": [
       "<div class=\"data-frame\"><p>7 rows × 7 columns</p><table class=\"data-frame\"><thead><tr><th></th><th>variable</th><th>mean</th><th>min</th><th>median</th><th>max</th><th>nmissing</th><th>eltype</th></tr><tr><th></th><th title=\"Symbol\">Symbol</th><th title=\"Union{Nothing, Float64}\">Union…</th><th title=\"Any\">Any</th><th title=\"Union{Nothing, Float64}\">Union…</th><th title=\"Any\">Any</th><th title=\"Int64\">Int64</th><th title=\"DataType\">DataType</th></tr></thead><tbody><tr><th>1</th><td>x1</td><td>81.95</td><td>58</td><td>83.5</td><td>96</td><td>0</td><td>Int64</td></tr><tr><th>2</th><td>y3</td><td>76.6</td><td>61</td><td>76.5</td><td>87</td><td>0</td><td>Int64</td></tr><tr><th>3</th><td>t1</td><td>0.3</td><td>0</td><td>0.0</td><td>1</td><td>0</td><td>Int64</td></tr><tr><th>4</th><td>y0</td><td></td><td></td><td></td><td>84</td><td>0</td><td>String3</td></tr><tr><th>5</th><td>y1</td><td></td><td></td><td></td><td>96</td><td>0</td><td>String3</td></tr><tr><th>6</th><td>y0t</td><td>73.8</td><td>52</td><td>75.0</td><td>87</td><td>0</td><td>Int64</td></tr><tr><th>7</th><td>y1t</td><td>83.85</td><td>61</td><td>84.5</td><td>97</td><td>0</td><td>Int64</td></tr></tbody></table></div>"
      ],
      "text/latex": [
       "\\begin{tabular}{r|ccccccc}\n",
       "\t& variable & mean & min & median & max & nmissing & eltype\\\\\n",
       "\t\\hline\n",
       "\t& Symbol & Union… & Any & Union… & Any & Int64 & DataType\\\\\n",
       "\t\\hline\n",
       "\t1 & x1 & 81.95 & 58 & 83.5 & 96 & 0 & Int64 \\\\\n",
       "\t2 & y3 & 76.6 & 61 & 76.5 & 87 & 0 & Int64 \\\\\n",
       "\t3 & t1 & 0.3 & 0 & 0.0 & 1 & 0 & Int64 \\\\\n",
       "\t4 & y0 &  &  &  & 84 & 0 & String3 \\\\\n",
       "\t5 & y1 &  &  &  & 96 & 0 & String3 \\\\\n",
       "\t6 & y0t & 73.8 & 52 & 75.0 & 87 & 0 & Int64 \\\\\n",
       "\t7 & y1t & 83.85 & 61 & 84.5 & 97 & 0 & Int64 \\\\\n",
       "\\end{tabular}\n"
      ],
      "text/plain": [
       "\u001b[1m7×7 DataFrame\u001b[0m\n",
       "\u001b[1m Row \u001b[0m│\u001b[1m variable \u001b[0m\u001b[1m mean   \u001b[0m\u001b[1m min \u001b[0m\u001b[1m median \u001b[0m\u001b[1m max \u001b[0m\u001b[1m nmissing \u001b[0m\u001b[1m eltype   \u001b[0m\n",
       "\u001b[1m     \u001b[0m│\u001b[90m Symbol   \u001b[0m\u001b[90m Union… \u001b[0m\u001b[90m Any \u001b[0m\u001b[90m Union… \u001b[0m\u001b[90m Any \u001b[0m\u001b[90m Int64    \u001b[0m\u001b[90m DataType \u001b[0m\n",
       "─────┼────────────────────────────────────────────────────────\n",
       "   1 │ x1        81.95   58   83.5    96          0  Int64\n",
       "   2 │ y3        76.6    61   76.5    87          0  Int64\n",
       "   3 │ t1        0.3     0    0.0     1           0  Int64\n",
       "   4 │ y0       \u001b[90m        \u001b[0m     \u001b[90m        \u001b[0m 84          0  String3\n",
       "   5 │ y1       \u001b[90m        \u001b[0m     \u001b[90m        \u001b[0m 96          0  String3\n",
       "   6 │ y0t       73.8    52   75.0    87          0  Int64\n",
       "   7 │ y1t       83.85   61   84.5    97          0  Int64"
      ]
     },
     "execution_count": 57,
     "metadata": {},
     "output_type": "execute_result"
    }
   ],
   "source": [
    "describe(data04)"
   ]
  },
  {
   "cell_type": "code",
   "execution_count": 58,
   "metadata": {},
   "outputs": [
    {
     "data": {
      "text/plain": [
       "my_paired_ttest (generic function with 1 method)"
      ]
     },
     "execution_count": 58,
     "metadata": {},
     "output_type": "execute_result"
    }
   ],
   "source": [
    "function my_paired_ttest(x, y)\n",
    "    n₁ = length(x) # yでも可\n",
    "    diff = x - y\n",
    "    m₁ = mean(diff)\n",
    "    s₁ = std(diff)\n",
    "    tα = cquantile(TDist(n₁ - 1), 0.025)\n",
    "    return m₁ + tα * s₁ / √n₁, m₁ - tα * s₁ / √n₁\n",
    "end"
   ]
  },
  {
   "cell_type": "code",
   "execution_count": 59,
   "metadata": {},
   "outputs": [
    {
     "data": {
      "text/plain": [
       "(10.666325491505766, 9.433674508494235)"
      ]
     },
     "execution_count": 59,
     "metadata": {},
     "output_type": "execute_result"
    }
   ],
   "source": [
    "my_paired_ttest(y1t, y0t)"
   ]
  },
  {
   "cell_type": "code",
   "execution_count": 60,
   "metadata": {},
   "outputs": [
    {
     "name": "stderr",
     "output_type": "stream",
     "text": [
      "\u001b[32m\u001b[1m   Resolving\u001b[22m\u001b[39m package versions...\n",
      "\u001b[32m\u001b[1m  No Changes\u001b[22m\u001b[39m to `~/local_Documents/TheoryAndPracticeOfCausalInference/Project.toml`\n",
      "\u001b[32m\u001b[1m  No Changes\u001b[22m\u001b[39m to `~/local_Documents/TheoryAndPracticeOfCausalInference/Manifest.toml`\n"
     ]
    }
   ],
   "source": [
    "Pkg.add(\"HypothesisTests\")\n",
    "using HypothesisTests"
   ]
  },
  {
   "cell_type": "markdown",
   "metadata": {},
   "source": [
    "対応ありの$\\it{t}$検定（パッケージ版）\n",
    "\n",
    "`my_paired_ttest()`と同じ結果が得られる。"
   ]
  },
  {
   "cell_type": "code",
   "execution_count": 61,
   "metadata": {},
   "outputs": [
    {
     "data": {
      "text/plain": [
       "One sample t-test\n",
       "-----------------\n",
       "Population details:\n",
       "    parameter of interest:   Mean\n",
       "    value under h_0:         0\n",
       "    point estimate:          10.05\n",
       "    95% confidence interval: (9.434, 10.67)\n",
       "\n",
       "Test summary:\n",
       "    outcome with 95% confidence: reject h_0\n",
       "    two-sided p-value:           <1e-17\n",
       "\n",
       "Details:\n",
       "    number of observations:   20\n",
       "    t-statistic:              34.12951766024228\n",
       "    degrees of freedom:       19\n",
       "    empirical standard error: 0.2944665113655362\n"
      ]
     },
     "execution_count": 61,
     "metadata": {},
     "output_type": "execute_result"
    }
   ],
   "source": [
    "OneSampleTTest(y1t, y0t)"
   ]
  },
  {
   "cell_type": "markdown",
   "metadata": {},
   "source": [
    "### 信頼区間による対応のない場合の2標本$\\it{t}$検定\n",
    "\n",
    "処置が無作為割付けであればすべての交絡因子は調整可能と仮定できる。2つの処置を受ける個体は異なるため，対応のない検定を行う。\n",
    "\n",
    "2群の分散が等しいと仮定するかどうかで適切な検定方法が異なる。\n",
    "\n",
    "- 等分散の検定（等しい場合）\n",
    "- Welchの検定（等しくない場合）\n",
    "\n",
    "しかし，母分散が未知である以上，この判断はできない。仮に等分散性の検定を行っても，多重検定の問題が発生する。\n",
    "\n",
    "多重検定とは：\n",
    "\n"
   ]
  },
  {
   "cell_type": "code",
   "execution_count": 93,
   "metadata": {},
   "outputs": [
    {
     "data": {
      "text/plain": [
       "my_Welch_test (generic function with 1 method)"
      ]
     },
     "execution_count": 93,
     "metadata": {},
     "output_type": "execute_result"
    }
   ],
   "source": [
    "function my_Welch_test(y₀, y₁)\n",
    "    y₀obs, y₁obs = @. collect(skipmissing((y₀, y₁)))\n",
    "    n₀, n₁ = @. length((y₀obs, y₁obs))\n",
    "    s₀, s₁ = @. std((y₀obs, y₁obs))\n",
    "    num = (s₁ ^ 2 / n₁ + s₀ ^ 2 / n₀) ^ 2\n",
    "    denom = ((s₁ ^ 2 / n₁) ^ 2) / (n₁ - 1) + ((s₀ ^ 2 / n₀) ^ 2) / (n₀ - 1)\n",
    "    𝑑𝑓₁ = num / denom\n",
    "    x̄ = mean(y₁obs) - mean(y₀obs)\n",
    "    se₁ = √(s₁ ^ 2 / n₁ + s₀ ^ 2 / n₀)\n",
    "    tα = cquantile(TDist(𝑑𝑓₁), 0.025)\n",
    "    return x̄  + tα * se₁, x̄  - tα * se₁\n",
    "end"
   ]
  },
  {
   "cell_type": "code",
   "execution_count": 94,
   "metadata": {},
   "outputs": [
    {
     "data": {
      "text/plain": [
       "(18.469369847638223, 3.447296819028433)"
      ]
     },
     "execution_count": 94,
     "metadata": {},
     "output_type": "execute_result"
    }
   ],
   "source": [
    "my_Welch_test(y0, y1)"
   ]
  },
  {
   "cell_type": "code",
   "execution_count": 102,
   "metadata": {},
   "outputs": [
    {
     "data": {
      "text/plain": [
       "Two sample t-test (unequal variance)\n",
       "------------------------------------\n",
       "Population details:\n",
       "    parameter of interest:   Mean difference\n",
       "    value under h_0:         0\n",
       "    point estimate:          10.9583\n",
       "    95% confidence interval: (3.447, 18.47)\n",
       "\n",
       "Test summary:\n",
       "    outcome with 95% confidence: reject h_0\n",
       "    two-sided p-value:           0.0067\n",
       "\n",
       "Details:\n",
       "    number of observations:   [12,8]\n",
       "    t-statistic:              3.0692267168379623\n",
       "    degrees of freedom:       17.67407317439825\n",
       "    empirical standard error: 3.5703890081548075\n"
      ]
     },
     "execution_count": 102,
     "metadata": {},
     "output_type": "execute_result"
    }
   ],
   "source": [
    "UnequalVarianceTTest(collect(skipmissing(y1)), collect(skipmissing(y0)))"
   ]
  },
  {
   "cell_type": "markdown",
   "metadata": {},
   "source": [
    "パッケージの計算結果とも一致している。"
   ]
  }
 ],
 "metadata": {
  "kernelspec": {
   "display_name": "Julia 1.7.1",
   "language": "julia",
   "name": "julia-1.7"
  },
  "language_info": {
   "file_extension": ".jl",
   "mimetype": "application/julia",
   "name": "julia",
   "version": "1.7.1"
  }
 },
 "nbformat": 4,
 "nbformat_minor": 4
}
