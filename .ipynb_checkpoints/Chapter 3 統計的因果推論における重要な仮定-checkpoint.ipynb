{
 "cells": [
  {
   "cell_type": "code",
   "execution_count": 1,
   "metadata": {},
   "outputs": [
    {
     "name": "stderr",
     "output_type": "stream",
     "text": [
      "\u001b[32m\u001b[1m  Activating\u001b[22m\u001b[39m project at `~/local_Documents/CausalInferenceWithR`\n"
     ]
    }
   ],
   "source": [
    "using Pkg\n",
    "Pkg.activate(\".\")"
   ]
  },
  {
   "cell_type": "code",
   "execution_count": 2,
   "metadata": {},
   "outputs": [
    {
     "name": "stderr",
     "output_type": "stream",
     "text": [
      "\u001b[32m\u001b[1m    Updating\u001b[22m\u001b[39m registry at `~/.julia/registries/General`\n",
      "\u001b[32m\u001b[1m    Updating\u001b[22m\u001b[39m git-repo `https://github.com/JuliaRegistries/General.git`\n",
      "\u001b[32m\u001b[1m   Resolving\u001b[22m\u001b[39m package versions...\n",
      "\u001b[32m\u001b[1m  No Changes\u001b[22m\u001b[39m to `~/local_Documents/CausalInferenceWithR/Project.toml`\n",
      "\u001b[32m\u001b[1m  No Changes\u001b[22m\u001b[39m to `~/local_Documents/CausalInferenceWithR/Manifest.toml`\n"
     ]
    }
   ],
   "source": [
    "Pkg.add([\"CSV\", \"DataFrames\", \"HTTP\", \"Statistics\"])\n",
    "using CSV, DataFrames, HTTP, Statistics"
   ]
  },
  {
   "cell_type": "code",
   "execution_count": 10,
   "metadata": {},
   "outputs": [],
   "source": [
    "data03 = CSV.read(HTTP.get(\"https://raw.githubusercontent.com/mtakahashi123/causality/main/data03.csv\").body, DataFrame; missingstring = \"NA\");"
   ]
  },
  {
   "cell_type": "code",
   "execution_count": 4,
   "metadata": {},
   "outputs": [
    {
     "data": {
      "text/plain": [
       "attach (generic function with 1 method)"
      ]
     },
     "execution_count": 4,
     "metadata": {},
     "output_type": "execute_result"
    }
   ],
   "source": [
    "function attach(x::DataFrame)\n",
    "    for i in propertynames(x)\n",
    "        @eval $(i) = $(x).$(i)\n",
    "    end\n",
    "end"
   ]
  },
  {
   "cell_type": "markdown",
   "metadata": {},
   "source": [
    "## STUVA\n",
    "\n",
    "Stable Unit Treatment Value Assumption\n",
    "\n",
    "さとゔぁと発音するらしい。ずっとすとぅーばだと思ってた。\n",
    "\n",
    "処置を受ける個体ごとに処置の値が安定\n",
    "- 相互干渉がない\n",
    "- 個体に対する隠れた処置がない\n",
    "二番目の仮定がやや難しそう。\n",
    "\n",
    "本質的に除外制約 = 別の処置による因果効果の存在を除外するための仮定。\n",
    "\n",
    "## 識別性の条件\n",
    "\n",
    "**識別性(identifiability)** = データからパラメタを一意に推定できること。\n",
    "\n",
    "識別性＝正値性（$0<P(T=1)<1$, 両端を含まない）＋独立性(${Y(1), Y(0) | T}$, 割り付けについての独立性)\n",
    "\n",
    "特に，独立性は無作為割付けならば用意に満たされるが，観察研究では必ずしもそうでないので注意が必要。\n",
    "\n",
    "\n",
    "## 実験研究におけるATEの推定\n",
    "\n",
    "テストの例の割り付け（補習を受けるかどうか）は無作為ではなかったため，独立性の仮定が満たされない＝ATEのナイーブな推定量にバイアスが入る。\n",
    "\n",
    "補習の有無の割り付けは入試の成績（x1）に依存している。また，入試の成績は（数学力という潜在変数を共通の親に持つ形で）期末試験の成績（＝潜在的結果変数）に依存している。\n",
    "\n",
    "## 共変量の役割\n",
    "\n",
    "無交絡性(unconfoundedness) = ある変数（の組）$\\mathbf{X}$を条件付ければ，独立性の仮定が成り立つ。\n",
    "\n",
    "$$\n",
    "\\{Y_i(1), Y_i(0)\\} \\perp\\!\\!\\!\\!\\perp T_i|\\it{X}\n",
    "$$\n",
    "\n",
    "合わせて条件付き正値性も重要。\n",
    "\n",
    "$$\n",
    "0 < P(T=1|\\it{X}) < 1\n",
    "$$\n",
    "\n",
    "強い意味での無視可能な割り付け (stringly ignorable treatment assignment)＝STUVAと無交絡性，条件付き正値性が成り立つ。\n",
    "\n"
   ]
  },
  {
   "cell_type": "code",
   "execution_count": 11,
   "metadata": {},
   "outputs": [
    {
     "data": {
      "text/html": [
       "<div class=\"data-frame\"><p>20 rows × 5 columns</p><table class=\"data-frame\"><thead><tr><th></th><th>x1</th><th>y3</th><th>t1</th><th>y0t</th><th>y1t</th></tr><tr><th></th><th title=\"Int64\">Int64</th><th title=\"Int64\">Int64</th><th title=\"Int64\">Int64</th><th title=\"Int64\">Int64</th><th title=\"Int64\">Int64</th></tr></thead><tbody><tr><th>1</th><td>70</td><td>74</td><td>1</td><td>62</td><td>74</td></tr><tr><th>2</th><td>70</td><td>63</td><td>0</td><td>63</td><td>74</td></tr><tr><th>3</th><td>70</td><td>73</td><td>1</td><td>62</td><td>73</td></tr><tr><th>4</th><td>70</td><td>71</td><td>1</td><td>65</td><td>71</td></tr><tr><th>5</th><td>70</td><td>74</td><td>1</td><td>63</td><td>74</td></tr><tr><th>6</th><td>75</td><td>67</td><td>0</td><td>67</td><td>77</td></tr><tr><th>7</th><td>75</td><td>77</td><td>1</td><td>68</td><td>77</td></tr><tr><th>8</th><td>75</td><td>68</td><td>0</td><td>68</td><td>76</td></tr><tr><th>9</th><td>75</td><td>77</td><td>1</td><td>68</td><td>77</td></tr><tr><th>10</th><td>75</td><td>78</td><td>1</td><td>67</td><td>78</td></tr><tr><th>11</th><td>85</td><td>88</td><td>1</td><td>78</td><td>88</td></tr><tr><th>12</th><td>85</td><td>77</td><td>0</td><td>77</td><td>86</td></tr><tr><th>13</th><td>85</td><td>76</td><td>0</td><td>76</td><td>87</td></tr><tr><th>14</th><td>85</td><td>86</td><td>1</td><td>74</td><td>86</td></tr><tr><th>15</th><td>85</td><td>78</td><td>0</td><td>78</td><td>85</td></tr><tr><th>16</th><td>90</td><td>81</td><td>0</td><td>81</td><td>91</td></tr><tr><th>17</th><td>90</td><td>91</td><td>1</td><td>81</td><td>91</td></tr><tr><th>18</th><td>90</td><td>82</td><td>0</td><td>82</td><td>91</td></tr><tr><th>19</th><td>90</td><td>82</td><td>0</td><td>82</td><td>92</td></tr><tr><th>20</th><td>90</td><td>82</td><td>0</td><td>82</td><td>92</td></tr></tbody></table></div>"
      ],
      "text/latex": [
       "\\begin{tabular}{r|ccccc}\n",
       "\t& x1 & y3 & t1 & y0t & y1t\\\\\n",
       "\t\\hline\n",
       "\t& Int64 & Int64 & Int64 & Int64 & Int64\\\\\n",
       "\t\\hline\n",
       "\t1 & 70 & 74 & 1 & 62 & 74 \\\\\n",
       "\t2 & 70 & 63 & 0 & 63 & 74 \\\\\n",
       "\t3 & 70 & 73 & 1 & 62 & 73 \\\\\n",
       "\t4 & 70 & 71 & 1 & 65 & 71 \\\\\n",
       "\t5 & 70 & 74 & 1 & 63 & 74 \\\\\n",
       "\t6 & 75 & 67 & 0 & 67 & 77 \\\\\n",
       "\t7 & 75 & 77 & 1 & 68 & 77 \\\\\n",
       "\t8 & 75 & 68 & 0 & 68 & 76 \\\\\n",
       "\t9 & 75 & 77 & 1 & 68 & 77 \\\\\n",
       "\t10 & 75 & 78 & 1 & 67 & 78 \\\\\n",
       "\t11 & 85 & 88 & 1 & 78 & 88 \\\\\n",
       "\t12 & 85 & 77 & 0 & 77 & 86 \\\\\n",
       "\t13 & 85 & 76 & 0 & 76 & 87 \\\\\n",
       "\t14 & 85 & 86 & 1 & 74 & 86 \\\\\n",
       "\t15 & 85 & 78 & 0 & 78 & 85 \\\\\n",
       "\t16 & 90 & 81 & 0 & 81 & 91 \\\\\n",
       "\t17 & 90 & 91 & 1 & 81 & 91 \\\\\n",
       "\t18 & 90 & 82 & 0 & 82 & 91 \\\\\n",
       "\t19 & 90 & 82 & 0 & 82 & 92 \\\\\n",
       "\t20 & 90 & 82 & 0 & 82 & 92 \\\\\n",
       "\\end{tabular}\n"
      ],
      "text/plain": [
       "\u001b[1m20×5 DataFrame\u001b[0m\n",
       "\u001b[1m Row \u001b[0m│\u001b[1m x1    \u001b[0m\u001b[1m y3    \u001b[0m\u001b[1m t1    \u001b[0m\u001b[1m y0t   \u001b[0m\u001b[1m y1t   \u001b[0m\n",
       "\u001b[1m     \u001b[0m│\u001b[90m Int64 \u001b[0m\u001b[90m Int64 \u001b[0m\u001b[90m Int64 \u001b[0m\u001b[90m Int64 \u001b[0m\u001b[90m Int64 \u001b[0m\n",
       "─────┼───────────────────────────────────\n",
       "   1 │    70     74      1     62     74\n",
       "   2 │    70     63      0     63     74\n",
       "   3 │    70     73      1     62     73\n",
       "   4 │    70     71      1     65     71\n",
       "   5 │    70     74      1     63     74\n",
       "   6 │    75     67      0     67     77\n",
       "   7 │    75     77      1     68     77\n",
       "   8 │    75     68      0     68     76\n",
       "   9 │    75     77      1     68     77\n",
       "  10 │    75     78      1     67     78\n",
       "  11 │    85     88      1     78     88\n",
       "  12 │    85     77      0     77     86\n",
       "  13 │    85     76      0     76     87\n",
       "  14 │    85     86      1     74     86\n",
       "  15 │    85     78      0     78     85\n",
       "  16 │    90     81      0     81     91\n",
       "  17 │    90     91      1     81     91\n",
       "  18 │    90     82      0     82     91\n",
       "  19 │    90     82      0     82     92\n",
       "  20 │    90     82      0     82     92"
      ]
     },
     "execution_count": 11,
     "metadata": {},
     "output_type": "execute_result"
    }
   ],
   "source": [
    "data03"
   ]
  },
  {
   "cell_type": "markdown",
   "metadata": {},
   "source": [
    "- x1 入学試験成績\n",
    "- y3 期末試験成績\n",
    "- t1 処置\n",
    "- y1t 潜在的結果変数（期末試験成績の）\n",
    "\n",
    "y1tは処置が1のものについてはy3と同じ値が入る。\n",
    "\n",
    "上から5人ごとに割り付け確率が変わっており，上の集団から順に4/5, 3/5, 2/5, 1/5となっている。"
   ]
  },
  {
   "cell_type": "code",
   "execution_count": 17,
   "metadata": {},
   "outputs": [
    {
     "name": "stdout",
     "output_type": "stream",
     "text": [
      "処置群1の割り付け確率は80.0%\n",
      "処置群2の割り付け確率は60.0%\n",
      "処置群3の割り付け確率は40.0%\n",
      "処置群4の割り付け確率は20.0%\n"
     ]
    }
   ],
   "source": [
    "for g in 1:4\n",
    "    i = (g - 1) * 5 + 1\n",
    "    p = mean(data03.t1[i:i+4])\n",
    "    println(\"処置群$(g)の割り付け確率は$(100p)%\")\n",
    "end"
   ]
  },
  {
   "cell_type": "code",
   "execution_count": 5,
   "metadata": {},
   "outputs": [
    {
     "data": {
      "text/html": [
       "<div class=\"data-frame\"><p>5 rows × 7 columns</p><table class=\"data-frame\"><thead><tr><th></th><th>variable</th><th>mean</th><th>min</th><th>median</th><th>max</th><th>nmissing</th><th>eltype</th></tr><tr><th></th><th title=\"Symbol\">Symbol</th><th title=\"Float64\">Float64</th><th title=\"Int64\">Int64</th><th title=\"Float64\">Float64</th><th title=\"Int64\">Int64</th><th title=\"Int64\">Int64</th><th title=\"DataType\">DataType</th></tr></thead><tbody><tr><th>1</th><td>x1</td><td>80.0</td><td>70</td><td>80.0</td><td>90</td><td>0</td><td>Int64</td></tr><tr><th>2</th><td>y3</td><td>77.25</td><td>63</td><td>77.0</td><td>91</td><td>0</td><td>Int64</td></tr><tr><th>3</th><td>t1</td><td>0.5</td><td>0</td><td>0.5</td><td>1</td><td>0</td><td>Int64</td></tr><tr><th>4</th><td>y0t</td><td>72.2</td><td>62</td><td>71.0</td><td>82</td><td>0</td><td>Int64</td></tr><tr><th>5</th><td>y1t</td><td>82.0</td><td>71</td><td>81.5</td><td>92</td><td>0</td><td>Int64</td></tr></tbody></table></div>"
      ],
      "text/latex": [
       "\\begin{tabular}{r|ccccccc}\n",
       "\t& variable & mean & min & median & max & nmissing & eltype\\\\\n",
       "\t\\hline\n",
       "\t& Symbol & Float64 & Int64 & Float64 & Int64 & Int64 & DataType\\\\\n",
       "\t\\hline\n",
       "\t1 & x1 & 80.0 & 70 & 80.0 & 90 & 0 & Int64 \\\\\n",
       "\t2 & y3 & 77.25 & 63 & 77.0 & 91 & 0 & Int64 \\\\\n",
       "\t3 & t1 & 0.5 & 0 & 0.5 & 1 & 0 & Int64 \\\\\n",
       "\t4 & y0t & 72.2 & 62 & 71.0 & 82 & 0 & Int64 \\\\\n",
       "\t5 & y1t & 82.0 & 71 & 81.5 & 92 & 0 & Int64 \\\\\n",
       "\\end{tabular}\n"
      ],
      "text/plain": [
       "\u001b[1m5×7 DataFrame\u001b[0m\n",
       "\u001b[1m Row \u001b[0m│\u001b[1m variable \u001b[0m\u001b[1m mean    \u001b[0m\u001b[1m min   \u001b[0m\u001b[1m median  \u001b[0m\u001b[1m max   \u001b[0m\u001b[1m nmissing \u001b[0m\u001b[1m eltype   \u001b[0m\n",
       "\u001b[1m     \u001b[0m│\u001b[90m Symbol   \u001b[0m\u001b[90m Float64 \u001b[0m\u001b[90m Int64 \u001b[0m\u001b[90m Float64 \u001b[0m\u001b[90m Int64 \u001b[0m\u001b[90m Int64    \u001b[0m\u001b[90m DataType \u001b[0m\n",
       "─────┼──────────────────────────────────────────────────────────────\n",
       "   1 │ x1          80.0      70     80.0     90         0  Int64\n",
       "   2 │ y3          77.25     63     77.0     91         0  Int64\n",
       "   3 │ t1           0.5       0      0.5      1         0  Int64\n",
       "   4 │ y0t         72.2      62     71.0     82         0  Int64\n",
       "   5 │ y1t         82.0      71     81.5     92         0  Int64"
      ]
     },
     "execution_count": 5,
     "metadata": {},
     "output_type": "execute_result"
    }
   ],
   "source": [
    "describe(data03)"
   ]
  },
  {
   "cell_type": "code",
   "execution_count": 6,
   "metadata": {},
   "outputs": [],
   "source": [
    "attach(data03)"
   ]
  },
  {
   "cell_type": "code",
   "execution_count": 7,
   "metadata": {},
   "outputs": [
    {
     "data": {
      "text/plain": [
       "3.3000000000000114"
      ]
     },
     "execution_count": 7,
     "metadata": {},
     "output_type": "execute_result"
    }
   ],
   "source": [
    "mean(y3[@. t1 == 1]) - mean(y3[@. t1 == 0])"
   ]
  },
  {
   "cell_type": "code",
   "execution_count": 9,
   "metadata": {},
   "outputs": [
    {
     "data": {
      "text/plain": [
       "9.799999999999997"
      ]
     },
     "execution_count": 9,
     "metadata": {},
     "output_type": "execute_result"
    }
   ],
   "source": [
    "mean(y1t) - mean(y0t)"
   ]
  },
  {
   "cell_type": "code",
   "execution_count": null,
   "metadata": {},
   "outputs": [],
   "source": []
  }
 ],
 "metadata": {
  "kernelspec": {
   "display_name": "Julia 1.7.1",
   "language": "julia",
   "name": "julia-1.7"
  },
  "language_info": {
   "file_extension": ".jl",
   "mimetype": "application/julia",
   "name": "julia",
   "version": "1.7.1"
  }
 },
 "nbformat": 4,
 "nbformat_minor": 4
}
