{
 "cells": [
  {
   "cell_type": "code",
   "execution_count": 1,
   "metadata": {},
   "outputs": [
    {
     "name": "stderr",
     "output_type": "stream",
     "text": [
      "\u001b[32m\u001b[1m  Activating\u001b[22m\u001b[39m project at `~/local_Documents/CausalInferenceWithR`\n"
     ]
    }
   ],
   "source": [
    "using Pkg\n",
    "Pkg.activate(\".\")"
   ]
  },
  {
   "cell_type": "code",
   "execution_count": 10,
   "metadata": {},
   "outputs": [
    {
     "name": "stderr",
     "output_type": "stream",
     "text": [
      "\u001b[32m\u001b[1m   Resolving\u001b[22m\u001b[39m package versions...\n",
      "\u001b[32m\u001b[1m    Updating\u001b[22m\u001b[39m `~/local_Documents/CausalInferenceWithR/Project.toml`\n",
      " \u001b[90m [10745b16] \u001b[39m\u001b[92m+ Statistics\u001b[39m\n",
      "\u001b[32m\u001b[1m  No Changes\u001b[22m\u001b[39m to `~/local_Documents/CausalInferenceWithR/Manifest.toml`\n"
     ]
    }
   ],
   "source": [
    "Pkg.add([\"CSV\", \"DataFrames\", \"HTTP\", \"Statistics\"])\n",
    "using CSV, DataFrames, HTTP, Statistics"
   ]
  },
  {
   "cell_type": "code",
   "execution_count": 84,
   "metadata": {},
   "outputs": [
    {
     "data": {
      "text/html": [
       "<div class=\"data-frame\"><p>20 rows × 7 columns</p><table class=\"data-frame\"><thead><tr><th></th><th>x1</th><th>y3</th><th>t1</th><th>y0</th><th>y1</th><th>y0t</th><th>y1t</th></tr><tr><th></th><th title=\"Int64\">Int64</th><th title=\"Int64\">Int64</th><th title=\"Int64\">Int64</th><th title=\"Union{Missing, Int64}\">Int64?</th><th title=\"Union{Missing, Int64}\">Int64?</th><th title=\"Int64\">Int64</th><th title=\"Int64\">Int64</th></tr></thead><tbody><tr><th>1</th><td>74</td><td>76</td><td>1</td><td><em>missing</em></td><td>76</td><td>68</td><td>76</td></tr><tr><th>2</th><td>82</td><td>75</td><td>0</td><td>75</td><td><em>missing</em></td><td>75</td><td>84</td></tr><tr><th>3</th><td>72</td><td>75</td><td>1</td><td><em>missing</em></td><td>75</td><td>65</td><td>75</td></tr><tr><th>4</th><td>96</td><td>84</td><td>0</td><td>84</td><td><em>missing</em></td><td>84</td><td>97</td></tr><tr><th>5</th><td>83</td><td>75</td><td>0</td><td>75</td><td><em>missing</em></td><td>75</td><td>84</td></tr><tr><th>6</th><td>72</td><td>74</td><td>1</td><td><em>missing</em></td><td>74</td><td>65</td><td>74</td></tr><tr><th>7</th><td>85</td><td>76</td><td>0</td><td>76</td><td><em>missing</em></td><td>76</td><td>87</td></tr><tr><th>8</th><td>87</td><td>77</td><td>0</td><td>77</td><td><em>missing</em></td><td>77</td><td>89</td></tr><tr><th>9</th><td>86</td><td>77</td><td>0</td><td>77</td><td><em>missing</em></td><td>77</td><td>87</td></tr><tr><th>10</th><td>77</td><td>80</td><td>1</td><td><em>missing</em></td><td>80</td><td>70</td><td>80</td></tr><tr><th>11</th><td>95</td><td>87</td><td>0</td><td>87</td><td><em>missing</em></td><td>87</td><td>96</td></tr><tr><th>12</th><td>84</td><td>75</td><td>0</td><td>75</td><td><em>missing</em></td><td>75</td><td>85</td></tr><tr><th>13</th><td>74</td><td>77</td><td>1</td><td><em>missing</em></td><td>77</td><td>67</td><td>77</td></tr><tr><th>14</th><td>58</td><td>61</td><td>1</td><td><em>missing</em></td><td>61</td><td>52</td><td>61</td></tr><tr><th>15</th><td>91</td><td>81</td><td>0</td><td>81</td><td><em>missing</em></td><td>81</td><td>93</td></tr><tr><th>16</th><td>80</td><td>72</td><td>0</td><td>72</td><td><em>missing</em></td><td>72</td><td>84</td></tr><tr><th>17</th><td>80</td><td>72</td><td>0</td><td>72</td><td><em>missing</em></td><td>72</td><td>82</td></tr><tr><th>18</th><td>89</td><td>80</td><td>0</td><td>80</td><td><em>missing</em></td><td>80</td><td>89</td></tr><tr><th>19</th><td>88</td><td>80</td><td>0</td><td>80</td><td><em>missing</em></td><td>80</td><td>90</td></tr><tr><th>20</th><td>86</td><td>78</td><td>0</td><td>78</td><td><em>missing</em></td><td>78</td><td>87</td></tr></tbody></table></div>"
      ],
      "text/latex": [
       "\\begin{tabular}{r|ccccccc}\n",
       "\t& x1 & y3 & t1 & y0 & y1 & y0t & y1t\\\\\n",
       "\t\\hline\n",
       "\t& Int64 & Int64 & Int64 & Int64? & Int64? & Int64 & Int64\\\\\n",
       "\t\\hline\n",
       "\t1 & 74 & 76 & 1 & \\emph{missing} & 76 & 68 & 76 \\\\\n",
       "\t2 & 82 & 75 & 0 & 75 & \\emph{missing} & 75 & 84 \\\\\n",
       "\t3 & 72 & 75 & 1 & \\emph{missing} & 75 & 65 & 75 \\\\\n",
       "\t4 & 96 & 84 & 0 & 84 & \\emph{missing} & 84 & 97 \\\\\n",
       "\t5 & 83 & 75 & 0 & 75 & \\emph{missing} & 75 & 84 \\\\\n",
       "\t6 & 72 & 74 & 1 & \\emph{missing} & 74 & 65 & 74 \\\\\n",
       "\t7 & 85 & 76 & 0 & 76 & \\emph{missing} & 76 & 87 \\\\\n",
       "\t8 & 87 & 77 & 0 & 77 & \\emph{missing} & 77 & 89 \\\\\n",
       "\t9 & 86 & 77 & 0 & 77 & \\emph{missing} & 77 & 87 \\\\\n",
       "\t10 & 77 & 80 & 1 & \\emph{missing} & 80 & 70 & 80 \\\\\n",
       "\t11 & 95 & 87 & 0 & 87 & \\emph{missing} & 87 & 96 \\\\\n",
       "\t12 & 84 & 75 & 0 & 75 & \\emph{missing} & 75 & 85 \\\\\n",
       "\t13 & 74 & 77 & 1 & \\emph{missing} & 77 & 67 & 77 \\\\\n",
       "\t14 & 58 & 61 & 1 & \\emph{missing} & 61 & 52 & 61 \\\\\n",
       "\t15 & 91 & 81 & 0 & 81 & \\emph{missing} & 81 & 93 \\\\\n",
       "\t16 & 80 & 72 & 0 & 72 & \\emph{missing} & 72 & 84 \\\\\n",
       "\t17 & 80 & 72 & 0 & 72 & \\emph{missing} & 72 & 82 \\\\\n",
       "\t18 & 89 & 80 & 0 & 80 & \\emph{missing} & 80 & 89 \\\\\n",
       "\t19 & 88 & 80 & 0 & 80 & \\emph{missing} & 80 & 90 \\\\\n",
       "\t20 & 86 & 78 & 0 & 78 & \\emph{missing} & 78 & 87 \\\\\n",
       "\\end{tabular}\n"
      ],
      "text/plain": [
       "\u001b[1m20×7 DataFrame\u001b[0m\n",
       "\u001b[1m Row \u001b[0m│\u001b[1m x1    \u001b[0m\u001b[1m y3    \u001b[0m\u001b[1m t1    \u001b[0m\u001b[1m y0      \u001b[0m\u001b[1m y1      \u001b[0m\u001b[1m y0t   \u001b[0m\u001b[1m y1t   \u001b[0m\n",
       "\u001b[1m     \u001b[0m│\u001b[90m Int64 \u001b[0m\u001b[90m Int64 \u001b[0m\u001b[90m Int64 \u001b[0m\u001b[90m Int64?  \u001b[0m\u001b[90m Int64?  \u001b[0m\u001b[90m Int64 \u001b[0m\u001b[90m Int64 \u001b[0m\n",
       "─────┼─────────────────────────────────────────────────────\n",
       "   1 │    74     76      1 \u001b[90m missing \u001b[0m      76     68     76\n",
       "   2 │    82     75      0       75 \u001b[90m missing \u001b[0m    75     84\n",
       "   3 │    72     75      1 \u001b[90m missing \u001b[0m      75     65     75\n",
       "   4 │    96     84      0       84 \u001b[90m missing \u001b[0m    84     97\n",
       "   5 │    83     75      0       75 \u001b[90m missing \u001b[0m    75     84\n",
       "   6 │    72     74      1 \u001b[90m missing \u001b[0m      74     65     74\n",
       "   7 │    85     76      0       76 \u001b[90m missing \u001b[0m    76     87\n",
       "   8 │    87     77      0       77 \u001b[90m missing \u001b[0m    77     89\n",
       "   9 │    86     77      0       77 \u001b[90m missing \u001b[0m    77     87\n",
       "  10 │    77     80      1 \u001b[90m missing \u001b[0m      80     70     80\n",
       "  11 │    95     87      0       87 \u001b[90m missing \u001b[0m    87     96\n",
       "  12 │    84     75      0       75 \u001b[90m missing \u001b[0m    75     85\n",
       "  13 │    74     77      1 \u001b[90m missing \u001b[0m      77     67     77\n",
       "  14 │    58     61      1 \u001b[90m missing \u001b[0m      61     52     61\n",
       "  15 │    91     81      0       81 \u001b[90m missing \u001b[0m    81     93\n",
       "  16 │    80     72      0       72 \u001b[90m missing \u001b[0m    72     84\n",
       "  17 │    80     72      0       72 \u001b[90m missing \u001b[0m    72     82\n",
       "  18 │    89     80      0       80 \u001b[90m missing \u001b[0m    80     89\n",
       "  19 │    88     80      0       80 \u001b[90m missing \u001b[0m    80     90\n",
       "  20 │    86     78      0       78 \u001b[90m missing \u001b[0m    78     87"
      ]
     },
     "execution_count": 84,
     "metadata": {},
     "output_type": "execute_result"
    }
   ],
   "source": [
    "data02 = CSV.read(HTTP.get(\"https://raw.githubusercontent.com/mtakahashi123/causality/main/data02.csv\").body, DataFrame; missingstring = \"NA\")"
   ]
  },
  {
   "cell_type": "code",
   "execution_count": 85,
   "metadata": {},
   "outputs": [
    {
     "data": {
      "text/html": [
       "<div class=\"data-frame\"><p>7 rows × 7 columns</p><table class=\"data-frame\"><thead><tr><th></th><th>variable</th><th>mean</th><th>min</th><th>median</th><th>max</th><th>nmissing</th><th>eltype</th></tr><tr><th></th><th title=\"Symbol\">Symbol</th><th title=\"Float64\">Float64</th><th title=\"Int64\">Int64</th><th title=\"Float64\">Float64</th><th title=\"Int64\">Int64</th><th title=\"Int64\">Int64</th><th title=\"Type\">Type</th></tr></thead><tbody><tr><th>1</th><td>x1</td><td>81.95</td><td>58</td><td>83.5</td><td>96</td><td>0</td><td>Int64</td></tr><tr><th>2</th><td>y3</td><td>76.6</td><td>61</td><td>76.5</td><td>87</td><td>0</td><td>Int64</td></tr><tr><th>3</th><td>t1</td><td>0.3</td><td>0</td><td>0.0</td><td>1</td><td>0</td><td>Int64</td></tr><tr><th>4</th><td>y0</td><td>77.7857</td><td>72</td><td>77.0</td><td>87</td><td>6</td><td>Union{Missing, Int64}</td></tr><tr><th>5</th><td>y1</td><td>73.8333</td><td>61</td><td>75.5</td><td>80</td><td>14</td><td>Union{Missing, Int64}</td></tr><tr><th>6</th><td>y0t</td><td>73.8</td><td>52</td><td>75.0</td><td>87</td><td>0</td><td>Int64</td></tr><tr><th>7</th><td>y1t</td><td>83.85</td><td>61</td><td>84.5</td><td>97</td><td>0</td><td>Int64</td></tr></tbody></table></div>"
      ],
      "text/latex": [
       "\\begin{tabular}{r|ccccccc}\n",
       "\t& variable & mean & min & median & max & nmissing & eltype\\\\\n",
       "\t\\hline\n",
       "\t& Symbol & Float64 & Int64 & Float64 & Int64 & Int64 & Type\\\\\n",
       "\t\\hline\n",
       "\t1 & x1 & 81.95 & 58 & 83.5 & 96 & 0 & Int64 \\\\\n",
       "\t2 & y3 & 76.6 & 61 & 76.5 & 87 & 0 & Int64 \\\\\n",
       "\t3 & t1 & 0.3 & 0 & 0.0 & 1 & 0 & Int64 \\\\\n",
       "\t4 & y0 & 77.7857 & 72 & 77.0 & 87 & 6 & Union\\{Missing, Int64\\} \\\\\n",
       "\t5 & y1 & 73.8333 & 61 & 75.5 & 80 & 14 & Union\\{Missing, Int64\\} \\\\\n",
       "\t6 & y0t & 73.8 & 52 & 75.0 & 87 & 0 & Int64 \\\\\n",
       "\t7 & y1t & 83.85 & 61 & 84.5 & 97 & 0 & Int64 \\\\\n",
       "\\end{tabular}\n"
      ],
      "text/plain": [
       "\u001b[1m7×7 DataFrame\u001b[0m\n",
       "\u001b[1m Row \u001b[0m│\u001b[1m variable \u001b[0m\u001b[1m mean    \u001b[0m\u001b[1m min   \u001b[0m\u001b[1m median  \u001b[0m\u001b[1m max   \u001b[0m\u001b[1m nmissing \u001b[0m\u001b[1m eltype             \u001b[0m ⋯\n",
       "\u001b[1m     \u001b[0m│\u001b[90m Symbol   \u001b[0m\u001b[90m Float64 \u001b[0m\u001b[90m Int64 \u001b[0m\u001b[90m Float64 \u001b[0m\u001b[90m Int64 \u001b[0m\u001b[90m Int64    \u001b[0m\u001b[90m Type               \u001b[0m ⋯\n",
       "─────┼──────────────────────────────────────────────────────────────────────────\n",
       "   1 │ x1        81.95       58     83.5     96         0  Int64               ⋯\n",
       "   2 │ y3        76.6        61     76.5     87         0  Int64\n",
       "   3 │ t1         0.3         0      0.0      1         0  Int64\n",
       "   4 │ y0        77.7857     72     77.0     87         6  Union{Missing, Int6\n",
       "   5 │ y1        73.8333     61     75.5     80        14  Union{Missing, Int6 ⋯\n",
       "   6 │ y0t       73.8        52     75.0     87         0  Int64\n",
       "   7 │ y1t       83.85       61     84.5     97         0  Int64\n",
       "\u001b[36m                                                                1 column omitted\u001b[0m"
      ]
     },
     "execution_count": 85,
     "metadata": {},
     "output_type": "execute_result"
    }
   ],
   "source": [
    "describe(data02) # 記述統計量の算出"
   ]
  },
  {
   "cell_type": "markdown",
   "metadata": {},
   "source": [
    "- x1~ Normal(80, 10)\n",
    "- t1 -> 処置割り付けの二値変数\n",
    "- y0t ~ Normal(80, 9)\n",
    "- y1t ~ Normal(90, 9)\n",
    "- y0 x1が80以上のときに観測される変数（期末試験0, Y|T=0）\n",
    "- y1 x1が80未満のときに観測される変数（期末試験1, Y|T=1)\n",
    "- y3 y0とy1の観測部分をくっつけた変数\n",
    "\n",
    "## 処置効果1：個体因果効果\n",
    "Individual Causal Effect, ICE, もしくはIndividual Treatment Effect, ITE\n",
    "\n",
    "ICEは単純に，個体ごとの「潜在的結果1-潜在的結果0」と定義される。"
   ]
  },
  {
   "cell_type": "code",
   "execution_count": 86,
   "metadata": {},
   "outputs": [
    {
     "data": {
      "text/plain": [
       "attach (generic function with 1 method)"
      ]
     },
     "execution_count": 86,
     "metadata": {},
     "output_type": "execute_result"
    }
   ],
   "source": [
    "# せっかくなのでattach関数を実装する。\n",
    "function attach(x::DataFrame)\n",
    "    for i in propertynames(x)\n",
    "        @eval $(i) = $(x).$(i)\n",
    "    end\n",
    "end"
   ]
  },
  {
   "cell_type": "code",
   "execution_count": 87,
   "metadata": {},
   "outputs": [],
   "source": [
    "attach(data02)"
   ]
  },
  {
   "cell_type": "markdown",
   "metadata": {},
   "source": [
    "個体処置効果, ICE\n",
    "\n",
    "定義はできても，一部に観測できない量があるため，推定できない。"
   ]
  },
  {
   "cell_type": "code",
   "execution_count": 88,
   "metadata": {},
   "outputs": [
    {
     "data": {
      "text/plain": [
       "20-element Vector{Int64}:\n",
       "  8\n",
       "  9\n",
       " 10\n",
       " 13\n",
       "  9\n",
       "  9\n",
       " 11\n",
       " 12\n",
       " 10\n",
       " 10\n",
       "  9\n",
       " 10\n",
       " 10\n",
       "  9\n",
       " 12\n",
       " 12\n",
       " 10\n",
       "  9\n",
       " 10\n",
       "  9"
      ]
     },
     "execution_count": 88,
     "metadata": {},
     "output_type": "execute_result"
    }
   ],
   "source": [
    "y1t - y0t"
   ]
  },
  {
   "cell_type": "markdown",
   "metadata": {},
   "source": [
    "## 処置効果2：平均処置効果\n",
    "\n",
    "Average Treatment Effect\n",
    "\n",
    "期待値の加法性から和の期待値は期待値の和に変形できる。\n",
    "\n",
    "$$\n",
    "\\tau = E[Y_i(1) - Y_i(0)] = E[Y_i(1)] - E[Y_i(0)]\n",
    "$$\n",
    "\n",
    "実際には同一個体の$Y_i(1)$と$Y_i(0)$は同時に観測されないので，直接ATEを計算することはできない。"
   ]
  },
  {
   "cell_type": "code",
   "execution_count": 89,
   "metadata": {},
   "outputs": [
    {
     "data": {
      "text/plain": [
       "10.049999999999997"
      ]
     },
     "execution_count": 89,
     "metadata": {},
     "output_type": "execute_result"
    }
   ],
   "source": [
    "mean(y1t) - mean(y0t)"
   ]
  },
  {
   "cell_type": "code",
   "execution_count": 90,
   "metadata": {},
   "outputs": [
    {
     "data": {
      "text/plain": [
       "-5.3500000000000085"
      ]
     },
     "execution_count": 90,
     "metadata": {},
     "output_type": "execute_result"
    }
   ],
   "source": [
    "mean(y3) - mean(x1)　# 実際に観測できるデータから計算した事前事後比較"
   ]
  },
  {
   "cell_type": "code",
   "execution_count": 91,
   "metadata": {},
   "outputs": [
    {
     "data": {
      "text/plain": [
       "-3.952380952380963"
      ]
     },
     "execution_count": 91,
     "metadata": {},
     "output_type": "execute_result"
    }
   ],
   "source": [
    "# ナイーブにペアワイズ除去した場合の，期末試験得点の差\n",
    "m1 = mean(skipmissing(y1)) \n",
    "m0 = mean(skipmissing(y0))\n",
    "m1 - m0"
   ]
  },
  {
   "cell_type": "markdown",
   "metadata": {},
   "source": [
    "## 処置効果3：処置群の平均処置効果\n",
    "\n",
    "Averate Treatment effect on the Treated, ATE\n",
    "\n",
    "実際に処置を受けた群における効果（政策評価や心理実験などでの関心）\n",
    "\n",
    "$$\n",
    "\\tau_{ATT} = E[Y_i(1) - Y_i(0)|T_i = 1] = E[Y_i(1)|T_i = 1] - E[Y_i(0)|T_i = 1]\n",
    "$$\n",
    "\n",
    "ATEとATTのどちらを使うかは研究テーマによる。手法によってもどちらが推定可能かが変わってくる。"
   ]
  },
  {
   "cell_type": "code",
   "execution_count": 92,
   "metadata": {},
   "outputs": [
    {
     "data": {
      "text/plain": [
       "9.333333333333329"
      ]
     },
     "execution_count": 92,
     "metadata": {},
     "output_type": "execute_result"
    }
   ],
   "source": [
    "mt1 = mean(y1t[@. t1 == 1])\n",
    "mt0 = mean(y0t[@. t1 == 1])\n",
    "mt1 - mt0"
   ]
  },
  {
   "cell_type": "markdown",
   "metadata": {},
   "source": [
    "## 交絡因子\n",
    "\n",
    "ナイーブな推定量$(y3 - x1)$における推論が「補習ををすると得点が下がる」と結論付けられてしまう。\n",
    "\n",
    "= 何らかのcofoundingが働いている。\n",
    "\n",
    "= そもそも補習を受ける人たちは数学が苦手な傾向にあるはずなので，補習授業の効果があったとしても，それを覆い隠すほどに初期位置の数学力が低い可能性がある。\n",
    "\n",
    "## DAG\n",
    "\n",
    "## 無作為割付けによる分析の例"
   ]
  },
  {
   "cell_type": "code",
   "execution_count": 16,
   "metadata": {},
   "outputs": [
    {
     "name": "stderr",
     "output_type": "stream",
     "text": [
      "\u001b[32m\u001b[1m   Resolving\u001b[22m\u001b[39m package versions...\n",
      "\u001b[32m\u001b[1m   Installed\u001b[22m\u001b[39m FillArrays ──── v0.13.0\n",
      "\u001b[32m\u001b[1m   Installed\u001b[22m\u001b[39m Distributions ─ v0.25.49\n",
      "\u001b[32m\u001b[1m    Updating\u001b[22m\u001b[39m `~/local_Documents/CausalInferenceWithR/Project.toml`\n",
      " \u001b[90m [31c24e10] \u001b[39m\u001b[92m+ Distributions v0.25.49\u001b[39m\n",
      " \u001b[90m [9a3f8284] \u001b[39m\u001b[92m+ Random\u001b[39m\n",
      "\u001b[32m\u001b[1m    Updating\u001b[22m\u001b[39m `~/local_Documents/CausalInferenceWithR/Manifest.toml`\n",
      " \u001b[90m [d360d2e6] \u001b[39m\u001b[92m+ ChainRulesCore v1.12.0\u001b[39m\n",
      " \u001b[90m [9e997f8a] \u001b[39m\u001b[92m+ ChangesOfVariables v0.1.2\u001b[39m\n",
      " \u001b[90m [b429d917] \u001b[39m\u001b[92m+ DensityInterface v0.4.0\u001b[39m\n",
      " \u001b[90m [31c24e10] \u001b[39m\u001b[92m+ Distributions v0.25.49\u001b[39m\n",
      " \u001b[90m [ffbed154] \u001b[39m\u001b[92m+ DocStringExtensions v0.8.6\u001b[39m\n",
      " \u001b[90m [1a297f60] \u001b[39m\u001b[92m+ FillArrays v0.13.0\u001b[39m\n",
      " \u001b[90m [3587e190] \u001b[39m\u001b[92m+ InverseFunctions v0.1.2\u001b[39m\n",
      " \u001b[90m [92d709cd] \u001b[39m\u001b[92m+ IrrationalConstants v0.1.1\u001b[39m\n",
      " \u001b[90m [692b3bcd] \u001b[39m\u001b[92m+ JLLWrappers v1.4.1\u001b[39m\n",
      " \u001b[90m [2ab3a3ac] \u001b[39m\u001b[92m+ LogExpFunctions v0.3.6\u001b[39m\n",
      " \u001b[90m [90014a1f] \u001b[39m\u001b[92m+ PDMats v0.11.5\u001b[39m\n",
      " \u001b[90m [21216c6a] \u001b[39m\u001b[92m+ Preferences v1.2.3\u001b[39m\n",
      " \u001b[90m [1fd47b50] \u001b[39m\u001b[92m+ QuadGK v2.4.2\u001b[39m\n",
      " \u001b[90m [79098fc4] \u001b[39m\u001b[92m+ Rmath v0.7.0\u001b[39m\n",
      " \u001b[90m [276daf66] \u001b[39m\u001b[92m+ SpecialFunctions v2.1.2\u001b[39m\n",
      " \u001b[90m [82ae8749] \u001b[39m\u001b[92m+ StatsAPI v1.2.1\u001b[39m\n",
      " \u001b[90m [2913bbd2] \u001b[39m\u001b[92m+ StatsBase v0.33.16\u001b[39m\n",
      " \u001b[90m [4c63d2b9] \u001b[39m\u001b[92m+ StatsFuns v0.9.15\u001b[39m\n",
      " \u001b[90m [efe28fd5] \u001b[39m\u001b[92m+ OpenSpecFun_jll v0.5.5+0\u001b[39m\n",
      " \u001b[90m [f50d1b31] \u001b[39m\u001b[92m+ Rmath_jll v0.3.0+0\u001b[39m\n",
      " \u001b[90m [4607b0f0] \u001b[39m\u001b[92m+ SuiteSparse\u001b[39m\n",
      " \u001b[90m [05823500] \u001b[39m\u001b[92m+ OpenLibm_jll\u001b[39m\n",
      "\u001b[32m\u001b[1mPrecompiling\u001b[22m\u001b[39m project...\n",
      "\u001b[32m  ✓ \u001b[39m\u001b[90mFillArrays\u001b[39m\n",
      "\u001b[32m  ✓ \u001b[39m\u001b[90mSpecialFunctions\u001b[39m\n",
      "\u001b[32m  ✓ \u001b[39m\u001b[90mStatsFuns\u001b[39m\n",
      "\u001b[32m  ✓ \u001b[39mDistributions\n",
      "  4 dependencies successfully precompiled in 9 seconds (52 already precompiled)\n",
      "┌ Info: Precompiling Distributions [31c24e10-a181-5473-b8eb-7969acd0382f]\n",
      "└ @ Base loading.jl:1423\n"
     ]
    }
   ],
   "source": [
    "Pkg.add([\"Random\", \"Distributions\"])\n",
    "using Random, Distributions"
   ]
  },
  {
   "cell_type": "code",
   "execution_count": 113,
   "metadata": {},
   "outputs": [
    {
     "data": {
      "text/plain": [
       "TaskLocalRNG()"
      ]
     },
     "execution_count": 113,
     "metadata": {},
     "output_type": "execute_result"
    }
   ],
   "source": [
    "Random.seed!(1) # 便宜上おなじシードを用いるが，当然Rの結果とは一致しない（乱数生成器も違うし）"
   ]
  },
  {
   "cell_type": "code",
   "execution_count": 121,
   "metadata": {},
   "outputs": [
    {
     "data": {
      "text/plain": [
       "9-element Vector{Int64}:\n",
       " 68\n",
       " 75\n",
       " 75\n",
       " 70\n",
       " 87\n",
       " 75\n",
       " 52\n",
       " 72\n",
       " 80"
      ]
     },
     "execution_count": 121,
     "metadata": {},
     "output_type": "execute_result"
    }
   ],
   "source": [
    "r0 = rand(Uniform(0, 1), 20)\n",
    "r1 = @. round(r0; digits = 0)\n",
    "# r1 = [0, 0, 1, 1, 0, 1, 1, 1, 1, 0, 0, 0, 1, 0, 1, 0, 1, 1, 0, 1,] # 検算用\n",
    "y2 = similar(y1t)\n",
    "y2[@. r1 == 1] = copy(y1t[@. r1 == 1])\n",
    "y2[@. r1 == 0] = copy(y0t[@. r1 == 0])"
   ]
  },
  {
   "cell_type": "code",
   "execution_count": 122,
   "metadata": {},
   "outputs": [
    {
     "data": {
      "text/plain": [
       "1×20 adjoint(::Vector{Int64}) with eltype Int64:\n",
       " 0  0  1  1  0  1  1  1  1  0  0  0  1  0  1  0  1  1  0  1"
      ]
     },
     "execution_count": 122,
     "metadata": {},
     "output_type": "execute_result"
    }
   ],
   "source": [
    "r1'"
   ]
  },
  {
   "cell_type": "code",
   "execution_count": 123,
   "metadata": {},
   "outputs": [
    {
     "data": {
      "text/plain": [
       "85.18181818181819"
      ]
     },
     "execution_count": 123,
     "metadata": {},
     "output_type": "execute_result"
    }
   ],
   "source": [
    "mr1 = mean(y2[@. r1 == 1])"
   ]
  },
  {
   "cell_type": "code",
   "execution_count": 124,
   "metadata": {},
   "outputs": [
    {
     "data": {
      "text/plain": [
       "72.66666666666667"
      ]
     },
     "execution_count": 124,
     "metadata": {},
     "output_type": "execute_result"
    }
   ],
   "source": [
    "mr0 = mean(y2[@. r1 == 0])"
   ]
  },
  {
   "cell_type": "code",
   "execution_count": 125,
   "metadata": {},
   "outputs": [
    {
     "data": {
      "text/plain": [
       "12.515151515151516"
      ]
     },
     "execution_count": 125,
     "metadata": {},
     "output_type": "execute_result"
    }
   ],
   "source": [
    "mr1 - mr0 # サンプルサイズが小さすぎるので，結果はかなり不安定。"
   ]
  },
  {
   "cell_type": "markdown",
   "metadata": {},
   "source": [
    "## 2標本$t$検定\n",
    "\n",
    "無作為割付けを実施したデータで2群間に差についてのt検定を行う。Rコードでは`var.equal = FALSE`で，等分散性の仮定を置かないようにしているので，`HypothesisTests.jl`の`UnequalVarianceTTest()`を使う。"
   ]
  },
  {
   "cell_type": "code",
   "execution_count": 119,
   "metadata": {},
   "outputs": [
    {
     "name": "stderr",
     "output_type": "stream",
     "text": [
      "\u001b[32m\u001b[1m   Resolving\u001b[22m\u001b[39m package versions...\n",
      "\u001b[32m\u001b[1m  No Changes\u001b[22m\u001b[39m to `~/local_Documents/CausalInferenceWithR/Project.toml`\n",
      "\u001b[32m\u001b[1m  No Changes\u001b[22m\u001b[39m to `~/local_Documents/CausalInferenceWithR/Manifest.toml`\n"
     ]
    }
   ],
   "source": [
    "Pkg.add(\"HypothesisTests\")\n",
    "using HypothesisTests"
   ]
  },
  {
   "cell_type": "code",
   "execution_count": 126,
   "metadata": {},
   "outputs": [
    {
     "data": {
      "text/plain": [
       "Two sample t-test (unequal variance)\n",
       "------------------------------------\n",
       "Population details:\n",
       "    parameter of interest:   Mean difference\n",
       "    value under h_0:         0\n",
       "    point estimate:          12.5152\n",
       "    95% confidence interval: (4.219, 20.81)\n",
       "\n",
       "Test summary:\n",
       "    outcome with 95% confidence: reject h_0\n",
       "    two-sided p-value:           0.0058\n",
       "\n",
       "Details:\n",
       "    number of observations:   [11,9]\n",
       "    t-statistic:              3.2178051903997393\n",
       "    degrees of freedom:       14.877550058900114\n",
       "    empirical standard error: 3.8893440636152343\n"
      ]
     },
     "execution_count": 126,
     "metadata": {},
     "output_type": "execute_result"
    }
   ],
   "source": [
    "UnequalVarianceTTest(y2[@. r1 == 1], y2[@. r1 == 0]) # 繰り返すが，サンプルサイズが小さいので同じ結果にはならない。"
   ]
  },
  {
   "cell_type": "code",
   "execution_count": null,
   "metadata": {},
   "outputs": [],
   "source": []
  }
 ],
 "metadata": {
  "@webio": {
   "lastCommId": null,
   "lastKernelId": null
  },
  "kernelspec": {
   "display_name": "Julia 1.7.1",
   "language": "julia",
   "name": "julia-1.7"
  },
  "language_info": {
   "file_extension": ".jl",
   "mimetype": "application/julia",
   "name": "julia",
   "version": "1.7.1"
  }
 },
 "nbformat": 4,
 "nbformat_minor": 4
}
