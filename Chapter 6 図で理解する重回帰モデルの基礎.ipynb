{
 "cells": [
  {
   "cell_type": "code",
   "execution_count": 1,
   "metadata": {},
   "outputs": [
    {
     "name": "stderr",
     "output_type": "stream",
     "text": [
      "\u001b[32m\u001b[1m  Activating\u001b[22m\u001b[39m project at `~/local_Documents/TheoryAndPracticeOfCausalInference`\n"
     ]
    }
   ],
   "source": [
    "using Pkg\n",
    "Pkg.activate(\".\")"
   ]
  },
  {
   "cell_type": "code",
   "execution_count": 2,
   "metadata": {},
   "outputs": [
    {
     "name": "stderr",
     "output_type": "stream",
     "text": [
      "\u001b[32m\u001b[1m    Updating\u001b[22m\u001b[39m registry at `~/.julia/registries/General`\n",
      "\u001b[32m\u001b[1m    Updating\u001b[22m\u001b[39m git-repo `https://github.com/JuliaRegistries/General.git`\n",
      "\u001b[32m\u001b[1m   Resolving\u001b[22m\u001b[39m package versions...\n",
      "\u001b[32m\u001b[1m  No Changes\u001b[22m\u001b[39m to `~/local_Documents/TheoryAndPracticeOfCausalInference/Project.toml`\n",
      "\u001b[32m\u001b[1m  No Changes\u001b[22m\u001b[39m to `~/local_Documents/TheoryAndPracticeOfCausalInference/Manifest.toml`\n"
     ]
    }
   ],
   "source": [
    "Pkg.add([\"CSV\", \"DataFrames\", \"HTTP\", \"Statistics\"])\n",
    "using CSV, DataFrames, HTTP, Statistics"
   ]
  },
  {
   "cell_type": "code",
   "execution_count": 3,
   "metadata": {},
   "outputs": [
    {
     "data": {
      "text/html": [
       "<div class=\"data-frame\"><p>23 rows × 4 columns</p><table class=\"data-frame\"><thead><tr><th></th><th>country</th><th>y1</th><th>x1</th><th>x2</th></tr><tr><th></th><th title=\"String15\">String15</th><th title=\"Float64\">Float64</th><th title=\"Float64\">Float64</th><th title=\"Float64\">Float64</th></tr></thead><tbody><tr><th>1</th><td>australia</td><td>3.87133</td><td>4.9</td><td>54.763</td></tr><tr><th>2</th><td>austria</td><td>15.6585</td><td>8.1</td><td>49.701</td></tr><tr><th>3</th><td>belgium</td><td>8.64357</td><td>5.6</td><td>46.198</td></tr><tr><th>4</th><td>brazil</td><td>0.0</td><td>1.2</td><td>8.755</td></tr><tr><th>5</th><td>canada</td><td>4.17387</td><td>4.0</td><td>46.55</td></tr><tr><th>6</th><td>china</td><td>0.0212498</td><td>0.1</td><td>10.004</td></tr><tr><th>7</th><td>denmark</td><td>22.2475</td><td>4.9</td><td>60.657</td></tr><tr><th>8</th><td>finland</td><td>7.26028</td><td>5.4</td><td>48.678</td></tr><tr><th>9</th><td>france</td><td>9.04682</td><td>4.3</td><td>40.319</td></tr><tr><th>10</th><td>germany</td><td>9.98136</td><td>7.9</td><td>46.232</td></tr><tr><th>11</th><td>greece</td><td>1.86592</td><td>2.5</td><td>19.604</td></tr><tr><th>12</th><td>ireland</td><td>12.0545</td><td>7.9</td><td>81.637</td></tr><tr><th>13</th><td>italy</td><td>2.53511</td><td>4.0</td><td>33.09</td></tr><tr><th>14</th><td>japan</td><td>1.98057</td><td>1.2</td><td>40.063</td></tr><tr><th>15</th><td>netherlands</td><td>9.65077</td><td>5.1</td><td>53.053</td></tr><tr><th>16</th><td>norway</td><td>20.3749</td><td>5.8</td><td>74.986</td></tr><tr><th>17</th><td>poland</td><td>1.83332</td><td>5.7</td><td>15.727</td></tr><tr><th>18</th><td>portugal</td><td>1.94208</td><td>2.0</td><td>23.35</td></tr><tr><th>19</th><td>spain</td><td>1.26598</td><td>4.0</td><td>29.816</td></tr><tr><th>20</th><td>sweden</td><td>30.7631</td><td>6.6</td><td>52.896</td></tr><tr><th>21</th><td>switzerland</td><td>28.7989</td><td>8.8</td><td>85.135</td></tr><tr><th>22</th><td>unitedkingdom</td><td>18.7832</td><td>7.6</td><td>41.855</td></tr><tr><th>23</th><td>unitedstates</td><td>11.4452</td><td>4.4</td><td>65.134</td></tr></tbody></table></div>"
      ],
      "text/latex": [
       "\\begin{tabular}{r|cccc}\n",
       "\t& country & y1 & x1 & x2\\\\\n",
       "\t\\hline\n",
       "\t& String15 & Float64 & Float64 & Float64\\\\\n",
       "\t\\hline\n",
       "\t1 & australia & 3.87133 & 4.9 & 54.763 \\\\\n",
       "\t2 & austria & 15.6585 & 8.1 & 49.701 \\\\\n",
       "\t3 & belgium & 8.64357 & 5.6 & 46.198 \\\\\n",
       "\t4 & brazil & 0.0 & 1.2 & 8.755 \\\\\n",
       "\t5 & canada & 4.17387 & 4.0 & 46.55 \\\\\n",
       "\t6 & china & 0.0212498 & 0.1 & 10.004 \\\\\n",
       "\t7 & denmark & 22.2475 & 4.9 & 60.657 \\\\\n",
       "\t8 & finland & 7.26028 & 5.4 & 48.678 \\\\\n",
       "\t9 & france & 9.04682 & 4.3 & 40.319 \\\\\n",
       "\t10 & germany & 9.98136 & 7.9 & 46.232 \\\\\n",
       "\t11 & greece & 1.86592 & 2.5 & 19.604 \\\\\n",
       "\t12 & ireland & 12.0545 & 7.9 & 81.637 \\\\\n",
       "\t13 & italy & 2.53511 & 4.0 & 33.09 \\\\\n",
       "\t14 & japan & 1.98057 & 1.2 & 40.063 \\\\\n",
       "\t15 & netherlands & 9.65077 & 5.1 & 53.053 \\\\\n",
       "\t16 & norway & 20.3749 & 5.8 & 74.986 \\\\\n",
       "\t17 & poland & 1.83332 & 5.7 & 15.727 \\\\\n",
       "\t18 & portugal & 1.94208 & 2.0 & 23.35 \\\\\n",
       "\t19 & spain & 1.26598 & 4.0 & 29.816 \\\\\n",
       "\t20 & sweden & 30.7631 & 6.6 & 52.896 \\\\\n",
       "\t21 & switzerland & 28.7989 & 8.8 & 85.135 \\\\\n",
       "\t22 & unitedkingdom & 18.7832 & 7.6 & 41.855 \\\\\n",
       "\t23 & unitedstates & 11.4452 & 4.4 & 65.134 \\\\\n",
       "\\end{tabular}\n"
      ],
      "text/plain": [
       "\u001b[1m23×4 DataFrame\u001b[0m\n",
       "\u001b[1m Row \u001b[0m│\u001b[1m country       \u001b[0m\u001b[1m y1         \u001b[0m\u001b[1m x1      \u001b[0m\u001b[1m x2      \u001b[0m\n",
       "\u001b[1m     \u001b[0m│\u001b[90m String15      \u001b[0m\u001b[90m Float64    \u001b[0m\u001b[90m Float64 \u001b[0m\u001b[90m Float64 \u001b[0m\n",
       "─────┼─────────────────────────────────────────────\n",
       "   1 │ australia       3.87133        4.9   54.763\n",
       "   2 │ austria        15.6585         8.1   49.701\n",
       "   3 │ belgium         8.64357        5.6   46.198\n",
       "   4 │ brazil          0.0            1.2    8.755\n",
       "   5 │ canada          4.17387        4.0   46.55\n",
       "   6 │ china           0.0212498      0.1   10.004\n",
       "   7 │ denmark        22.2475         4.9   60.657\n",
       "   8 │ finland         7.26028        5.4   48.678\n",
       "   9 │ france          9.04682        4.3   40.319\n",
       "  10 │ germany         9.98136        7.9   46.232\n",
       "  11 │ greece          1.86592        2.5   19.604\n",
       "  12 │ ireland        12.0545         7.9   81.637\n",
       "  13 │ italy           2.53511        4.0   33.09\n",
       "  14 │ japan           1.98057        1.2   40.063\n",
       "  15 │ netherlands     9.65077        5.1   53.053\n",
       "  16 │ norway         20.3749         5.8   74.986\n",
       "  17 │ poland          1.83332        5.7   15.727\n",
       "  18 │ portugal        1.94208        2.0   23.35\n",
       "  19 │ spain           1.26598        4.0   29.816\n",
       "  20 │ sweden         30.7631         6.6   52.896\n",
       "  21 │ switzerland    28.7989         8.8   85.135\n",
       "  22 │ unitedkingdom  18.7832         7.6   41.855\n",
       "  23 │ unitedstates   11.4452         4.4   65.134"
      ]
     },
     "execution_count": 3,
     "metadata": {},
     "output_type": "execute_result"
    }
   ],
   "source": [
    "data06 = CSV.read(HTTP.get(\"https://raw.githubusercontent.com/mtakahashi123/causality/main/data06.csv\").body, DataFrame; missingstring = \"\")"
   ]
  },
  {
   "cell_type": "code",
   "execution_count": 4,
   "metadata": {},
   "outputs": [
    {
     "data": {
      "text/plain": [
       "attach (generic function with 1 method)"
      ]
     },
     "execution_count": 4,
     "metadata": {},
     "output_type": "execute_result"
    }
   ],
   "source": [
    "function attach(x::DataFrame)\n",
    "    for i in propertynames(x)\n",
    "        @eval $(i) = $(x).$(i)\n",
    "    end\n",
    "end"
   ]
  },
  {
   "cell_type": "code",
   "execution_count": 5,
   "metadata": {},
   "outputs": [],
   "source": [
    "attach(data06)"
   ]
  },
  {
   "cell_type": "code",
   "execution_count": 6,
   "metadata": {},
   "outputs": [
    {
     "data": {
      "text/html": [
       "<div class=\"data-frame\"><p>4 rows × 7 columns</p><table class=\"data-frame\"><thead><tr><th></th><th>variable</th><th>mean</th><th>min</th><th>median</th><th>max</th><th>nmissing</th><th>eltype</th></tr><tr><th></th><th title=\"Symbol\">Symbol</th><th title=\"Union{Nothing, Float64}\">Union…</th><th title=\"Any\">Any</th><th title=\"Union{Nothing, Float64}\">Union…</th><th title=\"Any\">Any</th><th title=\"Int64\">Int64</th><th title=\"DataType\">DataType</th></tr></thead><tbody><tr><th>1</th><td>country</td><td></td><td>australia</td><td></td><td>unitedstates</td><td>0</td><td>String15</td></tr><tr><th>2</th><td>y1</td><td>9.74774</td><td>0.0</td><td>8.64357</td><td>30.7631</td><td>0</td><td>Float64</td></tr><tr><th>3</th><td>x1</td><td>4.86957</td><td>0.1</td><td>4.9</td><td>8.8</td><td>0</td><td>Float64</td></tr><tr><th>4</th><td>x2</td><td>44.7045</td><td>8.755</td><td>46.232</td><td>85.135</td><td>0</td><td>Float64</td></tr></tbody></table></div>"
      ],
      "text/latex": [
       "\\begin{tabular}{r|ccccccc}\n",
       "\t& variable & mean & min & median & max & nmissing & eltype\\\\\n",
       "\t\\hline\n",
       "\t& Symbol & Union… & Any & Union… & Any & Int64 & DataType\\\\\n",
       "\t\\hline\n",
       "\t1 & country &  & australia &  & unitedstates & 0 & String15 \\\\\n",
       "\t2 & y1 & 9.74774 & 0.0 & 8.64357 & 30.7631 & 0 & Float64 \\\\\n",
       "\t3 & x1 & 4.86957 & 0.1 & 4.9 & 8.8 & 0 & Float64 \\\\\n",
       "\t4 & x2 & 44.7045 & 8.755 & 46.232 & 85.135 & 0 & Float64 \\\\\n",
       "\\end{tabular}\n"
      ],
      "text/plain": [
       "\u001b[1m4×7 DataFrame\u001b[0m\n",
       "\u001b[1m Row \u001b[0m│\u001b[1m variable \u001b[0m\u001b[1m mean    \u001b[0m\u001b[1m min       \u001b[0m\u001b[1m median  \u001b[0m\u001b[1m max          \u001b[0m\u001b[1m nmissing \u001b[0m\u001b[1m eltype  \u001b[0m ⋯\n",
       "\u001b[1m     \u001b[0m│\u001b[90m Symbol   \u001b[0m\u001b[90m Union…  \u001b[0m\u001b[90m Any       \u001b[0m\u001b[90m Union…  \u001b[0m\u001b[90m Any          \u001b[0m\u001b[90m Int64    \u001b[0m\u001b[90m DataType\u001b[0m ⋯\n",
       "─────┼──────────────────────────────────────────────────────────────────────────\n",
       "   1 │ country  \u001b[90m         \u001b[0m australia \u001b[90m         \u001b[0m unitedstates         0  String15 ⋯\n",
       "   2 │ y1        9.74774  0.0        8.64357  30.7631              0  Float64\n",
       "   3 │ x1        4.86957  0.1        4.9      8.8                  0  Float64\n",
       "   4 │ x2        44.7045  8.755      46.232   85.135               0  Float64"
      ]
     },
     "execution_count": 6,
     "metadata": {},
     "output_type": "execute_result"
    }
   ],
   "source": [
    "describe(data06)"
   ]
  },
  {
   "cell_type": "code",
   "execution_count": 7,
   "metadata": {},
   "outputs": [
    {
     "data": {
      "text/plain": [
       "23"
      ]
     },
     "execution_count": 7,
     "metadata": {},
     "output_type": "execute_result"
    }
   ],
   "source": [
    "n1 = nrow(data06)"
   ]
  },
  {
   "cell_type": "markdown",
   "metadata": {},
   "source": [
    "## 分散\n",
    "\n",
    "総和変動＝ノーベル賞受賞者数の分散"
   ]
  },
  {
   "cell_type": "code",
   "execution_count": 8,
   "metadata": {},
   "outputs": [
    {
     "data": {
      "text/plain": [
       "1831.7182345412102"
      ]
     },
     "execution_count": 8,
     "metadata": {},
     "output_type": "execute_result"
    }
   ],
   "source": [
    "hensa = y1 .- mean(y1)\n",
    "hensa2 = @. hensa ^ 2\n",
    "tss = sum(hensa2) # 全体の平方和"
   ]
  },
  {
   "cell_type": "code",
   "execution_count": 9,
   "metadata": {},
   "outputs": [
    {
     "data": {
      "text/plain": [
       "83.2599197518732"
      ]
     },
     "execution_count": 9,
     "metadata": {},
     "output_type": "execute_result"
    }
   ],
   "source": [
    "tss / (n1 - 1)"
   ]
  },
  {
   "cell_type": "code",
   "execution_count": 10,
   "metadata": {},
   "outputs": [
    {
     "data": {
      "text/plain": [
       "83.2599197518732"
      ]
     },
     "execution_count": 10,
     "metadata": {},
     "output_type": "execute_result"
    }
   ],
   "source": [
    "var(y1)"
   ]
  },
  {
   "cell_type": "markdown",
   "metadata": {},
   "source": [
    "## ESSとUSS\n",
    "\n"
   ]
  },
  {
   "cell_type": "code",
   "execution_count": 11,
   "metadata": {},
   "outputs": [
    {
     "name": "stderr",
     "output_type": "stream",
     "text": [
      "\u001b[32m\u001b[1m   Resolving\u001b[22m\u001b[39m package versions...\n",
      "\u001b[32m\u001b[1m  No Changes\u001b[22m\u001b[39m to `~/local_Documents/TheoryAndPracticeOfCausalInference/Project.toml`\n",
      "\u001b[32m\u001b[1m  No Changes\u001b[22m\u001b[39m to `~/local_Documents/TheoryAndPracticeOfCausalInference/Manifest.toml`\n"
     ]
    }
   ],
   "source": [
    "Pkg.add([\"GLM\", \"StatsPlots\"])\n",
    "using GLM, StatsPlots"
   ]
  },
  {
   "cell_type": "markdown",
   "metadata": {},
   "source": [
    "`glm`ではなくて，`lm`というショートカットがあったらしい。"
   ]
  },
  {
   "cell_type": "code",
   "execution_count": 12,
   "metadata": {},
   "outputs": [
    {
     "data": {
      "text/plain": [
       "StatsModels.TableRegressionModel{LinearModel{GLM.LmResp{Vector{Float64}}, GLM.DensePredChol{Float64, LinearAlgebra.CholeskyPivoted{Float64, Matrix{Float64}}}}, Matrix{Float64}}\n",
       "\n",
       "y1 ~ 1 + x1\n",
       "\n",
       "Coefficients:\n",
       "────────────────────────────────────────────────────────────────────────\n",
       "                Coef.  Std. Error      t  Pr(>|t|)  Lower 95%  Upper 95%\n",
       "────────────────────────────────────────────────────────────────────────\n",
       "(Intercept)  -3.42165    3.22736   -1.06    0.3011  -10.1333     3.29002\n",
       "x1            2.70443    0.598472   4.52    0.0002    1.45984    3.94902\n",
       "────────────────────────────────────────────────────────────────────────"
      ]
     },
     "execution_count": 12,
     "metadata": {},
     "output_type": "execute_result"
    }
   ],
   "source": [
    "model1 = lm(@formula(y1 ~ x1), data06)"
   ]
  },
  {
   "cell_type": "markdown",
   "metadata": {},
   "source": [
    "ESS (Explained SUm of Squares)"
   ]
  },
  {
   "cell_type": "code",
   "execution_count": 13,
   "metadata": {},
   "outputs": [
    {
     "data": {
      "text/plain": [
       "903.0227978669911"
      ]
     },
     "execution_count": 13,
     "metadata": {},
     "output_type": "execute_result"
    }
   ],
   "source": [
    "yhat1 = @. -3.4217 + 2.7044 * x1\n",
    "yhat2 = (yhat1 .- mean(yhat1)) .^ 2\n",
    "sum(yhat2)"
   ]
  },
  {
   "cell_type": "code",
   "execution_count": 14,
   "metadata": {},
   "outputs": [
    {
     "data": {
      "text/plain": [
       "23-element Vector{Float64}:\n",
       "  9.830048087206782\n",
       " 18.48421880609108\n",
       " 11.723147931962721\n",
       " -0.1763368065031905\n",
       "  7.396062572520572\n",
       " -3.151207991119668\n",
       "  9.830048087206782\n",
       " 11.182262262032454\n",
       "  8.207391077415975\n",
       " 17.94333313616081\n",
       "  3.3394200480435567\n",
       " 17.94333313616081\n",
       "  7.396062572520572\n",
       " -0.1763368065031905\n",
       " 10.370933757137049\n",
       " 12.26403360189299\n",
       " 11.993590766927856\n",
       "  1.9872058732178846\n",
       "  7.396062572520572\n",
       " 14.427576281614064\n",
       " 20.37731865084702\n",
       " 17.132004631265406\n",
       "  8.47783391238111"
      ]
     },
     "execution_count": 14,
     "metadata": {},
     "output_type": "execute_result"
    }
   ],
   "source": [
    "predict(model1)"
   ]
  },
  {
   "cell_type": "markdown",
   "metadata": {},
   "source": [
    "Unexplained Sum of Squares (USS)"
   ]
  },
  {
   "cell_type": "code",
   "execution_count": 15,
   "metadata": {},
   "outputs": [
    {
     "data": {
      "text/plain": [
       "928.6765050876866"
      ]
     },
     "execution_count": 15,
     "metadata": {},
     "output_type": "execute_result"
    }
   ],
   "source": [
    "e1 = @. y1 - yhat1\n",
    "e2 = e1 .^ 2\n",
    "uss = sum(e2)"
   ]
  },
  {
   "cell_type": "code",
   "execution_count": 16,
   "metadata": {},
   "outputs": [
    {
     "data": {
      "text/plain": [
       "928.676504182236"
      ]
     },
     "execution_count": 16,
     "metadata": {},
     "output_type": "execute_result"
    }
   ],
   "source": [
    "sum(residuals(model1) .^ 2)"
   ]
  },
  {
   "cell_type": "markdown",
   "metadata": {},
   "source": [
    "## 決定係数\n",
    "\n",
    "1−TSSに占めるUSSの割合"
   ]
  },
  {
   "cell_type": "code",
   "execution_count": 17,
   "metadata": {},
   "outputs": [
    {
     "data": {
      "text/plain": [
       "0.4930025330449954"
      ]
     },
     "execution_count": 17,
     "metadata": {},
     "output_type": "execute_result"
    }
   ],
   "source": [
    "1 - uss / tss"
   ]
  },
  {
   "cell_type": "code",
   "execution_count": 18,
   "metadata": {},
   "outputs": [
    {
     "data": {
      "text/plain": [
       "0.493002533539313"
      ]
     },
     "execution_count": 18,
     "metadata": {},
     "output_type": "execute_result"
    }
   ],
   "source": [
    "r2(model1)"
   ]
  },
  {
   "cell_type": "markdown",
   "metadata": {},
   "source": [
    "## 回帰係数の標準誤差と回帰の標準誤差\n",
    "\n",
    "回帰係数のSE＝回帰の標準誤差を説明変数のスケールで標準化したもの。\n",
    "回帰のSE＝USSを自由度で調整して，平方根をとったもの。\n",
    "\n",
    "## 三変数の重回帰モデル"
   ]
  },
  {
   "cell_type": "code",
   "execution_count": 19,
   "metadata": {},
   "outputs": [
    {
     "data": {
      "text/plain": [
       "StatsModels.TableRegressionModel{LinearModel{GLM.LmResp{Vector{Float64}}, GLM.DensePredChol{Float64, LinearAlgebra.CholeskyPivoted{Float64, Matrix{Float64}}}}, Matrix{Float64}}\n",
       "\n",
       "x1 ~ 1 + x2\n",
       "\n",
       "Coefficients:\n",
       "────────────────────────────────────────────────────────────────────────\n",
       "                 Coef.  Std. Error     t  Pr(>|t|)  Lower 95%  Upper 95%\n",
       "────────────────────────────────────────────────────────────────────────\n",
       "(Intercept)  1.37876     0.874069   1.58    0.1296  -0.438961   3.19649\n",
       "x2           0.0780862   0.0177668  4.40    0.0003   0.041138   0.115034\n",
       "────────────────────────────────────────────────────────────────────────"
      ]
     },
     "execution_count": 19,
     "metadata": {},
     "output_type": "execute_result"
    }
   ],
   "source": [
    "model1 = lm(@formula(x1 ~ x2), data06)"
   ]
  },
  {
   "cell_type": "code",
   "execution_count": 20,
   "metadata": {},
   "outputs": [
    {
     "data": {
      "text/plain": [
       "23-element Vector{Float64}:\n",
       " -0.7549964902925286\n",
       "  2.84027561892396\n",
       "  0.6138114147725107\n",
       " -0.8624087382513894\n",
       " -1.0136749112733607\n",
       " -2.0599383440221115\n",
       " -1.2152362792538067\n",
       "  0.22015775399477633\n",
       " -0.2271200885693032\n",
       "  2.911156485552171\n",
       " -0.4095654180004402\n",
       "  0.14651621948938764\n",
       "  0.03736471536708663\n",
       " -3.3071300332632134\n",
       " -0.4214691677401392\n",
       " -1.4341327733200027\n",
       "  3.09317459927185\n",
       " -1.2020761491590672\n",
       "  0.2930187820551131\n",
       "  1.0907903583655472\n",
       "  0.7733708544085331\n",
       "  2.9529395795941653\n",
       " -2.064827988649742"
      ]
     },
     "execution_count": 20,
     "metadata": {},
     "output_type": "execute_result"
    }
   ],
   "source": [
    "ex1 = residuals(model1)"
   ]
  },
  {
   "cell_type": "code",
   "execution_count": 21,
   "metadata": {},
   "outputs": [
    {
     "data": {
      "text/plain": [
       "StatsModels.TableRegressionModel{LinearModel{GLM.LmResp{Vector{Float64}}, GLM.DensePredChol{Float64, LinearAlgebra.CholeskyPivoted{Float64, Matrix{Float64}}}}, Matrix{Float64}}\n",
       "\n",
       "y1 ~ 1 + ex1\n",
       "\n",
       "Coefficients:\n",
       "──────────────────────────────────────────────────────────────────────\n",
       "               Coef.  Std. Error     t  Pr(>|t|)  Lower 95%  Upper 95%\n",
       "──────────────────────────────────────────────────────────────────────\n",
       "(Intercept)  9.74774     1.86839  5.22    <1e-04   5.86221     13.6333\n",
       "ex1          1.50477     1.11734  1.35    0.1924  -0.818858     3.8284\n",
       "──────────────────────────────────────────────────────────────────────"
      ]
     },
     "execution_count": 21,
     "metadata": {},
     "output_type": "execute_result"
    }
   ],
   "source": [
    "model2 = lm(@formula(y1 ~ ex1), DataFrame(y1 = y1, ex1 = ex1))"
   ]
  },
  {
   "cell_type": "code",
   "execution_count": 22,
   "metadata": {},
   "outputs": [
    {
     "data": {
      "text/plain": [
       "StatsModels.TableRegressionModel{LinearModel{GLM.LmResp{Vector{Float64}}, GLM.DensePredChol{Float64, LinearAlgebra.CholeskyPivoted{Float64, Matrix{Float64}}}}, Matrix{Float64}}\n",
       "\n",
       "y1 ~ 1 + x1 + x2\n",
       "\n",
       "Coefficients:\n",
       "───────────────────────────────────────────────────────────────────────────\n",
       "                 Coef.  Std. Error      t  Pr(>|t|)    Lower 95%  Upper 95%\n",
       "───────────────────────────────────────────────────────────────────────────\n",
       "(Intercept)  -6.32035    3.20331    -1.97    0.0625  -13.0023      0.361644\n",
       "x1            1.50477    0.756186    1.99    0.0604   -0.0726035   3.08215\n",
       "x2            0.195517   0.0853061   2.29    0.0329    0.0175719   0.373463\n",
       "───────────────────────────────────────────────────────────────────────────"
      ]
     },
     "execution_count": 22,
     "metadata": {},
     "output_type": "execute_result"
    }
   ],
   "source": [
    "model3 = lm(@formula(y1 ~ x1 + x2), data06)"
   ]
  },
  {
   "cell_type": "code",
   "execution_count": 23,
   "metadata": {},
   "outputs": [
    {
     "data": {
      "text/plain": [
       "3×2 Matrix{Float64}:\n",
       " -13.0023     0.361644\n",
       "  -0.0726035  3.08215\n",
       "   0.0175719  0.373463"
      ]
     },
     "execution_count": 23,
     "metadata": {},
     "output_type": "execute_result"
    }
   ],
   "source": [
    "confint(model3)"
   ]
  },
  {
   "cell_type": "markdown",
   "metadata": {},
   "source": [
    "## 共分散分析（再考）\n",
    "\n",
    "共分散分析によってATEが正しく推定できていたかどうかを確認する。"
   ]
  },
  {
   "cell_type": "code",
   "execution_count": 24,
   "metadata": {},
   "outputs": [],
   "source": [
    "data03 = CSV.read(HTTP.get(\"https://raw.githubusercontent.com/mtakahashi123/causality/main/data03.csv\").body, DataFrame; missingstring = \"NA\");"
   ]
  },
  {
   "cell_type": "code",
   "execution_count": 25,
   "metadata": {},
   "outputs": [
    {
     "data": {
      "text/plain": [
       "StatsModels.TableRegressionModel{LinearModel{GLM.LmResp{Vector{Float64}}, GLM.DensePredChol{Float64, LinearAlgebra.CholeskyPivoted{Float64, Matrix{Float64}}}}, Matrix{Float64}}\n",
       "\n",
       "t1 ~ 1 + x1\n",
       "\n",
       "Coefficients:\n",
       "────────────────────────────────────────────────────────────────────────\n",
       "              Coef.  Std. Error      t  Pr(>|t|)   Lower 95%   Upper 95%\n",
       "────────────────────────────────────────────────────────────────────────\n",
       "(Intercept)   2.74    1.07454     2.55    0.0201   0.482478   4.99752\n",
       "x1           -0.028   0.0133666  -2.09    0.0506  -0.0560822  8.22373e-5\n",
       "────────────────────────────────────────────────────────────────────────"
      ]
     },
     "execution_count": 25,
     "metadata": {},
     "output_type": "execute_result"
    }
   ],
   "source": [
    "model1 = lm(@formula(t1 ~ x1), data03)"
   ]
  },
  {
   "cell_type": "code",
   "execution_count": 26,
   "metadata": {},
   "outputs": [],
   "source": [
    "insertcols!(data03, :et1 => residuals(model1));"
   ]
  },
  {
   "cell_type": "code",
   "execution_count": 27,
   "metadata": {},
   "outputs": [
    {
     "data": {
      "text/plain": [
       "StatsModels.TableRegressionModel{LinearModel{GLM.LmResp{Vector{Float64}}, GLM.DensePredChol{Float64, LinearAlgebra.CholeskyPivoted{Float64, Matrix{Float64}}}}, Matrix{Float64}}\n",
       "\n",
       "y3 ~ 1 + et1\n",
       "\n",
       "Coefficients:\n",
       "────────────────────────────────────────────────────────────────────────\n",
       "                Coef.  Std. Error      t  Pr(>|t|)  Lower 95%  Upper 95%\n",
       "────────────────────────────────────────────────────────────────────────\n",
       "(Intercept)  77.25        1.2365   62.47    <1e-21   74.6522     79.8478\n",
       "et1           9.81592     2.75801   3.56    0.0022    4.02156    15.6103\n",
       "────────────────────────────────────────────────────────────────────────"
      ]
     },
     "execution_count": 27,
     "metadata": {},
     "output_type": "execute_result"
    }
   ],
   "source": [
    "model2 = lm(@formula(y3 ~ et1), data03)  # x1の交絡を取り除いてt1のみの効果を推定する。"
   ]
  },
  {
   "cell_type": "code",
   "execution_count": null,
   "metadata": {},
   "outputs": [],
   "source": []
  }
 ],
 "metadata": {
  "@webio": {
   "lastCommId": null,
   "lastKernelId": null
  },
  "kernelspec": {
   "display_name": "Julia 1.7.1",
   "language": "julia",
   "name": "julia-1.7"
  },
  "language_info": {
   "file_extension": ".jl",
   "mimetype": "application/julia",
   "name": "julia",
   "version": "1.7.1"
  }
 },
 "nbformat": 4,
 "nbformat_minor": 4
}
