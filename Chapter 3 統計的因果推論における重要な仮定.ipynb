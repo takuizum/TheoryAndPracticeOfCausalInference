{
 "cells": [
  {
   "cell_type": "code",
   "execution_count": 1,
   "metadata": {},
   "outputs": [
    {
     "name": "stderr",
     "output_type": "stream",
     "text": [
      "\u001b[32m\u001b[1m  Activating\u001b[22m\u001b[39m project at `~/local_Documents/TheoryAndPracticeOfCausalInference`\n"
     ]
    }
   ],
   "source": [
    "using Pkg\n",
    "Pkg.activate(\".\")"
   ]
  },
  {
   "cell_type": "code",
   "execution_count": 2,
   "metadata": {},
   "outputs": [
    {
     "name": "stderr",
     "output_type": "stream",
     "text": [
      "\u001b[32m\u001b[1m    Updating\u001b[22m\u001b[39m registry at `~/.julia/registries/General`\n",
      "\u001b[32m\u001b[1m    Updating\u001b[22m\u001b[39m git-repo `https://github.com/JuliaRegistries/General.git`\n",
      "\u001b[32m\u001b[1m   Resolving\u001b[22m\u001b[39m package versions...\n",
      "\u001b[32m\u001b[1m  No Changes\u001b[22m\u001b[39m to `~/local_Documents/TheoryAndPracticeOfCausalInference/Project.toml`\n",
      "\u001b[32m\u001b[1m  No Changes\u001b[22m\u001b[39m to `~/local_Documents/TheoryAndPracticeOfCausalInference/Manifest.toml`\n"
     ]
    }
   ],
   "source": [
    "Pkg.add([\"CSV\", \"DataFrames\", \"HTTP\", \"Statistics\"])\n",
    "using CSV, DataFrames, HTTP, Statistics"
   ]
  },
  {
   "cell_type": "code",
   "execution_count": 3,
   "metadata": {},
   "outputs": [],
   "source": [
    "data03 = CSV.read(HTTP.get(\"https://raw.githubusercontent.com/mtakahashi123/causality/main/data03.csv\").body, DataFrame; missingstring = \"NA\");"
   ]
  },
  {
   "cell_type": "code",
   "execution_count": 4,
   "metadata": {},
   "outputs": [
    {
     "data": {
      "text/plain": [
       "attach (generic function with 1 method)"
      ]
     },
     "execution_count": 4,
     "metadata": {},
     "output_type": "execute_result"
    }
   ],
   "source": [
    "function attach(x::DataFrame)\n",
    "    for i in propertynames(x)\n",
    "        @eval $(i) = $(x).$(i)\n",
    "    end\n",
    "end"
   ]
  },
  {
   "cell_type": "markdown",
   "metadata": {},
   "source": [
    "## STUVA\n",
    "\n",
    "Stable Unit Treatment Value Assumption\n",
    "\n",
    "さとゔぁと発音するらしい。ずっとすとぅーばだと思ってた。\n",
    "\n",
    "処置を受ける個体ごとに処置の値が安定\n",
    "\n",
    "- 相互干渉がない\n",
    "- 個体に対する隠れた処置がない\n",
    "\n",
    "二番目の仮定がやや難しそう。\n",
    "\n",
    "本質的に除外制約 = 別の処置による因果効果の存在を除外するための仮定。\n",
    "\n",
    "## 識別性の条件\n",
    "\n",
    "**識別性(identifiability)** = データからパラメタを一意に推定できること。\n",
    "\n",
    "識別性＝正値性（$0<P(T=1)<1$, 両端を含まない）＋独立性(${Y(1), Y(0) | T}$, 割り付けについての独立性)\n",
    "\n",
    "特に，独立性は無作為割付けならば用意に満たされるが，観察研究では必ずしもそうでないので注意が必要。\n",
    "\n",
    "\n",
    "## 実験研究におけるATEの推定\n",
    "\n",
    "テストの例の割り付け（補習を受けるかどうか）は無作為ではなかったため，独立性の仮定が満たされない＝ATEのナイーブな推定量にバイアスが入る。\n",
    "\n",
    "補習の有無の割り付けは入試の成績（x1）に依存している。また，入試の成績は（数学力という潜在変数を共通の親に持つ形で）期末試験の成績（＝潜在的結果変数）に依存している。\n",
    "\n",
    "## 共変量の役割\n",
    "\n",
    "無交絡性(unconfoundedness) = ある変数（の組）$\\mathbf{X}$を条件付ければ，独立性の仮定が成り立つ。\n",
    "\n",
    "$$\n",
    "\\{Y_i(1), Y_i(0)\\} \\perp\\!\\!\\!\\!\\perp T_i|\\it{X}\n",
    "$$\n",
    "\n",
    "合わせて条件付き正値性も重要。\n",
    "\n",
    "$$\n",
    "0 < P(T=1|\\it{X}) < 1\n",
    "$$\n",
    "\n",
    "強い意味での無視可能な割り付け (stringly ignorable treatment assignment)＝STUVAと無交絡性，条件付き正値性が成り立つ。\n",
    "\n"
   ]
  },
  {
   "cell_type": "code",
   "execution_count": 5,
   "metadata": {},
   "outputs": [
    {
     "data": {
      "text/html": [
       "<div class=\"data-frame\"><p>20 rows × 5 columns</p><table class=\"data-frame\"><thead><tr><th></th><th>x1</th><th>y3</th><th>t1</th><th>y0t</th><th>y1t</th></tr><tr><th></th><th title=\"Int64\">Int64</th><th title=\"Int64\">Int64</th><th title=\"Int64\">Int64</th><th title=\"Int64\">Int64</th><th title=\"Int64\">Int64</th></tr></thead><tbody><tr><th>1</th><td>70</td><td>74</td><td>1</td><td>62</td><td>74</td></tr><tr><th>2</th><td>70</td><td>63</td><td>0</td><td>63</td><td>74</td></tr><tr><th>3</th><td>70</td><td>73</td><td>1</td><td>62</td><td>73</td></tr><tr><th>4</th><td>70</td><td>71</td><td>1</td><td>65</td><td>71</td></tr><tr><th>5</th><td>70</td><td>74</td><td>1</td><td>63</td><td>74</td></tr><tr><th>6</th><td>75</td><td>67</td><td>0</td><td>67</td><td>77</td></tr><tr><th>7</th><td>75</td><td>77</td><td>1</td><td>68</td><td>77</td></tr><tr><th>8</th><td>75</td><td>68</td><td>0</td><td>68</td><td>76</td></tr><tr><th>9</th><td>75</td><td>77</td><td>1</td><td>68</td><td>77</td></tr><tr><th>10</th><td>75</td><td>78</td><td>1</td><td>67</td><td>78</td></tr><tr><th>11</th><td>85</td><td>88</td><td>1</td><td>78</td><td>88</td></tr><tr><th>12</th><td>85</td><td>77</td><td>0</td><td>77</td><td>86</td></tr><tr><th>13</th><td>85</td><td>76</td><td>0</td><td>76</td><td>87</td></tr><tr><th>14</th><td>85</td><td>86</td><td>1</td><td>74</td><td>86</td></tr><tr><th>15</th><td>85</td><td>78</td><td>0</td><td>78</td><td>85</td></tr><tr><th>16</th><td>90</td><td>81</td><td>0</td><td>81</td><td>91</td></tr><tr><th>17</th><td>90</td><td>91</td><td>1</td><td>81</td><td>91</td></tr><tr><th>18</th><td>90</td><td>82</td><td>0</td><td>82</td><td>91</td></tr><tr><th>19</th><td>90</td><td>82</td><td>0</td><td>82</td><td>92</td></tr><tr><th>20</th><td>90</td><td>82</td><td>0</td><td>82</td><td>92</td></tr></tbody></table></div>"
      ],
      "text/latex": [
       "\\begin{tabular}{r|ccccc}\n",
       "\t& x1 & y3 & t1 & y0t & y1t\\\\\n",
       "\t\\hline\n",
       "\t& Int64 & Int64 & Int64 & Int64 & Int64\\\\\n",
       "\t\\hline\n",
       "\t1 & 70 & 74 & 1 & 62 & 74 \\\\\n",
       "\t2 & 70 & 63 & 0 & 63 & 74 \\\\\n",
       "\t3 & 70 & 73 & 1 & 62 & 73 \\\\\n",
       "\t4 & 70 & 71 & 1 & 65 & 71 \\\\\n",
       "\t5 & 70 & 74 & 1 & 63 & 74 \\\\\n",
       "\t6 & 75 & 67 & 0 & 67 & 77 \\\\\n",
       "\t7 & 75 & 77 & 1 & 68 & 77 \\\\\n",
       "\t8 & 75 & 68 & 0 & 68 & 76 \\\\\n",
       "\t9 & 75 & 77 & 1 & 68 & 77 \\\\\n",
       "\t10 & 75 & 78 & 1 & 67 & 78 \\\\\n",
       "\t11 & 85 & 88 & 1 & 78 & 88 \\\\\n",
       "\t12 & 85 & 77 & 0 & 77 & 86 \\\\\n",
       "\t13 & 85 & 76 & 0 & 76 & 87 \\\\\n",
       "\t14 & 85 & 86 & 1 & 74 & 86 \\\\\n",
       "\t15 & 85 & 78 & 0 & 78 & 85 \\\\\n",
       "\t16 & 90 & 81 & 0 & 81 & 91 \\\\\n",
       "\t17 & 90 & 91 & 1 & 81 & 91 \\\\\n",
       "\t18 & 90 & 82 & 0 & 82 & 91 \\\\\n",
       "\t19 & 90 & 82 & 0 & 82 & 92 \\\\\n",
       "\t20 & 90 & 82 & 0 & 82 & 92 \\\\\n",
       "\\end{tabular}\n"
      ],
      "text/plain": [
       "\u001b[1m20×5 DataFrame\u001b[0m\n",
       "\u001b[1m Row \u001b[0m│\u001b[1m x1    \u001b[0m\u001b[1m y3    \u001b[0m\u001b[1m t1    \u001b[0m\u001b[1m y0t   \u001b[0m\u001b[1m y1t   \u001b[0m\n",
       "\u001b[1m     \u001b[0m│\u001b[90m Int64 \u001b[0m\u001b[90m Int64 \u001b[0m\u001b[90m Int64 \u001b[0m\u001b[90m Int64 \u001b[0m\u001b[90m Int64 \u001b[0m\n",
       "─────┼───────────────────────────────────\n",
       "   1 │    70     74      1     62     74\n",
       "   2 │    70     63      0     63     74\n",
       "   3 │    70     73      1     62     73\n",
       "   4 │    70     71      1     65     71\n",
       "   5 │    70     74      1     63     74\n",
       "   6 │    75     67      0     67     77\n",
       "   7 │    75     77      1     68     77\n",
       "   8 │    75     68      0     68     76\n",
       "   9 │    75     77      1     68     77\n",
       "  10 │    75     78      1     67     78\n",
       "  11 │    85     88      1     78     88\n",
       "  12 │    85     77      0     77     86\n",
       "  13 │    85     76      0     76     87\n",
       "  14 │    85     86      1     74     86\n",
       "  15 │    85     78      0     78     85\n",
       "  16 │    90     81      0     81     91\n",
       "  17 │    90     91      1     81     91\n",
       "  18 │    90     82      0     82     91\n",
       "  19 │    90     82      0     82     92\n",
       "  20 │    90     82      0     82     92"
      ]
     },
     "execution_count": 5,
     "metadata": {},
     "output_type": "execute_result"
    }
   ],
   "source": [
    "data03"
   ]
  },
  {
   "cell_type": "markdown",
   "metadata": {},
   "source": [
    "- x1 入学試験成績\n",
    "- y3 期末試験成績\n",
    "- t1 処置\n",
    "- y1t 潜在的結果変数（期末試験成績の）\n",
    "\n",
    "y1tは処置が1のものについてはy3と同じ値が入る。\n",
    "\n",
    "上から5人ごとに割り付け確率が変わっており，上の集団から順に4/5, 3/5, 2/5, 1/5となっている。"
   ]
  },
  {
   "cell_type": "code",
   "execution_count": 6,
   "metadata": {},
   "outputs": [
    {
     "name": "stdout",
     "output_type": "stream",
     "text": [
      "処置群1の割り付け確率は80.0%\n",
      "処置群2の割り付け確率は60.0%\n",
      "処置群3の割り付け確率は40.0%\n",
      "処置群4の割り付け確率は20.0%\n"
     ]
    }
   ],
   "source": [
    "for g in 1:4\n",
    "    i = (g - 1) * 5 + 1\n",
    "    p = mean(data03.t1[i:i+4])\n",
    "    println(\"処置群$(g)の割り付け確率は$(100p)%\")\n",
    "end"
   ]
  },
  {
   "cell_type": "code",
   "execution_count": 7,
   "metadata": {},
   "outputs": [
    {
     "data": {
      "text/html": [
       "<div class=\"data-frame\"><p>5 rows × 7 columns</p><table class=\"data-frame\"><thead><tr><th></th><th>variable</th><th>mean</th><th>min</th><th>median</th><th>max</th><th>nmissing</th><th>eltype</th></tr><tr><th></th><th title=\"Symbol\">Symbol</th><th title=\"Float64\">Float64</th><th title=\"Int64\">Int64</th><th title=\"Float64\">Float64</th><th title=\"Int64\">Int64</th><th title=\"Int64\">Int64</th><th title=\"DataType\">DataType</th></tr></thead><tbody><tr><th>1</th><td>x1</td><td>80.0</td><td>70</td><td>80.0</td><td>90</td><td>0</td><td>Int64</td></tr><tr><th>2</th><td>y3</td><td>77.25</td><td>63</td><td>77.0</td><td>91</td><td>0</td><td>Int64</td></tr><tr><th>3</th><td>t1</td><td>0.5</td><td>0</td><td>0.5</td><td>1</td><td>0</td><td>Int64</td></tr><tr><th>4</th><td>y0t</td><td>72.2</td><td>62</td><td>71.0</td><td>82</td><td>0</td><td>Int64</td></tr><tr><th>5</th><td>y1t</td><td>82.0</td><td>71</td><td>81.5</td><td>92</td><td>0</td><td>Int64</td></tr></tbody></table></div>"
      ],
      "text/latex": [
       "\\begin{tabular}{r|ccccccc}\n",
       "\t& variable & mean & min & median & max & nmissing & eltype\\\\\n",
       "\t\\hline\n",
       "\t& Symbol & Float64 & Int64 & Float64 & Int64 & Int64 & DataType\\\\\n",
       "\t\\hline\n",
       "\t1 & x1 & 80.0 & 70 & 80.0 & 90 & 0 & Int64 \\\\\n",
       "\t2 & y3 & 77.25 & 63 & 77.0 & 91 & 0 & Int64 \\\\\n",
       "\t3 & t1 & 0.5 & 0 & 0.5 & 1 & 0 & Int64 \\\\\n",
       "\t4 & y0t & 72.2 & 62 & 71.0 & 82 & 0 & Int64 \\\\\n",
       "\t5 & y1t & 82.0 & 71 & 81.5 & 92 & 0 & Int64 \\\\\n",
       "\\end{tabular}\n"
      ],
      "text/plain": [
       "\u001b[1m5×7 DataFrame\u001b[0m\n",
       "\u001b[1m Row \u001b[0m│\u001b[1m variable \u001b[0m\u001b[1m mean    \u001b[0m\u001b[1m min   \u001b[0m\u001b[1m median  \u001b[0m\u001b[1m max   \u001b[0m\u001b[1m nmissing \u001b[0m\u001b[1m eltype   \u001b[0m\n",
       "\u001b[1m     \u001b[0m│\u001b[90m Symbol   \u001b[0m\u001b[90m Float64 \u001b[0m\u001b[90m Int64 \u001b[0m\u001b[90m Float64 \u001b[0m\u001b[90m Int64 \u001b[0m\u001b[90m Int64    \u001b[0m\u001b[90m DataType \u001b[0m\n",
       "─────┼──────────────────────────────────────────────────────────────\n",
       "   1 │ x1          80.0      70     80.0     90         0  Int64\n",
       "   2 │ y3          77.25     63     77.0     91         0  Int64\n",
       "   3 │ t1           0.5       0      0.5      1         0  Int64\n",
       "   4 │ y0t         72.2      62     71.0     82         0  Int64\n",
       "   5 │ y1t         82.0      71     81.5     92         0  Int64"
      ]
     },
     "execution_count": 7,
     "metadata": {},
     "output_type": "execute_result"
    }
   ],
   "source": [
    "describe(data03)"
   ]
  },
  {
   "cell_type": "code",
   "execution_count": 8,
   "metadata": {},
   "outputs": [],
   "source": [
    "attach(data03)"
   ]
  },
  {
   "cell_type": "code",
   "execution_count": 9,
   "metadata": {},
   "outputs": [
    {
     "data": {
      "text/plain": [
       "3.3000000000000114"
      ]
     },
     "execution_count": 9,
     "metadata": {},
     "output_type": "execute_result"
    }
   ],
   "source": [
    "mean(y3[@. t1 == 1]) - mean(y3[@. t1 == 0])"
   ]
  },
  {
   "cell_type": "code",
   "execution_count": 10,
   "metadata": {},
   "outputs": [
    {
     "data": {
      "text/plain": [
       "9.799999999999997"
      ]
     },
     "execution_count": 10,
     "metadata": {},
     "output_type": "execute_result"
    }
   ],
   "source": [
    "mean(y1t) - mean(y0t)"
   ]
  },
  {
   "cell_type": "markdown",
   "metadata": {},
   "source": [
    "## 回帰分析と共分散分析\n",
    "\n",
    "無視可能な割り付けの場合でのATEの推定方法"
   ]
  },
  {
   "cell_type": "code",
   "execution_count": 11,
   "metadata": {},
   "outputs": [
    {
     "name": "stderr",
     "output_type": "stream",
     "text": [
      "\u001b[32m\u001b[1m   Resolving\u001b[22m\u001b[39m package versions...\n",
      "\u001b[32m\u001b[1m  No Changes\u001b[22m\u001b[39m to `~/local_Documents/TheoryAndPracticeOfCausalInference/Project.toml`\n",
      "\u001b[32m\u001b[1m  No Changes\u001b[22m\u001b[39m to `~/local_Documents/TheoryAndPracticeOfCausalInference/Manifest.toml`\n"
     ]
    }
   ],
   "source": [
    "Pkg.add([\"StatsPlots\", \"GLM\"])"
   ]
  },
  {
   "cell_type": "code",
   "execution_count": 12,
   "metadata": {},
   "outputs": [
    {
     "data": {
      "text/plain": [
       "Plots.GRBackend()"
      ]
     },
     "execution_count": 12,
     "metadata": {},
     "output_type": "execute_result"
    }
   ],
   "source": [
    "using StatsPlots, GLM\n",
    "gr(fontfamily = \"IPAGothic\")"
   ]
  },
  {
   "cell_type": "code",
   "execution_count": 13,
   "metadata": {},
   "outputs": [
    {
     "data": {
      "image/svg+xml": [
       "<?xml version=\"1.0\" encoding=\"utf-8\"?>\n",
       "<svg xmlns=\"http://www.w3.org/2000/svg\" xmlns:xlink=\"http://www.w3.org/1999/xlink\" width=\"600\" height=\"400\" viewBox=\"0 0 2400 1600\">\n",
       "<defs>\n",
       "  <clipPath id=\"clip080\">\n",
       "    <rect x=\"0\" y=\"0\" width=\"2400\" height=\"1600\"/>\n",
       "  </clipPath>\n",
       "</defs>\n",
       "<path clip-path=\"url(#clip080)\" d=\"\n",
       "M0 1600 L2400 1600 L2400 0 L0 0  Z\n",
       "  \" fill=\"#ffffff\" fill-rule=\"evenodd\" fill-opacity=\"1\"/>\n",
       "<defs>\n",
       "  <clipPath id=\"clip081\">\n",
       "    <rect x=\"480\" y=\"0\" width=\"1681\" height=\"1600\"/>\n",
       "  </clipPath>\n",
       "</defs>\n",
       "<path clip-path=\"url(#clip080)\" d=\"\n",
       "M229.135 1425.62 L2352.76 1425.62 L2352.76 121.675 L229.135 121.675  Z\n",
       "  \" fill=\"#ffffff\" fill-rule=\"evenodd\" fill-opacity=\"1\"/>\n",
       "<defs>\n",
       "  <clipPath id=\"clip082\">\n",
       "    <rect x=\"229\" y=\"121\" width=\"2125\" height=\"1305\"/>\n",
       "  </clipPath>\n",
       "</defs>\n",
       "<polyline clip-path=\"url(#clip082)\" style=\"stroke:#000000; stroke-linecap:butt; stroke-linejoin:round; stroke-width:2; stroke-opacity:0.1; fill:none\" points=\"\n",
       "  229.135,1425.62 229.135,121.675 \n",
       "  \"/>\n",
       "<polyline clip-path=\"url(#clip082)\" style=\"stroke:#000000; stroke-linecap:butt; stroke-linejoin:round; stroke-width:2; stroke-opacity:0.1; fill:none\" points=\"\n",
       "  760.04,1425.62 760.04,121.675 \n",
       "  \"/>\n",
       "<polyline clip-path=\"url(#clip082)\" style=\"stroke:#000000; stroke-linecap:butt; stroke-linejoin:round; stroke-width:2; stroke-opacity:0.1; fill:none\" points=\"\n",
       "  1290.95,1425.62 1290.95,121.675 \n",
       "  \"/>\n",
       "<polyline clip-path=\"url(#clip082)\" style=\"stroke:#000000; stroke-linecap:butt; stroke-linejoin:round; stroke-width:2; stroke-opacity:0.1; fill:none\" points=\"\n",
       "  1821.85,1425.62 1821.85,121.675 \n",
       "  \"/>\n",
       "<polyline clip-path=\"url(#clip082)\" style=\"stroke:#000000; stroke-linecap:butt; stroke-linejoin:round; stroke-width:2; stroke-opacity:0.1; fill:none\" points=\"\n",
       "  2352.76,1425.62 2352.76,121.675 \n",
       "  \"/>\n",
       "<polyline clip-path=\"url(#clip080)\" style=\"stroke:#000000; stroke-linecap:butt; stroke-linejoin:round; stroke-width:4; stroke-opacity:1; fill:none\" points=\"\n",
       "  229.135,1425.62 2352.76,1425.62 \n",
       "  \"/>\n",
       "<polyline clip-path=\"url(#clip080)\" style=\"stroke:#000000; stroke-linecap:butt; stroke-linejoin:round; stroke-width:4; stroke-opacity:1; fill:none\" points=\"\n",
       "  229.135,1425.62 229.135,1406.72 \n",
       "  \"/>\n",
       "<polyline clip-path=\"url(#clip080)\" style=\"stroke:#000000; stroke-linecap:butt; stroke-linejoin:round; stroke-width:4; stroke-opacity:1; fill:none\" points=\"\n",
       "  760.04,1425.62 760.04,1406.72 \n",
       "  \"/>\n",
       "<polyline clip-path=\"url(#clip080)\" style=\"stroke:#000000; stroke-linecap:butt; stroke-linejoin:round; stroke-width:4; stroke-opacity:1; fill:none\" points=\"\n",
       "  1290.95,1425.62 1290.95,1406.72 \n",
       "  \"/>\n",
       "<polyline clip-path=\"url(#clip080)\" style=\"stroke:#000000; stroke-linecap:butt; stroke-linejoin:round; stroke-width:4; stroke-opacity:1; fill:none\" points=\"\n",
       "  1821.85,1425.62 1821.85,1406.72 \n",
       "  \"/>\n",
       "<polyline clip-path=\"url(#clip080)\" style=\"stroke:#000000; stroke-linecap:butt; stroke-linejoin:round; stroke-width:4; stroke-opacity:1; fill:none\" points=\"\n",
       "  2352.76,1425.62 2352.76,1406.72 \n",
       "  \"/>\n",
       "<g clip-path=\"url(#clip080)\">\n",
       "<text style=\"fill:#000000; fill-opacity:1; font-family:Arial,Helvetica Neue,Helvetica,sans-serif; font-size:48px; text-anchor:middle;\" transform=\"rotate(0, 229.135, 1487.47)\" x=\"229.135\" y=\"1487.47\">60</text>\n",
       "</g>\n",
       "<g clip-path=\"url(#clip080)\">\n",
       "<text style=\"fill:#000000; fill-opacity:1; font-family:Arial,Helvetica Neue,Helvetica,sans-serif; font-size:48px; text-anchor:middle;\" transform=\"rotate(0, 760.04, 1487.47)\" x=\"760.04\" y=\"1487.47\">70</text>\n",
       "</g>\n",
       "<g clip-path=\"url(#clip080)\">\n",
       "<text style=\"fill:#000000; fill-opacity:1; font-family:Arial,Helvetica Neue,Helvetica,sans-serif; font-size:48px; text-anchor:middle;\" transform=\"rotate(0, 1290.95, 1487.47)\" x=\"1290.95\" y=\"1487.47\">80</text>\n",
       "</g>\n",
       "<g clip-path=\"url(#clip080)\">\n",
       "<text style=\"fill:#000000; fill-opacity:1; font-family:Arial,Helvetica Neue,Helvetica,sans-serif; font-size:48px; text-anchor:middle;\" transform=\"rotate(0, 1821.85, 1487.47)\" x=\"1821.85\" y=\"1487.47\">90</text>\n",
       "</g>\n",
       "<g clip-path=\"url(#clip080)\">\n",
       "<text style=\"fill:#000000; fill-opacity:1; font-family:Arial,Helvetica Neue,Helvetica,sans-serif; font-size:48px; text-anchor:middle;\" transform=\"rotate(0, 2352.76, 1487.47)\" x=\"2352.76\" y=\"1487.47\">100</text>\n",
       "</g>\n",
       "<g clip-path=\"url(#clip080)\">\n",
       "<text style=\"fill:#000000; fill-opacity:1; font-family:Arial,Helvetica Neue,Helvetica,sans-serif; font-size:66px; text-anchor:middle;\" transform=\"rotate(0, 1290.95, 1571.48)\" x=\"1290.95\" y=\"1571.48\">入学試験</text>\n",
       "</g>\n",
       "<polyline clip-path=\"url(#clip082)\" style=\"stroke:#000000; stroke-linecap:butt; stroke-linejoin:round; stroke-width:2; stroke-opacity:0.1; fill:none\" points=\"\n",
       "  229.135,1425.62 2352.76,1425.62 \n",
       "  \"/>\n",
       "<polyline clip-path=\"url(#clip082)\" style=\"stroke:#000000; stroke-linecap:butt; stroke-linejoin:round; stroke-width:2; stroke-opacity:0.1; fill:none\" points=\"\n",
       "  229.135,1099.63 2352.76,1099.63 \n",
       "  \"/>\n",
       "<polyline clip-path=\"url(#clip082)\" style=\"stroke:#000000; stroke-linecap:butt; stroke-linejoin:round; stroke-width:2; stroke-opacity:0.1; fill:none\" points=\"\n",
       "  229.135,773.647 2352.76,773.647 \n",
       "  \"/>\n",
       "<polyline clip-path=\"url(#clip082)\" style=\"stroke:#000000; stroke-linecap:butt; stroke-linejoin:round; stroke-width:2; stroke-opacity:0.1; fill:none\" points=\"\n",
       "  229.135,447.661 2352.76,447.661 \n",
       "  \"/>\n",
       "<polyline clip-path=\"url(#clip082)\" style=\"stroke:#000000; stroke-linecap:butt; stroke-linejoin:round; stroke-width:2; stroke-opacity:0.1; fill:none\" points=\"\n",
       "  229.135,121.675 2352.76,121.675 \n",
       "  \"/>\n",
       "<polyline clip-path=\"url(#clip080)\" style=\"stroke:#000000; stroke-linecap:butt; stroke-linejoin:round; stroke-width:4; stroke-opacity:1; fill:none\" points=\"\n",
       "  229.135,1425.62 229.135,121.675 \n",
       "  \"/>\n",
       "<polyline clip-path=\"url(#clip080)\" style=\"stroke:#000000; stroke-linecap:butt; stroke-linejoin:round; stroke-width:4; stroke-opacity:1; fill:none\" points=\"\n",
       "  229.135,1425.62 248.033,1425.62 \n",
       "  \"/>\n",
       "<polyline clip-path=\"url(#clip080)\" style=\"stroke:#000000; stroke-linecap:butt; stroke-linejoin:round; stroke-width:4; stroke-opacity:1; fill:none\" points=\"\n",
       "  229.135,1099.63 248.033,1099.63 \n",
       "  \"/>\n",
       "<polyline clip-path=\"url(#clip080)\" style=\"stroke:#000000; stroke-linecap:butt; stroke-linejoin:round; stroke-width:4; stroke-opacity:1; fill:none\" points=\"\n",
       "  229.135,773.647 248.033,773.647 \n",
       "  \"/>\n",
       "<polyline clip-path=\"url(#clip080)\" style=\"stroke:#000000; stroke-linecap:butt; stroke-linejoin:round; stroke-width:4; stroke-opacity:1; fill:none\" points=\"\n",
       "  229.135,447.661 248.033,447.661 \n",
       "  \"/>\n",
       "<polyline clip-path=\"url(#clip080)\" style=\"stroke:#000000; stroke-linecap:butt; stroke-linejoin:round; stroke-width:4; stroke-opacity:1; fill:none\" points=\"\n",
       "  229.135,121.675 248.033,121.675 \n",
       "  \"/>\n",
       "<g clip-path=\"url(#clip080)\">\n",
       "<text style=\"fill:#000000; fill-opacity:1; font-family:Arial,Helvetica Neue,Helvetica,sans-serif; font-size:48px; text-anchor:middle;\" transform=\"rotate(0, 166.373, 1443.12)\" x=\"166.373\" y=\"1443.12\">60</text>\n",
       "</g>\n",
       "<g clip-path=\"url(#clip080)\">\n",
       "<text style=\"fill:#000000; fill-opacity:1; font-family:Arial,Helvetica Neue,Helvetica,sans-serif; font-size:48px; text-anchor:middle;\" transform=\"rotate(0, 166.373, 1117.13)\" x=\"166.373\" y=\"1117.13\">70</text>\n",
       "</g>\n",
       "<g clip-path=\"url(#clip080)\">\n",
       "<text style=\"fill:#000000; fill-opacity:1; font-family:Arial,Helvetica Neue,Helvetica,sans-serif; font-size:48px; text-anchor:middle;\" transform=\"rotate(0, 166.373, 791.147)\" x=\"166.373\" y=\"791.147\">80</text>\n",
       "</g>\n",
       "<g clip-path=\"url(#clip080)\">\n",
       "<text style=\"fill:#000000; fill-opacity:1; font-family:Arial,Helvetica Neue,Helvetica,sans-serif; font-size:48px; text-anchor:middle;\" transform=\"rotate(0, 166.373, 465.161)\" x=\"166.373\" y=\"465.161\">90</text>\n",
       "</g>\n",
       "<g clip-path=\"url(#clip080)\">\n",
       "<text style=\"fill:#000000; fill-opacity:1; font-family:Arial,Helvetica Neue,Helvetica,sans-serif; font-size:48px; text-anchor:middle;\" transform=\"rotate(0, 152.992, 139.175)\" x=\"152.992\" y=\"139.175\">100</text>\n",
       "</g>\n",
       "<g clip-path=\"url(#clip080)\">\n",
       "<text style=\"fill:#000000; fill-opacity:1; font-family:Arial,Helvetica Neue,Helvetica,sans-serif; font-size:66px; text-anchor:middle;\" transform=\"rotate(-90, 65.2861, 773.647)\" x=\"65.2861\" y=\"773.647\">期末試験</text>\n",
       "</g>\n",
       "<g clip-path=\"url(#clip080)\">\n",
       "<text style=\"fill:#000000; fill-opacity:1; font-family:Arial,Helvetica Neue,Helvetica,sans-serif; font-size:84px; text-anchor:middle;\" transform=\"rotate(0, 1290.95, 73.2)\" x=\"1290.95\" y=\"73.2\">A. 散布図（全集団）</text>\n",
       "</g>\n",
       "<circle clip-path=\"url(#clip082)\" cx=\"760.04\" cy=\"969.238\" r=\"14\" fill=\"#009af9\" fill-rule=\"evenodd\" fill-opacity=\"1\" stroke=\"#000000\" stroke-opacity=\"1\" stroke-width=\"3.2\"/>\n",
       "<circle clip-path=\"url(#clip082)\" cx=\"760.04\" cy=\"1327.82\" r=\"14\" fill=\"#009af9\" fill-rule=\"evenodd\" fill-opacity=\"1\" stroke=\"#000000\" stroke-opacity=\"1\" stroke-width=\"3.2\"/>\n",
       "<circle clip-path=\"url(#clip082)\" cx=\"760.04\" cy=\"1001.84\" r=\"14\" fill=\"#009af9\" fill-rule=\"evenodd\" fill-opacity=\"1\" stroke=\"#000000\" stroke-opacity=\"1\" stroke-width=\"3.2\"/>\n",
       "<circle clip-path=\"url(#clip082)\" cx=\"760.04\" cy=\"1067.03\" r=\"14\" fill=\"#009af9\" fill-rule=\"evenodd\" fill-opacity=\"1\" stroke=\"#000000\" stroke-opacity=\"1\" stroke-width=\"3.2\"/>\n",
       "<circle clip-path=\"url(#clip082)\" cx=\"760.04\" cy=\"969.238\" r=\"14\" fill=\"#009af9\" fill-rule=\"evenodd\" fill-opacity=\"1\" stroke=\"#000000\" stroke-opacity=\"1\" stroke-width=\"3.2\"/>\n",
       "<circle clip-path=\"url(#clip082)\" cx=\"1025.49\" cy=\"1197.43\" r=\"14\" fill=\"#009af9\" fill-rule=\"evenodd\" fill-opacity=\"1\" stroke=\"#000000\" stroke-opacity=\"1\" stroke-width=\"3.2\"/>\n",
       "<circle clip-path=\"url(#clip082)\" cx=\"1025.49\" cy=\"871.443\" r=\"14\" fill=\"#009af9\" fill-rule=\"evenodd\" fill-opacity=\"1\" stroke=\"#000000\" stroke-opacity=\"1\" stroke-width=\"3.2\"/>\n",
       "<circle clip-path=\"url(#clip082)\" cx=\"1025.49\" cy=\"1164.83\" r=\"14\" fill=\"#009af9\" fill-rule=\"evenodd\" fill-opacity=\"1\" stroke=\"#000000\" stroke-opacity=\"1\" stroke-width=\"3.2\"/>\n",
       "<circle clip-path=\"url(#clip082)\" cx=\"1025.49\" cy=\"871.443\" r=\"14\" fill=\"#009af9\" fill-rule=\"evenodd\" fill-opacity=\"1\" stroke=\"#000000\" stroke-opacity=\"1\" stroke-width=\"3.2\"/>\n",
       "<circle clip-path=\"url(#clip082)\" cx=\"1025.49\" cy=\"838.844\" r=\"14\" fill=\"#009af9\" fill-rule=\"evenodd\" fill-opacity=\"1\" stroke=\"#000000\" stroke-opacity=\"1\" stroke-width=\"3.2\"/>\n",
       "<circle clip-path=\"url(#clip082)\" cx=\"1556.4\" cy=\"512.858\" r=\"14\" fill=\"#009af9\" fill-rule=\"evenodd\" fill-opacity=\"1\" stroke=\"#000000\" stroke-opacity=\"1\" stroke-width=\"3.2\"/>\n",
       "<circle clip-path=\"url(#clip082)\" cx=\"1556.4\" cy=\"871.443\" r=\"14\" fill=\"#009af9\" fill-rule=\"evenodd\" fill-opacity=\"1\" stroke=\"#000000\" stroke-opacity=\"1\" stroke-width=\"3.2\"/>\n",
       "<circle clip-path=\"url(#clip082)\" cx=\"1556.4\" cy=\"904.041\" r=\"14\" fill=\"#009af9\" fill-rule=\"evenodd\" fill-opacity=\"1\" stroke=\"#000000\" stroke-opacity=\"1\" stroke-width=\"3.2\"/>\n",
       "<circle clip-path=\"url(#clip082)\" cx=\"1556.4\" cy=\"578.055\" r=\"14\" fill=\"#009af9\" fill-rule=\"evenodd\" fill-opacity=\"1\" stroke=\"#000000\" stroke-opacity=\"1\" stroke-width=\"3.2\"/>\n",
       "<circle clip-path=\"url(#clip082)\" cx=\"1556.4\" cy=\"838.844\" r=\"14\" fill=\"#009af9\" fill-rule=\"evenodd\" fill-opacity=\"1\" stroke=\"#000000\" stroke-opacity=\"1\" stroke-width=\"3.2\"/>\n",
       "<circle clip-path=\"url(#clip082)\" cx=\"1821.85\" cy=\"741.048\" r=\"14\" fill=\"#009af9\" fill-rule=\"evenodd\" fill-opacity=\"1\" stroke=\"#000000\" stroke-opacity=\"1\" stroke-width=\"3.2\"/>\n",
       "<circle clip-path=\"url(#clip082)\" cx=\"1821.85\" cy=\"415.062\" r=\"14\" fill=\"#009af9\" fill-rule=\"evenodd\" fill-opacity=\"1\" stroke=\"#000000\" stroke-opacity=\"1\" stroke-width=\"3.2\"/>\n",
       "<circle clip-path=\"url(#clip082)\" cx=\"1821.85\" cy=\"708.45\" r=\"14\" fill=\"#009af9\" fill-rule=\"evenodd\" fill-opacity=\"1\" stroke=\"#000000\" stroke-opacity=\"1\" stroke-width=\"3.2\"/>\n",
       "<circle clip-path=\"url(#clip082)\" cx=\"1821.85\" cy=\"708.45\" r=\"14\" fill=\"#009af9\" fill-rule=\"evenodd\" fill-opacity=\"1\" stroke=\"#000000\" stroke-opacity=\"1\" stroke-width=\"3.2\"/>\n",
       "<circle clip-path=\"url(#clip082)\" cx=\"1821.85\" cy=\"708.45\" r=\"14\" fill=\"#009af9\" fill-rule=\"evenodd\" fill-opacity=\"1\" stroke=\"#000000\" stroke-opacity=\"1\" stroke-width=\"3.2\"/>\n",
       "<polyline clip-path=\"url(#clip082)\" style=\"stroke:#e26f46; stroke-linecap:butt; stroke-linejoin:round; stroke-width:4; stroke-opacity:1; fill:none\" points=\"\n",
       "  229.135,1290.99 282.226,1269.6 335.316,1248.22 388.407,1226.83 441.497,1205.45 494.588,1184.06 547.678,1162.68 600.769,1141.29 653.859,1119.91 706.95,1098.52 \n",
       "  760.04,1077.14 813.131,1055.76 866.221,1034.37 919.312,1012.99 972.402,991.601 1025.49,970.216 1078.58,948.832 1131.67,927.447 1184.76,906.062 1237.86,884.678 \n",
       "  1290.95,863.293 1344.04,841.908 1397.13,820.524 1450.22,799.139 1503.31,777.754 1556.4,756.37 1609.49,734.985 1662.58,713.6 1715.67,692.216 1768.76,670.831 \n",
       "  1821.85,649.446 1874.94,628.062 1928.03,606.677 1981.12,585.292 2034.21,563.908 2087.3,542.523 2140.39,521.138 2193.48,499.754 2246.57,478.369 2299.67,456.984 \n",
       "  2352.76,435.6 \n",
       "  \"/>\n",
       "</svg>\n"
      ]
     },
     "execution_count": 13,
     "metadata": {},
     "output_type": "execute_result"
    }
   ],
   "source": [
    "p1 = @df data03 scatter(:x1, :y3, xaxis = \"入学試験\", yaxis = \"期末試験\", title = \"A. 散布図（全集団）\", label = \"\", ylims = (60, 100), xlims = (60, 100))\n",
    "ols_fit = glm(@formula(y3 ~ x1), data03, Normal(), IdentityLink()) # Gaussian family and identidy link function.\n",
    "plot!(p1, 60:1:100, predict(ols_fit, DataFrame(x1 = 60:100)), seriestype = :line, label = \"\")"
   ]
  },
  {
   "cell_type": "code",
   "execution_count": 14,
   "metadata": {},
   "outputs": [
    {
     "data": {
      "text/plain": [
       "StatsModels.TableRegressionModel{GeneralizedLinearModel{GLM.GlmResp{Vector{Float64}, Normal{Float64}, IdentityLink}, GLM.DensePredChol{Float64, LinearAlgebra.Cholesky{Float64, Matrix{Float64}}}}, Matrix{Float64}}\n",
       "\n",
       "y3 ~ 1 + x1\n",
       "\n",
       "Coefficients:\n",
       "─────────────────────────────────────────────────────────────────────\n",
       "              Coef.  Std. Error     z  Pr(>|z|)  Lower 95%  Upper 95%\n",
       "─────────────────────────────────────────────────────────────────────\n",
       "(Intercept)  24.77    10.7163    2.31    0.0208   3.76635   45.7737\n",
       "x1            0.656    0.133305  4.92    <1e-06   0.394727   0.917273\n",
       "─────────────────────────────────────────────────────────────────────"
      ]
     },
     "execution_count": 14,
     "metadata": {},
     "output_type": "execute_result"
    }
   ],
   "source": [
    "glm(@formula(y3 ~ x1), data03, Normal(), IdentityLink()) # 回帰分析の例"
   ]
  },
  {
   "cell_type": "code",
   "execution_count": 15,
   "metadata": {},
   "outputs": [
    {
     "data": {
      "text/plain": [
       "StatsModels.TableRegressionModel{GeneralizedLinearModel{GLM.GlmResp{Vector{Float64}, Normal{Float64}, IdentityLink}, GLM.DensePredChol{Float64, LinearAlgebra.Cholesky{Float64, Matrix{Float64}}}}, Matrix{Float64}}\n",
       "\n",
       "y3 ~ 1 + t1\n",
       "\n",
       "Coefficients:\n",
       "─────────────────────────────────────────────────────────────────────\n",
       "             Coef.  Std. Error      z  Pr(>|z|)  Lower 95%  Upper 95%\n",
       "─────────────────────────────────────────────────────────────────────\n",
       "(Intercept)   75.6     2.21523  34.13    <1e-99   71.2582    79.9418\n",
       "t1             3.3     3.1328    1.05    0.2922   -2.84018    9.44018\n",
       "─────────────────────────────────────────────────────────────────────"
      ]
     },
     "execution_count": 15,
     "metadata": {},
     "output_type": "execute_result"
    }
   ],
   "source": [
    "glm(@formula(y3 ~ t1), data03, Normal(), IdentityLink()) # ANOVA, 分散分析の例"
   ]
  },
  {
   "cell_type": "code",
   "execution_count": 16,
   "metadata": {},
   "outputs": [
    {
     "data": {
      "text/plain": [
       "StatsModels.TableRegressionModel{GeneralizedLinearModel{GLM.GlmResp{Vector{Float64}, Normal{Float64}, IdentityLink}, GLM.DensePredChol{Float64, LinearAlgebra.Cholesky{Float64, Matrix{Float64}}}}, Matrix{Float64}}\n",
       "\n",
       "y3 ~ 1 + x1 + t1\n",
       "\n",
       "Coefficients:\n",
       "─────────────────────────────────────────────────────────────────────────\n",
       "                 Coef.  Std. Error      z  Pr(>|z|)  Lower 95%  Upper 95%\n",
       "─────────────────────────────────────────────────────────────────────────\n",
       "(Intercept)  -2.12562     2.27423   -0.93    0.3500  -6.58302    2.33178\n",
       "x1            0.930846    0.027042  34.42    <1e-99   0.877844   0.983847\n",
       "t1            9.81592     0.427572  22.96    <1e-99   8.97789   10.6539\n",
       "─────────────────────────────────────────────────────────────────────────"
      ]
     },
     "execution_count": 16,
     "metadata": {},
     "output_type": "execute_result"
    }
   ],
   "source": [
    "ancova_fit = glm(@formula(y3 ~ x1 + t1), data03, Normal(), IdentityLink()) # ANCOVA, 共分散分析の例"
   ]
  },
  {
   "cell_type": "markdown",
   "metadata": {},
   "source": [
    "信頼区間（confint）はJuliaの計算結果のほうがやや小さめに推定されている様子。原因は不明。"
   ]
  },
  {
   "cell_type": "code",
   "execution_count": 17,
   "metadata": {},
   "outputs": [],
   "source": [
    "coef_ancova = coef(ancova_fit)\n",
    "b0 = coef_ancova[1]\n",
    "b1 = coef_ancova[2]\n",
    "b2 = coef_ancova[3];"
   ]
  },
  {
   "cell_type": "code",
   "execution_count": 18,
   "metadata": {},
   "outputs": [
    {
     "data": {
      "image/svg+xml": [
       "<?xml version=\"1.0\" encoding=\"utf-8\"?>\n",
       "<svg xmlns=\"http://www.w3.org/2000/svg\" xmlns:xlink=\"http://www.w3.org/1999/xlink\" width=\"600\" height=\"400\" viewBox=\"0 0 2400 1600\">\n",
       "<defs>\n",
       "  <clipPath id=\"clip120\">\n",
       "    <rect x=\"0\" y=\"0\" width=\"2400\" height=\"1600\"/>\n",
       "  </clipPath>\n",
       "</defs>\n",
       "<path clip-path=\"url(#clip120)\" d=\"\n",
       "M0 1600 L2400 1600 L2400 0 L0 0  Z\n",
       "  \" fill=\"#ffffff\" fill-rule=\"evenodd\" fill-opacity=\"1\"/>\n",
       "<defs>\n",
       "  <clipPath id=\"clip121\">\n",
       "    <rect x=\"480\" y=\"0\" width=\"1681\" height=\"1600\"/>\n",
       "  </clipPath>\n",
       "</defs>\n",
       "<path clip-path=\"url(#clip120)\" d=\"\n",
       "M229.135 1425.62 L2352.76 1425.62 L2352.76 121.675 L229.135 121.675  Z\n",
       "  \" fill=\"#ffffff\" fill-rule=\"evenodd\" fill-opacity=\"1\"/>\n",
       "<defs>\n",
       "  <clipPath id=\"clip122\">\n",
       "    <rect x=\"229\" y=\"121\" width=\"2125\" height=\"1305\"/>\n",
       "  </clipPath>\n",
       "</defs>\n",
       "<polyline clip-path=\"url(#clip122)\" style=\"stroke:#000000; stroke-linecap:butt; stroke-linejoin:round; stroke-width:2; stroke-opacity:0.1; fill:none\" points=\"\n",
       "  229.135,1425.62 229.135,121.675 \n",
       "  \"/>\n",
       "<polyline clip-path=\"url(#clip122)\" style=\"stroke:#000000; stroke-linecap:butt; stroke-linejoin:round; stroke-width:2; stroke-opacity:0.1; fill:none\" points=\"\n",
       "  760.04,1425.62 760.04,121.675 \n",
       "  \"/>\n",
       "<polyline clip-path=\"url(#clip122)\" style=\"stroke:#000000; stroke-linecap:butt; stroke-linejoin:round; stroke-width:2; stroke-opacity:0.1; fill:none\" points=\"\n",
       "  1290.95,1425.62 1290.95,121.675 \n",
       "  \"/>\n",
       "<polyline clip-path=\"url(#clip122)\" style=\"stroke:#000000; stroke-linecap:butt; stroke-linejoin:round; stroke-width:2; stroke-opacity:0.1; fill:none\" points=\"\n",
       "  1821.85,1425.62 1821.85,121.675 \n",
       "  \"/>\n",
       "<polyline clip-path=\"url(#clip122)\" style=\"stroke:#000000; stroke-linecap:butt; stroke-linejoin:round; stroke-width:2; stroke-opacity:0.1; fill:none\" points=\"\n",
       "  2352.76,1425.62 2352.76,121.675 \n",
       "  \"/>\n",
       "<polyline clip-path=\"url(#clip120)\" style=\"stroke:#000000; stroke-linecap:butt; stroke-linejoin:round; stroke-width:4; stroke-opacity:1; fill:none\" points=\"\n",
       "  229.135,1425.62 2352.76,1425.62 \n",
       "  \"/>\n",
       "<polyline clip-path=\"url(#clip120)\" style=\"stroke:#000000; stroke-linecap:butt; stroke-linejoin:round; stroke-width:4; stroke-opacity:1; fill:none\" points=\"\n",
       "  229.135,1425.62 229.135,1406.72 \n",
       "  \"/>\n",
       "<polyline clip-path=\"url(#clip120)\" style=\"stroke:#000000; stroke-linecap:butt; stroke-linejoin:round; stroke-width:4; stroke-opacity:1; fill:none\" points=\"\n",
       "  760.04,1425.62 760.04,1406.72 \n",
       "  \"/>\n",
       "<polyline clip-path=\"url(#clip120)\" style=\"stroke:#000000; stroke-linecap:butt; stroke-linejoin:round; stroke-width:4; stroke-opacity:1; fill:none\" points=\"\n",
       "  1290.95,1425.62 1290.95,1406.72 \n",
       "  \"/>\n",
       "<polyline clip-path=\"url(#clip120)\" style=\"stroke:#000000; stroke-linecap:butt; stroke-linejoin:round; stroke-width:4; stroke-opacity:1; fill:none\" points=\"\n",
       "  1821.85,1425.62 1821.85,1406.72 \n",
       "  \"/>\n",
       "<polyline clip-path=\"url(#clip120)\" style=\"stroke:#000000; stroke-linecap:butt; stroke-linejoin:round; stroke-width:4; stroke-opacity:1; fill:none\" points=\"\n",
       "  2352.76,1425.62 2352.76,1406.72 \n",
       "  \"/>\n",
       "<g clip-path=\"url(#clip120)\">\n",
       "<text style=\"fill:#000000; fill-opacity:1; font-family:Arial,Helvetica Neue,Helvetica,sans-serif; font-size:48px; text-anchor:middle;\" transform=\"rotate(0, 229.135, 1487.47)\" x=\"229.135\" y=\"1487.47\">60</text>\n",
       "</g>\n",
       "<g clip-path=\"url(#clip120)\">\n",
       "<text style=\"fill:#000000; fill-opacity:1; font-family:Arial,Helvetica Neue,Helvetica,sans-serif; font-size:48px; text-anchor:middle;\" transform=\"rotate(0, 760.04, 1487.47)\" x=\"760.04\" y=\"1487.47\">70</text>\n",
       "</g>\n",
       "<g clip-path=\"url(#clip120)\">\n",
       "<text style=\"fill:#000000; fill-opacity:1; font-family:Arial,Helvetica Neue,Helvetica,sans-serif; font-size:48px; text-anchor:middle;\" transform=\"rotate(0, 1290.95, 1487.47)\" x=\"1290.95\" y=\"1487.47\">80</text>\n",
       "</g>\n",
       "<g clip-path=\"url(#clip120)\">\n",
       "<text style=\"fill:#000000; fill-opacity:1; font-family:Arial,Helvetica Neue,Helvetica,sans-serif; font-size:48px; text-anchor:middle;\" transform=\"rotate(0, 1821.85, 1487.47)\" x=\"1821.85\" y=\"1487.47\">90</text>\n",
       "</g>\n",
       "<g clip-path=\"url(#clip120)\">\n",
       "<text style=\"fill:#000000; fill-opacity:1; font-family:Arial,Helvetica Neue,Helvetica,sans-serif; font-size:48px; text-anchor:middle;\" transform=\"rotate(0, 2352.76, 1487.47)\" x=\"2352.76\" y=\"1487.47\">100</text>\n",
       "</g>\n",
       "<g clip-path=\"url(#clip120)\">\n",
       "<text style=\"fill:#000000; fill-opacity:1; font-family:Arial,Helvetica Neue,Helvetica,sans-serif; font-size:66px; text-anchor:middle;\" transform=\"rotate(0, 1290.95, 1571.48)\" x=\"1290.95\" y=\"1571.48\">入学試験</text>\n",
       "</g>\n",
       "<polyline clip-path=\"url(#clip122)\" style=\"stroke:#000000; stroke-linecap:butt; stroke-linejoin:round; stroke-width:2; stroke-opacity:0.1; fill:none\" points=\"\n",
       "  229.135,1425.62 2352.76,1425.62 \n",
       "  \"/>\n",
       "<polyline clip-path=\"url(#clip122)\" style=\"stroke:#000000; stroke-linecap:butt; stroke-linejoin:round; stroke-width:2; stroke-opacity:0.1; fill:none\" points=\"\n",
       "  229.135,1099.63 2352.76,1099.63 \n",
       "  \"/>\n",
       "<polyline clip-path=\"url(#clip122)\" style=\"stroke:#000000; stroke-linecap:butt; stroke-linejoin:round; stroke-width:2; stroke-opacity:0.1; fill:none\" points=\"\n",
       "  229.135,773.647 2352.76,773.647 \n",
       "  \"/>\n",
       "<polyline clip-path=\"url(#clip122)\" style=\"stroke:#000000; stroke-linecap:butt; stroke-linejoin:round; stroke-width:2; stroke-opacity:0.1; fill:none\" points=\"\n",
       "  229.135,447.661 2352.76,447.661 \n",
       "  \"/>\n",
       "<polyline clip-path=\"url(#clip122)\" style=\"stroke:#000000; stroke-linecap:butt; stroke-linejoin:round; stroke-width:2; stroke-opacity:0.1; fill:none\" points=\"\n",
       "  229.135,121.675 2352.76,121.675 \n",
       "  \"/>\n",
       "<polyline clip-path=\"url(#clip120)\" style=\"stroke:#000000; stroke-linecap:butt; stroke-linejoin:round; stroke-width:4; stroke-opacity:1; fill:none\" points=\"\n",
       "  229.135,1425.62 229.135,121.675 \n",
       "  \"/>\n",
       "<polyline clip-path=\"url(#clip120)\" style=\"stroke:#000000; stroke-linecap:butt; stroke-linejoin:round; stroke-width:4; stroke-opacity:1; fill:none\" points=\"\n",
       "  229.135,1425.62 248.033,1425.62 \n",
       "  \"/>\n",
       "<polyline clip-path=\"url(#clip120)\" style=\"stroke:#000000; stroke-linecap:butt; stroke-linejoin:round; stroke-width:4; stroke-opacity:1; fill:none\" points=\"\n",
       "  229.135,1099.63 248.033,1099.63 \n",
       "  \"/>\n",
       "<polyline clip-path=\"url(#clip120)\" style=\"stroke:#000000; stroke-linecap:butt; stroke-linejoin:round; stroke-width:4; stroke-opacity:1; fill:none\" points=\"\n",
       "  229.135,773.647 248.033,773.647 \n",
       "  \"/>\n",
       "<polyline clip-path=\"url(#clip120)\" style=\"stroke:#000000; stroke-linecap:butt; stroke-linejoin:round; stroke-width:4; stroke-opacity:1; fill:none\" points=\"\n",
       "  229.135,447.661 248.033,447.661 \n",
       "  \"/>\n",
       "<polyline clip-path=\"url(#clip120)\" style=\"stroke:#000000; stroke-linecap:butt; stroke-linejoin:round; stroke-width:4; stroke-opacity:1; fill:none\" points=\"\n",
       "  229.135,121.675 248.033,121.675 \n",
       "  \"/>\n",
       "<g clip-path=\"url(#clip120)\">\n",
       "<text style=\"fill:#000000; fill-opacity:1; font-family:Arial,Helvetica Neue,Helvetica,sans-serif; font-size:48px; text-anchor:middle;\" transform=\"rotate(0, 166.373, 1443.12)\" x=\"166.373\" y=\"1443.12\">60</text>\n",
       "</g>\n",
       "<g clip-path=\"url(#clip120)\">\n",
       "<text style=\"fill:#000000; fill-opacity:1; font-family:Arial,Helvetica Neue,Helvetica,sans-serif; font-size:48px; text-anchor:middle;\" transform=\"rotate(0, 166.373, 1117.13)\" x=\"166.373\" y=\"1117.13\">70</text>\n",
       "</g>\n",
       "<g clip-path=\"url(#clip120)\">\n",
       "<text style=\"fill:#000000; fill-opacity:1; font-family:Arial,Helvetica Neue,Helvetica,sans-serif; font-size:48px; text-anchor:middle;\" transform=\"rotate(0, 166.373, 791.147)\" x=\"166.373\" y=\"791.147\">80</text>\n",
       "</g>\n",
       "<g clip-path=\"url(#clip120)\">\n",
       "<text style=\"fill:#000000; fill-opacity:1; font-family:Arial,Helvetica Neue,Helvetica,sans-serif; font-size:48px; text-anchor:middle;\" transform=\"rotate(0, 166.373, 465.161)\" x=\"166.373\" y=\"465.161\">90</text>\n",
       "</g>\n",
       "<g clip-path=\"url(#clip120)\">\n",
       "<text style=\"fill:#000000; fill-opacity:1; font-family:Arial,Helvetica Neue,Helvetica,sans-serif; font-size:48px; text-anchor:middle;\" transform=\"rotate(0, 152.992, 139.175)\" x=\"152.992\" y=\"139.175\">100</text>\n",
       "</g>\n",
       "<g clip-path=\"url(#clip120)\">\n",
       "<text style=\"fill:#000000; fill-opacity:1; font-family:Arial,Helvetica Neue,Helvetica,sans-serif; font-size:66px; text-anchor:middle;\" transform=\"rotate(-90, 65.2861, 773.647)\" x=\"65.2861\" y=\"773.647\">期末試験</text>\n",
       "</g>\n",
       "<g clip-path=\"url(#clip120)\">\n",
       "<text style=\"fill:#000000; fill-opacity:1; font-family:Arial,Helvetica Neue,Helvetica,sans-serif; font-size:84px; text-anchor:middle;\" transform=\"rotate(0, 1290.95, 73.2)\" x=\"1290.95\" y=\"73.2\">A. 散布図（群ごと）</text>\n",
       "</g>\n",
       "<path clip-path=\"url(#clip122)\" d=\"M760.04 953.238 L744.04 985.238 L776.04 985.238 L760.04 953.238 Z\" fill=\"#009af9\" fill-rule=\"evenodd\" fill-opacity=\"1\" stroke=\"#000000\" stroke-opacity=\"1\" stroke-width=\"3.2\"/>\n",
       "<line clip-path=\"url(#clip122)\" x1=\"760.04\" y1=\"1327.82\" x2=\"744.04\" y2=\"1311.82\" style=\"stroke:#009af9; stroke-width:3.2; stroke-opacity:1\"/>\n",
       "<line clip-path=\"url(#clip122)\" x1=\"760.04\" y1=\"1327.82\" x2=\"744.04\" y2=\"1343.82\" style=\"stroke:#009af9; stroke-width:3.2; stroke-opacity:1\"/>\n",
       "<line clip-path=\"url(#clip122)\" x1=\"760.04\" y1=\"1327.82\" x2=\"776.04\" y2=\"1343.82\" style=\"stroke:#009af9; stroke-width:3.2; stroke-opacity:1\"/>\n",
       "<line clip-path=\"url(#clip122)\" x1=\"760.04\" y1=\"1327.82\" x2=\"776.04\" y2=\"1311.82\" style=\"stroke:#009af9; stroke-width:3.2; stroke-opacity:1\"/>\n",
       "<path clip-path=\"url(#clip122)\" d=\"M760.04 985.837 L744.04 1017.84 L776.04 1017.84 L760.04 985.837 Z\" fill=\"#009af9\" fill-rule=\"evenodd\" fill-opacity=\"1\" stroke=\"#000000\" stroke-opacity=\"1\" stroke-width=\"3.2\"/>\n",
       "<path clip-path=\"url(#clip122)\" d=\"M760.04 1051.03 L744.04 1083.03 L776.04 1083.03 L760.04 1051.03 Z\" fill=\"#009af9\" fill-rule=\"evenodd\" fill-opacity=\"1\" stroke=\"#000000\" stroke-opacity=\"1\" stroke-width=\"3.2\"/>\n",
       "<path clip-path=\"url(#clip122)\" d=\"M760.04 953.238 L744.04 985.238 L776.04 985.238 L760.04 953.238 Z\" fill=\"#009af9\" fill-rule=\"evenodd\" fill-opacity=\"1\" stroke=\"#000000\" stroke-opacity=\"1\" stroke-width=\"3.2\"/>\n",
       "<line clip-path=\"url(#clip122)\" x1=\"1025.49\" y1=\"1197.43\" x2=\"1009.49\" y2=\"1181.43\" style=\"stroke:#009af9; stroke-width:3.2; stroke-opacity:1\"/>\n",
       "<line clip-path=\"url(#clip122)\" x1=\"1025.49\" y1=\"1197.43\" x2=\"1009.49\" y2=\"1213.43\" style=\"stroke:#009af9; stroke-width:3.2; stroke-opacity:1\"/>\n",
       "<line clip-path=\"url(#clip122)\" x1=\"1025.49\" y1=\"1197.43\" x2=\"1041.49\" y2=\"1213.43\" style=\"stroke:#009af9; stroke-width:3.2; stroke-opacity:1\"/>\n",
       "<line clip-path=\"url(#clip122)\" x1=\"1025.49\" y1=\"1197.43\" x2=\"1041.49\" y2=\"1181.43\" style=\"stroke:#009af9; stroke-width:3.2; stroke-opacity:1\"/>\n",
       "<path clip-path=\"url(#clip122)\" d=\"M1025.49 855.443 L1009.49 887.443 L1041.49 887.443 L1025.49 855.443 Z\" fill=\"#009af9\" fill-rule=\"evenodd\" fill-opacity=\"1\" stroke=\"#000000\" stroke-opacity=\"1\" stroke-width=\"3.2\"/>\n",
       "<line clip-path=\"url(#clip122)\" x1=\"1025.49\" y1=\"1164.83\" x2=\"1009.49\" y2=\"1148.83\" style=\"stroke:#009af9; stroke-width:3.2; stroke-opacity:1\"/>\n",
       "<line clip-path=\"url(#clip122)\" x1=\"1025.49\" y1=\"1164.83\" x2=\"1009.49\" y2=\"1180.83\" style=\"stroke:#009af9; stroke-width:3.2; stroke-opacity:1\"/>\n",
       "<line clip-path=\"url(#clip122)\" x1=\"1025.49\" y1=\"1164.83\" x2=\"1041.49\" y2=\"1180.83\" style=\"stroke:#009af9; stroke-width:3.2; stroke-opacity:1\"/>\n",
       "<line clip-path=\"url(#clip122)\" x1=\"1025.49\" y1=\"1164.83\" x2=\"1041.49\" y2=\"1148.83\" style=\"stroke:#009af9; stroke-width:3.2; stroke-opacity:1\"/>\n",
       "<path clip-path=\"url(#clip122)\" d=\"M1025.49 855.443 L1009.49 887.443 L1041.49 887.443 L1025.49 855.443 Z\" fill=\"#009af9\" fill-rule=\"evenodd\" fill-opacity=\"1\" stroke=\"#000000\" stroke-opacity=\"1\" stroke-width=\"3.2\"/>\n",
       "<path clip-path=\"url(#clip122)\" d=\"M1025.49 822.844 L1009.49 854.844 L1041.49 854.844 L1025.49 822.844 Z\" fill=\"#009af9\" fill-rule=\"evenodd\" fill-opacity=\"1\" stroke=\"#000000\" stroke-opacity=\"1\" stroke-width=\"3.2\"/>\n",
       "<path clip-path=\"url(#clip122)\" d=\"M1556.4 496.858 L1540.4 528.858 L1572.4 528.858 L1556.4 496.858 Z\" fill=\"#009af9\" fill-rule=\"evenodd\" fill-opacity=\"1\" stroke=\"#000000\" stroke-opacity=\"1\" stroke-width=\"3.2\"/>\n",
       "<line clip-path=\"url(#clip122)\" x1=\"1556.4\" y1=\"871.443\" x2=\"1540.4\" y2=\"855.443\" style=\"stroke:#009af9; stroke-width:3.2; stroke-opacity:1\"/>\n",
       "<line clip-path=\"url(#clip122)\" x1=\"1556.4\" y1=\"871.443\" x2=\"1540.4\" y2=\"887.443\" style=\"stroke:#009af9; stroke-width:3.2; stroke-opacity:1\"/>\n",
       "<line clip-path=\"url(#clip122)\" x1=\"1556.4\" y1=\"871.443\" x2=\"1572.4\" y2=\"887.443\" style=\"stroke:#009af9; stroke-width:3.2; stroke-opacity:1\"/>\n",
       "<line clip-path=\"url(#clip122)\" x1=\"1556.4\" y1=\"871.443\" x2=\"1572.4\" y2=\"855.443\" style=\"stroke:#009af9; stroke-width:3.2; stroke-opacity:1\"/>\n",
       "<line clip-path=\"url(#clip122)\" x1=\"1556.4\" y1=\"904.041\" x2=\"1540.4\" y2=\"888.041\" style=\"stroke:#009af9; stroke-width:3.2; stroke-opacity:1\"/>\n",
       "<line clip-path=\"url(#clip122)\" x1=\"1556.4\" y1=\"904.041\" x2=\"1540.4\" y2=\"920.041\" style=\"stroke:#009af9; stroke-width:3.2; stroke-opacity:1\"/>\n",
       "<line clip-path=\"url(#clip122)\" x1=\"1556.4\" y1=\"904.041\" x2=\"1572.4\" y2=\"920.041\" style=\"stroke:#009af9; stroke-width:3.2; stroke-opacity:1\"/>\n",
       "<line clip-path=\"url(#clip122)\" x1=\"1556.4\" y1=\"904.041\" x2=\"1572.4\" y2=\"888.041\" style=\"stroke:#009af9; stroke-width:3.2; stroke-opacity:1\"/>\n",
       "<path clip-path=\"url(#clip122)\" d=\"M1556.4 562.055 L1540.4 594.055 L1572.4 594.055 L1556.4 562.055 Z\" fill=\"#009af9\" fill-rule=\"evenodd\" fill-opacity=\"1\" stroke=\"#000000\" stroke-opacity=\"1\" stroke-width=\"3.2\"/>\n",
       "<line clip-path=\"url(#clip122)\" x1=\"1556.4\" y1=\"838.844\" x2=\"1540.4\" y2=\"822.844\" style=\"stroke:#009af9; stroke-width:3.2; stroke-opacity:1\"/>\n",
       "<line clip-path=\"url(#clip122)\" x1=\"1556.4\" y1=\"838.844\" x2=\"1540.4\" y2=\"854.844\" style=\"stroke:#009af9; stroke-width:3.2; stroke-opacity:1\"/>\n",
       "<line clip-path=\"url(#clip122)\" x1=\"1556.4\" y1=\"838.844\" x2=\"1572.4\" y2=\"854.844\" style=\"stroke:#009af9; stroke-width:3.2; stroke-opacity:1\"/>\n",
       "<line clip-path=\"url(#clip122)\" x1=\"1556.4\" y1=\"838.844\" x2=\"1572.4\" y2=\"822.844\" style=\"stroke:#009af9; stroke-width:3.2; stroke-opacity:1\"/>\n",
       "<line clip-path=\"url(#clip122)\" x1=\"1821.85\" y1=\"741.048\" x2=\"1805.85\" y2=\"725.048\" style=\"stroke:#009af9; stroke-width:3.2; stroke-opacity:1\"/>\n",
       "<line clip-path=\"url(#clip122)\" x1=\"1821.85\" y1=\"741.048\" x2=\"1805.85\" y2=\"757.048\" style=\"stroke:#009af9; stroke-width:3.2; stroke-opacity:1\"/>\n",
       "<line clip-path=\"url(#clip122)\" x1=\"1821.85\" y1=\"741.048\" x2=\"1837.85\" y2=\"757.048\" style=\"stroke:#009af9; stroke-width:3.2; stroke-opacity:1\"/>\n",
       "<line clip-path=\"url(#clip122)\" x1=\"1821.85\" y1=\"741.048\" x2=\"1837.85\" y2=\"725.048\" style=\"stroke:#009af9; stroke-width:3.2; stroke-opacity:1\"/>\n",
       "<path clip-path=\"url(#clip122)\" d=\"M1821.85 399.062 L1805.85 431.062 L1837.85 431.062 L1821.85 399.062 Z\" fill=\"#009af9\" fill-rule=\"evenodd\" fill-opacity=\"1\" stroke=\"#000000\" stroke-opacity=\"1\" stroke-width=\"3.2\"/>\n",
       "<line clip-path=\"url(#clip122)\" x1=\"1821.85\" y1=\"708.45\" x2=\"1805.85\" y2=\"692.45\" style=\"stroke:#009af9; stroke-width:3.2; stroke-opacity:1\"/>\n",
       "<line clip-path=\"url(#clip122)\" x1=\"1821.85\" y1=\"708.45\" x2=\"1805.85\" y2=\"724.45\" style=\"stroke:#009af9; stroke-width:3.2; stroke-opacity:1\"/>\n",
       "<line clip-path=\"url(#clip122)\" x1=\"1821.85\" y1=\"708.45\" x2=\"1837.85\" y2=\"724.45\" style=\"stroke:#009af9; stroke-width:3.2; stroke-opacity:1\"/>\n",
       "<line clip-path=\"url(#clip122)\" x1=\"1821.85\" y1=\"708.45\" x2=\"1837.85\" y2=\"692.45\" style=\"stroke:#009af9; stroke-width:3.2; stroke-opacity:1\"/>\n",
       "<line clip-path=\"url(#clip122)\" x1=\"1821.85\" y1=\"708.45\" x2=\"1805.85\" y2=\"692.45\" style=\"stroke:#009af9; stroke-width:3.2; stroke-opacity:1\"/>\n",
       "<line clip-path=\"url(#clip122)\" x1=\"1821.85\" y1=\"708.45\" x2=\"1805.85\" y2=\"724.45\" style=\"stroke:#009af9; stroke-width:3.2; stroke-opacity:1\"/>\n",
       "<line clip-path=\"url(#clip122)\" x1=\"1821.85\" y1=\"708.45\" x2=\"1837.85\" y2=\"724.45\" style=\"stroke:#009af9; stroke-width:3.2; stroke-opacity:1\"/>\n",
       "<line clip-path=\"url(#clip122)\" x1=\"1821.85\" y1=\"708.45\" x2=\"1837.85\" y2=\"692.45\" style=\"stroke:#009af9; stroke-width:3.2; stroke-opacity:1\"/>\n",
       "<line clip-path=\"url(#clip122)\" x1=\"1821.85\" y1=\"708.45\" x2=\"1805.85\" y2=\"692.45\" style=\"stroke:#009af9; stroke-width:3.2; stroke-opacity:1\"/>\n",
       "<line clip-path=\"url(#clip122)\" x1=\"1821.85\" y1=\"708.45\" x2=\"1805.85\" y2=\"724.45\" style=\"stroke:#009af9; stroke-width:3.2; stroke-opacity:1\"/>\n",
       "<line clip-path=\"url(#clip122)\" x1=\"1821.85\" y1=\"708.45\" x2=\"1837.85\" y2=\"724.45\" style=\"stroke:#009af9; stroke-width:3.2; stroke-opacity:1\"/>\n",
       "<line clip-path=\"url(#clip122)\" x1=\"1821.85\" y1=\"708.45\" x2=\"1837.85\" y2=\"692.45\" style=\"stroke:#009af9; stroke-width:3.2; stroke-opacity:1\"/>\n",
       "<polyline clip-path=\"url(#clip122)\" style=\"stroke:#e26f46; stroke-linecap:butt; stroke-linejoin:round; stroke-width:4; stroke-opacity:1; fill:none\" points=\"\n",
       "  229.135,1630.17 249.874,1618.32 441.635,1508.71 556.876,1442.85 654.31,1387.16 760.151,1326.67 857.727,1270.89 962.339,1211.1 1083.54,1141.83 1191.25,1080.27 \n",
       "  1285.71,1026.28 1388.68,967.422 1492.27,908.214 1606.81,842.752 1715.78,780.467 1829.09,715.704 1924.47,661.188 2040.92,594.63 2150.39,532.063 2325.77,431.826 \n",
       "  2352.76,416.4 \n",
       "  \"/>\n",
       "<polyline clip-path=\"url(#clip122)\" style=\"stroke:#3da44d; stroke-linecap:butt; stroke-linejoin:round; stroke-width:4; stroke-opacity:1; fill:none\" points=\"\n",
       "  229.135,1310.19 249.874,1298.33 441.635,1188.73 556.876,1122.86 654.31,1067.17 760.151,1006.68 857.727,950.91 962.339,891.118 1083.54,821.844 1191.25,760.281 \n",
       "  1285.71,706.296 1388.68,647.437 1492.27,588.229 1606.81,522.767 1715.78,460.482 1829.09,395.719 1924.47,341.203 2040.92,274.645 2150.39,212.078 2325.77,111.841 \n",
       "  2352.76,96.4153 \n",
       "  \"/>\n",
       "</svg>\n"
      ]
     },
     "execution_count": 18,
     "metadata": {},
     "output_type": "execute_result"
    }
   ],
   "source": [
    "p2 = @df transform(data03, :t1 => ByRow(x -> x == 0 ? :xcross : :utriangle) => :t1) scatter(:x1, :y3, markershape = :t1, xaxis = \"入学試験\", yaxis = \"期末試験\", title = \"A. 散布図（群ごと）\", label = \"\", xlims = (60, 100), ylims = (60, 100))\n",
    "plot!(p2, x -> b0 + b1 * x, label = \"\")\n",
    "plot!(p2, x -> b0 + b2 + b1 * x, label = \"\")\n",
    "p2"
   ]
  },
  {
   "cell_type": "code",
   "execution_count": null,
   "metadata": {},
   "outputs": [],
   "source": []
  }
 ],
 "metadata": {
  "@webio": {
   "lastCommId": null,
   "lastKernelId": null
  },
  "kernelspec": {
   "display_name": "Julia 1.7.1",
   "language": "julia",
   "name": "julia-1.7"
  },
  "language_info": {
   "file_extension": ".jl",
   "mimetype": "application/julia",
   "name": "julia",
   "version": "1.7.1"
  }
 },
 "nbformat": 4,
 "nbformat_minor": 4
}
