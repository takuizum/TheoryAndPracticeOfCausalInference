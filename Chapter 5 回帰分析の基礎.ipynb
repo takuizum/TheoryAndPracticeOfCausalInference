{
 "cells": [
  {
   "cell_type": "code",
   "execution_count": 1,
   "metadata": {},
   "outputs": [
    {
     "name": "stderr",
     "output_type": "stream",
     "text": [
      "\u001b[32m\u001b[1m  Activating\u001b[22m\u001b[39m project at `~/local_Documents/TheoryAndPracticeOfCausalInference`\n"
     ]
    }
   ],
   "source": [
    "using Pkg\n",
    "Pkg.activate(\".\")"
   ]
  },
  {
   "cell_type": "code",
   "execution_count": 2,
   "metadata": {},
   "outputs": [
    {
     "name": "stderr",
     "output_type": "stream",
     "text": [
      "\u001b[32m\u001b[1m    Updating\u001b[22m\u001b[39m registry at `~/.julia/registries/General`\n",
      "\u001b[32m\u001b[1m    Updating\u001b[22m\u001b[39m git-repo `https://github.com/JuliaRegistries/General.git`\n",
      "\u001b[32m\u001b[1m   Resolving\u001b[22m\u001b[39m package versions...\n",
      "\u001b[32m\u001b[1m  No Changes\u001b[22m\u001b[39m to `~/local_Documents/TheoryAndPracticeOfCausalInference/Project.toml`\n",
      "\u001b[32m\u001b[1m  No Changes\u001b[22m\u001b[39m to `~/local_Documents/TheoryAndPracticeOfCausalInference/Manifest.toml`\n"
     ]
    }
   ],
   "source": [
    "Pkg.add(\"Statistics\")\n",
    "using Statistics"
   ]
  },
  {
   "cell_type": "markdown",
   "metadata": {},
   "source": [
    "## 数値例で理解する最小二乗法"
   ]
  },
  {
   "cell_type": "code",
   "execution_count": 3,
   "metadata": {},
   "outputs": [
    {
     "data": {
      "text/plain": [
       "4-element Vector{Int64}:\n",
       " 40\n",
       " 20\n",
       " 50\n",
       " 10"
      ]
     },
     "execution_count": 3,
     "metadata": {},
     "output_type": "execute_result"
    }
   ],
   "source": [
    "y₁ = [40, 20, 50, 10]"
   ]
  },
  {
   "cell_type": "code",
   "execution_count": 4,
   "metadata": {},
   "outputs": [
    {
     "data": {
      "text/plain": [
       "4-element Vector{Int64}:\n",
       " 5\n",
       " 1\n",
       " 3\n",
       " 2"
      ]
     },
     "execution_count": 4,
     "metadata": {},
     "output_type": "execute_result"
    }
   ],
   "source": [
    "x₁ = [5, 1, 3, 2]"
   ]
  },
  {
   "cell_type": "code",
   "execution_count": 5,
   "metadata": {},
   "outputs": [
    {
     "data": {
      "text/plain": [
       "4-element Vector{Float64}:\n",
       " 45.428000000000004\n",
       " 18.0\n",
       " 31.714000000000002\n",
       " 24.857"
      ]
     },
     "execution_count": 5,
     "metadata": {},
     "output_type": "execute_result"
    }
   ],
   "source": [
    "ŷ₁ = @. 11.143 + 6.857 * x₁"
   ]
  },
  {
   "cell_type": "code",
   "execution_count": 6,
   "metadata": {},
   "outputs": [
    {
     "data": {
      "text/plain": [
       "4-element Vector{Float64}:\n",
       "  -5.428000000000004\n",
       "   2.0\n",
       "  18.285999999999998\n",
       " -14.857"
      ]
     },
     "execution_count": 6,
     "metadata": {},
     "output_type": "execute_result"
    }
   ],
   "source": [
    "e₁ = y₁ - ŷ₁"
   ]
  },
  {
   "cell_type": "code",
   "execution_count": 7,
   "metadata": {},
   "outputs": [
    {
     "data": {
      "text/plain": [
       "4-element Vector{Float64}:\n",
       " 54.545\n",
       " 10.909\n",
       " 32.727000000000004\n",
       " 21.818"
      ]
     },
     "execution_count": 7,
     "metadata": {},
     "output_type": "execute_result"
    }
   ],
   "source": [
    "ŷ₂ = @. 10.909 * x₁"
   ]
  },
  {
   "cell_type": "code",
   "execution_count": 8,
   "metadata": {},
   "outputs": [
    {
     "data": {
      "text/plain": [
       "4-element Vector{Float64}:\n",
       " -14.545000000000002\n",
       "   9.091\n",
       "  17.272999999999996\n",
       " -11.818000000000001"
      ]
     },
     "execution_count": 8,
     "metadata": {},
     "output_type": "execute_result"
    }
   ],
   "source": [
    "e₂ = y₁ - ŷ₂"
   ]
  },
  {
   "cell_type": "code",
   "execution_count": 9,
   "metadata": {},
   "outputs": [
    {
     "data": {
      "text/plain": [
       "0.0009999999999941167"
      ]
     },
     "execution_count": 9,
     "metadata": {},
     "output_type": "execute_result"
    }
   ],
   "source": [
    "sum(e₁)"
   ]
  },
  {
   "cell_type": "code",
   "execution_count": 10,
   "metadata": {},
   "outputs": [
    {
     "data": {
      "text/plain": [
       "0.0009999999999923403"
      ]
     },
     "execution_count": 10,
     "metadata": {},
     "output_type": "execute_result"
    }
   ],
   "source": [
    "sum(e₂)"
   ]
  },
  {
   "cell_type": "code",
   "execution_count": 11,
   "metadata": {},
   "outputs": [
    {
     "data": {
      "text/plain": [
       "0.0009999999999941167"
      ]
     },
     "execution_count": 11,
     "metadata": {},
     "output_type": "execute_result"
    }
   ],
   "source": [
    "e₁b = @. e₁^2\n",
    "e₂b = @. e₂^2\n",
    "sum(e₁)"
   ]
  },
  {
   "cell_type": "code",
   "execution_count": 12,
   "metadata": {},
   "outputs": [
    {
     "data": {
      "text/plain": [
       "0.0009999999999923403"
      ]
     },
     "execution_count": 12,
     "metadata": {},
     "output_type": "execute_result"
    }
   ],
   "source": [
    "sum(e₂)"
   ]
  },
  {
   "cell_type": "markdown",
   "metadata": {},
   "source": [
    "## 種明かし：最小二乗法による切片と傾きの公式"
   ]
  },
  {
   "cell_type": "code",
   "execution_count": 13,
   "metadata": {},
   "outputs": [
    {
     "data": {
      "text/plain": [
       "2.75"
      ]
     },
     "execution_count": 13,
     "metadata": {},
     "output_type": "execute_result"
    }
   ],
   "source": [
    "xbar = mean(x₁)"
   ]
  },
  {
   "cell_type": "code",
   "execution_count": 14,
   "metadata": {},
   "outputs": [
    {
     "data": {
      "text/plain": [
       "30.0"
      ]
     },
     "execution_count": 14,
     "metadata": {},
     "output_type": "execute_result"
    }
   ],
   "source": [
    "ybar = mean(y₁)"
   ]
  },
  {
   "cell_type": "code",
   "execution_count": 15,
   "metadata": {},
   "outputs": [
    {
     "data": {
      "text/plain": [
       "4-element Vector{Float64}:\n",
       "  2.25\n",
       " -1.75\n",
       "  0.25\n",
       " -0.75"
      ]
     },
     "execution_count": 15,
     "metadata": {},
     "output_type": "execute_result"
    }
   ],
   "source": [
    "hensax = @. x₁ - xbar"
   ]
  },
  {
   "cell_type": "code",
   "execution_count": 16,
   "metadata": {},
   "outputs": [
    {
     "data": {
      "text/plain": [
       "4-element Vector{Float64}:\n",
       "  10.0\n",
       " -10.0\n",
       "  20.0\n",
       " -20.0"
      ]
     },
     "execution_count": 16,
     "metadata": {},
     "output_type": "execute_result"
    }
   ],
   "source": [
    "hensay = @. y₁ - ybar"
   ]
  },
  {
   "cell_type": "code",
   "execution_count": 17,
   "metadata": {},
   "outputs": [
    {
     "data": {
      "text/plain": [
       "4-element Vector{Float64}:\n",
       " 22.5\n",
       " 17.5\n",
       "  5.0\n",
       " 15.0"
      ]
     },
     "execution_count": 17,
     "metadata": {},
     "output_type": "execute_result"
    }
   ],
   "source": [
    "hensaxy = @. hensax * hensay"
   ]
  },
  {
   "cell_type": "code",
   "execution_count": 18,
   "metadata": {},
   "outputs": [
    {
     "data": {
      "text/plain": [
       "60.0"
      ]
     },
     "execution_count": 18,
     "metadata": {},
     "output_type": "execute_result"
    }
   ],
   "source": [
    "num = sum(hensaxy)"
   ]
  },
  {
   "cell_type": "code",
   "execution_count": 19,
   "metadata": {},
   "outputs": [
    {
     "data": {
      "text/plain": [
       "8.75"
      ]
     },
     "execution_count": 19,
     "metadata": {},
     "output_type": "execute_result"
    }
   ],
   "source": [
    "hensax² = @. hensax ^ 2\n",
    "denom = sum(hensax²)"
   ]
  },
  {
   "cell_type": "code",
   "execution_count": 20,
   "metadata": {},
   "outputs": [
    {
     "data": {
      "text/plain": [
       "6.857142857142857"
      ]
     },
     "execution_count": 20,
     "metadata": {},
     "output_type": "execute_result"
    }
   ],
   "source": [
    "b₁ = num / denom"
   ]
  },
  {
   "cell_type": "code",
   "execution_count": 21,
   "metadata": {},
   "outputs": [
    {
     "data": {
      "text/plain": [
       "11.142857142857142"
      ]
     },
     "execution_count": 21,
     "metadata": {},
     "output_type": "execute_result"
    }
   ],
   "source": [
    "b₀ = @. ybar - b₁ * xbar "
   ]
  },
  {
   "cell_type": "code",
   "execution_count": 22,
   "metadata": {},
   "outputs": [
    {
     "name": "stderr",
     "output_type": "stream",
     "text": [
      "\u001b[32m\u001b[1m   Resolving\u001b[22m\u001b[39m package versions...\n",
      "\u001b[32m\u001b[1m  No Changes\u001b[22m\u001b[39m to `~/local_Documents/TheoryAndPracticeOfCausalInference/Project.toml`\n",
      "\u001b[32m\u001b[1m  No Changes\u001b[22m\u001b[39m to `~/local_Documents/TheoryAndPracticeOfCausalInference/Manifest.toml`\n"
     ]
    }
   ],
   "source": [
    "Pkg.add([\"GLM\", \"DataFrames\"])\n",
    "using GLM, DataFrames"
   ]
  },
  {
   "cell_type": "code",
   "execution_count": 23,
   "metadata": {},
   "outputs": [
    {
     "data": {
      "text/plain": [
       "StatsModels.TableRegressionModel{GeneralizedLinearModel{GLM.GlmResp{Vector{Float64}, Normal{Float64}, IdentityLink}, GLM.DensePredChol{Float64, LinearAlgebra.Cholesky{Float64, Matrix{Float64}}}}, Matrix{Float64}}\n",
       "\n",
       "y₁ ~ 1 + x₁\n",
       "\n",
       "Coefficients:\n",
       "───────────────────────────────────────────────────────────────────────\n",
       "                Coef.  Std. Error     z  Pr(>|z|)  Lower 95%  Upper 95%\n",
       "───────────────────────────────────────────────────────────────────────\n",
       "(Intercept)  11.1429     18.1085   0.62    0.5383  -24.3492     46.6349\n",
       "x₁            6.85714     5.79937  1.18    0.2370   -4.50941    18.2237\n",
       "───────────────────────────────────────────────────────────────────────"
      ]
     },
     "execution_count": 23,
     "metadata": {},
     "output_type": "execute_result"
    }
   ],
   "source": [
    "model₁ = glm(@formula(y₁ ~ x₁), DataFrame(y₁ = y₁, x₁ = x₁), Normal(), IdentityLink())"
   ]
  },
  {
   "cell_type": "code",
   "execution_count": 24,
   "metadata": {},
   "outputs": [
    {
     "data": {
      "text/plain": [
       "2-element Vector{Float64}:\n",
       " 11.142857142857142\n",
       "  6.857142857142857"
      ]
     },
     "execution_count": 24,
     "metadata": {},
     "output_type": "execute_result"
    }
   ],
   "source": [
    "coef(model₁)"
   ]
  },
  {
   "cell_type": "code",
   "execution_count": 25,
   "metadata": {},
   "outputs": [
    {
     "data": {
      "text/plain": [
       "10.909090909090908"
      ]
     },
     "execution_count": 25,
     "metadata": {},
     "output_type": "execute_result"
    }
   ],
   "source": [
    "# 比推定量\n",
    "b₁b = ybar / xbar"
   ]
  },
  {
   "cell_type": "markdown",
   "metadata": {},
   "source": [
    "## 条件付き期待値としての回帰モデル"
   ]
  },
  {
   "cell_type": "code",
   "execution_count": 26,
   "metadata": {},
   "outputs": [
    {
     "name": "stderr",
     "output_type": "stream",
     "text": [
      "\u001b[32m\u001b[1m   Resolving\u001b[22m\u001b[39m package versions...\n",
      "\u001b[32m\u001b[1m  No Changes\u001b[22m\u001b[39m to `~/local_Documents/TheoryAndPracticeOfCausalInference/Project.toml`\n",
      "\u001b[32m\u001b[1m  No Changes\u001b[22m\u001b[39m to `~/local_Documents/TheoryAndPracticeOfCausalInference/Manifest.toml`\n"
     ]
    }
   ],
   "source": [
    "Pkg.add(\"StatsPlots\")\n",
    "using StatsPlots"
   ]
  },
  {
   "cell_type": "code",
   "execution_count": 27,
   "metadata": {},
   "outputs": [
    {
     "data": {
      "text/plain": [
       "9-element Vector{Int64}:\n",
       " 1\n",
       " 1\n",
       " 1\n",
       " 2\n",
       " 2\n",
       " 2\n",
       " 3\n",
       " 3\n",
       " 3"
      ]
     },
     "execution_count": 27,
     "metadata": {},
     "output_type": "execute_result"
    }
   ],
   "source": [
    "y₁ = collect(1:9)\n",
    "x₁ = reshape([j for i in 1:3, j in 1:3], (9,))"
   ]
  },
  {
   "cell_type": "code",
   "execution_count": 28,
   "metadata": {},
   "outputs": [
    {
     "data": {
      "text/plain": [
       "StatsModels.TableRegressionModel{GeneralizedLinearModel{GLM.GlmResp{Vector{Float64}, Normal{Float64}, IdentityLink}, GLM.DensePredChol{Float64, LinearAlgebra.Cholesky{Float64, Matrix{Float64}}}}, Matrix{Float64}}\n",
       "\n",
       "y₁ ~ 1 + x₁\n",
       "\n",
       "Coefficients:\n",
       "─────────────────────────────────────────────────────────────────────\n",
       "             Coef.  Std. Error      z  Pr(>|z|)  Lower 95%  Upper 95%\n",
       "─────────────────────────────────────────────────────────────────────\n",
       "(Intercept)   -1.0    0.816497  -1.22    0.2207    -2.6003   0.600304\n",
       "x₁             3.0    0.377964   7.94    <1e-14     2.2592   3.7408\n",
       "─────────────────────────────────────────────────────────────────────"
      ]
     },
     "execution_count": 28,
     "metadata": {},
     "output_type": "execute_result"
    }
   ],
   "source": [
    "model₂ = glm(@formula(y₁ ~ x₁), DataFrame(y₁ = y₁, x₁ = x₁), Normal(), IdentityLink())"
   ]
  },
  {
   "cell_type": "code",
   "execution_count": 29,
   "metadata": {},
   "outputs": [
    {
     "name": "stderr",
     "output_type": "stream",
     "text": [
      "\u001b[32m\u001b[1m   Resolving\u001b[22m\u001b[39m package versions...\n",
      "\u001b[32m\u001b[1m  No Changes\u001b[22m\u001b[39m to `~/local_Documents/TheoryAndPracticeOfCausalInference/Project.toml`\n",
      "\u001b[32m\u001b[1m  No Changes\u001b[22m\u001b[39m to `~/local_Documents/TheoryAndPracticeOfCausalInference/Manifest.toml`\n"
     ]
    }
   ],
   "source": [
    "Pkg.add(\"StatsPlots\")\n",
    "using StatsPlots"
   ]
  },
  {
   "cell_type": "code",
   "execution_count": 30,
   "metadata": {},
   "outputs": [
    {
     "data": {
      "image/svg+xml": [
       "<?xml version=\"1.0\" encoding=\"utf-8\"?>\n",
       "<svg xmlns=\"http://www.w3.org/2000/svg\" xmlns:xlink=\"http://www.w3.org/1999/xlink\" width=\"600\" height=\"400\" viewBox=\"0 0 2400 1600\">\n",
       "<defs>\n",
       "  <clipPath id=\"clip320\">\n",
       "    <rect x=\"0\" y=\"0\" width=\"2400\" height=\"1600\"/>\n",
       "  </clipPath>\n",
       "</defs>\n",
       "<path clip-path=\"url(#clip320)\" d=\"\n",
       "M0 1600 L2400 1600 L2400 0 L0 0  Z\n",
       "  \" fill=\"#ffffff\" fill-rule=\"evenodd\" fill-opacity=\"1\"/>\n",
       "<defs>\n",
       "  <clipPath id=\"clip321\">\n",
       "    <rect x=\"480\" y=\"0\" width=\"1681\" height=\"1600\"/>\n",
       "  </clipPath>\n",
       "</defs>\n",
       "<path clip-path=\"url(#clip320)\" d=\"\n",
       "M112.177 1486.45 L2352.76 1486.45 L2352.76 47.2441 L112.177 47.2441  Z\n",
       "  \" fill=\"#ffffff\" fill-rule=\"evenodd\" fill-opacity=\"1\"/>\n",
       "<defs>\n",
       "  <clipPath id=\"clip322\">\n",
       "    <rect x=\"112\" y=\"47\" width=\"2242\" height=\"1440\"/>\n",
       "  </clipPath>\n",
       "</defs>\n",
       "<polyline clip-path=\"url(#clip322)\" style=\"stroke:#000000; stroke-linecap:butt; stroke-linejoin:round; stroke-width:2; stroke-opacity:0.1; fill:none\" points=\"\n",
       "  175.59,1486.45 175.59,47.2441 \n",
       "  \"/>\n",
       "<polyline clip-path=\"url(#clip322)\" style=\"stroke:#000000; stroke-linecap:butt; stroke-linejoin:round; stroke-width:2; stroke-opacity:0.1; fill:none\" points=\"\n",
       "  704.028,1486.45 704.028,47.2441 \n",
       "  \"/>\n",
       "<polyline clip-path=\"url(#clip322)\" style=\"stroke:#000000; stroke-linecap:butt; stroke-linejoin:round; stroke-width:2; stroke-opacity:0.1; fill:none\" points=\"\n",
       "  1232.47,1486.45 1232.47,47.2441 \n",
       "  \"/>\n",
       "<polyline clip-path=\"url(#clip322)\" style=\"stroke:#000000; stroke-linecap:butt; stroke-linejoin:round; stroke-width:2; stroke-opacity:0.1; fill:none\" points=\"\n",
       "  1760.9,1486.45 1760.9,47.2441 \n",
       "  \"/>\n",
       "<polyline clip-path=\"url(#clip322)\" style=\"stroke:#000000; stroke-linecap:butt; stroke-linejoin:round; stroke-width:2; stroke-opacity:0.1; fill:none\" points=\"\n",
       "  2289.34,1486.45 2289.34,47.2441 \n",
       "  \"/>\n",
       "<polyline clip-path=\"url(#clip320)\" style=\"stroke:#000000; stroke-linecap:butt; stroke-linejoin:round; stroke-width:4; stroke-opacity:1; fill:none\" points=\"\n",
       "  112.177,1486.45 2352.76,1486.45 \n",
       "  \"/>\n",
       "<polyline clip-path=\"url(#clip320)\" style=\"stroke:#000000; stroke-linecap:butt; stroke-linejoin:round; stroke-width:4; stroke-opacity:1; fill:none\" points=\"\n",
       "  175.59,1486.45 175.59,1467.55 \n",
       "  \"/>\n",
       "<polyline clip-path=\"url(#clip320)\" style=\"stroke:#000000; stroke-linecap:butt; stroke-linejoin:round; stroke-width:4; stroke-opacity:1; fill:none\" points=\"\n",
       "  704.028,1486.45 704.028,1467.55 \n",
       "  \"/>\n",
       "<polyline clip-path=\"url(#clip320)\" style=\"stroke:#000000; stroke-linecap:butt; stroke-linejoin:round; stroke-width:4; stroke-opacity:1; fill:none\" points=\"\n",
       "  1232.47,1486.45 1232.47,1467.55 \n",
       "  \"/>\n",
       "<polyline clip-path=\"url(#clip320)\" style=\"stroke:#000000; stroke-linecap:butt; stroke-linejoin:round; stroke-width:4; stroke-opacity:1; fill:none\" points=\"\n",
       "  1760.9,1486.45 1760.9,1467.55 \n",
       "  \"/>\n",
       "<polyline clip-path=\"url(#clip320)\" style=\"stroke:#000000; stroke-linecap:butt; stroke-linejoin:round; stroke-width:4; stroke-opacity:1; fill:none\" points=\"\n",
       "  2289.34,1486.45 2289.34,1467.55 \n",
       "  \"/>\n",
       "<path clip-path=\"url(#clip320)\" d=\"M142.743 1544.91 L150.382 1544.91 L150.382 1518.55 L142.071 1520.21 L142.071 1515.95 L150.335 1514.29 L155.011 1514.29 L155.011 1544.91 L162.65 1544.91 L162.65 1548.85 L142.743 1548.85 L142.743 1544.91 Z\" fill=\"#000000\" fill-rule=\"evenodd\" fill-opacity=\"1\" /><path clip-path=\"url(#clip320)\" d=\"M172.094 1542.97 L176.979 1542.97 L176.979 1548.85 L172.094 1548.85 L172.094 1542.97 Z\" fill=\"#000000\" fill-rule=\"evenodd\" fill-opacity=\"1\" /><path clip-path=\"url(#clip320)\" d=\"M197.164 1517.37 Q193.553 1517.37 191.724 1520.93 Q189.918 1524.47 189.918 1531.6 Q189.918 1538.71 191.724 1542.27 Q193.553 1545.82 197.164 1545.82 Q200.798 1545.82 202.604 1542.27 Q204.432 1538.71 204.432 1531.6 Q204.432 1524.47 202.604 1520.93 Q200.798 1517.37 197.164 1517.37 M197.164 1513.66 Q202.974 1513.66 206.029 1518.27 Q209.108 1522.85 209.108 1531.6 Q209.108 1540.33 206.029 1544.94 Q202.974 1549.52 197.164 1549.52 Q191.354 1549.52 188.275 1544.94 Q185.219 1540.33 185.219 1531.6 Q185.219 1522.85 188.275 1518.27 Q191.354 1513.66 197.164 1513.66 Z\" fill=\"#000000\" fill-rule=\"evenodd\" fill-opacity=\"1\" /><path clip-path=\"url(#clip320)\" d=\"M671.679 1544.91 L679.318 1544.91 L679.318 1518.55 L671.008 1520.21 L671.008 1515.95 L679.271 1514.29 L683.947 1514.29 L683.947 1544.91 L691.586 1544.91 L691.586 1548.85 L671.679 1548.85 L671.679 1544.91 Z\" fill=\"#000000\" fill-rule=\"evenodd\" fill-opacity=\"1\" /><path clip-path=\"url(#clip320)\" d=\"M701.03 1542.97 L705.915 1542.97 L705.915 1548.85 L701.03 1548.85 L701.03 1542.97 Z\" fill=\"#000000\" fill-rule=\"evenodd\" fill-opacity=\"1\" /><path clip-path=\"url(#clip320)\" d=\"M716.146 1514.29 L734.503 1514.29 L734.503 1518.22 L720.429 1518.22 L720.429 1526.7 Q721.447 1526.35 722.466 1526.19 Q723.484 1526 724.503 1526 Q730.29 1526 733.669 1529.17 Q737.049 1532.34 737.049 1537.76 Q737.049 1543.34 733.577 1546.44 Q730.104 1549.52 723.785 1549.52 Q721.609 1549.52 719.341 1549.15 Q717.095 1548.78 714.688 1548.04 L714.688 1543.34 Q716.771 1544.47 718.993 1545.03 Q721.216 1545.58 723.692 1545.58 Q727.697 1545.58 730.035 1543.48 Q732.373 1541.37 732.373 1537.76 Q732.373 1534.15 730.035 1532.04 Q727.697 1529.94 723.692 1529.94 Q721.817 1529.94 719.942 1530.35 Q718.091 1530.77 716.146 1531.65 L716.146 1514.29 Z\" fill=\"#000000\" fill-rule=\"evenodd\" fill-opacity=\"1\" /><path clip-path=\"url(#clip320)\" d=\"M1203.71 1544.91 L1220.02 1544.91 L1220.02 1548.85 L1198.08 1548.85 L1198.08 1544.91 Q1200.74 1542.16 1205.33 1537.53 Q1209.93 1532.88 1211.11 1531.53 Q1213.36 1529.01 1214.24 1527.27 Q1215.14 1525.51 1215.14 1523.82 Q1215.14 1521.07 1213.2 1519.33 Q1211.27 1517.6 1208.17 1517.6 Q1205.97 1517.6 1203.52 1518.36 Q1201.09 1519.13 1198.31 1520.68 L1198.31 1515.95 Q1201.14 1514.82 1203.59 1514.24 Q1206.04 1513.66 1208.08 1513.66 Q1213.45 1513.66 1216.64 1516.35 Q1219.84 1519.03 1219.84 1523.52 Q1219.84 1525.65 1219.03 1527.57 Q1218.24 1529.47 1216.14 1532.07 Q1215.56 1532.74 1212.46 1535.95 Q1209.35 1539.15 1203.71 1544.91 Z\" fill=\"#000000\" fill-rule=\"evenodd\" fill-opacity=\"1\" /><path clip-path=\"url(#clip320)\" d=\"M1229.84 1542.97 L1234.72 1542.97 L1234.72 1548.85 L1229.84 1548.85 L1229.84 1542.97 Z\" fill=\"#000000\" fill-rule=\"evenodd\" fill-opacity=\"1\" /><path clip-path=\"url(#clip320)\" d=\"M1254.91 1517.37 Q1251.3 1517.37 1249.47 1520.93 Q1247.66 1524.47 1247.66 1531.6 Q1247.66 1538.71 1249.47 1542.27 Q1251.3 1545.82 1254.91 1545.82 Q1258.54 1545.82 1260.35 1542.27 Q1262.18 1538.71 1262.18 1531.6 Q1262.18 1524.47 1260.35 1520.93 Q1258.54 1517.37 1254.91 1517.37 M1254.91 1513.66 Q1260.72 1513.66 1263.77 1518.27 Q1266.85 1522.85 1266.85 1531.6 Q1266.85 1540.33 1263.77 1544.94 Q1260.72 1549.52 1254.91 1549.52 Q1249.1 1549.52 1246.02 1544.94 Q1242.96 1540.33 1242.96 1531.6 Q1242.96 1522.85 1246.02 1518.27 Q1249.1 1513.66 1254.91 1513.66 Z\" fill=\"#000000\" fill-rule=\"evenodd\" fill-opacity=\"1\" /><path clip-path=\"url(#clip320)\" d=\"M1732.64 1544.91 L1748.96 1544.91 L1748.96 1548.85 L1727.02 1548.85 L1727.02 1544.91 Q1729.68 1542.16 1734.26 1537.53 Q1738.87 1532.88 1740.05 1531.53 Q1742.29 1529.01 1743.17 1527.27 Q1744.08 1525.51 1744.08 1523.82 Q1744.08 1521.07 1742.13 1519.33 Q1740.21 1517.6 1737.11 1517.6 Q1734.91 1517.6 1732.46 1518.36 Q1730.03 1519.13 1727.25 1520.68 L1727.25 1515.95 Q1730.07 1514.82 1732.53 1514.24 Q1734.98 1513.66 1737.02 1513.66 Q1742.39 1513.66 1745.58 1516.35 Q1748.78 1519.03 1748.78 1523.52 Q1748.78 1525.65 1747.97 1527.57 Q1747.18 1529.47 1745.07 1532.07 Q1744.49 1532.74 1741.39 1535.95 Q1738.29 1539.15 1732.64 1544.91 Z\" fill=\"#000000\" fill-rule=\"evenodd\" fill-opacity=\"1\" /><path clip-path=\"url(#clip320)\" d=\"M1758.78 1542.97 L1763.66 1542.97 L1763.66 1548.85 L1758.78 1548.85 L1758.78 1542.97 Z\" fill=\"#000000\" fill-rule=\"evenodd\" fill-opacity=\"1\" /><path clip-path=\"url(#clip320)\" d=\"M1773.89 1514.29 L1792.25 1514.29 L1792.25 1518.22 L1778.17 1518.22 L1778.17 1526.7 Q1779.19 1526.35 1780.21 1526.19 Q1781.23 1526 1782.25 1526 Q1788.03 1526 1791.41 1529.17 Q1794.79 1532.34 1794.79 1537.76 Q1794.79 1543.34 1791.32 1546.44 Q1787.85 1549.52 1781.53 1549.52 Q1779.35 1549.52 1777.09 1549.15 Q1774.84 1548.78 1772.43 1548.04 L1772.43 1543.34 Q1774.52 1544.47 1776.74 1545.03 Q1778.96 1545.58 1781.44 1545.58 Q1785.44 1545.58 1787.78 1543.48 Q1790.12 1541.37 1790.12 1537.76 Q1790.12 1534.15 1787.78 1532.04 Q1785.44 1529.94 1781.44 1529.94 Q1779.56 1529.94 1777.69 1530.35 Q1775.84 1530.77 1773.89 1531.65 L1773.89 1514.29 Z\" fill=\"#000000\" fill-rule=\"evenodd\" fill-opacity=\"1\" /><path clip-path=\"url(#clip320)\" d=\"M2270.65 1530.21 Q2274.01 1530.93 2275.88 1533.2 Q2277.78 1535.47 2277.78 1538.8 Q2277.78 1543.92 2274.26 1546.72 Q2270.74 1549.52 2264.26 1549.52 Q2262.09 1549.52 2259.77 1549.08 Q2257.48 1548.66 2255.03 1547.81 L2255.03 1543.29 Q2256.97 1544.43 2259.29 1545.01 Q2261.6 1545.58 2264.12 1545.58 Q2268.52 1545.58 2270.81 1543.85 Q2273.13 1542.11 2273.13 1538.8 Q2273.13 1535.75 2270.98 1534.03 Q2268.85 1532.3 2265.03 1532.3 L2261 1532.3 L2261 1528.45 L2265.21 1528.45 Q2268.66 1528.45 2270.49 1527.09 Q2272.32 1525.7 2272.32 1523.11 Q2272.32 1520.45 2270.42 1519.03 Q2268.54 1517.6 2265.03 1517.6 Q2263.11 1517.6 2260.91 1518.01 Q2258.71 1518.43 2256.07 1519.31 L2256.07 1515.14 Q2258.73 1514.4 2261.04 1514.03 Q2263.38 1513.66 2265.44 1513.66 Q2270.77 1513.66 2273.87 1516.09 Q2276.97 1518.5 2276.97 1522.62 Q2276.97 1525.49 2275.33 1527.48 Q2273.68 1529.45 2270.65 1530.21 Z\" fill=\"#000000\" fill-rule=\"evenodd\" fill-opacity=\"1\" /><path clip-path=\"url(#clip320)\" d=\"M2286.65 1542.97 L2291.53 1542.97 L2291.53 1548.85 L2286.65 1548.85 L2286.65 1542.97 Z\" fill=\"#000000\" fill-rule=\"evenodd\" fill-opacity=\"1\" /><path clip-path=\"url(#clip320)\" d=\"M2311.72 1517.37 Q2308.1 1517.37 2306.28 1520.93 Q2304.47 1524.47 2304.47 1531.6 Q2304.47 1538.71 2306.28 1542.27 Q2308.1 1545.82 2311.72 1545.82 Q2315.35 1545.82 2317.16 1542.27 Q2318.98 1538.71 2318.98 1531.6 Q2318.98 1524.47 2317.16 1520.93 Q2315.35 1517.37 2311.72 1517.37 M2311.72 1513.66 Q2317.53 1513.66 2320.58 1518.27 Q2323.66 1522.85 2323.66 1531.6 Q2323.66 1540.33 2320.58 1544.94 Q2317.53 1549.52 2311.72 1549.52 Q2305.91 1549.52 2302.83 1544.94 Q2299.77 1540.33 2299.77 1531.6 Q2299.77 1522.85 2302.83 1518.27 Q2305.91 1513.66 2311.72 1513.66 Z\" fill=\"#000000\" fill-rule=\"evenodd\" fill-opacity=\"1\" /><polyline clip-path=\"url(#clip322)\" style=\"stroke:#000000; stroke-linecap:butt; stroke-linejoin:round; stroke-width:2; stroke-opacity:0.1; fill:none\" points=\"\n",
       "  112.177,1276 2352.76,1276 \n",
       "  \"/>\n",
       "<polyline clip-path=\"url(#clip322)\" style=\"stroke:#000000; stroke-linecap:butt; stroke-linejoin:round; stroke-width:2; stroke-opacity:0.1; fill:none\" points=\"\n",
       "  112.177,936.563 2352.76,936.563 \n",
       "  \"/>\n",
       "<polyline clip-path=\"url(#clip322)\" style=\"stroke:#000000; stroke-linecap:butt; stroke-linejoin:round; stroke-width:2; stroke-opacity:0.1; fill:none\" points=\"\n",
       "  112.177,597.129 2352.76,597.129 \n",
       "  \"/>\n",
       "<polyline clip-path=\"url(#clip322)\" style=\"stroke:#000000; stroke-linecap:butt; stroke-linejoin:round; stroke-width:2; stroke-opacity:0.1; fill:none\" points=\"\n",
       "  112.177,257.694 2352.76,257.694 \n",
       "  \"/>\n",
       "<polyline clip-path=\"url(#clip320)\" style=\"stroke:#000000; stroke-linecap:butt; stroke-linejoin:round; stroke-width:4; stroke-opacity:1; fill:none\" points=\"\n",
       "  112.177,1486.45 112.177,47.2441 \n",
       "  \"/>\n",
       "<polyline clip-path=\"url(#clip320)\" style=\"stroke:#000000; stroke-linecap:butt; stroke-linejoin:round; stroke-width:4; stroke-opacity:1; fill:none\" points=\"\n",
       "  112.177,1276 131.075,1276 \n",
       "  \"/>\n",
       "<polyline clip-path=\"url(#clip320)\" style=\"stroke:#000000; stroke-linecap:butt; stroke-linejoin:round; stroke-width:4; stroke-opacity:1; fill:none\" points=\"\n",
       "  112.177,936.563 131.075,936.563 \n",
       "  \"/>\n",
       "<polyline clip-path=\"url(#clip320)\" style=\"stroke:#000000; stroke-linecap:butt; stroke-linejoin:round; stroke-width:4; stroke-opacity:1; fill:none\" points=\"\n",
       "  112.177,597.129 131.075,597.129 \n",
       "  \"/>\n",
       "<polyline clip-path=\"url(#clip320)\" style=\"stroke:#000000; stroke-linecap:butt; stroke-linejoin:round; stroke-width:4; stroke-opacity:1; fill:none\" points=\"\n",
       "  112.177,257.694 131.075,257.694 \n",
       "  \"/>\n",
       "<path clip-path=\"url(#clip320)\" d=\"M59.8578 1289.34 L76.1772 1289.34 L76.1772 1293.28 L54.2328 1293.28 L54.2328 1289.34 Q56.8949 1286.59 61.4782 1281.96 Q66.0846 1277.31 67.2652 1275.96 Q69.5105 1273.44 70.3902 1271.7 Q71.2929 1269.95 71.2929 1268.26 Q71.2929 1265.5 69.3485 1263.76 Q67.4272 1262.03 64.3254 1262.03 Q62.1263 1262.03 59.6726 1262.79 Q57.2421 1263.56 54.4643 1265.11 L54.4643 1260.38 Q57.2884 1259.25 59.7421 1258.67 Q62.1958 1258.09 64.2328 1258.09 Q69.6031 1258.09 72.7976 1260.78 Q75.992 1263.46 75.992 1267.95 Q75.992 1270.08 75.1818 1272.01 Q74.3948 1273.9 72.2883 1276.5 Q71.7096 1277.17 68.6078 1280.38 Q65.5059 1283.58 59.8578 1289.34 Z\" fill=\"#000000\" fill-rule=\"evenodd\" fill-opacity=\"1\" /><path clip-path=\"url(#clip320)\" d=\"M66.5939 923.357 L54.7884 941.806 L66.5939 941.806 L66.5939 923.357 M65.367 919.283 L71.2466 919.283 L71.2466 941.806 L76.1772 941.806 L76.1772 945.695 L71.2466 945.695 L71.2466 953.843 L66.5939 953.843 L66.5939 945.695 L50.9921 945.695 L50.9921 941.181 L65.367 919.283 Z\" fill=\"#000000\" fill-rule=\"evenodd\" fill-opacity=\"1\" /><path clip-path=\"url(#clip320)\" d=\"M64.6495 595.265 Q61.5013 595.265 59.6495 597.418 Q57.8208 599.571 57.8208 603.321 Q57.8208 607.047 59.6495 609.223 Q61.5013 611.376 64.6495 611.376 Q67.7976 611.376 69.6263 609.223 Q71.4781 607.047 71.4781 603.321 Q71.4781 599.571 69.6263 597.418 Q67.7976 595.265 64.6495 595.265 M73.9318 580.612 L73.9318 584.872 Q72.1726 584.038 70.367 583.599 Q68.5846 583.159 66.8254 583.159 Q62.1958 583.159 59.7421 586.284 Q57.3115 589.409 56.9643 595.728 Q58.33 593.714 60.3902 592.649 Q62.4504 591.561 64.9272 591.561 Q70.1355 591.561 73.1448 594.733 Q76.1772 597.881 76.1772 603.321 Q76.1772 608.645 73.029 611.862 Q69.8809 615.08 64.6495 615.08 Q58.6541 615.08 55.4828 610.497 Q52.3116 605.89 52.3116 597.163 Q52.3116 588.969 56.2004 584.108 Q60.0893 579.224 66.6402 579.224 Q68.3994 579.224 70.1818 579.571 Q71.9874 579.918 73.9318 580.612 Z\" fill=\"#000000\" fill-rule=\"evenodd\" fill-opacity=\"1\" /><path clip-path=\"url(#clip320)\" d=\"M64.3254 258.562 Q60.9921 258.562 59.0708 260.344 Q57.1726 262.127 57.1726 265.252 Q57.1726 268.377 59.0708 270.159 Q60.9921 271.941 64.3254 271.941 Q67.6587 271.941 69.58 270.159 Q71.5013 268.353 71.5013 265.252 Q71.5013 262.127 69.58 260.344 Q67.6819 258.562 64.3254 258.562 M59.6495 256.571 Q56.6402 255.83 54.9504 253.77 Q53.2838 251.71 53.2838 248.747 Q53.2838 244.603 56.2236 242.196 Q59.1865 239.789 64.3254 239.789 Q69.4874 239.789 72.4272 242.196 Q75.367 244.603 75.367 248.747 Q75.367 251.71 73.6772 253.77 Q72.0105 255.83 69.0244 256.571 Q72.404 257.358 74.279 259.65 Q76.1772 261.941 76.1772 265.252 Q76.1772 270.275 73.0985 272.96 Q70.0429 275.645 64.3254 275.645 Q58.6078 275.645 55.5291 272.96 Q52.4736 270.275 52.4736 265.252 Q52.4736 261.941 54.3717 259.65 Q56.2699 257.358 59.6495 256.571 M57.9365 249.187 Q57.9365 251.872 59.6032 253.377 Q61.293 254.881 64.3254 254.881 Q67.3346 254.881 69.0244 253.377 Q70.7374 251.872 70.7374 249.187 Q70.7374 246.502 69.0244 244.997 Q67.3346 243.492 64.3254 243.492 Q61.293 243.492 59.6032 244.997 Q57.9365 246.502 57.9365 249.187 Z\" fill=\"#000000\" fill-rule=\"evenodd\" fill-opacity=\"1\" /><circle clip-path=\"url(#clip322)\" cx=\"175.59\" cy=\"1445.72\" r=\"14\" fill=\"#009af9\" fill-rule=\"evenodd\" fill-opacity=\"1\" stroke=\"#000000\" stroke-opacity=\"1\" stroke-width=\"3.2\"/>\n",
       "<circle clip-path=\"url(#clip322)\" cx=\"175.59\" cy=\"1276\" r=\"14\" fill=\"#009af9\" fill-rule=\"evenodd\" fill-opacity=\"1\" stroke=\"#000000\" stroke-opacity=\"1\" stroke-width=\"3.2\"/>\n",
       "<circle clip-path=\"url(#clip322)\" cx=\"175.59\" cy=\"1106.28\" r=\"14\" fill=\"#009af9\" fill-rule=\"evenodd\" fill-opacity=\"1\" stroke=\"#000000\" stroke-opacity=\"1\" stroke-width=\"3.2\"/>\n",
       "<circle clip-path=\"url(#clip322)\" cx=\"1232.47\" cy=\"936.563\" r=\"14\" fill=\"#009af9\" fill-rule=\"evenodd\" fill-opacity=\"1\" stroke=\"#000000\" stroke-opacity=\"1\" stroke-width=\"3.2\"/>\n",
       "<circle clip-path=\"url(#clip322)\" cx=\"1232.47\" cy=\"766.846\" r=\"14\" fill=\"#009af9\" fill-rule=\"evenodd\" fill-opacity=\"1\" stroke=\"#000000\" stroke-opacity=\"1\" stroke-width=\"3.2\"/>\n",
       "<circle clip-path=\"url(#clip322)\" cx=\"1232.47\" cy=\"597.129\" r=\"14\" fill=\"#009af9\" fill-rule=\"evenodd\" fill-opacity=\"1\" stroke=\"#000000\" stroke-opacity=\"1\" stroke-width=\"3.2\"/>\n",
       "<circle clip-path=\"url(#clip322)\" cx=\"2289.34\" cy=\"427.411\" r=\"14\" fill=\"#009af9\" fill-rule=\"evenodd\" fill-opacity=\"1\" stroke=\"#000000\" stroke-opacity=\"1\" stroke-width=\"3.2\"/>\n",
       "<circle clip-path=\"url(#clip322)\" cx=\"2289.34\" cy=\"257.694\" r=\"14\" fill=\"#009af9\" fill-rule=\"evenodd\" fill-opacity=\"1\" stroke=\"#000000\" stroke-opacity=\"1\" stroke-width=\"3.2\"/>\n",
       "<circle clip-path=\"url(#clip322)\" cx=\"2289.34\" cy=\"87.9763\" r=\"14\" fill=\"#009af9\" fill-rule=\"evenodd\" fill-opacity=\"1\" stroke=\"#000000\" stroke-opacity=\"1\" stroke-width=\"3.2\"/>\n",
       "<polyline clip-path=\"url(#clip322)\" style=\"stroke:#e26f46; stroke-linecap:butt; stroke-linejoin:round; stroke-width:4; stroke-opacity:1; fill:none\" points=\"\n",
       "  175.59,1276 175.59,1276 1232.47,766.846 2289.34,257.694 \n",
       "  \"/>\n",
       "</svg>\n"
      ]
     },
     "execution_count": 30,
     "metadata": {},
     "output_type": "execute_result"
    }
   ],
   "source": [
    "scatter(x₁, y₁, label = \"\")\n",
    "plot!(x₁, predict(model₂, DataFrame(x₁ = x₁)), label = \"\")"
   ]
  },
  {
   "cell_type": "code",
   "execution_count": 31,
   "metadata": {},
   "outputs": [
    {
     "data": {
      "text/plain": [
       "2.0"
      ]
     },
     "execution_count": 31,
     "metadata": {},
     "output_type": "execute_result"
    }
   ],
   "source": [
    "# 説明変数xの値ごとの条件付き期待値を計算\n",
    "mean(y₁[x₁ .== 1])"
   ]
  },
  {
   "cell_type": "code",
   "execution_count": 32,
   "metadata": {},
   "outputs": [
    {
     "data": {
      "text/plain": [
       "5.0"
      ]
     },
     "execution_count": 32,
     "metadata": {},
     "output_type": "execute_result"
    }
   ],
   "source": [
    "mean(y₁[x₁ .== 2])"
   ]
  },
  {
   "cell_type": "code",
   "execution_count": 33,
   "metadata": {},
   "outputs": [
    {
     "data": {
      "text/plain": [
       "8.0"
      ]
     },
     "execution_count": 33,
     "metadata": {},
     "output_type": "execute_result"
    }
   ],
   "source": [
    "mean(y₁[x₁ .== 3])"
   ]
  },
  {
   "cell_type": "markdown",
   "metadata": {},
   "source": [
    "### 最小二乗法による切片と傾きの公式\n",
    "\n",
    "モンテカルロシミュレーションの結果のみ再現しておく。"
   ]
  },
  {
   "cell_type": "code",
   "execution_count": 34,
   "metadata": {},
   "outputs": [
    {
     "data": {
      "text/plain": [
       "6.857142857142857"
      ]
     },
     "execution_count": 34,
     "metadata": {},
     "output_type": "execute_result"
    }
   ],
   "source": [
    "x₁ = [5, 1, 3, 2]\n",
    "y₁ = [40, 20, 50, 10]\n",
    "model₃ = glm(@formula(y₁ ~ x₁), DataFrame(x₁ = x₁, y₁ = y₁), Normal(), IdentityLink())\n",
    "bOLS = coef(model₃)[2]"
   ]
  },
  {
   "cell_type": "code",
   "execution_count": 35,
   "metadata": {},
   "outputs": [
    {
     "data": {
      "text/plain": [
       "588.5714285714286"
      ]
     },
     "execution_count": 35,
     "metadata": {},
     "output_type": "execute_result"
    }
   ],
   "source": [
    "ussOLS = sum((predict(model₃, DataFrame(x₁ = x₁, y₁ = y₁)) .- y₁) .^ 2) # 残差平方和"
   ]
  },
  {
   "cell_type": "code",
   "execution_count": 36,
   "metadata": {},
   "outputs": [
    {
     "name": "stderr",
     "output_type": "stream",
     "text": [
      "\u001b[32m\u001b[1m   Resolving\u001b[22m\u001b[39m package versions...\n",
      "\u001b[32m\u001b[1m  No Changes\u001b[22m\u001b[39m to `~/local_Documents/TheoryAndPracticeOfCausalInference/Project.toml`\n",
      "\u001b[32m\u001b[1m  No Changes\u001b[22m\u001b[39m to `~/local_Documents/TheoryAndPracticeOfCausalInference/Manifest.toml`\n"
     ]
    }
   ],
   "source": [
    "Pkg.add([\"Distributions\", \"Random\"])\n",
    "using Distributions, Random"
   ]
  },
  {
   "cell_type": "code",
   "execution_count": 37,
   "metadata": {},
   "outputs": [
    {
     "data": {
      "text/plain": [
       "MC1 (generic function with 1 method)"
      ]
     },
     "execution_count": 37,
     "metadata": {},
     "output_type": "execute_result"
    }
   ],
   "source": [
    "function MC1(T::Int64, y₁, x₁)\n",
    "    b₁ = Vector{Real}(undef, T)\n",
    "    uss = similar(b₁)\n",
    "    a₁ = 11.14286\n",
    "    for t in 1:1:T\n",
    "        b₁[t] = rand(Uniform(-10, 25), 1)[1]\n",
    "        ŷ = @. a₁ + b₁[t] * x₁\n",
    "        uss[t] = sum((y₁ - ŷ) .^ 2)\n",
    "    end\n",
    "    return b₁, uss\n",
    "end"
   ]
  },
  {
   "cell_type": "code",
   "execution_count": 38,
   "metadata": {},
   "outputs": [
    {
     "data": {
      "text/plain": [
       "(Real[4.747722124673359, 19.39605200228465, -6.908333711941383, 17.055606663384815, -6.293814042893098, 3.1479772007920257, 20.988328397874294, 3.0839397016873846, 11.6025557920063, -2.4602027215724735  …  -0.27533404824904295, -8.082590787781763, -2.9995148671670666, 9.017616724552653, -9.690941984487944, 20.106965778162134, -5.728479629028021, -4.784362088248165, 0.27545983641638117, 20.402581584439147], Real[762.107873215615, 6720.317676186165, 7978.616025099216, 4644.909965899618, 7333.529630017413, 1125.129680207753, 8376.498103493923, 1143.8166114399178, 1466.8105398269613, 3974.2750596047777  …  2572.5878256763453, 9293.200503372904, 4377.5651672838585, 770.6098103113407, 11268.29575351276, 7435.326751513818, 6766.088478687181, 5874.031555168703, 2277.9945188931197, 7744.249782281626])"
      ]
     },
     "execution_count": 38,
     "metadata": {},
     "output_type": "execute_result"
    }
   ],
   "source": [
    "b₁, uss = MC1(10_000, y₁, x₁)"
   ]
  },
  {
   "cell_type": "code",
   "execution_count": 39,
   "metadata": {},
   "outputs": [
    {
     "data": {
      "image/svg+xml": [
       "<?xml version=\"1.0\" encoding=\"utf-8\"?>\n",
       "<svg xmlns=\"http://www.w3.org/2000/svg\" xmlns:xlink=\"http://www.w3.org/1999/xlink\" width=\"600\" height=\"400\" viewBox=\"0 0 2400 1600\">\n",
       "<defs>\n",
       "  <clipPath id=\"clip360\">\n",
       "    <rect x=\"0\" y=\"0\" width=\"2400\" height=\"1600\"/>\n",
       "  </clipPath>\n",
       "</defs>\n",
       "<path clip-path=\"url(#clip360)\" d=\"\n",
       "M0 1600 L2400 1600 L2400 0 L0 0  Z\n",
       "  \" fill=\"#ffffff\" fill-rule=\"evenodd\" fill-opacity=\"1\"/>\n",
       "<defs>\n",
       "  <clipPath id=\"clip361\">\n",
       "    <rect x=\"480\" y=\"0\" width=\"1681\" height=\"1600\"/>\n",
       "  </clipPath>\n",
       "</defs>\n",
       "<path clip-path=\"url(#clip360)\" d=\"\n",
       "M229.445 1486.45 L2352.76 1486.45 L2352.76 47.2441 L229.445 47.2441  Z\n",
       "  \" fill=\"#ffffff\" fill-rule=\"evenodd\" fill-opacity=\"1\"/>\n",
       "<defs>\n",
       "  <clipPath id=\"clip362\">\n",
       "    <rect x=\"229\" y=\"47\" width=\"2124\" height=\"1440\"/>\n",
       "  </clipPath>\n",
       "</defs>\n",
       "<polyline clip-path=\"url(#clip362)\" style=\"stroke:#000000; stroke-linecap:butt; stroke-linejoin:round; stroke-width:2; stroke-opacity:0.1; fill:none\" points=\"\n",
       "  289.501,1486.45 289.501,47.2441 \n",
       "  \"/>\n",
       "<polyline clip-path=\"url(#clip362)\" style=\"stroke:#000000; stroke-linecap:butt; stroke-linejoin:round; stroke-width:2; stroke-opacity:0.1; fill:none\" points=\"\n",
       "  861.961,1486.45 861.961,47.2441 \n",
       "  \"/>\n",
       "<polyline clip-path=\"url(#clip362)\" style=\"stroke:#000000; stroke-linecap:butt; stroke-linejoin:round; stroke-width:2; stroke-opacity:0.1; fill:none\" points=\"\n",
       "  1434.42,1486.45 1434.42,47.2441 \n",
       "  \"/>\n",
       "<polyline clip-path=\"url(#clip362)\" style=\"stroke:#000000; stroke-linecap:butt; stroke-linejoin:round; stroke-width:2; stroke-opacity:0.1; fill:none\" points=\"\n",
       "  2006.88,1486.45 2006.88,47.2441 \n",
       "  \"/>\n",
       "<polyline clip-path=\"url(#clip360)\" style=\"stroke:#000000; stroke-linecap:butt; stroke-linejoin:round; stroke-width:4; stroke-opacity:1; fill:none\" points=\"\n",
       "  229.445,1486.45 2352.76,1486.45 \n",
       "  \"/>\n",
       "<polyline clip-path=\"url(#clip360)\" style=\"stroke:#000000; stroke-linecap:butt; stroke-linejoin:round; stroke-width:4; stroke-opacity:1; fill:none\" points=\"\n",
       "  289.501,1486.45 289.501,1467.55 \n",
       "  \"/>\n",
       "<polyline clip-path=\"url(#clip360)\" style=\"stroke:#000000; stroke-linecap:butt; stroke-linejoin:round; stroke-width:4; stroke-opacity:1; fill:none\" points=\"\n",
       "  861.961,1486.45 861.961,1467.55 \n",
       "  \"/>\n",
       "<polyline clip-path=\"url(#clip360)\" style=\"stroke:#000000; stroke-linecap:butt; stroke-linejoin:round; stroke-width:4; stroke-opacity:1; fill:none\" points=\"\n",
       "  1434.42,1486.45 1434.42,1467.55 \n",
       "  \"/>\n",
       "<polyline clip-path=\"url(#clip360)\" style=\"stroke:#000000; stroke-linecap:butt; stroke-linejoin:round; stroke-width:4; stroke-opacity:1; fill:none\" points=\"\n",
       "  2006.88,1486.45 2006.88,1467.55 \n",
       "  \"/>\n",
       "<path clip-path=\"url(#clip360)\" d=\"M243.564 1532.02 L273.24 1532.02 L273.24 1535.95 L243.564 1535.95 L243.564 1532.02 Z\" fill=\"#000000\" fill-rule=\"evenodd\" fill-opacity=\"1\" /><path clip-path=\"url(#clip360)\" d=\"M284.143 1544.91 L291.781 1544.91 L291.781 1518.55 L283.471 1520.21 L283.471 1515.95 L291.735 1514.29 L296.411 1514.29 L296.411 1544.91 L304.05 1544.91 L304.05 1548.85 L284.143 1548.85 L284.143 1544.91 Z\" fill=\"#000000\" fill-rule=\"evenodd\" fill-opacity=\"1\" /><path clip-path=\"url(#clip360)\" d=\"M323.494 1517.37 Q319.883 1517.37 318.054 1520.93 Q316.249 1524.47 316.249 1531.6 Q316.249 1538.71 318.054 1542.27 Q319.883 1545.82 323.494 1545.82 Q327.128 1545.82 328.934 1542.27 Q330.763 1538.71 330.763 1531.6 Q330.763 1524.47 328.934 1520.93 Q327.128 1517.37 323.494 1517.37 M323.494 1513.66 Q329.304 1513.66 332.36 1518.27 Q335.439 1522.85 335.439 1531.6 Q335.439 1540.33 332.36 1544.94 Q329.304 1549.52 323.494 1549.52 Q317.684 1549.52 314.605 1544.94 Q311.55 1540.33 311.55 1531.6 Q311.55 1522.85 314.605 1518.27 Q317.684 1513.66 323.494 1513.66 Z\" fill=\"#000000\" fill-rule=\"evenodd\" fill-opacity=\"1\" /><path clip-path=\"url(#clip360)\" d=\"M861.961 1517.37 Q858.35 1517.37 856.521 1520.93 Q854.716 1524.47 854.716 1531.6 Q854.716 1538.71 856.521 1542.27 Q858.35 1545.82 861.961 1545.82 Q865.595 1545.82 867.401 1542.27 Q869.229 1538.71 869.229 1531.6 Q869.229 1524.47 867.401 1520.93 Q865.595 1517.37 861.961 1517.37 M861.961 1513.66 Q867.771 1513.66 870.827 1518.27 Q873.905 1522.85 873.905 1531.6 Q873.905 1540.33 870.827 1544.94 Q867.771 1549.52 861.961 1549.52 Q856.151 1549.52 853.072 1544.94 Q850.017 1540.33 850.017 1531.6 Q850.017 1522.85 853.072 1518.27 Q856.151 1513.66 861.961 1513.66 Z\" fill=\"#000000\" fill-rule=\"evenodd\" fill-opacity=\"1\" /><path clip-path=\"url(#clip360)\" d=\"M1409.11 1544.91 L1416.75 1544.91 L1416.75 1518.55 L1408.44 1520.21 L1408.44 1515.95 L1416.7 1514.29 L1421.38 1514.29 L1421.38 1544.91 L1429.02 1544.91 L1429.02 1548.85 L1409.11 1548.85 L1409.11 1544.91 Z\" fill=\"#000000\" fill-rule=\"evenodd\" fill-opacity=\"1\" /><path clip-path=\"url(#clip360)\" d=\"M1448.46 1517.37 Q1444.85 1517.37 1443.02 1520.93 Q1441.21 1524.47 1441.21 1531.6 Q1441.21 1538.71 1443.02 1542.27 Q1444.85 1545.82 1448.46 1545.82 Q1452.09 1545.82 1453.9 1542.27 Q1455.73 1538.71 1455.73 1531.6 Q1455.73 1524.47 1453.9 1520.93 Q1452.09 1517.37 1448.46 1517.37 M1448.46 1513.66 Q1454.27 1513.66 1457.33 1518.27 Q1460.4 1522.85 1460.4 1531.6 Q1460.4 1540.33 1457.33 1544.94 Q1454.27 1549.52 1448.46 1549.52 Q1442.65 1549.52 1439.57 1544.94 Q1436.52 1540.33 1436.52 1531.6 Q1436.52 1522.85 1439.57 1518.27 Q1442.65 1513.66 1448.46 1513.66 Z\" fill=\"#000000\" fill-rule=\"evenodd\" fill-opacity=\"1\" /><path clip-path=\"url(#clip360)\" d=\"M1985.65 1544.91 L2001.97 1544.91 L2001.97 1548.85 L1980.03 1548.85 L1980.03 1544.91 Q1982.69 1542.16 1987.27 1537.53 Q1991.88 1532.88 1993.06 1531.53 Q1995.31 1529.01 1996.19 1527.27 Q1997.09 1525.51 1997.09 1523.82 Q1997.09 1521.07 1995.14 1519.33 Q1993.22 1517.6 1990.12 1517.6 Q1987.92 1517.6 1985.47 1518.36 Q1983.04 1519.13 1980.26 1520.68 L1980.26 1515.95 Q1983.08 1514.82 1985.54 1514.24 Q1987.99 1513.66 1990.03 1513.66 Q1995.4 1513.66 1998.59 1516.35 Q2001.79 1519.03 2001.79 1523.52 Q2001.79 1525.65 2000.98 1527.57 Q2000.19 1529.47 1998.08 1532.07 Q1997.51 1532.74 1994.4 1535.95 Q1991.3 1539.15 1985.65 1544.91 Z\" fill=\"#000000\" fill-rule=\"evenodd\" fill-opacity=\"1\" /><path clip-path=\"url(#clip360)\" d=\"M2021.79 1517.37 Q2018.18 1517.37 2016.35 1520.93 Q2014.54 1524.47 2014.54 1531.6 Q2014.54 1538.71 2016.35 1542.27 Q2018.18 1545.82 2021.79 1545.82 Q2025.42 1545.82 2027.23 1542.27 Q2029.06 1538.71 2029.06 1531.6 Q2029.06 1524.47 2027.23 1520.93 Q2025.42 1517.37 2021.79 1517.37 M2021.79 1513.66 Q2027.6 1513.66 2030.65 1518.27 Q2033.73 1522.85 2033.73 1531.6 Q2033.73 1540.33 2030.65 1544.94 Q2027.6 1549.52 2021.79 1549.52 Q2015.98 1549.52 2012.9 1544.94 Q2009.84 1540.33 2009.84 1531.6 Q2009.84 1522.85 2012.9 1518.27 Q2015.98 1513.66 2021.79 1513.66 Z\" fill=\"#000000\" fill-rule=\"evenodd\" fill-opacity=\"1\" /><polyline clip-path=\"url(#clip362)\" style=\"stroke:#000000; stroke-linecap:butt; stroke-linejoin:round; stroke-width:2; stroke-opacity:0.1; fill:none\" points=\"\n",
       "  229.445,1243.38 2352.76,1243.38 \n",
       "  \"/>\n",
       "<polyline clip-path=\"url(#clip362)\" style=\"stroke:#000000; stroke-linecap:butt; stroke-linejoin:round; stroke-width:2; stroke-opacity:0.1; fill:none\" points=\"\n",
       "  229.445,978.74 2352.76,978.74 \n",
       "  \"/>\n",
       "<polyline clip-path=\"url(#clip362)\" style=\"stroke:#000000; stroke-linecap:butt; stroke-linejoin:round; stroke-width:2; stroke-opacity:0.1; fill:none\" points=\"\n",
       "  229.445,714.101 2352.76,714.101 \n",
       "  \"/>\n",
       "<polyline clip-path=\"url(#clip362)\" style=\"stroke:#000000; stroke-linecap:butt; stroke-linejoin:round; stroke-width:2; stroke-opacity:0.1; fill:none\" points=\"\n",
       "  229.445,449.461 2352.76,449.461 \n",
       "  \"/>\n",
       "<polyline clip-path=\"url(#clip362)\" style=\"stroke:#000000; stroke-linecap:butt; stroke-linejoin:round; stroke-width:2; stroke-opacity:0.1; fill:none\" points=\"\n",
       "  229.445,184.821 2352.76,184.821 \n",
       "  \"/>\n",
       "<polyline clip-path=\"url(#clip360)\" style=\"stroke:#000000; stroke-linecap:butt; stroke-linejoin:round; stroke-width:4; stroke-opacity:1; fill:none\" points=\"\n",
       "  229.445,1486.45 229.445,47.2441 \n",
       "  \"/>\n",
       "<polyline clip-path=\"url(#clip360)\" style=\"stroke:#000000; stroke-linecap:butt; stroke-linejoin:round; stroke-width:4; stroke-opacity:1; fill:none\" points=\"\n",
       "  229.445,1243.38 248.343,1243.38 \n",
       "  \"/>\n",
       "<polyline clip-path=\"url(#clip360)\" style=\"stroke:#000000; stroke-linecap:butt; stroke-linejoin:round; stroke-width:4; stroke-opacity:1; fill:none\" points=\"\n",
       "  229.445,978.74 248.343,978.74 \n",
       "  \"/>\n",
       "<polyline clip-path=\"url(#clip360)\" style=\"stroke:#000000; stroke-linecap:butt; stroke-linejoin:round; stroke-width:4; stroke-opacity:1; fill:none\" points=\"\n",
       "  229.445,714.101 248.343,714.101 \n",
       "  \"/>\n",
       "<polyline clip-path=\"url(#clip360)\" style=\"stroke:#000000; stroke-linecap:butt; stroke-linejoin:round; stroke-width:4; stroke-opacity:1; fill:none\" points=\"\n",
       "  229.445,449.461 248.343,449.461 \n",
       "  \"/>\n",
       "<polyline clip-path=\"url(#clip360)\" style=\"stroke:#000000; stroke-linecap:butt; stroke-linejoin:round; stroke-width:4; stroke-opacity:1; fill:none\" points=\"\n",
       "  229.445,184.821 248.343,184.821 \n",
       "  \"/>\n",
       "<path clip-path=\"url(#clip360)\" d=\"M85.0429 1256.72 L101.362 1256.72 L101.362 1260.66 L79.4179 1260.66 L79.4179 1256.72 Q82.0799 1253.97 86.6632 1249.34 Q91.2697 1244.69 92.4502 1243.35 Q94.6956 1240.82 95.5752 1239.09 Q96.478 1237.33 96.478 1235.64 Q96.478 1232.88 94.5336 1231.15 Q92.6123 1229.41 89.5104 1229.41 Q87.3114 1229.41 84.8577 1230.17 Q82.4271 1230.94 79.6494 1232.49 L79.6494 1227.77 Q82.4734 1226.63 84.9271 1226.05 Q87.3808 1225.47 89.4178 1225.47 Q94.7882 1225.47 97.9826 1228.16 Q101.177 1230.85 101.177 1235.34 Q101.177 1237.47 100.367 1239.39 Q99.5798 1241.28 97.4734 1243.88 Q96.8947 1244.55 93.7928 1247.77 Q90.691 1250.96 85.0429 1256.72 Z\" fill=\"#000000\" fill-rule=\"evenodd\" fill-opacity=\"1\" /><path clip-path=\"url(#clip360)\" d=\"M111.223 1226.1 L129.58 1226.1 L129.58 1230.03 L115.506 1230.03 L115.506 1238.51 Q116.524 1238.16 117.543 1238 Q118.561 1237.81 119.58 1237.81 Q125.367 1237.81 128.746 1240.98 Q132.126 1244.16 132.126 1249.57 Q132.126 1255.15 128.654 1258.25 Q125.182 1261.33 118.862 1261.33 Q116.686 1261.33 114.418 1260.96 Q112.172 1260.59 109.765 1259.85 L109.765 1255.15 Q111.848 1256.28 114.07 1256.84 Q116.293 1257.4 118.77 1257.4 Q122.774 1257.4 125.112 1255.29 Q127.45 1253.18 127.45 1249.57 Q127.45 1245.96 125.112 1243.85 Q122.774 1241.75 118.77 1241.75 Q116.895 1241.75 115.02 1242.16 Q113.168 1242.58 111.223 1243.46 L111.223 1226.1 Z\" fill=\"#000000\" fill-rule=\"evenodd\" fill-opacity=\"1\" /><path clip-path=\"url(#clip360)\" d=\"M151.339 1229.18 Q147.728 1229.18 145.899 1232.74 Q144.093 1236.28 144.093 1243.41 Q144.093 1250.52 145.899 1254.09 Q147.728 1257.63 151.339 1257.63 Q154.973 1257.63 156.779 1254.09 Q158.607 1250.52 158.607 1243.41 Q158.607 1236.28 156.779 1232.74 Q154.973 1229.18 151.339 1229.18 M151.339 1225.47 Q157.149 1225.47 160.205 1230.08 Q163.283 1234.66 163.283 1243.41 Q163.283 1252.14 160.205 1256.75 Q157.149 1261.33 151.339 1261.33 Q145.529 1261.33 142.45 1256.75 Q139.394 1252.14 139.394 1243.41 Q139.394 1234.66 142.45 1230.08 Q145.529 1225.47 151.339 1225.47 Z\" fill=\"#000000\" fill-rule=\"evenodd\" fill-opacity=\"1\" /><path clip-path=\"url(#clip360)\" d=\"M181.501 1229.18 Q177.89 1229.18 176.061 1232.74 Q174.255 1236.28 174.255 1243.41 Q174.255 1250.52 176.061 1254.09 Q177.89 1257.63 181.501 1257.63 Q185.135 1257.63 186.94 1254.09 Q188.769 1250.52 188.769 1243.41 Q188.769 1236.28 186.94 1232.74 Q185.135 1229.18 181.501 1229.18 M181.501 1225.47 Q187.311 1225.47 190.366 1230.08 Q193.445 1234.66 193.445 1243.41 Q193.445 1252.14 190.366 1256.75 Q187.311 1261.33 181.501 1261.33 Q175.691 1261.33 172.612 1256.75 Q169.556 1252.14 169.556 1243.41 Q169.556 1234.66 172.612 1230.08 Q175.691 1225.47 181.501 1225.47 Z\" fill=\"#000000\" fill-rule=\"evenodd\" fill-opacity=\"1\" /><path clip-path=\"url(#clip360)\" d=\"M81.0614 961.46 L99.4178 961.46 L99.4178 965.395 L85.3438 965.395 L85.3438 973.868 Q86.3623 973.52 87.3808 973.358 Q88.3993 973.173 89.4178 973.173 Q95.2049 973.173 98.5845 976.344 Q101.964 979.516 101.964 984.932 Q101.964 990.511 98.4919 993.613 Q95.0197 996.691 88.7003 996.691 Q86.5243 996.691 84.2558 996.321 Q82.0105 995.951 79.6031 995.21 L79.6031 990.511 Q81.6864 991.645 83.9086 992.201 Q86.1308 992.756 88.6077 992.756 Q92.6123 992.756 94.9502 990.65 Q97.2882 988.543 97.2882 984.932 Q97.2882 981.321 94.9502 979.215 Q92.6123 977.108 88.6077 977.108 Q86.7327 977.108 84.8577 977.525 Q83.0058 977.942 81.0614 978.821 L81.0614 961.46 Z\" fill=\"#000000\" fill-rule=\"evenodd\" fill-opacity=\"1\" /><path clip-path=\"url(#clip360)\" d=\"M121.177 964.539 Q117.566 964.539 115.737 968.104 Q113.932 971.645 113.932 978.775 Q113.932 985.881 115.737 989.446 Q117.566 992.988 121.177 992.988 Q124.811 992.988 126.617 989.446 Q128.445 985.881 128.445 978.775 Q128.445 971.645 126.617 968.104 Q124.811 964.539 121.177 964.539 M121.177 960.835 Q126.987 960.835 130.043 965.442 Q133.121 970.025 133.121 978.775 Q133.121 987.502 130.043 992.108 Q126.987 996.691 121.177 996.691 Q115.367 996.691 112.288 992.108 Q109.233 987.502 109.233 978.775 Q109.233 970.025 112.288 965.442 Q115.367 960.835 121.177 960.835 Z\" fill=\"#000000\" fill-rule=\"evenodd\" fill-opacity=\"1\" /><path clip-path=\"url(#clip360)\" d=\"M151.339 964.539 Q147.728 964.539 145.899 968.104 Q144.093 971.645 144.093 978.775 Q144.093 985.881 145.899 989.446 Q147.728 992.988 151.339 992.988 Q154.973 992.988 156.779 989.446 Q158.607 985.881 158.607 978.775 Q158.607 971.645 156.779 968.104 Q154.973 964.539 151.339 964.539 M151.339 960.835 Q157.149 960.835 160.205 965.442 Q163.283 970.025 163.283 978.775 Q163.283 987.502 160.205 992.108 Q157.149 996.691 151.339 996.691 Q145.529 996.691 142.45 992.108 Q139.394 987.502 139.394 978.775 Q139.394 970.025 142.45 965.442 Q145.529 960.835 151.339 960.835 Z\" fill=\"#000000\" fill-rule=\"evenodd\" fill-opacity=\"1\" /><path clip-path=\"url(#clip360)\" d=\"M181.501 964.539 Q177.89 964.539 176.061 968.104 Q174.255 971.645 174.255 978.775 Q174.255 985.881 176.061 989.446 Q177.89 992.988 181.501 992.988 Q185.135 992.988 186.94 989.446 Q188.769 985.881 188.769 978.775 Q188.769 971.645 186.94 968.104 Q185.135 964.539 181.501 964.539 M181.501 960.835 Q187.311 960.835 190.366 965.442 Q193.445 970.025 193.445 978.775 Q193.445 987.502 190.366 992.108 Q187.311 996.691 181.501 996.691 Q175.691 996.691 172.612 992.108 Q169.556 987.502 169.556 978.775 Q169.556 970.025 172.612 965.442 Q175.691 960.835 181.501 960.835 Z\" fill=\"#000000\" fill-rule=\"evenodd\" fill-opacity=\"1\" /><path clip-path=\"url(#clip360)\" d=\"M79.8346 696.821 L102.057 696.821 L102.057 698.811 L89.5104 731.381 L84.6262 731.381 L96.4317 700.756 L79.8346 700.756 L79.8346 696.821 Z\" fill=\"#000000\" fill-rule=\"evenodd\" fill-opacity=\"1\" /><path clip-path=\"url(#clip360)\" d=\"M111.223 696.821 L129.58 696.821 L129.58 700.756 L115.506 700.756 L115.506 709.228 Q116.524 708.881 117.543 708.719 Q118.561 708.533 119.58 708.533 Q125.367 708.533 128.746 711.705 Q132.126 714.876 132.126 720.293 Q132.126 725.871 128.654 728.973 Q125.182 732.052 118.862 732.052 Q116.686 732.052 114.418 731.682 Q112.172 731.311 109.765 730.57 L109.765 725.871 Q111.848 727.006 114.07 727.561 Q116.293 728.117 118.77 728.117 Q122.774 728.117 125.112 726.01 Q127.45 723.904 127.45 720.293 Q127.45 716.682 125.112 714.575 Q122.774 712.469 118.77 712.469 Q116.895 712.469 115.02 712.885 Q113.168 713.302 111.223 714.182 L111.223 696.821 Z\" fill=\"#000000\" fill-rule=\"evenodd\" fill-opacity=\"1\" /><path clip-path=\"url(#clip360)\" d=\"M151.339 699.899 Q147.728 699.899 145.899 703.464 Q144.093 707.006 144.093 714.135 Q144.093 721.242 145.899 724.807 Q147.728 728.348 151.339 728.348 Q154.973 728.348 156.779 724.807 Q158.607 721.242 158.607 714.135 Q158.607 707.006 156.779 703.464 Q154.973 699.899 151.339 699.899 M151.339 696.196 Q157.149 696.196 160.205 700.802 Q163.283 705.385 163.283 714.135 Q163.283 722.862 160.205 727.469 Q157.149 732.052 151.339 732.052 Q145.529 732.052 142.45 727.469 Q139.394 722.862 139.394 714.135 Q139.394 705.385 142.45 700.802 Q145.529 696.196 151.339 696.196 Z\" fill=\"#000000\" fill-rule=\"evenodd\" fill-opacity=\"1\" /><path clip-path=\"url(#clip360)\" d=\"M181.501 699.899 Q177.89 699.899 176.061 703.464 Q174.255 707.006 174.255 714.135 Q174.255 721.242 176.061 724.807 Q177.89 728.348 181.501 728.348 Q185.135 728.348 186.94 724.807 Q188.769 721.242 188.769 714.135 Q188.769 707.006 186.94 703.464 Q185.135 699.899 181.501 699.899 M181.501 696.196 Q187.311 696.196 190.366 700.802 Q193.445 705.385 193.445 714.135 Q193.445 722.862 190.366 727.469 Q187.311 732.052 181.501 732.052 Q175.691 732.052 172.612 727.469 Q169.556 722.862 169.556 714.135 Q169.556 705.385 172.612 700.802 Q175.691 696.196 181.501 696.196 Z\" fill=\"#000000\" fill-rule=\"evenodd\" fill-opacity=\"1\" /><path clip-path=\"url(#clip360)\" d=\"M51.6634 462.806 L59.3023 462.806 L59.3023 436.44 L50.9921 438.107 L50.9921 433.848 L59.256 432.181 L63.9319 432.181 L63.9319 462.806 L71.5707 462.806 L71.5707 466.741 L51.6634 466.741 L51.6634 462.806 Z\" fill=\"#000000\" fill-rule=\"evenodd\" fill-opacity=\"1\" /><path clip-path=\"url(#clip360)\" d=\"M91.0151 435.26 Q87.404 435.26 85.5753 438.824 Q83.7697 442.366 83.7697 449.496 Q83.7697 456.602 85.5753 460.167 Q87.404 463.709 91.0151 463.709 Q94.6493 463.709 96.4548 460.167 Q98.2835 456.602 98.2835 449.496 Q98.2835 442.366 96.4548 438.824 Q94.6493 435.26 91.0151 435.26 M91.0151 431.556 Q96.8252 431.556 99.8808 436.162 Q102.959 440.746 102.959 449.496 Q102.959 458.223 99.8808 462.829 Q96.8252 467.412 91.0151 467.412 Q85.2049 467.412 82.1262 462.829 Q79.0707 458.223 79.0707 449.496 Q79.0707 440.746 82.1262 436.162 Q85.2049 431.556 91.0151 431.556 Z\" fill=\"#000000\" fill-rule=\"evenodd\" fill-opacity=\"1\" /><path clip-path=\"url(#clip360)\" d=\"M121.177 435.26 Q117.566 435.26 115.737 438.824 Q113.932 442.366 113.932 449.496 Q113.932 456.602 115.737 460.167 Q117.566 463.709 121.177 463.709 Q124.811 463.709 126.617 460.167 Q128.445 456.602 128.445 449.496 Q128.445 442.366 126.617 438.824 Q124.811 435.26 121.177 435.26 M121.177 431.556 Q126.987 431.556 130.043 436.162 Q133.121 440.746 133.121 449.496 Q133.121 458.223 130.043 462.829 Q126.987 467.412 121.177 467.412 Q115.367 467.412 112.288 462.829 Q109.233 458.223 109.233 449.496 Q109.233 440.746 112.288 436.162 Q115.367 431.556 121.177 431.556 Z\" fill=\"#000000\" fill-rule=\"evenodd\" fill-opacity=\"1\" /><path clip-path=\"url(#clip360)\" d=\"M151.339 435.26 Q147.728 435.26 145.899 438.824 Q144.093 442.366 144.093 449.496 Q144.093 456.602 145.899 460.167 Q147.728 463.709 151.339 463.709 Q154.973 463.709 156.779 460.167 Q158.607 456.602 158.607 449.496 Q158.607 442.366 156.779 438.824 Q154.973 435.26 151.339 435.26 M151.339 431.556 Q157.149 431.556 160.205 436.162 Q163.283 440.746 163.283 449.496 Q163.283 458.223 160.205 462.829 Q157.149 467.412 151.339 467.412 Q145.529 467.412 142.45 462.829 Q139.394 458.223 139.394 449.496 Q139.394 440.746 142.45 436.162 Q145.529 431.556 151.339 431.556 Z\" fill=\"#000000\" fill-rule=\"evenodd\" fill-opacity=\"1\" /><path clip-path=\"url(#clip360)\" d=\"M181.501 435.26 Q177.89 435.26 176.061 438.824 Q174.255 442.366 174.255 449.496 Q174.255 456.602 176.061 460.167 Q177.89 463.709 181.501 463.709 Q185.135 463.709 186.94 460.167 Q188.769 456.602 188.769 449.496 Q188.769 442.366 186.94 438.824 Q185.135 435.26 181.501 435.26 M181.501 431.556 Q187.311 431.556 190.366 436.162 Q193.445 440.746 193.445 449.496 Q193.445 458.223 190.366 462.829 Q187.311 467.412 181.501 467.412 Q175.691 467.412 172.612 462.829 Q169.556 458.223 169.556 449.496 Q169.556 440.746 172.612 436.162 Q175.691 431.556 181.501 431.556 Z\" fill=\"#000000\" fill-rule=\"evenodd\" fill-opacity=\"1\" /><path clip-path=\"url(#clip360)\" d=\"M51.6634 198.166 L59.3023 198.166 L59.3023 171.801 L50.9921 173.467 L50.9921 169.208 L59.256 167.541 L63.9319 167.541 L63.9319 198.166 L71.5707 198.166 L71.5707 202.101 L51.6634 202.101 L51.6634 198.166 Z\" fill=\"#000000\" fill-rule=\"evenodd\" fill-opacity=\"1\" /><path clip-path=\"url(#clip360)\" d=\"M85.0429 198.166 L101.362 198.166 L101.362 202.101 L79.4179 202.101 L79.4179 198.166 Q82.0799 195.412 86.6632 190.782 Q91.2697 186.129 92.4502 184.787 Q94.6956 182.264 95.5752 180.527 Q96.478 178.768 96.478 177.078 Q96.478 174.324 94.5336 172.588 Q92.6123 170.852 89.5104 170.852 Q87.3114 170.852 84.8577 171.615 Q82.4271 172.379 79.6494 173.93 L79.6494 169.208 Q82.4734 168.074 84.9271 167.495 Q87.3808 166.916 89.4178 166.916 Q94.7882 166.916 97.9826 169.602 Q101.177 172.287 101.177 176.777 Q101.177 178.907 100.367 180.828 Q99.5798 182.726 97.4734 185.319 Q96.8947 185.99 93.7928 189.208 Q90.691 192.402 85.0429 198.166 Z\" fill=\"#000000\" fill-rule=\"evenodd\" fill-opacity=\"1\" /><path clip-path=\"url(#clip360)\" d=\"M111.223 167.541 L129.58 167.541 L129.58 171.477 L115.506 171.477 L115.506 179.949 Q116.524 179.601 117.543 179.439 Q118.561 179.254 119.58 179.254 Q125.367 179.254 128.746 182.426 Q132.126 185.597 132.126 191.013 Q132.126 196.592 128.654 199.694 Q125.182 202.773 118.862 202.773 Q116.686 202.773 114.418 202.402 Q112.172 202.032 109.765 201.291 L109.765 196.592 Q111.848 197.726 114.07 198.282 Q116.293 198.837 118.77 198.837 Q122.774 198.837 125.112 196.731 Q127.45 194.625 127.45 191.013 Q127.45 187.402 125.112 185.296 Q122.774 183.189 118.77 183.189 Q116.895 183.189 115.02 183.606 Q113.168 184.023 111.223 184.902 L111.223 167.541 Z\" fill=\"#000000\" fill-rule=\"evenodd\" fill-opacity=\"1\" /><path clip-path=\"url(#clip360)\" d=\"M151.339 170.62 Q147.728 170.62 145.899 174.185 Q144.093 177.726 144.093 184.856 Q144.093 191.963 145.899 195.527 Q147.728 199.069 151.339 199.069 Q154.973 199.069 156.779 195.527 Q158.607 191.963 158.607 184.856 Q158.607 177.726 156.779 174.185 Q154.973 170.62 151.339 170.62 M151.339 166.916 Q157.149 166.916 160.205 171.523 Q163.283 176.106 163.283 184.856 Q163.283 193.583 160.205 198.189 Q157.149 202.773 151.339 202.773 Q145.529 202.773 142.45 198.189 Q139.394 193.583 139.394 184.856 Q139.394 176.106 142.45 171.523 Q145.529 166.916 151.339 166.916 Z\" fill=\"#000000\" fill-rule=\"evenodd\" fill-opacity=\"1\" /><path clip-path=\"url(#clip360)\" d=\"M181.501 170.62 Q177.89 170.62 176.061 174.185 Q174.255 177.726 174.255 184.856 Q174.255 191.963 176.061 195.527 Q177.89 199.069 181.501 199.069 Q185.135 199.069 186.94 195.527 Q188.769 191.963 188.769 184.856 Q188.769 177.726 186.94 174.185 Q185.135 170.62 181.501 170.62 M181.501 166.916 Q187.311 166.916 190.366 171.523 Q193.445 176.106 193.445 184.856 Q193.445 193.583 190.366 198.189 Q187.311 202.773 181.501 202.773 Q175.691 202.773 172.612 198.189 Q169.556 193.583 169.556 184.856 Q169.556 176.106 172.612 171.523 Q175.691 166.916 181.501 166.916 Z\" fill=\"#000000\" fill-rule=\"evenodd\" fill-opacity=\"1\" /><polyline clip-path=\"url(#clip362)\" style=\"stroke:#009af9; stroke-linecap:butt; stroke-linejoin:round; stroke-width:4; stroke-opacity:1; fill:none\" points=\"\n",
       "  289.539,272.674 289.793,273.292 289.807,273.325 289.877,273.495 290.322,274.577 290.527,275.076 290.533,275.091 291.174,276.647 291.242,276.812 291.435,277.28 \n",
       "  291.447,277.309 291.472,277.369 291.805,278.177 291.854,278.296 292.456,279.756 292.759,280.491 292.854,280.719 293.057,281.211 293.063,281.227 293.386,282.01 \n",
       "  293.393,282.026 293.492,282.264 293.541,282.384 293.682,282.725 293.931,283.329 293.973,283.428 294.022,283.548 294.037,283.583 294.075,283.676 294.13,283.809 \n",
       "  294.296,284.21 294.557,284.843 294.665,285.104 294.787,285.399 294.818,285.475 294.914,285.706 294.954,285.802 295.246,286.508 295.308,286.657 295.375,286.819 \n",
       "  295.417,286.921 295.455,287.014 295.615,287.399 295.627,287.428 296.114,288.605 296.293,289.037 296.66,289.924 296.69,289.995 297.119,291.032 297.464,291.862 \n",
       "  298.309,293.9 298.395,294.107 298.406,294.133 299.275,296.226 299.455,296.658 299.582,296.965 299.6,297.008 300.176,298.393 300.43,299.004 300.588,299.382 \n",
       "  300.621,299.463 300.862,300.041 300.944,300.238 301.072,300.546 301.074,300.55 301.911,302.561 302.414,303.767 302.81,304.718 303.078,305.359 303.136,305.5 \n",
       "  303.782,307.047 303.812,307.118 304.108,307.828 304.352,308.412 304.556,308.901 304.578,308.953 304.915,309.76 305.129,310.272 305.432,310.996 305.433,310.997 \n",
       "  305.549,311.275 305.749,311.753 306.355,313.203 306.509,313.569 306.51,313.571 306.772,314.197 306.82,314.313 306.885,314.468 307.194,315.204 307.308,315.477 \n",
       "  307.525,315.996 307.533,316.015 308.047,317.24 308.736,318.884 309.114,319.784 309.351,320.348 309.523,320.758 309.653,321.067 309.732,321.254 309.8,321.417 \n",
       "  309.848,321.531 310.297,322.598 310.356,322.739 310.44,322.939 311.113,324.541 311.204,324.757 311.243,324.849 311.289,324.958 311.3,324.983 311.363,325.133 \n",
       "  311.415,325.258 311.514,325.492 311.573,325.633 311.642,325.796 312.342,327.458 312.396,327.587 312.533,327.912 313.078,329.206 313.371,329.901 313.642,330.542 \n",
       "  313.816,330.955 313.852,331.04 313.983,331.352 314.15,331.747 314.296,332.093 314.344,332.207 314.484,332.537 315.006,333.774 315.031,333.833 315.093,333.981 \n",
       "  315.215,334.268 315.286,334.436 315.52,334.991 315.825,335.711 315.981,336.08 316.013,336.156 316.022,336.178 316.507,337.325 316.942,338.351 316.955,338.382 \n",
       "  317.035,338.571 317.188,338.932 317.217,339.002 317.246,339.07 317.387,339.402 317.392,339.414 317.433,339.512 317.635,339.99 317.742,340.241 317.756,340.275 \n",
       "  318.243,341.422 318.479,341.98 318.725,342.559 318.745,342.606 318.899,342.971 319.16,343.586 319.218,343.722 319.251,343.8 319.378,344.1 319.382,344.107 \n",
       "  319.391,344.129 319.62,344.668 319.97,345.494 320.255,346.164 320.324,346.326 320.347,346.381 320.758,347.347 321.349,348.738 321.966,350.188 322.549,351.557 \n",
       "  323.011,352.641 323.035,352.698 323.301,353.323 323.318,353.363 323.338,353.41 323.849,354.607 323.899,354.724 324.166,355.352 324.179,355.38 324.443,356.001 \n",
       "  324.915,357.106 325.138,357.628 325.691,358.922 325.696,358.934 325.995,359.633 326.021,359.694 326.372,360.515 326.415,360.615 327.017,362.024 327.239,362.543 \n",
       "  327.611,363.412 327.655,363.513 327.669,363.547 327.689,363.594 327.779,363.804 327.878,364.035 328.053,364.443 328.16,364.693 328.274,364.958 328.285,364.985 \n",
       "  328.529,365.554 329.44,367.677 329.685,368.249 329.778,368.465 330.045,369.087 330.059,369.119 330.085,369.18 330.226,369.509 330.357,369.814 330.452,370.036 \n",
       "  330.658,370.515 330.677,370.56 330.756,370.743 330.783,370.805 330.891,371.057 331.345,372.114 331.934,373.483 331.997,373.63 332.19,374.078 332.291,374.312 \n",
       "  332.878,375.676 332.972,375.894 333.366,376.809 333.396,376.88 333.399,376.887 333.528,377.184 333.598,377.348 333.62,377.398 334.094,378.497 334.128,378.578 \n",
       "  334.413,379.238 334.76,380.041 335.052,380.718 335.182,381.02 335.241,381.157 335.544,381.857 335.941,382.777 335.957,382.813 335.985,382.879 336.353,383.73 \n",
       "  336.468,383.996 336.774,384.703 336.8,384.763 336.914,385.028 336.926,385.056 337.274,385.861 337.504,386.39 337.61,386.635 337.78,387.029 338.008,387.556 \n",
       "  338.098,387.763 338.436,388.544 338.479,388.643 338.484,388.655 338.53,388.761 338.823,389.438 338.916,389.651 339.007,389.86 339.011,389.869 340.268,392.767 \n",
       "  340.352,392.961 340.379,393.023 340.45,393.186 340.474,393.242 340.806,394.007 340.873,394.16 341.006,394.466 341.336,395.227 341.381,395.329 341.88,396.478 \n",
       "  341.911,396.548 341.962,396.666 341.98,396.708 342.261,397.354 342.446,397.778 342.626,398.192 342.834,398.669 342.842,398.689 343.237,399.596 343.239,399.601 \n",
       "  343.552,400.319 343.581,400.385 343.756,400.786 344.279,401.987 344.406,402.277 344.884,403.375 345.195,404.085 345.293,404.31 345.3,404.328 345.453,404.678 \n",
       "  345.526,404.845 345.565,404.935 345.607,405.031 346.608,407.321 346.675,407.475 346.714,407.564 347.007,408.233 347.014,408.25 347.278,408.852 347.99,410.479 \n",
       "  348.034,410.58 348.124,410.787 348.273,411.127 348.371,411.349 348.479,411.596 348.681,412.056 348.682,412.061 348.683,412.062 348.781,412.286 348.941,412.652 \n",
       "  349.936,414.919 350.086,415.262 350.332,415.823 350.571,416.366 350.751,416.776 350.898,417.111 351.091,417.55 351.295,418.015 351.464,418.399 351.636,418.791 \n",
       "  352.047,419.726 352.24,420.163 352.687,421.181 352.911,421.689 352.976,421.836 353.595,423.243 353.802,423.712 354.034,424.238 354.257,424.743 354.379,425.021 \n",
       "  354.671,425.683 354.966,426.351 355.092,426.636 355.123,426.708 355.159,426.789 355.194,426.869 355.241,426.974 355.545,427.664 355.555,427.687 355.664,427.934 \n",
       "  355.937,428.552 356.595,430.041 356.724,430.332 356.806,430.518 356.885,430.697 356.913,430.76 356.981,430.914 357.266,431.558 357.356,431.761 357.81,432.787 \n",
       "  357.863,432.908 357.876,432.937 357.968,433.144 358.038,433.302 358.285,433.86 358.816,435.058 358.911,435.274 358.981,435.431 359.398,436.371 359.423,436.427 \n",
       "  359.452,436.494 359.462,436.516 359.611,436.851 359.719,437.095 360.257,438.308 360.271,438.339 360.343,438.502 360.452,438.747 360.715,439.339 360.749,439.417 \n",
       "  361.198,440.428 361.261,440.568 361.486,441.075 361.642,441.426 362.005,442.243 362.514,443.386 362.575,443.523 363.048,444.585 363.098,444.699 363.212,444.955 \n",
       "  363.316,445.188 363.357,445.281 363.447,445.483 363.462,445.517 363.49,445.578 364.059,446.857 364.385,447.586 364.408,447.638 364.698,448.289 364.748,448.402 \n",
       "  365.076,449.137 365.206,449.428 365.469,450.016 365.685,450.502 365.934,451.057 366.158,451.559 366.556,452.451 367.15,453.778 367.265,454.036 367.469,454.491 \n",
       "  368.147,456.006 368.179,456.078 368.496,456.785 368.602,457.022 368.623,457.069 369.038,457.996 369.078,458.085 369.324,458.633 369.344,458.677 370.278,460.759 \n",
       "  370.737,461.782 370.747,461.805 372.206,465.05 372.57,465.858 372.97,466.747 373.602,468.152 373.663,468.285 373.69,468.347 373.839,468.677 374.171,469.413 \n",
       "  374.447,470.026 374.467,470.071 374.591,470.345 374.723,470.638 374.813,470.836 374.942,471.122 375.101,471.475 375.242,471.787 375.272,471.853 375.282,471.875 \n",
       "  375.303,471.922 375.319,471.959 375.537,472.442 375.993,473.452 375.998,473.461 376.018,473.507 376.184,473.873 376.287,474.101 376.349,474.238 376.554,474.691 \n",
       "  376.657,474.92 376.915,475.491 377.783,477.409 377.81,477.469 377.885,477.634 377.942,477.759 378.123,478.159 378.235,478.406 379.014,480.125 380.02,482.343 \n",
       "  380.079,482.474 380.13,482.586 380.54,483.488 380.553,483.517 380.633,483.695 380.797,484.055 380.888,484.254 380.915,484.315 381.2,484.941 381.31,485.184 \n",
       "  381.568,485.751 381.95,486.592 382.048,486.806 382.318,487.401 382.343,487.455 382.385,487.546 382.638,488.103 382.768,488.388 383.006,488.911 383.315,489.589 \n",
       "  383.469,489.928 383.578,490.166 383.857,490.779 383.984,491.058 383.988,491.066 384.15,491.422 384.161,491.446 384.248,491.636 384.302,491.755 384.33,491.817 \n",
       "  384.856,492.969 385.102,493.508 385.139,493.589 385.391,494.142 385.45,494.271 386.338,496.214 386.403,496.357 386.783,497.186 386.913,497.472 386.973,497.603 \n",
       "  387.296,498.308 387.473,498.694 387.636,499.051 387.749,499.298 388.122,500.112 388.229,500.346 388.282,500.461 388.614,501.185 388.634,501.229 388.777,501.541 \n",
       "  388.888,501.784 389.368,502.831 389.446,503.001 389.555,503.236 390.218,504.681 390.241,504.733 390.286,504.831 390.412,505.104 390.476,505.244 390.498,505.29 \n",
       "  390.552,505.409 390.867,506.095 390.963,506.302 390.969,506.316 391.129,506.664 391.693,507.891 392.342,509.301 392.538,509.726 392.681,510.038 392.767,510.224 \n",
       "  393.375,511.543 393.564,511.953 393.79,512.444 393.968,512.831 394.16,513.246 394.439,513.85 394.534,514.056 394.547,514.085 394.703,514.423 394.834,514.707 \n",
       "  395.553,516.264 395.687,516.554 395.717,516.618 395.82,516.842 396.104,517.455 396.164,517.586 396.833,519.032 396.978,519.346 397.013,519.42 398.056,521.672 \n",
       "  398.057,521.675 398.193,521.969 398.312,522.226 398.536,522.708 398.899,523.491 399.223,524.189 399.265,524.28 399.407,524.585 399.429,524.632 399.723,525.265 \n",
       "  400.007,525.878 400.208,526.311 400.721,527.415 400.829,527.647 400.852,527.697 400.858,527.709 401.055,528.133 401.332,528.729 401.4,528.874 401.466,529.015 \n",
       "  401.829,529.796 401.838,529.815 401.986,530.132 401.989,530.139 402.758,531.791 402.768,531.811 402.885,532.063 402.89,532.075 402.941,532.183 403.118,532.563 \n",
       "  403.254,532.854 403.377,533.118 403.499,533.381 403.564,533.52 403.591,533.578 403.676,533.76 404.029,534.517 404.239,534.967 404.257,535.005 404.375,535.257 \n",
       "  404.375,535.258 404.675,535.899 404.685,535.921 405.427,537.51 405.581,537.839 405.711,538.118 405.954,538.636 406.011,538.758 406.058,538.859 406.233,539.233 \n",
       "  406.303,539.382 406.618,540.055 406.836,540.522 406.955,540.775 407.295,541.501 407.357,541.633 407.452,541.836 407.52,541.982 407.556,542.059 407.574,542.096 \n",
       "  407.73,542.428 408.392,543.842 408.544,544.166 408.631,544.35 409.304,545.784 409.835,546.914 409.947,547.153 409.989,547.243 410.889,549.158 411.493,550.439 \n",
       "  411.62,550.711 411.682,550.841 412.238,552.022 412.33,552.217 412.405,552.375 412.532,552.645 412.899,553.423 413.181,554.021 413.679,555.076 414.039,555.839 \n",
       "  414.129,556.031 414.453,556.715 414.489,556.791 414.861,557.579 414.88,557.62 414.91,557.682 415.166,558.225 415.334,558.58 415.765,559.49 416.095,560.187 \n",
       "  416.453,560.945 416.566,561.183 416.575,561.202 416.668,561.397 416.694,561.453 416.725,561.517 416.995,562.089 417.59,563.342 417.819,563.826 417.897,563.99 \n",
       "  418.216,564.663 418.307,564.855 418.62,565.514 418.729,565.743 418.792,565.875 419.336,567.021 419.422,567.201 419.452,567.264 419.501,567.367 419.516,567.399 \n",
       "  419.736,567.862 419.857,568.116 420.325,569.101 420.679,569.845 420.939,570.39 421.09,570.707 421.165,570.865 421.322,571.196 421.382,571.321 421.541,571.655 \n",
       "  421.576,571.728 421.851,572.304 422.269,573.183 422.477,573.618 422.791,574.276 422.887,574.477 423.283,575.306 423.803,576.396 424.29,577.414 424.47,577.79 \n",
       "  425.202,579.321 425.31,579.547 425.329,579.586 425.655,580.267 425.882,580.742 426.03,581.051 426.181,581.365 426.451,581.929 426.723,582.497 426.933,582.934 \n",
       "  427.266,583.627 427.361,583.826 427.46,584.032 428.191,585.556 428.245,585.668 428.782,586.785 428.97,587.176 429.01,587.259 429.158,587.566 429.158,587.567 \n",
       "  429.243,587.743 429.49,588.258 429.556,588.394 429.779,588.857 430.038,589.397 430.25,589.836 430.577,590.515 432.475,594.451 432.517,594.538 432.537,594.58 \n",
       "  432.636,594.784 432.94,595.414 432.958,595.451 433.084,595.712 433.579,596.736 433.594,596.766 433.694,596.974 433.868,597.333 433.886,597.37 434.707,599.067 \n",
       "  434.755,599.167 434.901,599.468 434.913,599.492 434.944,599.557 435.268,600.225 435.3,600.291 435.354,600.403 435.365,600.426 436.772,603.327 436.795,603.375 \n",
       "  437.114,604.031 437.396,604.613 437.532,604.892 437.747,605.336 437.874,605.597 437.981,605.816 437.997,605.85 438.312,606.498 438.436,606.752 438.493,606.87 \n",
       "  438.521,606.926 438.557,607 438.856,607.615 438.984,607.878 438.999,607.909 439.246,608.416 439.339,608.608 439.539,609.018 439.965,609.893 440.09,610.149 \n",
       "  440.255,610.489 440.422,610.831 440.485,610.959 440.611,611.219 441.191,612.406 441.196,612.418 441.631,613.308 441.808,613.671 441.972,614.006 442.103,614.276 \n",
       "  442.141,614.353 442.357,614.795 442.397,614.877 442.55,615.19 442.581,615.253 443.075,616.263 443.172,616.461 443.195,616.51 443.384,616.895 443.441,617.011 \n",
       "  443.536,617.205 443.547,617.227 443.896,617.94 443.907,617.964 444.131,618.421 444.389,618.948 444.547,619.27 444.896,619.982 444.964,620.122 445.163,620.527 \n",
       "  445.215,620.632 445.303,620.812 445.705,621.632 445.834,621.894 445.937,622.105 446.175,622.588 446.179,622.598 446.763,623.786 446.788,623.837 447.021,624.311 \n",
       "  447.179,624.633 447.459,625.202 447.639,625.568 447.641,625.571 448.313,626.938 448.561,627.44 448.7,627.723 448.954,628.238 449.298,628.938 449.326,628.993 \n",
       "  449.328,628.998 449.565,629.48 449.934,630.227 450.024,630.409 450.033,630.427 450.247,630.861 450.314,630.997 450.657,631.692 450.667,631.712 450.669,631.715 \n",
       "  450.808,631.998 451.115,632.619 451.521,633.442 451.539,633.476 451.572,633.543 451.835,634.075 451.911,634.23 451.974,634.358 452.379,635.176 452.388,635.194 \n",
       "  452.423,635.264 453.061,636.553 453.561,637.562 453.709,637.862 453.723,637.89 453.767,637.979 454.057,638.562 454.096,638.642 454.268,638.988 454.367,639.188 \n",
       "  454.459,639.374 455.121,640.707 455.29,641.049 455.442,641.354 455.625,641.722 455.731,641.935 455.841,642.158 455.885,642.246 455.948,642.372 455.972,642.421 \n",
       "  456.02,642.516 456.256,642.992 456.357,643.195 456.642,643.768 456.75,643.985 457.146,644.781 457.858,646.211 458.364,647.226 458.495,647.489 458.505,647.509 \n",
       "  458.59,647.678 458.647,647.794 458.881,648.262 458.917,648.334 458.943,648.387 458.965,648.431 459.154,648.81 459.67,649.843 459.697,649.898 460.958,652.421 \n",
       "  460.999,652.503 461.005,652.515 461.048,652.6 461.571,653.646 461.636,653.775 461.724,653.951 461.87,654.243 462.075,654.653 462.339,655.18 462.449,655.4 \n",
       "  462.529,655.559 462.668,655.835 462.762,656.023 463.1,656.698 463.17,656.836 463.235,656.966 463.39,657.277 463.431,657.358 463.507,657.509 463.645,657.785 \n",
       "  463.785,658.063 464.269,659.026 464.795,660.073 465.006,660.495 465.139,660.758 465.212,660.903 465.35,661.177 465.618,661.71 466.145,662.758 466.487,663.436 \n",
       "  466.587,663.635 467.263,664.977 467.544,665.535 467.649,665.743 468.022,666.481 468.095,666.626 468.125,666.686 468.314,667.059 468.333,667.098 468.349,667.13 \n",
       "  468.45,667.329 468.643,667.711 469.29,668.993 469.304,669.02 469.323,669.058 469.334,669.079 469.467,669.342 469.568,669.542 469.893,670.184 469.997,670.391 \n",
       "  470.329,671.046 470.447,671.28 470.566,671.515 470.79,671.957 470.964,672.3 471.003,672.377 471.155,672.677 471.33,673.023 471.765,673.88 472.28,674.896 \n",
       "  472.287,674.91 472.469,675.269 472.606,675.538 472.969,676.253 473.189,676.686 473.588,677.473 473.614,677.522 473.813,677.914 474.035,678.351 474.132,678.542 \n",
       "  474.542,679.348 474.582,679.426 474.64,679.54 474.711,679.681 474.917,680.085 475.039,680.325 475.553,681.333 475.643,681.509 475.727,681.676 475.89,681.994 \n",
       "  476.149,682.503 476.213,682.628 476.365,682.926 476.4,682.995 476.597,683.381 476.61,683.406 476.699,683.58 477.091,684.349 477.634,685.412 478.25,686.617 \n",
       "  478.321,686.756 478.655,687.41 478.703,687.504 478.744,687.584 479.28,688.631 479.505,689.069 479.585,689.225 479.864,689.77 479.977,689.991 480.076,690.184 \n",
       "  480.585,691.178 480.623,691.25 480.979,691.945 481.505,692.971 481.683,693.316 482.01,693.954 482.26,694.439 482.527,694.959 483.061,695.997 483.151,696.173 \n",
       "  483.2,696.268 483.687,697.214 483.716,697.27 483.977,697.777 484.151,698.114 484.805,699.383 484.85,699.471 485.368,700.474 485.378,700.494 485.474,700.68 \n",
       "  485.711,701.14 485.76,701.235 486.13,701.951 486.263,702.209 486.346,702.368 486.43,702.532 486.461,702.591 486.591,702.843 486.761,703.171 487.272,704.159 \n",
       "  487.334,704.279 487.449,704.502 488.025,705.615 488.431,706.398 489.55,708.558 489.68,708.808 490.083,709.584 490.137,709.689 490.305,710.012 490.31,710.022 \n",
       "  490.854,711.068 491.187,711.709 491.379,712.077 491.814,712.914 492.044,713.355 492.334,713.913 492.612,714.447 492.618,714.459 492.675,714.568 492.736,714.685 \n",
       "  493.128,715.436 493.132,715.445 493.203,715.58 493.613,716.367 493.643,716.425 493.646,716.431 493.838,716.798 493.972,717.054 494.193,717.478 494.833,718.704 \n",
       "  495.176,719.36 495.57,720.113 495.708,720.377 495.931,720.803 497.072,722.983 497.173,723.176 497.392,723.593 497.551,723.897 497.574,723.941 498.201,725.135 \n",
       "  498.276,725.28 499.077,726.803 499.447,727.507 499.459,727.531 499.87,728.313 499.968,728.499 500.252,729.039 500.332,729.191 500.383,729.288 500.435,729.386 \n",
       "  500.602,729.704 500.787,730.056 501.33,731.086 501.362,731.147 501.377,731.176 501.391,731.202 501.576,731.554 501.664,731.719 501.665,731.722 501.784,731.947 \n",
       "  501.924,732.213 502.114,732.573 502.288,732.902 502.536,733.373 502.547,733.393 503.106,734.451 503.972,736.09 504.248,736.612 504.577,737.234 505.029,738.087 \n",
       "  505.08,738.184 505.088,738.2 505.664,739.286 505.862,739.66 505.88,739.695 506.04,739.995 506.1,740.11 506.207,740.31 506.317,740.519 506.501,740.865 \n",
       "  506.656,741.158 506.661,741.166 507.203,742.188 507.808,743.327 507.83,743.367 508.21,744.082 508.481,744.592 508.539,744.7 508.626,744.864 509.073,745.705 \n",
       "  509.3,746.13 509.441,746.395 509.699,746.879 510.007,747.456 510.059,747.555 510.168,747.76 510.433,748.255 510.773,748.894 510.899,749.129 511.046,749.405 \n",
       "  511.234,749.757 511.252,749.791 511.67,750.574 512.236,751.633 512.263,751.682 512.314,751.777 512.646,752.399 513.17,753.378 513.41,753.826 513.522,754.035 \n",
       "  513.735,754.433 513.823,754.596 514.004,754.934 514.254,755.401 514.353,755.586 514.572,755.994 514.626,756.095 514.795,756.409 514.905,756.615 514.927,756.655 \n",
       "  515.041,756.869 515.132,757.037 515.378,757.496 515.556,757.827 515.618,757.943 515.862,758.397 516.184,758.996 516.2,759.025 516.263,759.142 516.421,759.436 \n",
       "  516.475,759.537 516.633,759.83 516.828,760.193 517.039,760.586 517.061,760.625 517.062,760.628 517.263,761.002 517.361,761.183 517.524,761.487 517.606,761.638 \n",
       "  517.818,762.032 517.992,762.354 518.181,762.706 518.181,762.706 518.562,763.412 518.6,763.483 519.455,765.067 519.699,765.519 519.9,765.891 520.069,766.203 \n",
       "  520.153,766.36 520.228,766.498 520.69,767.353 520.691,767.353 520.725,767.417 520.933,767.802 521.052,768.022 521.145,768.194 521.591,769.017 521.603,769.039 \n",
       "  521.77,769.347 521.922,769.629 522.153,770.055 522.539,770.766 523.325,772.215 523.615,772.75 523.936,773.34 524.107,773.656 524.283,773.979 524.871,775.061 \n",
       "  524.893,775.1 524.983,775.266 525.52,776.252 525.64,776.474 525.678,776.543 525.92,776.987 526.288,777.662 526.307,777.698 526.425,777.914 526.537,778.12 \n",
       "  526.885,778.758 527.267,779.457 527.457,779.805 527.639,780.14 527.915,780.644 528.269,781.292 528.37,781.477 528.634,781.96 528.68,782.044 528.884,782.417 \n",
       "  530.064,784.572 530.191,784.805 530.349,785.092 530.53,785.423 530.921,786.135 530.971,786.228 531.114,786.489 531.407,787.022 531.827,787.787 531.94,787.992 \n",
       "  531.969,788.045 532.107,788.297 532.277,788.606 532.891,789.723 533.029,789.974 533.45,790.738 533.455,790.747 533.62,791.047 533.723,791.235 534.029,791.789 \n",
       "  534.245,792.182 534.319,792.316 534.442,792.54 534.644,792.905 534.76,793.116 534.777,793.147 534.862,793.302 535.269,794.04 535.27,794.04 535.309,794.112 \n",
       "  535.335,794.159 535.832,795.059 535.874,795.135 535.892,795.168 536.034,795.425 536.274,795.859 537.454,797.993 537.561,798.187 537.581,798.222 537.848,798.704 \n",
       "  537.968,798.922 538.282,799.487 538.487,799.857 538.573,800.012 538.582,800.028 538.743,800.32 539.018,800.814 539.128,801.014 539.463,801.618 539.487,801.66 \n",
       "  539.716,802.072 539.993,802.571 540.261,803.055 540.379,803.267 540.661,803.773 540.766,803.963 541.432,805.159 541.499,805.28 541.574,805.415 541.618,805.494 \n",
       "  541.987,806.157 542.252,806.631 542.383,806.867 542.44,806.97 542.701,807.437 542.933,807.854 543,807.973 543.309,808.527 543.931,809.641 544.09,809.926 \n",
       "  544.412,810.502 544.516,810.689 544.749,811.105 545.003,811.559 545.016,811.583 545.312,812.111 545.381,812.235 545.548,812.532 545.754,812.901 545.858,813.086 \n",
       "  545.863,813.095 545.967,813.281 546.529,814.284 547.14,815.374 547.256,815.581 547.368,815.78 547.401,815.838 548.019,816.94 548.078,817.043 548.27,817.385 \n",
       "  548.514,817.819 548.735,818.213 548.878,818.467 548.897,818.501 549.23,819.092 549.699,819.926 549.873,820.235 550.698,821.7 550.802,821.883 550.92,822.093 \n",
       "  551.178,822.549 551.187,822.565 551.714,823.499 551.782,823.62 552.106,824.193 552.696,825.237 552.951,825.687 553.045,825.853 553.339,826.372 553.397,826.476 \n",
       "  553.734,827.071 553.897,827.358 554.445,828.326 554.736,828.839 555.017,829.334 555.064,829.417 555.075,829.436 555.283,829.803 555.331,829.887 555.408,830.022 \n",
       "  555.492,830.171 555.546,830.266 555.6,830.36 555.852,830.805 555.887,830.866 556.131,831.296 556.34,831.663 556.584,832.092 556.812,832.494 557.066,832.941 \n",
       "  557.155,833.096 557.221,833.213 557.322,833.389 557.362,833.46 557.422,833.566 557.535,833.763 557.584,833.849 557.891,834.389 558.047,834.662 558.21,834.949 \n",
       "  558.304,835.114 558.365,835.221 558.591,835.616 558.65,835.721 558.777,835.942 558.853,836.076 558.905,836.167 559.025,836.376 559.156,836.606 559.216,836.712 \n",
       "  559.509,837.226 559.719,837.593 560.125,838.303 560.233,838.492 560.288,838.589 560.684,839.281 560.813,839.506 561.102,840.012 561.584,840.854 561.652,840.972 \n",
       "  561.718,841.087 561.729,841.106 562.003,841.584 562.589,842.607 562.878,843.11 562.967,843.265 563.286,843.82 563.641,844.439 563.941,844.961 564.216,845.44 \n",
       "  564.446,845.839 564.493,845.921 564.611,846.127 564.685,846.255 564.746,846.362 565.201,847.151 565.26,847.253 565.543,847.745 565.868,848.309 565.872,848.317 \n",
       "  565.888,848.344 566.004,848.546 566.039,848.606 566.618,849.61 566.622,849.616 566.902,850.102 567.238,850.685 567.281,850.758 567.328,850.839 567.523,851.177 \n",
       "  567.807,851.668 567.824,851.698 567.997,851.998 568.13,852.227 568.311,852.541 568.623,853.079 568.833,853.442 568.928,853.606 569.294,854.239 569.336,854.311 \n",
       "  569.562,854.701 569.794,855.101 569.982,855.426 570.302,855.978 570.637,856.555 570.642,856.564 570.752,856.753 570.826,856.881 570.852,856.925 571.219,857.558 \n",
       "  571.81,858.574 572.201,859.247 572.556,859.857 572.74,860.173 573.323,861.175 573.475,861.434 573.82,862.027 574.372,862.973 574.457,863.119 574.605,863.372 \n",
       "  574.794,863.696 575.18,864.357 575.34,864.631 575.361,864.667 575.746,865.326 575.772,865.369 575.79,865.4 576.72,866.989 577.034,867.526 577.164,867.747 \n",
       "  577.183,867.781 577.365,868.091 577.499,868.319 577.503,868.326 578.13,869.395 578.276,869.644 578.614,870.22 578.95,870.792 579.125,871.089 579.185,871.191 \n",
       "  580.039,872.644 580.223,872.957 580.245,872.994 580.267,873.03 580.299,873.085 580.319,873.119 580.412,873.276 580.756,873.861 581.027,874.321 581.367,874.899 \n",
       "  581.505,875.132 581.811,875.65 582.051,876.058 582.123,876.18 582.381,876.616 582.444,876.722 583.282,878.141 583.479,878.475 583.856,879.112 583.86,879.119 \n",
       "  584.32,879.895 584.551,880.284 584.925,880.916 585.034,881.1 585.207,881.391 585.332,881.602 585.639,882.119 585.654,882.146 585.897,882.555 586.126,882.941 \n",
       "  586.193,883.054 586.308,883.248 586.565,883.68 586.574,883.694 586.884,884.216 587.278,884.878 587.307,884.927 587.315,884.94 587.55,885.335 587.811,885.775 \n",
       "  587.822,885.793 587.864,885.864 588.075,886.219 588.222,886.465 588.293,886.584 588.413,886.786 588.43,886.814 588.58,887.066 588.663,887.204 588.941,887.671 \n",
       "  588.984,887.743 589.065,887.879 589.383,888.411 589.423,888.479 589.938,889.342 589.977,889.407 590.276,889.907 590.325,889.99 590.342,890.018 590.516,890.309 \n",
       "  590.726,890.66 590.875,890.91 591.593,892.11 592.06,892.888 592.735,894.016 592.815,894.148 592.966,894.4 592.98,894.423 593.277,894.918 593.307,894.969 \n",
       "  593.648,895.537 593.713,895.644 594.372,896.741 594.567,897.065 594.649,897.202 594.887,897.597 595.249,898.198 595.326,898.327 595.388,898.43 595.515,898.64 \n",
       "  595.636,898.841 595.84,899.18 596.035,899.504 596.208,899.791 596.753,900.694 596.923,900.977 597.003,901.108 597.089,901.251 597.279,901.565 597.455,901.858 \n",
       "  597.653,902.184 598.212,903.11 598.341,903.323 598.425,903.461 598.552,903.671 598.636,903.811 598.716,903.942 598.719,903.948 598.745,903.99 598.829,904.13 \n",
       "  598.933,904.3 599.042,904.482 599.064,904.517 599.445,905.147 599.449,905.153 599.584,905.376 599.585,905.378 599.635,905.46 600.06,906.16 600.19,906.375 \n",
       "  600.214,906.415 600.36,906.655 600.806,907.391 600.903,907.551 601.047,907.787 601.31,908.22 601.381,908.337 602.323,909.886 602.45,910.095 602.561,910.278 \n",
       "  602.783,910.641 602.983,910.97 603.24,911.392 603.266,911.435 603.44,911.719 603.49,911.803 604.167,912.911 604.224,913.006 604.476,913.418 604.53,913.506 \n",
       "  604.608,913.634 604.615,913.646 604.662,913.723 604.666,913.73 604.837,914.01 605.148,914.517 605.429,914.978 605.469,915.043 605.539,915.157 605.605,915.265 \n",
       "  606.07,916.026 606.114,916.097 606.144,916.146 606.657,916.984 606.845,917.291 606.858,917.312 607.062,917.645 607.141,917.774 608.036,919.233 608.056,919.264 \n",
       "  608.155,919.427 608.207,919.511 608.245,919.573 608.422,919.861 608.902,920.642 608.943,920.709 608.975,920.761 609.341,921.356 609.552,921.699 609.652,921.861 \n",
       "  609.652,921.862 610.001,922.428 610.386,923.054 610.39,923.059 610.428,923.122 610.764,923.667 610.795,923.717 610.924,923.925 611.873,925.464 611.998,925.666 \n",
       "  612.005,925.677 612.163,925.934 612.235,926.05 612.757,926.894 612.775,926.923 612.9,927.125 613.139,927.512 613.374,927.892 613.58,928.223 613.626,928.298 \n",
       "  613.929,928.787 614.059,928.997 614.248,929.302 614.367,929.495 614.838,930.253 614.868,930.302 615.231,930.886 615.301,931 615.559,931.414 615.684,931.616 \n",
       "  615.696,931.635 615.755,931.73 615.776,931.764 615.925,932.003 615.996,932.118 616.051,932.206 616.091,932.27 616.207,932.457 616.261,932.544 616.479,932.894 \n",
       "  616.59,933.073 616.814,933.432 616.886,933.549 616.96,933.667 617.057,933.823 617.36,934.31 617.714,934.877 618.701,936.46 618.817,936.646 618.978,936.904 \n",
       "  619.099,937.097 620.231,938.909 620.763,939.757 621.227,940.499 621.868,941.521 622.034,941.786 622.052,941.815 622.621,942.721 623.241,943.707 623.242,943.709 \n",
       "  623.29,943.785 623.32,943.832 623.435,944.016 623.507,944.129 623.511,944.136 623.545,944.19 623.751,944.519 623.798,944.592 623.847,944.67 623.89,944.738 \n",
       "  624.396,945.542 624.497,945.702 624.563,945.808 624.649,945.945 625.276,946.939 625.517,947.32 625.658,947.543 626.465,948.822 626.473,948.835 626.615,949.059 \n",
       "  626.903,949.514 626.917,949.536 627.243,950.052 627.708,950.786 627.737,950.832 627.745,950.846 627.811,950.949 627.849,951.009 628.051,951.328 628.122,951.441 \n",
       "  628.167,951.511 628.216,951.588 628.521,952.07 628.641,952.259 628.702,952.355 628.815,952.534 628.847,952.583 628.967,952.774 629.051,952.905 629.177,953.104 \n",
       "  629.328,953.341 629.629,953.816 629.771,954.04 629.779,954.051 629.991,954.386 630.3,954.871 630.577,955.307 630.883,955.788 631.451,956.68 631.532,956.807 \n",
       "  632.002,957.544 632.267,957.96 632.303,958.016 632.4,958.168 632.675,958.599 632.684,958.614 632.746,958.711 632.882,958.924 633.11,959.28 633.138,959.324 \n",
       "  633.464,959.834 633.868,960.466 634.005,960.681 634.436,961.355 634.475,961.416 634.505,961.462 634.623,961.647 634.703,961.771 635.049,962.312 635.306,962.713 \n",
       "  635.49,963 635.722,963.362 635.997,963.79 636.316,964.288 636.493,964.563 636.54,964.636 636.891,965.183 636.93,965.243 637.341,965.883 637.417,966.001 \n",
       "  637.498,966.127 637.617,966.312 637.991,966.893 638.018,966.935 638.422,967.562 638.602,967.841 638.624,967.875 638.628,967.882 638.746,968.065 639.307,968.935 \n",
       "  639.385,969.056 639.388,969.06 639.659,969.479 639.846,969.77 639.884,969.828 640.291,970.459 640.471,970.737 640.607,970.948 640.685,971.068 641.12,971.74 \n",
       "  641.152,971.789 641.967,973.048 642.623,974.061 642.63,974.071 642.879,974.455 642.936,974.543 643.003,974.646 643.326,975.145 643.413,975.277 643.815,975.896 \n",
       "  643.9,976.028 644.364,976.74 644.893,977.553 645.525,978.524 645.955,979.183 646.194,979.55 646.892,980.62 647.097,980.933 647.413,981.416 647.458,981.486 \n",
       "  647.599,981.7 647.737,981.912 647.786,981.986 647.888,982.142 648.051,982.392 648.123,982.502 648.125,982.505 648.215,982.641 648.455,983.009 648.783,983.51 \n",
       "  648.849,983.611 648.93,983.734 649.005,983.847 649.126,984.032 649.132,984.041 649.358,984.386 649.455,984.534 649.764,985.005 650.072,985.475 650.216,985.694 \n",
       "  650.308,985.834 650.377,985.939 650.402,985.976 650.426,986.013 650.871,986.691 650.926,986.774 650.96,986.826 651.093,987.028 651.114,987.06 651.171,987.147 \n",
       "  651.347,987.414 651.499,987.644 651.521,987.679 651.595,987.791 651.595,987.791 651.632,987.848 651.724,987.986 652.003,988.41 652.137,988.613 652.179,988.677 \n",
       "  652.364,988.958 652.411,989.029 652.782,989.593 652.825,989.657 653.151,990.151 653.359,990.466 653.456,990.613 653.673,990.941 654.087,991.569 654.146,991.658 \n",
       "  654.167,991.69 654.189,991.723 654.373,992.001 654.938,992.855 655,992.949 655.197,993.246 655.513,993.723 655.65,993.93 656.243,994.825 656.253,994.839 \n",
       "  656.279,994.878 657.139,996.174 657.14,996.176 657.186,996.244 657.411,996.584 657.438,996.624 657.47,996.672 657.586,996.846 657.619,996.895 658.029,997.513 \n",
       "  658.05,997.543 658.181,997.74 658.798,998.668 658.914,998.841 659.095,999.113 659.233,999.32 659.695,1000.01 659.839,1000.23 660.073,1000.58 660.343,1000.98 \n",
       "  660.405,1001.08 660.481,1001.19 660.689,1001.5 661.069,1002.07 661.959,1003.4 662.188,1003.74 662.809,1004.67 662.956,1004.89 663.034,1005 663.27,1005.35 \n",
       "  663.546,1005.76 663.615,1005.87 663.838,1006.2 663.933,1006.34 664.216,1006.76 664.352,1006.96 664.398,1007.03 664.626,1007.37 664.79,1007.62 664.862,1007.72 \n",
       "  664.915,1007.8 664.973,1007.89 665.098,1008.07 665.114,1008.1 665.175,1008.19 665.493,1008.66 665.805,1009.12 665.891,1009.25 665.935,1009.31 666.129,1009.6 \n",
       "  666.41,1010.02 666.5,1010.15 666.597,1010.3 666.93,1010.79 667.23,1011.23 667.351,1011.41 667.856,1012.16 668.103,1012.52 668.375,1012.93 668.626,1013.3 \n",
       "  669.27,1014.25 669.679,1014.85 670.055,1015.4 670.176,1015.58 670.366,1015.86 670.444,1015.98 670.517,1016.08 670.527,1016.1 670.578,1016.17 670.845,1016.57 \n",
       "  671.311,1017.25 671.551,1017.6 671.598,1017.67 671.604,1017.68 671.919,1018.14 672.23,1018.6 672.379,1018.82 672.466,1018.95 672.726,1019.33 673.128,1019.92 \n",
       "  673.241,1020.08 673.342,1020.23 673.46,1020.4 673.472,1020.42 673.495,1020.45 674.092,1021.33 674.098,1021.34 674.201,1021.49 674.419,1021.81 674.76,1022.3 \n",
       "  674.896,1022.5 675.064,1022.75 675.095,1022.79 675.189,1022.93 675.211,1022.96 675.252,1023.02 675.558,1023.47 675.88,1023.94 675.993,1024.1 676.009,1024.13 \n",
       "  676.06,1024.2 676.263,1024.5 676.442,1024.76 676.596,1024.98 676.803,1025.28 676.988,1025.55 677.125,1025.75 677.128,1025.76 677.319,1026.03 677.346,1026.07 \n",
       "  677.565,1026.39 677.577,1026.41 677.794,1026.72 677.801,1026.73 678.006,1027.03 678.197,1027.31 678.475,1027.71 678.804,1028.19 678.837,1028.24 678.844,1028.25 \n",
       "  678.917,1028.35 679.402,1029.06 679.486,1029.18 680.057,1030.01 680.358,1030.44 680.387,1030.48 680.422,1030.53 680.915,1031.25 680.957,1031.31 681.31,1031.82 \n",
       "  681.31,1031.82 681.322,1031.83 681.507,1032.1 681.723,1032.41 681.733,1032.43 682.294,1033.24 682.437,1033.44 682.549,1033.6 682.648,1033.75 682.715,1033.84 \n",
       "  682.724,1033.86 682.9,1034.11 683.155,1034.48 683.355,1034.77 683.911,1035.57 684.741,1036.76 684.772,1036.8 685.437,1037.76 685.565,1037.94 685.571,1037.95 \n",
       "  685.672,1038.09 685.921,1038.45 685.963,1038.51 686.457,1039.22 686.557,1039.36 686.608,1039.43 686.61,1039.44 686.831,1039.75 686.887,1039.83 687.007,1040 \n",
       "  687.031,1040.04 687.06,1040.08 687.063,1040.08 687.445,1040.63 687.659,1040.93 687.677,1040.96 688.461,1042.08 688.501,1042.14 688.583,1042.25 688.59,1042.26 \n",
       "  689.234,1043.18 689.56,1043.65 689.573,1043.66 689.68,1043.82 689.7,1043.85 689.764,1043.94 689.931,1044.17 690.087,1044.4 690.122,1044.45 690.219,1044.58 \n",
       "  690.251,1044.63 690.725,1045.3 690.914,1045.57 690.985,1045.67 691.178,1045.95 691.38,1046.23 691.541,1046.46 691.714,1046.71 691.997,1047.11 692.05,1047.18 \n",
       "  692.654,1048.04 692.683,1048.08 692.803,1048.25 692.815,1048.27 692.915,1048.41 693.285,1048.93 693.38,1049.06 693.613,1049.39 693.929,1049.84 694.115,1050.1 \n",
       "  694.141,1050.14 694.528,1050.69 694.549,1050.72 694.698,1050.93 694.868,1051.17 694.909,1051.22 694.959,1051.29 695.104,1051.5 695.104,1051.5 695.329,1051.82 \n",
       "  695.662,1052.28 695.688,1052.32 695.857,1052.56 696.003,1052.77 696.044,1052.82 696.074,1052.86 696.347,1053.25 696.495,1053.46 696.577,1053.57 697.058,1054.25 \n",
       "  697.379,1054.7 697.618,1055.03 698.016,1055.59 698.045,1055.63 698.322,1056.02 698.35,1056.06 698.444,1056.19 698.717,1056.57 698.832,1056.74 699.107,1057.12 \n",
       "  699.17,1057.21 699.926,1058.27 699.986,1058.35 700.435,1058.98 700.591,1059.19 700.616,1059.23 700.73,1059.39 700.827,1059.52 700.892,1059.61 700.907,1059.64 \n",
       "  701.337,1060.23 701.485,1060.44 702.114,1061.32 702.223,1061.47 703.273,1062.93 703.712,1063.54 704.347,1064.42 704.453,1064.56 704.762,1064.99 704.789,1065.03 \n",
       "  705.038,1065.38 705.177,1065.57 705.383,1065.85 705.495,1066.01 705.663,1066.24 705.688,1066.28 705.937,1066.62 706.019,1066.73 706.043,1066.77 706.072,1066.81 \n",
       "  706.289,1067.1 706.431,1067.3 706.492,1067.39 706.736,1067.72 707.146,1068.29 707.181,1068.34 707.436,1068.69 707.486,1068.76 707.487,1068.76 707.672,1069.01 \n",
       "  707.899,1069.33 707.905,1069.33 708.099,1069.6 708.22,1069.77 708.225,1069.77 708.798,1070.56 708.823,1070.6 708.992,1070.83 709.006,1070.85 709.678,1071.77 \n",
       "  709.783,1071.92 710.252,1072.56 710.76,1073.26 710.93,1073.49 710.986,1073.57 711.202,1073.86 711.217,1073.88 711.663,1074.49 711.891,1074.8 711.994,1074.94 \n",
       "  712.334,1075.41 712.571,1075.73 712.672,1075.87 712.8,1076.05 713.031,1076.36 714.675,1078.6 714.907,1078.91 715.268,1079.41 715.402,1079.59 715.464,1079.67 \n",
       "  715.55,1079.79 716.071,1080.5 716.312,1080.82 716.568,1081.17 716.933,1081.66 716.975,1081.72 717.371,1082.26 717.373,1082.26 717.789,1082.82 717.873,1082.94 \n",
       "  717.905,1082.98 718.151,1083.31 718.351,1083.58 718.826,1084.22 718.857,1084.27 718.884,1084.3 719.369,1084.96 719.634,1085.31 719.764,1085.49 720.095,1085.93 \n",
       "  720.279,1086.18 720.759,1086.83 720.856,1086.96 720.913,1087.03 721.02,1087.18 721.124,1087.32 721.15,1087.35 721.182,1087.4 721.245,1087.48 721.542,1087.88 \n",
       "  721.553,1087.9 722.5,1089.17 722.773,1089.53 722.935,1089.75 723.124,1090 723.151,1090.04 723.276,1090.21 723.362,1090.32 723.701,1090.77 723.896,1091.03 \n",
       "  725.053,1092.58 725.302,1092.91 725.508,1093.19 725.53,1093.22 725.747,1093.5 725.757,1093.52 726.144,1094.03 726.273,1094.2 726.395,1094.37 726.808,1094.92 \n",
       "  727.016,1095.19 727.055,1095.25 727.23,1095.48 727.294,1095.56 727.819,1096.26 728.04,1096.55 728.149,1096.7 728.231,1096.81 728.377,1097 728.638,1097.35 \n",
       "  729.021,1097.85 730.278,1099.52 730.747,1100.13 730.849,1100.27 730.987,1100.45 731.136,1100.65 731.341,1100.92 731.376,1100.96 731.635,1101.31 731.967,1101.74 \n",
       "  732.591,1102.56 732.72,1102.73 732.793,1102.83 733.31,1103.51 733.441,1103.68 733.613,1103.91 733.675,1103.99 733.769,1104.11 733.826,1104.19 734.089,1104.53 \n",
       "  734.447,1105 734.653,1105.27 734.979,1105.7 735.346,1106.18 735.419,1106.27 735.531,1106.42 735.614,1106.53 735.653,1106.58 735.985,1107.01 736.168,1107.25 \n",
       "  736.172,1107.26 736.199,1107.29 736.273,1107.39 736.596,1107.81 736.933,1108.25 737.797,1109.38 737.895,1109.5 738.031,1109.68 738.29,1110.02 738.391,1110.15 \n",
       "  739.083,1111.05 739.204,1111.2 739.272,1111.29 739.522,1111.62 739.539,1111.64 739.99,1112.22 740.902,1113.4 740.917,1113.42 740.972,1113.5 740.993,1113.52 \n",
       "  741.187,1113.77 741.408,1114.06 741.452,1114.12 741.502,1114.18 741.588,1114.29 741.775,1114.53 742.249,1115.15 742.352,1115.28 742.409,1115.35 742.931,1116.03 \n",
       "  743.192,1116.36 743.432,1116.67 743.696,1117.01 743.927,1117.31 744.077,1117.5 744.255,1117.73 744.499,1118.04 744.604,1118.18 744.853,1118.5 744.876,1118.53 \n",
       "  744.955,1118.63 744.956,1118.63 745.024,1118.72 745.281,1119.05 745.5,1119.33 746.13,1120.14 746.57,1120.7 746.654,1120.81 746.754,1120.93 747.157,1121.45 \n",
       "  747.302,1121.64 747.311,1121.65 747.366,1121.72 747.371,1121.72 747.502,1121.89 747.588,1122 747.801,1122.27 748.076,1122.62 748.591,1123.28 748.68,1123.39 \n",
       "  748.734,1123.46 748.749,1123.48 748.804,1123.55 749.209,1124.07 749.326,1124.22 749.346,1124.24 749.748,1124.75 750.059,1125.15 750.112,1125.22 750.18,1125.3 \n",
       "  750.321,1125.48 750.337,1125.5 750.418,1125.6 750.616,1125.86 750.756,1126.03 750.866,1126.17 751.704,1127.24 751.794,1127.35 751.884,1127.46 752.159,1127.81 \n",
       "  752.514,1128.26 752.982,1128.85 753.251,1129.19 753.761,1129.84 753.918,1130.04 754.206,1130.4 754.445,1130.7 754.481,1130.74 754.824,1131.18 754.84,1131.2 \n",
       "  755.259,1131.72 755.508,1132.04 755.641,1132.2 755.898,1132.53 756.04,1132.71 756.149,1132.84 756.214,1132.92 756.596,1133.4 756.618,1133.43 756.708,1133.54 \n",
       "  757.021,1133.94 757.059,1133.98 757.497,1134.53 757.501,1134.54 757.748,1134.85 757.916,1135.06 757.997,1135.16 758.118,1135.31 758.308,1135.55 758.557,1135.86 \n",
       "  758.559,1135.86 758.605,1135.92 758.637,1135.96 758.755,1136.11 759.442,1136.96 760.043,1137.71 760.097,1137.78 760.133,1137.83 761.198,1139.15 761.475,1139.49 \n",
       "  761.496,1139.52 761.706,1139.78 761.743,1139.83 762.208,1140.4 762.46,1140.72 762.909,1141.27 763.11,1141.52 763.215,1141.65 763.768,1142.34 764.099,1142.74 \n",
       "  764.148,1142.81 764.896,1143.73 765.218,1144.13 765.754,1144.79 765.879,1144.94 766.289,1145.44 766.344,1145.51 766.359,1145.53 766.724,1145.98 766.8,1146.07 \n",
       "  767.061,1146.39 767.063,1146.4 767.076,1146.41 767.163,1146.52 767.277,1146.66 767.491,1146.92 767.68,1147.15 767.789,1147.29 768.004,1147.55 768.173,1147.76 \n",
       "  768.312,1147.93 768.408,1148.05 768.661,1148.36 768.695,1148.4 768.795,1148.52 768.856,1148.59 769.089,1148.88 769.225,1149.05 769.476,1149.35 769.524,1149.41 \n",
       "  769.985,1149.97 770.027,1150.02 770.037,1150.04 770.274,1150.33 770.274,1150.33 770.279,1150.33 770.441,1150.53 770.796,1150.96 771.357,1151.65 771.586,1151.93 \n",
       "  771.813,1152.2 771.875,1152.28 771.9,1152.31 771.928,1152.34 771.942,1152.36 772.274,1152.76 772.683,1153.26 772.693,1153.27 772.75,1153.34 773.644,1154.42 \n",
       "  773.883,1154.71 774.174,1155.07 774.21,1155.11 774.364,1155.3 774.531,1155.5 774.875,1155.91 775.051,1156.13 775.12,1156.21 775.48,1156.64 775.626,1156.82 \n",
       "  776.218,1157.53 776.429,1157.79 776.815,1158.25 776.922,1158.38 777.443,1159.01 777.82,1159.46 778.054,1159.74 778.263,1159.99 778.46,1160.23 778.513,1160.29 \n",
       "  778.821,1160.66 778.836,1160.68 778.855,1160.7 778.879,1160.73 778.898,1160.75 779.323,1161.26 779.432,1161.39 779.732,1161.75 779.817,1161.86 780.18,1162.29 \n",
       "  780.378,1162.53 780.593,1162.78 780.708,1162.92 781.361,1163.7 781.514,1163.88 781.815,1164.24 781.88,1164.32 782.018,1164.48 782.063,1164.53 783.074,1165.74 \n",
       "  783.104,1165.77 783.179,1165.86 783.245,1165.94 783.246,1165.94 783.568,1166.32 783.826,1166.63 783.887,1166.7 784.393,1167.3 784.465,1167.39 784.741,1167.71 \n",
       "  785.135,1168.18 785.386,1168.48 785.509,1168.62 785.551,1168.67 785.71,1168.86 785.787,1168.95 785.807,1168.97 785.996,1169.2 786.408,1169.68 786.41,1169.69 \n",
       "  786.979,1170.36 787.075,1170.47 787.078,1170.47 787.204,1170.62 787.349,1170.79 787.442,1170.9 788.787,1172.48 788.961,1172.69 788.977,1172.7 789.016,1172.75 \n",
       "  789.188,1172.95 789.219,1172.99 789.284,1173.06 789.315,1173.1 789.442,1173.25 789.585,1173.42 790.124,1174.05 790.464,1174.45 790.571,1174.57 790.727,1174.75 \n",
       "  790.742,1174.77 790.937,1175 791.118,1175.21 791.531,1175.69 791.784,1175.99 791.916,1176.14 792.157,1176.42 792.526,1176.85 792.65,1177 792.7,1177.05 \n",
       "  792.908,1177.3 792.958,1177.35 793.302,1177.75 793.439,1177.91 793.501,1177.99 793.609,1178.11 793.76,1178.29 794.497,1179.14 794.567,1179.22 794.647,1179.31 \n",
       "  794.647,1179.31 794.833,1179.53 794.838,1179.54 794.901,1179.61 795.472,1180.27 795.761,1180.6 796.29,1181.21 796.301,1181.23 796.518,1181.48 796.807,1181.81 \n",
       "  797.415,1182.51 797.581,1182.7 797.616,1182.74 797.919,1183.09 798.025,1183.21 798.386,1183.63 799.059,1184.4 799.248,1184.62 799.494,1184.9 799.696,1185.13 \n",
       "  800.974,1186.59 801.414,1187.1 801.477,1187.17 801.718,1187.44 801.719,1187.45 801.817,1187.56 801.877,1187.63 801.886,1187.64 801.919,1187.67 802.168,1187.96 \n",
       "  802.227,1188.02 802.424,1188.25 803.326,1189.27 803.559,1189.54 803.677,1189.67 804.038,1190.08 804.298,1190.38 804.584,1190.7 804.636,1190.76 804.816,1190.97 \n",
       "  804.902,1191.06 805.015,1191.19 805.572,1191.82 805.934,1192.23 805.964,1192.26 806.104,1192.42 806.216,1192.55 806.246,1192.58 806.391,1192.75 806.395,1192.75 \n",
       "  807.149,1193.6 807.199,1193.66 807.508,1194.01 807.776,1194.31 807.817,1194.36 808.328,1194.93 808.533,1195.16 808.758,1195.41 808.772,1195.43 809.472,1196.21 \n",
       "  809.718,1196.49 810.533,1197.4 811.27,1198.23 811.279,1198.24 811.33,1198.29 812.053,1199.1 812.458,1199.55 812.551,1199.66 812.711,1199.83 813.075,1200.24 \n",
       "  813.117,1200.28 813.268,1200.45 813.345,1200.54 813.495,1200.7 813.646,1200.87 813.916,1201.17 814.079,1201.35 814.419,1201.73 814.433,1201.75 815.08,1202.46 \n",
       "  815.404,1202.82 815.443,1202.86 815.614,1203.05 816.099,1203.59 816.331,1203.85 817.052,1204.64 817.097,1204.69 817.099,1204.69 817.152,1204.75 817.159,1204.76 \n",
       "  817.161,1204.76 817.166,1204.77 817.276,1204.89 817.327,1204.94 817.563,1205.2 817.805,1205.47 818.292,1206.01 818.351,1206.07 818.636,1206.38 818.646,1206.39 \n",
       "  818.851,1206.62 819.092,1206.88 819.301,1207.11 819.719,1207.57 819.816,1207.68 819.9,1207.77 820.042,1207.92 820.078,1207.96 820.257,1208.16 820.277,1208.18 \n",
       "  820.289,1208.2 820.326,1208.24 820.392,1208.31 820.416,1208.33 820.565,1208.5 820.597,1208.53 820.703,1208.65 820.949,1208.92 821.078,1209.06 821.101,1209.08 \n",
       "  821.141,1209.13 821.343,1209.35 821.441,1209.45 821.49,1209.51 821.759,1209.8 822.006,1210.07 822.056,1210.13 822.145,1210.22 822.318,1210.41 822.36,1210.46 \n",
       "  822.581,1210.7 822.623,1210.74 822.729,1210.86 823.313,1211.49 823.317,1211.5 823.324,1211.5 823.372,1211.56 823.632,1211.84 823.866,1212.09 824.042,1212.28 \n",
       "  824.286,1212.55 824.643,1212.94 824.646,1212.94 824.941,1213.26 825.378,1213.73 825.768,1214.15 826.245,1214.67 826.328,1214.76 826.453,1214.89 826.563,1215.01 \n",
       "  826.593,1215.04 827.031,1215.51 827.362,1215.87 827.449,1215.96 827.843,1216.39 827.914,1216.46 827.98,1216.54 828.52,1217.11 828.574,1217.17 828.954,1217.58 \n",
       "  829.062,1217.7 829.105,1217.74 829.724,1218.41 829.947,1218.64 829.97,1218.67 830.049,1218.75 830.09,1218.8 830.142,1218.85 830.159,1218.87 830.257,1218.98 \n",
       "  830.375,1219.1 830.559,1219.3 830.651,1219.4 830.873,1219.63 831.176,1219.96 831.481,1220.28 831.501,1220.3 831.623,1220.43 831.859,1220.68 831.946,1220.78 \n",
       "  832.126,1220.97 832.31,1221.16 832.474,1221.34 832.618,1221.49 832.811,1221.7 832.838,1221.73 832.887,1221.78 832.932,1221.83 832.936,1221.83 833.198,1222.11 \n",
       "  833.204,1222.11 833.35,1222.27 833.58,1222.51 834,1222.96 834.077,1223.04 834.161,1223.13 834.237,1223.21 834.267,1223.24 834.284,1223.26 834.663,1223.66 \n",
       "  834.736,1223.74 834.777,1223.78 834.827,1223.83 835.102,1224.12 835.106,1224.13 835.583,1224.63 835.617,1224.67 836.554,1225.66 836.77,1225.88 836.831,1225.95 \n",
       "  836.832,1225.95 836.859,1225.98 836.971,1226.09 837.512,1226.66 837.849,1227.02 838.031,1227.21 838.08,1227.26 838.203,1227.39 838.409,1227.61 838.649,1227.86 \n",
       "  838.926,1228.15 839.024,1228.25 839.225,1228.46 839.318,1228.56 839.535,1228.78 839.697,1228.95 839.758,1229.02 839.807,1229.07 840.207,1229.49 840.212,1229.49 \n",
       "  840.29,1229.57 840.318,1229.6 840.561,1229.86 840.704,1230.01 840.911,1230.22 841.721,1231.06 841.753,1231.1 841.983,1231.34 842.325,1231.69 842.328,1231.69 \n",
       "  842.662,1232.04 843.326,1232.73 843.679,1233.1 843.729,1233.15 843.882,1233.31 844.031,1233.46 844.476,1233.92 845.01,1234.47 845.061,1234.52 845.131,1234.6 \n",
       "  845.215,1234.68 845.294,1234.76 845.347,1234.82 845.461,1234.94 845.487,1234.96 845.53,1235.01 846.197,1235.69 846.199,1235.7 846.221,1235.72 846.46,1235.96 \n",
       "  846.762,1236.27 847.16,1236.68 847.376,1236.9 847.733,1237.27 848.233,1237.78 848.443,1238 849.035,1238.6 849.348,1238.92 849.698,1239.28 849.939,1239.53 \n",
       "  850.102,1239.69 850.13,1239.72 850.21,1239.8 850.317,1239.91 850.69,1240.29 850.832,1240.43 850.878,1240.48 851.034,1240.64 851.335,1240.95 851.59,1241.21 \n",
       "  851.792,1241.41 851.993,1241.61 852.112,1241.74 852.184,1241.81 852.291,1241.92 852.307,1241.93 852.32,1241.95 852.754,1242.39 853.052,1242.69 853.281,1242.92 \n",
       "  853.304,1242.94 853.329,1242.97 853.33,1242.97 853.355,1242.99 853.419,1243.06 854.212,1243.86 854.276,1243.92 854.635,1244.28 854.658,1244.31 854.659,1244.31 \n",
       "  854.907,1244.56 854.973,1244.62 855.043,1244.7 855.132,1244.78 855.48,1245.14 855.565,1245.22 855.979,1245.64 855.998,1245.66 856.09,1245.75 856.175,1245.83 \n",
       "  856.753,1246.41 856.759,1246.42 857.231,1246.89 857.238,1246.9 857.252,1246.91 857.28,1246.94 857.33,1246.99 857.475,1247.14 857.506,1247.17 857.578,1247.24 \n",
       "  857.777,1247.44 857.861,1247.52 857.901,1247.56 857.921,1247.58 858.018,1247.68 858.133,1247.79 858.209,1247.87 858.845,1248.5 859.169,1248.83 859.528,1249.18 \n",
       "  859.555,1249.21 859.587,1249.24 859.864,1249.52 860.063,1249.72 860.129,1249.78 860.446,1250.1 860.485,1250.14 860.573,1250.22 861.553,1251.19 862.367,1252 \n",
       "  862.586,1252.22 862.77,1252.4 862.794,1252.42 862.933,1252.56 863.25,1252.87 863.441,1253.06 863.502,1253.12 863.51,1253.13 864.564,1254.16 864.631,1254.23 \n",
       "  864.656,1254.25 864.763,1254.36 865,1254.59 865.074,1254.66 865.189,1254.78 865.355,1254.94 865.426,1255.01 865.477,1255.06 865.607,1255.19 865.686,1255.26 \n",
       "  865.686,1255.26 866.049,1255.62 866.131,1255.7 866.276,1255.84 866.302,1255.87 866.528,1256.09 866.7,1256.26 866.818,1256.37 866.835,1256.39 867.059,1256.61 \n",
       "  867.246,1256.79 867.497,1257.03 867.513,1257.05 867.514,1257.05 867.85,1257.38 868.088,1257.61 868.541,1258.05 868.652,1258.16 868.775,1258.28 869.058,1258.55 \n",
       "  869.345,1258.83 869.451,1258.93 869.498,1258.98 869.708,1259.18 869.855,1259.33 869.857,1259.33 870.005,1259.47 870.36,1259.82 870.399,1259.85 870.534,1259.98 \n",
       "  870.61,1260.06 870.697,1260.14 870.741,1260.18 870.789,1260.23 870.916,1260.35 871.085,1260.52 871.119,1260.55 871.265,1260.69 871.319,1260.74 871.591,1261 \n",
       "  871.645,1261.06 872.032,1261.43 872.037,1261.44 872.437,1261.82 872.77,1262.14 872.946,1262.31 872.979,1262.34 873.192,1262.55 873.53,1262.87 873.637,1262.97 \n",
       "  873.844,1263.17 873.966,1263.29 874.25,1263.56 874.501,1263.8 874.597,1263.89 875.403,1264.67 875.489,1264.75 875.623,1264.87 875.762,1265.01 876.561,1265.77 \n",
       "  876.587,1265.79 876.756,1265.96 876.782,1265.98 877.007,1266.19 877.245,1266.42 877.669,1266.82 877.669,1266.82 877.699,1266.85 877.73,1266.88 877.753,1266.9 \n",
       "  877.994,1267.13 878.046,1267.18 878.057,1267.19 878.273,1267.4 878.286,1267.41 878.396,1267.51 879.11,1268.19 879.201,1268.27 879.29,1268.36 879.329,1268.39 \n",
       "  879.422,1268.48 879.766,1268.81 879.809,1268.85 880.01,1269.04 880.132,1269.15 880.336,1269.35 880.492,1269.49 880.511,1269.51 880.83,1269.81 880.931,1269.91 \n",
       "  880.942,1269.92 881.02,1269.99 881.16,1270.12 881.524,1270.46 881.68,1270.61 881.947,1270.86 882.444,1271.33 882.461,1271.34 882.678,1271.55 882.699,1271.57 \n",
       "  883.061,1271.91 883.459,1272.28 883.595,1272.4 884.357,1273.12 884.513,1273.26 884.704,1273.44 884.71,1273.45 884.772,1273.5 884.961,1273.68 884.98,1273.7 \n",
       "  885.477,1274.16 885.769,1274.43 885.966,1274.61 885.989,1274.64 886.284,1274.91 886.61,1275.21 886.61,1275.21 886.821,1275.41 886.873,1275.45 887.017,1275.59 \n",
       "  887.256,1275.81 887.31,1275.86 887.492,1276.03 887.818,1276.33 888.355,1276.82 888.989,1277.41 889.089,1277.5 889.2,1277.6 889.475,1277.86 889.476,1277.86 \n",
       "  890.608,1278.9 890.717,1279 890.952,1279.21 890.971,1279.23 891.088,1279.34 891.169,1279.41 892.197,1280.35 892.431,1280.56 892.541,1280.66 892.602,1280.72 \n",
       "  892.651,1280.76 893.008,1281.09 893.7,1281.72 893.834,1281.84 894.173,1282.15 894.475,1282.42 894.57,1282.51 894.826,1282.74 894.878,1282.79 894.931,1282.84 \n",
       "  894.954,1282.86 895.003,1282.9 895.067,1282.96 895.08,1282.97 895.634,1283.47 895.683,1283.52 895.906,1283.72 896.139,1283.93 896.393,1284.16 896.57,1284.32 \n",
       "  896.62,1284.36 896.75,1284.48 896.836,1284.56 896.945,1284.66 896.951,1284.66 896.97,1284.68 897.939,1285.55 898.023,1285.63 898.148,1285.74 898.176,1285.76 \n",
       "  898.457,1286.02 898.693,1286.23 898.702,1286.24 898.887,1286.4 899.198,1286.68 899.232,1286.71 899.455,1286.91 900.544,1287.88 900.557,1287.89 900.737,1288.05 \n",
       "  900.807,1288.12 900.961,1288.25 901.278,1288.54 901.302,1288.56 901.948,1289.13 902.275,1289.42 902.606,1289.72 902.905,1289.98 902.992,1290.06 903.193,1290.24 \n",
       "  903.488,1290.5 903.615,1290.61 903.626,1290.62 903.84,1290.81 903.848,1290.82 903.974,1290.93 904.194,1291.12 904.418,1291.32 904.418,1291.32 904.791,1291.65 \n",
       "  904.941,1291.78 904.966,1291.8 905.57,1292.33 905.943,1292.66 906.033,1292.74 906.348,1293.02 906.577,1293.22 906.693,1293.32 906.806,1293.42 906.93,1293.53 \n",
       "  907.021,1293.61 907.122,1293.69 908.069,1294.52 908.256,1294.68 908.801,1295.16 908.926,1295.27 909.035,1295.36 909.275,1295.57 909.834,1296.06 909.867,1296.09 \n",
       "  910.083,1296.27 910.166,1296.35 910.334,1296.49 910.924,1297 910.951,1297.03 910.973,1297.05 911.116,1297.17 911.393,1297.41 911.794,1297.76 911.924,1297.87 \n",
       "  912.153,1298.07 912.332,1298.22 912.865,1298.68 912.87,1298.68 912.896,1298.71 913.182,1298.95 913.58,1299.29 913.666,1299.37 913.865,1299.54 914.022,1299.67 \n",
       "  914.445,1300.04 914.69,1300.25 914.799,1300.34 914.969,1300.48 915.287,1300.76 915.328,1300.79 917.3,1302.47 917.451,1302.6 917.566,1302.7 917.658,1302.78 \n",
       "  917.696,1302.81 918.128,1303.17 918.436,1303.44 918.701,1303.66 918.944,1303.86 919.133,1304.02 919.416,1304.26 919.711,1304.51 920.124,1304.86 920.575,1305.24 \n",
       "  921.015,1305.61 921.299,1305.85 921.352,1305.89 921.387,1305.92 921.758,1306.23 921.863,1306.32 922.09,1306.51 922.184,1306.59 922.299,1306.69 922.395,1306.77 \n",
       "  923.029,1307.3 923.174,1307.42 923.469,1307.67 923.709,1307.86 923.913,1308.03 923.963,1308.08 924.06,1308.16 924.157,1308.24 924.563,1308.58 924.742,1308.72 \n",
       "  925.001,1308.94 925.301,1309.19 925.388,1309.26 925.498,1309.35 925.59,1309.43 926.082,1309.84 926.203,1309.94 926.33,1310.04 926.508,1310.19 926.748,1310.39 \n",
       "  926.98,1310.58 927.108,1310.68 927.218,1310.77 927.245,1310.8 927.352,1310.88 927.498,1311 927.553,1311.05 927.89,1311.33 928.096,1311.5 928.107,1311.51 \n",
       "  928.276,1311.64 928.291,1311.66 928.626,1311.93 928.635,1311.94 928.649,1311.95 928.67,1311.97 928.746,1312.03 928.813,1312.09 928.822,1312.09 928.832,1312.1 \n",
       "  928.994,1312.23 929.14,1312.35 929.173,1312.38 929.494,1312.64 929.945,1313.01 930.08,1313.12 930.406,1313.39 930.555,1313.51 930.71,1313.64 930.839,1313.74 \n",
       "  930.854,1313.76 931.043,1313.91 931.283,1314.11 931.444,1314.24 931.453,1314.24 931.458,1314.25 931.491,1314.27 931.503,1314.28 931.593,1314.36 931.736,1314.47 \n",
       "  931.916,1314.62 931.945,1314.64 932.146,1314.81 932.443,1315.05 932.52,1315.11 932.73,1315.28 932.905,1315.42 933.684,1316.05 933.744,1316.1 933.907,1316.23 \n",
       "  933.977,1316.29 934.22,1316.49 934.376,1316.61 934.424,1316.65 934.453,1316.67 934.486,1316.7 934.53,1316.74 934.871,1317.01 934.883,1317.02 934.922,1317.05 \n",
       "  935.698,1317.68 935.994,1317.91 936.037,1317.95 936.107,1318 936.469,1318.29 936.497,1318.32 936.513,1318.33 936.63,1318.42 936.649,1318.44 936.911,1318.65 \n",
       "  936.934,1318.67 937.091,1318.79 937.409,1319.05 937.423,1319.06 937.867,1319.41 937.87,1319.42 938.333,1319.78 938.403,1319.84 938.571,1319.97 938.576,1319.98 \n",
       "  938.638,1320.03 938.641,1320.03 938.71,1320.08 939.127,1320.42 939.168,1320.45 939.185,1320.46 939.273,1320.53 939.303,1320.56 939.34,1320.58 939.645,1320.83 \n",
       "  939.791,1320.94 939.965,1321.08 940.033,1321.13 940.288,1321.34 940.38,1321.41 940.386,1321.41 940.575,1321.56 940.708,1321.67 941.106,1321.98 941.143,1322.01 \n",
       "  941.186,1322.05 941.289,1322.13 941.375,1322.2 941.389,1322.21 941.404,1322.22 941.525,1322.31 941.684,1322.44 941.959,1322.66 942.032,1322.71 942.082,1322.75 \n",
       "  942.157,1322.81 942.307,1322.93 942.577,1323.14 942.616,1323.17 942.666,1323.21 942.837,1323.35 942.846,1323.35 942.98,1323.46 943.028,1323.5 943.186,1323.62 \n",
       "  943.215,1323.64 943.652,1323.99 944.045,1324.29 944.046,1324.29 944.073,1324.32 944.192,1324.41 944.581,1324.71 944.733,1324.83 944.762,1324.85 945.115,1325.13 \n",
       "  945.14,1325.15 945.39,1325.34 945.622,1325.52 945.712,1325.59 945.977,1325.8 946.117,1325.91 946.186,1325.96 946.274,1326.03 946.386,1326.12 946.55,1326.24 \n",
       "  946.638,1326.31 947.252,1326.79 947.529,1327 947.674,1327.11 947.82,1327.23 947.874,1327.27 947.917,1327.3 947.958,1327.33 948,1327.37 948.29,1327.59 \n",
       "  948.392,1327.67 948.413,1327.69 948.699,1327.91 948.707,1327.91 948.724,1327.93 948.821,1328 949.033,1328.16 949.128,1328.24 949.383,1328.43 949.469,1328.5 \n",
       "  949.888,1328.82 950.018,1328.92 950.727,1329.46 950.95,1329.63 951.15,1329.79 951.467,1330.03 951.599,1330.13 951.777,1330.27 951.832,1330.31 951.832,1330.31 \n",
       "  951.915,1330.37 951.916,1330.37 952.001,1330.44 952.076,1330.49 952.135,1330.54 952.28,1330.65 952.376,1330.72 952.478,1330.8 952.643,1330.93 952.741,1331 \n",
       "  952.968,1331.17 953.577,1331.63 953.668,1331.7 953.74,1331.76 953.769,1331.78 953.797,1331.8 954.186,1332.1 954.317,1332.2 954.719,1332.5 954.961,1332.68 \n",
       "  955.073,1332.77 955.082,1332.77 955.245,1332.9 956.25,1333.65 956.382,1333.75 956.603,1333.92 957.2,1334.37 957.229,1334.39 957.436,1334.54 957.637,1334.69 \n",
       "  958.144,1335.07 958.153,1335.08 958.424,1335.28 958.479,1335.32 958.548,1335.37 958.668,1335.46 959.031,1335.73 959.234,1335.88 959.237,1335.89 959.283,1335.92 \n",
       "  959.544,1336.11 959.568,1336.13 960.245,1336.63 960.25,1336.64 960.506,1336.83 960.679,1336.96 960.712,1336.98 960.972,1337.17 961.383,1337.48 961.887,1337.85 \n",
       "  962.184,1338.07 962.496,1338.3 962.566,1338.35 962.571,1338.35 962.648,1338.41 962.689,1338.44 963.261,1338.86 963.345,1338.92 963.56,1339.08 963.603,1339.11 \n",
       "  963.702,1339.18 963.947,1339.36 963.972,1339.38 964.042,1339.43 964.084,1339.46 964.367,1339.67 964.399,1339.69 964.501,1339.77 964.544,1339.8 964.615,1339.85 \n",
       "  965.005,1340.13 965.269,1340.33 965.563,1340.54 965.778,1340.7 966.025,1340.88 966.399,1341.15 966.584,1341.28 966.613,1341.3 966.75,1341.4 967.37,1341.85 \n",
       "  967.906,1342.24 967.964,1342.28 968.483,1342.66 968.512,1342.68 968.672,1342.79 968.77,1342.86 968.826,1342.9 969.126,1343.12 969.392,1343.31 969.707,1343.54 \n",
       "  969.893,1343.67 969.932,1343.7 970.44,1344.06 970.925,1344.41 971.125,1344.55 971.353,1344.71 971.847,1345.07 971.896,1345.1 972.709,1345.68 972.746,1345.71 \n",
       "  973.408,1346.17 973.923,1346.54 973.984,1346.58 974.022,1346.61 974.049,1346.63 974.234,1346.76 974.5,1346.95 974.683,1347.08 974.8,1347.16 975.182,1347.43 \n",
       "  975.239,1347.47 975.254,1347.48 975.468,1347.63 975.495,1347.65 975.513,1347.66 975.6,1347.72 975.614,1347.73 975.663,1347.77 975.705,1347.8 975.727,1347.81 \n",
       "  976.108,1348.08 976.35,1348.25 976.978,1348.69 976.983,1348.69 977.07,1348.75 977.335,1348.94 977.827,1349.28 978.141,1349.5 978.42,1349.69 978.469,1349.73 \n",
       "  978.831,1349.98 978.999,1350.1 979.152,1350.2 979.156,1350.2 979.323,1350.32 979.618,1350.52 979.786,1350.64 979.93,1350.74 979.94,1350.75 980.059,1350.83 \n",
       "  980.096,1350.86 980.11,1350.86 980.162,1350.9 980.764,1351.32 980.988,1351.47 981.047,1351.51 981.153,1351.58 982.05,1352.2 983.377,1353.11 983.405,1353.13 \n",
       "  983.991,1353.53 984.16,1353.64 984.34,1353.77 984.574,1353.93 984.973,1354.2 985.294,1354.41 985.679,1354.68 986.182,1355.02 986.193,1355.02 986.247,1355.06 \n",
       "  986.61,1355.31 986.889,1355.49 987.549,1355.94 987.642,1356 987.66,1356.01 987.878,1356.16 988.319,1356.46 988.7,1356.71 988.754,1356.75 989.031,1356.93 \n",
       "  989.243,1357.07 989.65,1357.35 990.126,1357.66 990.229,1357.73 990.451,1357.88 990.838,1358.14 990.992,1358.24 991.046,1358.28 991.173,1358.36 991.175,1358.36 \n",
       "  991.384,1358.5 991.885,1358.83 992.102,1358.97 992.265,1359.08 992.325,1359.12 992.8,1359.44 993.15,1359.67 993.213,1359.71 993.61,1359.97 993.854,1360.13 \n",
       "  993.928,1360.18 994.117,1360.3 994.173,1360.34 994.23,1360.38 994.265,1360.4 994.318,1360.43 994.35,1360.45 994.557,1360.59 994.902,1360.82 995.194,1361.01 \n",
       "  995.327,1361.09 995.639,1361.3 996.203,1361.66 996.22,1361.68 996.31,1361.73 996.443,1361.82 996.992,1362.18 997.146,1362.28 997.168,1362.29 997.6,1362.57 \n",
       "  998.04,1362.86 998.075,1362.88 998.219,1362.97 998.632,1363.24 998.867,1363.39 998.869,1363.39 998.911,1363.42 998.916,1363.42 999.796,1363.99 999.892,1364.05 \n",
       "  999.942,1364.08 999.973,1364.1 1000.15,1364.21 1000.2,1364.25 1000.29,1364.3 1000.51,1364.44 1000.81,1364.64 1000.91,1364.7 1001.06,1364.8 1001.29,1364.94 \n",
       "  1001.4,1365.01 1001.43,1365.03 1001.81,1365.27 1001.84,1365.29 1001.91,1365.34 1002.57,1365.76 1002.67,1365.82 1002.84,1365.93 1003.04,1366.05 1003.15,1366.12 \n",
       "  1003.44,1366.31 1003.46,1366.32 1004.45,1366.94 1004.52,1366.99 1004.95,1367.26 1005.08,1367.34 1005.25,1367.45 1005.51,1367.61 1005.6,1367.67 1005.82,1367.8 \n",
       "  1006.26,1368.08 1006.31,1368.12 1006.84,1368.45 1006.86,1368.46 1007,1368.54 1007.05,1368.57 1007.07,1368.59 1007.48,1368.84 1008.26,1369.33 1008.64,1369.56 \n",
       "  1008.74,1369.62 1008.84,1369.69 1008.85,1369.69 1008.89,1369.72 1009.72,1370.23 1009.87,1370.32 1009.92,1370.35 1009.95,1370.37 1010.06,1370.44 1010.09,1370.46 \n",
       "  1010.8,1370.89 1010.88,1370.94 1011.08,1371.07 1011.18,1371.13 1011.19,1371.13 1011.2,1371.14 1011.38,1371.25 1011.39,1371.26 1012,1371.63 1012.02,1371.64 \n",
       "  1012.09,1371.69 1012.31,1371.82 1012.43,1371.89 1012.71,1372.06 1012.8,1372.12 1012.89,1372.17 1013.12,1372.32 1013.61,1372.61 1013.85,1372.75 1014.29,1373.03 \n",
       "  1014.36,1373.06 1014.37,1373.07 1014.54,1373.18 1014.56,1373.19 1014.6,1373.21 1014.63,1373.23 1014.74,1373.29 1014.77,1373.32 1014.84,1373.36 1014.89,1373.38 \n",
       "  1015.01,1373.46 1015.03,1373.47 1015.32,1373.65 1015.42,1373.71 1015.73,1373.89 1015.79,1373.93 1016.04,1374.08 1016.08,1374.1 1016.21,1374.18 1016.26,1374.21 \n",
       "  1016.27,1374.22 1016.5,1374.36 1016.6,1374.41 1017.29,1374.83 1017.3,1374.84 1017.32,1374.85 1017.34,1374.86 1017.45,1374.93 1017.69,1375.06 1018.13,1375.33 \n",
       "  1018.9,1375.78 1019.08,1375.89 1019.33,1376.04 1019.51,1376.15 1019.53,1376.16 1019.57,1376.18 1019.62,1376.21 1019.72,1376.27 1020.11,1376.5 1020.23,1376.58 \n",
       "  1021.1,1377.09 1021.19,1377.14 1021.45,1377.29 1021.51,1377.33 1021.6,1377.38 1021.7,1377.44 1021.94,1377.58 1021.94,1377.58 1022.04,1377.64 1022.53,1377.92 \n",
       "  1022.83,1378.1 1023.06,1378.23 1023.11,1378.26 1023.13,1378.28 1023.25,1378.34 1023.47,1378.47 1023.84,1378.69 1024.08,1378.83 1024.39,1379.01 1024.41,1379.02 \n",
       "  1024.49,1379.06 1024.52,1379.08 1024.71,1379.19 1025.35,1379.56 1025.96,1379.91 1026.11,1380 1026.46,1380.2 1026.51,1380.23 1026.62,1380.29 1026.72,1380.35 \n",
       "  1026.8,1380.4 1027.17,1380.61 1027.22,1380.64 1027.53,1380.82 1028.06,1381.12 1028.14,1381.17 1028.19,1381.19 1028.34,1381.28 1028.5,1381.37 1028.57,1381.41 \n",
       "  1028.94,1381.62 1029.21,1381.77 1029.51,1381.94 1030.12,1382.29 1030.14,1382.3 1030.26,1382.37 1030.39,1382.44 1031.9,1383.29 1031.95,1383.32 1032.1,1383.4 \n",
       "  1032.2,1383.46 1032.26,1383.49 1032.6,1383.68 1033.3,1384.07 1033.51,1384.19 1033.51,1384.19 1033.84,1384.37 1033.94,1384.43 1033.97,1384.45 1033.99,1384.46 \n",
       "  1034.27,1384.61 1034.3,1384.63 1034.4,1384.68 1034.42,1384.7 1034.43,1384.7 1034.94,1384.98 1035.04,1385.04 1035.06,1385.05 1035.06,1385.05 1035.31,1385.19 \n",
       "  1035.66,1385.38 1035.88,1385.5 1037.29,1386.28 1037.34,1386.31 1037.39,1386.33 1037.43,1386.35 1037.45,1386.36 1037.48,1386.38 1037.76,1386.53 1037.8,1386.56 \n",
       "  1038,1386.67 1038.5,1386.94 1038.67,1387.03 1038.69,1387.04 1038.83,1387.12 1038.88,1387.15 1039.41,1387.43 1039.82,1387.65 1039.9,1387.7 1040.08,1387.79 \n",
       "  1040.15,1387.83 1040.16,1387.84 1040.18,1387.85 1040.24,1387.88 1040.71,1388.14 1041.02,1388.3 1041.12,1388.35 1041.25,1388.43 1041.32,1388.46 1041.89,1388.77 \n",
       "  1041.9,1388.77 1041.9,1388.77 1042.08,1388.87 1042.11,1388.89 1042.17,1388.92 1042.52,1389.11 1042.7,1389.2 1042.8,1389.25 1043.06,1389.39 1043.47,1389.61 \n",
       "  1043.64,1389.7 1043.67,1389.72 1043.67,1389.72 1044.21,1390 1044.88,1390.36 1045.07,1390.46 1045.32,1390.59 1045.83,1390.86 1045.84,1390.86 1046.08,1390.99 \n",
       "  1046.1,1391 1046.66,1391.29 1046.75,1391.34 1047.39,1391.67 1047.49,1391.73 1047.63,1391.8 1047.88,1391.93 1048.33,1392.17 1048.48,1392.24 1048.49,1392.25 \n",
       "  1048.99,1392.51 1049.2,1392.62 1049.32,1392.68 1049.35,1392.69 1049.37,1392.71 1049.43,1392.73 1049.94,1393 1050.95,1393.52 1051.11,1393.6 1052.64,1394.38 \n",
       "  1052.87,1394.5 1052.98,1394.55 1053.13,1394.63 1053.13,1394.63 1053.15,1394.64 1053.3,1394.71 1053.5,1394.82 1053.56,1394.85 1053.58,1394.86 1053.66,1394.9 \n",
       "  1053.84,1394.99 1054.44,1395.29 1054.46,1395.3 1054.71,1395.43 1054.78,1395.46 1055.39,1395.77 1055.4,1395.78 1055.63,1395.89 1055.68,1395.91 1056.47,1396.31 \n",
       "  1056.6,1396.37 1056.95,1396.55 1056.99,1396.57 1057.31,1396.73 1057.36,1396.75 1057.97,1397.06 1057.97,1397.06 1057.99,1397.07 1058.37,1397.26 1058.57,1397.35 \n",
       "  1058.95,1397.54 1059.3,1397.71 1059.52,1397.82 1059.53,1397.83 1059.6,1397.86 1059.64,1397.88 1059.72,1397.92 1059.93,1398.02 1060.07,1398.09 1060.23,1398.17 \n",
       "  1060.25,1398.18 1060.44,1398.27 1060.48,1398.29 1060.92,1398.51 1061.22,1398.65 1061.38,1398.73 1061.49,1398.79 1061.52,1398.8 1061.65,1398.86 1061.81,1398.94 \n",
       "  1061.84,1398.95 1061.98,1399.02 1062.1,1399.08 1062.14,1399.1 1062.51,1399.28 1062.57,1399.31 1062.61,1399.33 1062.79,1399.42 1063,1399.52 1063.04,1399.54 \n",
       "  1063.07,1399.55 1063.4,1399.71 1063.68,1399.84 1063.69,1399.85 1064.53,1400.25 1064.57,1400.27 1064.59,1400.28 1064.62,1400.29 1064.72,1400.34 1065.07,1400.51 \n",
       "  1065.19,1400.56 1065.19,1400.57 1065.29,1400.61 1065.81,1400.86 1065.9,1400.9 1066.38,1401.13 1066.45,1401.17 1066.68,1401.27 1066.93,1401.39 1067.01,1401.43 \n",
       "  1067.13,1401.49 1067.16,1401.5 1067.7,1401.76 1067.73,1401.77 1068,1401.9 1068.1,1401.94 1068.16,1401.97 1068.68,1402.22 1069.26,1402.49 1069.3,1402.51 \n",
       "  1069.42,1402.56 1069.66,1402.67 1069.67,1402.68 1069.76,1402.72 1069.92,1402.79 1070.14,1402.9 1070.89,1403.25 1070.95,1403.27 1071.04,1403.31 1071.11,1403.34 \n",
       "  1071.12,1403.35 1071.68,1403.61 1071.86,1403.69 1071.88,1403.7 1072.06,1403.78 1072.1,1403.8 1072.23,1403.86 1072.48,1403.98 1072.6,1404.03 1072.62,1404.04 \n",
       "  1072.86,1404.15 1073.18,1404.3 1073.39,1404.39 1073.61,1404.49 1074.13,1404.73 1074.14,1404.73 1074.15,1404.74 1074.21,1404.77 1074.22,1404.77 1074.52,1404.9 \n",
       "  1074.84,1405.05 1074.87,1405.06 1074.87,1405.07 1074.87,1405.07 1074.99,1405.12 1075.1,1405.17 1075.71,1405.44 1075.85,1405.51 1075.95,1405.55 1076.32,1405.72 \n",
       "  1076.42,1405.76 1076.83,1405.95 1076.83,1405.95 1077,1406.02 1077.09,1406.06 1077.49,1406.24 1077.52,1406.25 1077.53,1406.26 1077.53,1406.26 1077.6,1406.29 \n",
       "  1078.27,1406.59 1078.29,1406.6 1078.42,1406.66 1078.44,1406.67 1078.62,1406.74 1078.85,1406.85 1078.87,1406.85 1079.23,1407.01 1079.41,1407.09 1079.52,1407.14 \n",
       "  1079.74,1407.24 1079.78,1407.26 1079.82,1407.27 1079.91,1407.32 1079.97,1407.34 1080.28,1407.48 1080.47,1407.56 1080.8,1407.7 1081.09,1407.83 1081.27,1407.91 \n",
       "  1081.81,1408.14 1082.33,1408.37 1082.65,1408.51 1082.65,1408.51 1082.8,1408.57 1083.18,1408.74 1083.45,1408.86 1083.6,1408.92 1084.05,1409.11 1084.13,1409.15 \n",
       "  1084.15,1409.15 1084.18,1409.17 1084.43,1409.28 1084.67,1409.38 1084.78,1409.42 1084.9,1409.48 1084.99,1409.51 1085.3,1409.65 1085.57,1409.76 1085.58,1409.77 \n",
       "  1085.8,1409.86 1085.93,1409.92 1086.32,1410.08 1086.42,1410.12 1086.46,1410.14 1086.64,1410.22 1086.64,1410.22 1086.91,1410.33 1087.21,1410.46 1087.26,1410.48 \n",
       "  1087.46,1410.56 1087.52,1410.59 1087.54,1410.6 1087.65,1410.64 1087.86,1410.73 1088.01,1410.8 1088.15,1410.85 1088.16,1410.86 1088.38,1410.95 1088.4,1410.96 \n",
       "  1088.52,1411.01 1088.53,1411.01 1088.6,1411.04 1088.61,1411.05 1088.83,1411.14 1088.96,1411.19 1089.05,1411.23 1089.11,1411.25 1089.35,1411.35 1089.8,1411.54 \n",
       "  1090.04,1411.64 1090.05,1411.64 1090.44,1411.8 1090.76,1411.94 1090.94,1412.01 1091.05,1412.06 1091.09,1412.08 1091.72,1412.33 1091.88,1412.4 1092.1,1412.49 \n",
       "  1092.11,1412.5 1093.13,1412.91 1093.14,1412.91 1093.23,1412.95 1093.42,1413.03 1093.43,1413.03 1093.43,1413.03 1093.48,1413.05 1093.59,1413.1 1093.65,1413.12 \n",
       "  1093.7,1413.14 1093.96,1413.25 1094.24,1413.36 1094.37,1413.41 1094.41,1413.43 1094.62,1413.51 1094.87,1413.61 1094.89,1413.62 1094.99,1413.66 1095.05,1413.69 \n",
       "  1095.18,1413.74 1095.2,1413.74 1095.33,1413.8 1095.49,1413.86 1095.54,1413.88 1095.65,1413.93 1095.73,1413.96 1096.36,1414.21 1096.48,1414.26 1096.53,1414.28 \n",
       "  1096.73,1414.36 1097.01,1414.47 1097.28,1414.58 1097.47,1414.65 1097.49,1414.66 1097.87,1414.81 1098.04,1414.88 1098.4,1415.01 1098.41,1415.02 1098.45,1415.04 \n",
       "  1098.58,1415.09 1098.58,1415.09 1099.09,1415.29 1099.21,1415.33 1099.22,1415.34 1099.25,1415.35 1100.18,1415.71 1100.19,1415.72 1100.36,1415.78 1100.63,1415.89 \n",
       "  1100.7,1415.91 1101.77,1416.33 1102.09,1416.45 1102.25,1416.51 1102.4,1416.57 1102.48,1416.6 1102.73,1416.7 1102.84,1416.74 1102.93,1416.77 1103.24,1416.89 \n",
       "  1103.27,1416.9 1103.55,1417.01 1103.7,1417.07 1103.9,1417.14 1103.99,1417.18 1104.15,1417.24 1104.43,1417.34 1104.44,1417.35 1105.04,1417.57 1105.25,1417.65 \n",
       "  1105.46,1417.73 1105.52,1417.75 1106.22,1418.02 1106.47,1418.11 1106.67,1418.18 1106.77,1418.22 1107.04,1418.32 1107.06,1418.33 1107.44,1418.47 1107.51,1418.49 \n",
       "  1108,1418.68 1109.28,1419.15 1109.46,1419.21 1109.47,1419.22 1109.5,1419.23 1109.61,1419.27 1109.75,1419.32 1109.96,1419.4 1109.99,1419.41 1110.25,1419.5 \n",
       "  1110.25,1419.5 1110.51,1419.59 1110.52,1419.6 1110.68,1419.66 1110.71,1419.67 1110.72,1419.67 1111,1419.77 1111.03,1419.78 1111.61,1419.99 1111.63,1420 \n",
       "  1111.93,1420.11 1112.1,1420.17 1112.14,1420.18 1112.18,1420.2 1112.48,1420.31 1112.84,1420.43 1112.96,1420.48 1113.12,1420.53 1113.5,1420.67 1114.24,1420.93 \n",
       "  1114.36,1420.97 1114.53,1421.03 1114.58,1421.05 1114.99,1421.19 1115.19,1421.27 1115.73,1421.45 1115.77,1421.47 1115.88,1421.51 1116.14,1421.6 1116.23,1421.63 \n",
       "  1116.36,1421.67 1116.4,1421.69 1116.49,1421.72 1117.32,1422.01 1117.81,1422.18 1117.84,1422.19 1118.5,1422.41 1118.55,1422.43 1118.56,1422.43 1118.86,1422.54 \n",
       "  1119.5,1422.75 1119.61,1422.79 1119.65,1422.81 1120.18,1422.99 1120.19,1422.99 1120.22,1423 1120.76,1423.18 1120.79,1423.19 1121.01,1423.27 1121.28,1423.35 \n",
       "  1121.47,1423.42 1121.53,1423.44 1122.63,1423.81 1123.11,1423.97 1123.19,1423.99 1123.62,1424.14 1123.87,1424.22 1123.94,1424.24 1125.26,1424.67 1125.37,1424.71 \n",
       "  1125.49,1424.75 1125.54,1424.76 1125.63,1424.79 1125.79,1424.84 1125.85,1424.86 1125.93,1424.89 1126,1424.91 1126.22,1424.98 1126.33,1425.02 1126.94,1425.22 \n",
       "  1127.28,1425.32 1127.5,1425.39 1127.52,1425.4 1127.55,1425.41 1127.57,1425.42 1127.71,1425.46 1127.78,1425.49 1128.06,1425.57 1128.21,1425.62 1128.22,1425.63 \n",
       "  1128.39,1425.68 1128.44,1425.69 1129.63,1426.07 1130.07,1426.21 1130.17,1426.24 1130.57,1426.37 1130.59,1426.37 1130.6,1426.38 1130.71,1426.41 1130.9,1426.47 \n",
       "  1131.23,1426.57 1131.41,1426.63 1131.81,1426.75 1132.05,1426.82 1132.27,1426.89 1132.27,1426.89 1132.29,1426.9 1132.38,1426.93 1132.84,1427.07 1133.01,1427.12 \n",
       "  1133.24,1427.19 1133.53,1427.28 1133.75,1427.35 1133.75,1427.35 1133.8,1427.36 1134.16,1427.47 1134.24,1427.49 1134.74,1427.65 1134.8,1427.66 1134.99,1427.72 \n",
       "  1136.01,1428.03 1136.17,1428.07 1136.47,1428.16 1136.54,1428.19 1136.68,1428.23 1136.77,1428.25 1137.18,1428.37 1137.37,1428.43 1137.62,1428.5 1137.76,1428.55 \n",
       "  1137.79,1428.55 1137.86,1428.58 1137.9,1428.59 1138.06,1428.63 1138.17,1428.67 1138.31,1428.71 1138.45,1428.75 1138.64,1428.8 1139.03,1428.92 1139.1,1428.94 \n",
       "  1139.2,1428.97 1139.34,1429.01 1139.39,1429.02 1139.51,1429.06 1139.79,1429.14 1140.04,1429.21 1140.18,1429.25 1140.58,1429.37 1140.87,1429.45 1140.88,1429.45 \n",
       "  1140.92,1429.46 1141.11,1429.52 1141.38,1429.59 1141.7,1429.69 1142.72,1429.97 1142.84,1430.01 1142.86,1430.01 1143.04,1430.06 1143.25,1430.12 1143.42,1430.17 \n",
       "  1143.74,1430.26 1143.91,1430.31 1144.07,1430.35 1144.69,1430.52 1144.78,1430.55 1144.98,1430.6 1145.3,1430.69 1145.61,1430.78 1145.73,1430.81 1146.13,1430.92 \n",
       "  1146.24,1430.95 1146.37,1430.99 1146.4,1430.99 1146.65,1431.06 1146.87,1431.12 1146.95,1431.14 1146.97,1431.15 1147,1431.16 1147.17,1431.2 1147.29,1431.24 \n",
       "  1147.4,1431.26 1147.44,1431.27 1147.54,1431.3 1147.64,1431.33 1148.46,1431.55 1148.84,1431.65 1148.86,1431.66 1149.01,1431.7 1149.28,1431.77 1149.31,1431.78 \n",
       "  1149.4,1431.8 1149.51,1431.83 1149.95,1431.94 1150.26,1432.02 1150.65,1432.13 1150.69,1432.14 1150.91,1432.2 1150.91,1432.2 1151.02,1432.23 1151.11,1432.25 \n",
       "  1151.14,1432.26 1151.19,1432.27 1151.79,1432.42 1151.83,1432.43 1151.88,1432.45 1151.95,1432.47 1152.12,1432.51 1152.32,1432.56 1152.36,1432.57 1152.38,1432.58 \n",
       "  1152.6,1432.63 1152.73,1432.67 1153.12,1432.77 1153.34,1432.82 1153.95,1432.98 1153.96,1432.98 1154.21,1433.04 1154.31,1433.07 1154.43,1433.1 1155.43,1433.35 \n",
       "  1155.49,1433.36 1156.1,1433.52 1156.19,1433.54 1156.33,1433.57 1156.49,1433.61 1156.6,1433.64 1156.7,1433.67 1156.75,1433.68 1156.93,1433.72 1157.09,1433.76 \n",
       "  1157.13,1433.77 1157.35,1433.83 1157.66,1433.9 1157.93,1433.97 1158.38,1434.08 1158.57,1434.12 1158.86,1434.19 1159.15,1434.26 1160.02,1434.47 1160.02,1434.47 \n",
       "  1160.08,1434.48 1160.2,1434.51 1160.33,1434.54 1160.34,1434.54 1160.49,1434.58 1160.91,1434.68 1161.27,1434.77 1161.33,1434.78 1161.52,1434.82 1161.55,1434.83 \n",
       "  1161.61,1434.84 1161.65,1434.85 1161.67,1434.86 1162.13,1434.97 1162.33,1435.01 1162.63,1435.08 1162.71,1435.1 1162.78,1435.12 1163,1435.17 1163.08,1435.19 \n",
       "  1163.13,1435.2 1163.29,1435.23 1163.45,1435.27 1163.54,1435.29 1163.85,1435.36 1163.97,1435.39 1164.26,1435.46 1164.48,1435.51 1164.58,1435.53 1164.78,1435.57 \n",
       "  1164.8,1435.58 1165.18,1435.66 1165.33,1435.7 1165.86,1435.82 1166.07,1435.86 1166.09,1435.87 1166.76,1436.02 1166.92,1436.05 1166.92,1436.05 1167.75,1436.23 \n",
       "  1168.24,1436.34 1168.58,1436.42 1168.61,1436.42 1168.73,1436.45 1168.8,1436.46 1168.81,1436.46 1168.83,1436.47 1168.9,1436.48 1169.05,1436.52 1169.07,1436.52 \n",
       "  1169.11,1436.53 1169.24,1436.56 1169.45,1436.6 1169.46,1436.6 1169.63,1436.64 1169.88,1436.69 1169.92,1436.7 1170.12,1436.74 1170.32,1436.79 1170.87,1436.9 \n",
       "  1171.32,1437 1171.6,1437.06 1171.61,1437.06 1171.64,1437.06 1172.39,1437.22 1172.56,1437.26 1172.62,1437.27 1173.22,1437.39 1173.31,1437.41 1173.39,1437.43 \n",
       "  1173.6,1437.47 1173.97,1437.55 1174.02,1437.56 1174.17,1437.59 1174.21,1437.59 1174.65,1437.68 1174.69,1437.69 1174.81,1437.72 1174.86,1437.73 1175.05,1437.76 \n",
       "  1175.37,1437.83 1175.77,1437.91 1176.19,1437.99 1176.37,1438.02 1176.41,1438.03 1176.47,1438.04 1176.47,1438.05 1176.53,1438.06 1176.53,1438.06 1176.92,1438.13 \n",
       "  1177.67,1438.28 1178.16,1438.37 1178.24,1438.39 1178.53,1438.44 1178.61,1438.46 1178.66,1438.47 1178.9,1438.51 1179.27,1438.58 1179.35,1438.6 1179.85,1438.7 \n",
       "  1180.06,1438.73 1180.15,1438.75 1180.78,1438.87 1180.84,1438.88 1180.98,1438.91 1181.05,1438.92 1181.27,1438.96 1181.36,1438.98 1181.58,1439.02 1181.69,1439.04 \n",
       "  1181.75,1439.05 1182.06,1439.1 1182.22,1439.13 1182.22,1439.13 1182.38,1439.16 1182.38,1439.16 1182.42,1439.17 1183.08,1439.29 1183.38,1439.34 1183.39,1439.34 \n",
       "  1183.49,1439.36 1183.49,1439.36 1183.78,1439.41 1184.27,1439.5 1184.31,1439.51 1185.17,1439.66 1185.17,1439.66 1185.33,1439.69 1185.76,1439.76 1185.83,1439.77 \n",
       "  1186.16,1439.83 1186.18,1439.84 1186.21,1439.84 1186.21,1439.84 1186.34,1439.86 1186.61,1439.91 1186.86,1439.95 1187.41,1440.05 1187.46,1440.05 1187.63,1440.08 \n",
       "  1187.74,1440.1 1187.88,1440.12 1187.91,1440.13 1188.04,1440.15 1188.1,1440.16 1188.14,1440.17 1188.39,1440.21 1188.4,1440.21 1188.41,1440.21 1188.57,1440.24 \n",
       "  1188.61,1440.25 1188.93,1440.3 1189.36,1440.37 1189.44,1440.38 1189.58,1440.41 1190.18,1440.5 1190.2,1440.51 1190.31,1440.52 1190.62,1440.57 1190.68,1440.58 \n",
       "  1191.11,1440.65 1191.19,1440.67 1191.21,1440.67 1191.28,1440.68 1191.31,1440.69 1191.37,1440.69 1191.54,1440.72 1191.58,1440.73 1191.86,1440.77 1192.19,1440.82 \n",
       "  1192.3,1440.84 1192.51,1440.87 1192.73,1440.91 1192.79,1440.92 1193.12,1440.97 1193.24,1440.99 1193.26,1440.99 1193.36,1441.01 1193.62,1441.05 1193.68,1441.06 \n",
       "  1193.84,1441.08 1194.07,1441.12 1194.09,1441.12 1194.15,1441.13 1194.17,1441.13 1194.47,1441.18 1194.52,1441.18 1195.01,1441.26 1195.03,1441.26 1195.4,1441.31 \n",
       "  1195.54,1441.34 1195.63,1441.35 1196.04,1441.41 1196.09,1441.42 1196.19,1441.43 1196.48,1441.47 1196.78,1441.52 1197.04,1441.56 1197.51,1441.62 1197.55,1441.63 \n",
       "  1197.73,1441.66 1197.75,1441.66 1198,1441.69 1198.22,1441.72 1198.5,1441.76 1198.6,1441.78 1198.63,1441.78 1198.84,1441.81 1199.33,1441.88 1199.72,1441.93 \n",
       "  1199.85,1441.95 1199.91,1441.96 1200.43,1442.03 1200.65,1442.06 1201,1442.11 1201.29,1442.15 1201.34,1442.15 1201.43,1442.17 1201.46,1442.17 1201.54,1442.18 \n",
       "  1201.74,1442.21 1201.87,1442.23 1201.94,1442.23 1202,1442.24 1202.19,1442.27 1202.28,1442.28 1202.37,1442.29 1202.48,1442.31 1202.49,1442.31 1202.78,1442.35 \n",
       "  1202.97,1442.37 1203.02,1442.38 1203.1,1442.39 1203.37,1442.42 1203.39,1442.42 1203.63,1442.46 1203.84,1442.48 1204.08,1442.51 1204.1,1442.52 1204.48,1442.56 \n",
       "  1204.78,1442.6 1204.98,1442.63 1205.21,1442.65 1205.29,1442.66 1205.78,1442.72 1205.94,1442.74 1206.64,1442.83 1206.79,1442.85 1207.12,1442.89 1207.48,1442.93 \n",
       "  1207.68,1442.95 1207.92,1442.98 1207.95,1442.99 1208.39,1443.04 1208.55,1443.06 1208.96,1443.1 1208.98,1443.1 1209.01,1443.11 1209.36,1443.15 1209.62,1443.18 \n",
       "  1210.28,1443.25 1210.3,1443.25 1210.39,1443.26 1210.48,1443.27 1210.79,1443.31 1210.89,1443.32 1210.98,1443.33 1211.56,1443.39 1211.57,1443.39 1211.91,1443.43 \n",
       "  1212.28,1443.47 1212.82,1443.53 1213.62,1443.61 1213.71,1443.62 1213.94,1443.64 1213.95,1443.64 1213.95,1443.64 1214,1443.65 1214.07,1443.66 1214.22,1443.67 \n",
       "  1214.4,1443.69 1214.5,1443.7 1214.5,1443.7 1214.7,1443.72 1214.71,1443.72 1214.75,1443.72 1215.64,1443.81 1215.67,1443.82 1215.98,1443.85 1216.35,1443.88 \n",
       "  1216.45,1443.89 1216.47,1443.89 1216.89,1443.93 1217.24,1443.97 1217.41,1443.98 1217.61,1444 1218.07,1444.04 1218.22,1444.06 1218.65,1444.1 1218.7,1444.1 \n",
       "  1219.2,1444.15 1219.22,1444.15 1219.5,1444.17 1219.74,1444.19 1220.25,1444.24 1220.41,1444.25 1220.55,1444.26 1221.17,1444.32 1221.24,1444.32 1221.27,1444.32 \n",
       "  1221.41,1444.34 1221.42,1444.34 1221.53,1444.35 1221.77,1444.37 1221.99,1444.38 1222.43,1444.42 1222.83,1444.45 1223.08,1444.47 1223.09,1444.47 1223.13,1444.48 \n",
       "  1223.22,1444.48 1223.32,1444.49 1223.46,1444.5 1223.84,1444.53 1223.94,1444.54 1224.05,1444.55 1224.39,1444.57 1224.81,1444.6 1224.84,1444.61 1225.15,1444.63 \n",
       "  1225.2,1444.63 1225.63,1444.67 1225.91,1444.69 1226.04,1444.69 1226.28,1444.71 1226.34,1444.72 1226.75,1444.75 1226.79,1444.75 1226.81,1444.75 1226.85,1444.75 \n",
       "  1226.86,1444.75 1226.96,1444.76 1227.08,1444.77 1227.1,1444.77 1227.15,1444.77 1227.22,1444.78 1227.32,1444.78 1227.41,1444.79 1227.73,1444.81 1228.19,1444.84 \n",
       "  1228.32,1444.85 1228.72,1444.88 1229.01,1444.9 1229.49,1444.93 1229.61,1444.94 1229.71,1444.94 1229.92,1444.95 1230.21,1444.97 1230.26,1444.98 1231.08,1445.02 \n",
       "  1231.19,1445.03 1231.54,1445.05 1231.63,1445.06 1231.64,1445.06 1231.72,1445.06 1232.01,1445.08 1232.05,1445.08 1232.55,1445.11 1232.57,1445.11 1232.83,1445.12 \n",
       "  1232.89,1445.13 1233.28,1445.15 1233.67,1445.17 1234.09,1445.19 1234.39,1445.21 1234.55,1445.21 1234.7,1445.22 1234.78,1445.23 1234.82,1445.23 1234.83,1445.23 \n",
       "  1235.15,1445.24 1235.32,1445.25 1235.37,1445.25 1235.73,1445.27 1236.05,1445.29 1236.11,1445.29 1236.37,1445.3 1236.43,1445.3 1236.54,1445.31 1236.77,1445.32 \n",
       "  1237.19,1445.34 1237.41,1445.35 1237.9,1445.37 1238.02,1445.37 1238.1,1445.38 1238.22,1445.38 1238.43,1445.39 1238.56,1445.4 1238.68,1445.4 1238.75,1445.4 \n",
       "  1239.25,1445.42 1239.46,1445.43 1239.58,1445.43 1239.59,1445.44 1239.67,1445.44 1239.74,1445.44 1239.79,1445.44 1239.91,1445.45 1240.37,1445.46 1240.38,1445.46 \n",
       "  1240.49,1445.47 1240.73,1445.48 1240.81,1445.48 1240.89,1445.48 1240.94,1445.48 1241.41,1445.5 1241.68,1445.51 1241.75,1445.51 1241.77,1445.51 1242.17,1445.52 \n",
       "  1242.63,1445.54 1242.82,1445.54 1243.14,1445.55 1243.24,1445.56 1243.24,1445.56 1243.35,1445.56 1243.37,1445.56 1243.5,1445.56 1243.69,1445.57 1243.85,1445.57 \n",
       "  1244.27,1445.58 1244.38,1445.59 1244.43,1445.59 1244.59,1445.59 1244.6,1445.59 1245.16,1445.61 1245.2,1445.61 1245.29,1445.61 1245.5,1445.61 1245.62,1445.62 \n",
       "  1245.79,1445.62 1246.24,1445.63 1246.42,1445.63 1246.45,1445.63 1246.57,1445.64 1246.68,1445.64 1247.24,1445.65 1247.57,1445.66 1247.68,1445.66 1248.45,1445.67 \n",
       "  1248.52,1445.67 1248.61,1445.67 1248.88,1445.68 1248.91,1445.68 1249.05,1445.68 1249.07,1445.68 1249.11,1445.68 1249.22,1445.68 1249.32,1445.68 1249.61,1445.69 \n",
       "  1249.69,1445.69 1249.9,1445.69 1250.02,1445.69 1250.48,1445.7 1250.62,1445.7 1250.69,1445.7 1250.96,1445.7 1251.05,1445.7 1251.06,1445.7 1251.11,1445.7 \n",
       "  1251.12,1445.7 1251.45,1445.7 1251.57,1445.7 1252.09,1445.71 1252.26,1445.71 1252.41,1445.71 1252.43,1445.71 1252.43,1445.71 1252.5,1445.71 1252.5,1445.71 \n",
       "  1253.1,1445.71 1253.28,1445.71 1253.4,1445.71 1253.5,1445.71 1254.56,1445.72 1255.14,1445.72 1255.3,1445.71 1255.35,1445.71 1255.37,1445.71 1255.42,1445.71 \n",
       "  1255.56,1445.71 1255.8,1445.71 1256.1,1445.71 1256.13,1445.71 1256.51,1445.71 1256.64,1445.71 1256.78,1445.71 1256.8,1445.71 1256.82,1445.71 1256.85,1445.71 \n",
       "  1257.2,1445.71 1257.27,1445.71 1257.49,1445.7 1257.53,1445.7 1257.62,1445.7 1257.93,1445.7 1258.86,1445.69 1258.94,1445.69 1259.11,1445.69 1259.34,1445.69 \n",
       "  1259.68,1445.68 1259.8,1445.68 1259.85,1445.68 1259.99,1445.68 1260.12,1445.68 1260.31,1445.67 1260.6,1445.67 1260.65,1445.67 1260.96,1445.66 1261.11,1445.66 \n",
       "  1261.14,1445.66 1261.17,1445.66 1261.27,1445.66 1261.58,1445.65 1261.65,1445.65 1261.68,1445.65 1261.97,1445.65 1262.12,1445.64 1262.56,1445.63 1262.94,1445.63 \n",
       "  1263.46,1445.61 1263.66,1445.61 1263.71,1445.61 1264.01,1445.6 1264.12,1445.6 1264.16,1445.6 1264.17,1445.6 1264.23,1445.6 1264.72,1445.58 1264.77,1445.58 \n",
       "  1264.9,1445.58 1265.4,1445.57 1265.6,1445.56 1265.69,1445.56 1265.85,1445.55 1265.91,1445.55 1265.98,1445.55 1266.07,1445.55 1266.13,1445.55 1266.22,1445.54 \n",
       "  1267.08,1445.52 1267.15,1445.51 1267.39,1445.51 1267.52,1445.5 1267.76,1445.49 1268.33,1445.47 1268.66,1445.46 1268.69,1445.46 1268.85,1445.46 1269.26,1445.44 \n",
       "  1269.3,1445.44 1269.33,1445.44 1269.36,1445.44 1269.47,1445.43 1269.59,1445.43 1269.83,1445.42 1270,1445.41 1270.12,1445.41 1270.29,1445.4 1270.3,1445.4 \n",
       "  1270.37,1445.4 1270.43,1445.4 1270.44,1445.4 1270.51,1445.39 1270.58,1445.39 1270.68,1445.39 1271.03,1445.37 1271.23,1445.36 1271.32,1445.36 1271.37,1445.36 \n",
       "  1271.43,1445.35 1271.8,1445.34 1272.54,1445.31 1272.88,1445.29 1272.99,1445.29 1273.33,1445.27 1273.34,1445.27 1273.39,1445.27 1273.55,1445.26 1273.65,1445.25 \n",
       "  1273.75,1445.25 1273.96,1445.24 1274.11,1445.23 1274.38,1445.22 1274.44,1445.22 1274.53,1445.21 1274.55,1445.21 1274.56,1445.21 1274.92,1445.19 1274.93,1445.19 \n",
       "  1275.14,1445.18 1275.42,1445.16 1276.11,1445.13 1276.47,1445.11 1276.54,1445.1 1276.63,1445.1 1276.67,1445.1 1276.77,1445.09 1276.8,1445.09 1276.83,1445.09 \n",
       "  1276.85,1445.09 1277.08,1445.07 1277.31,1445.06 1277.34,1445.06 1277.47,1445.05 1277.95,1445.02 1278.05,1445.02 1278.36,1445 1278.46,1444.99 1278.78,1444.97 \n",
       "  1278.99,1444.96 1279.03,1444.96 1279.19,1444.95 1279.31,1444.94 1279.43,1444.93 1279.55,1444.93 1279.58,1444.92 1279.65,1444.92 1279.69,1444.92 1280.22,1444.88 \n",
       "  1280.35,1444.87 1280.66,1444.85 1280.79,1444.85 1281,1444.83 1281.4,1444.8 1281.42,1444.8 1281.47,1444.8 1281.49,1444.8 1281.51,1444.8 1281.9,1444.77 \n",
       "  1282.2,1444.75 1282.27,1444.74 1282.8,1444.71 1282.91,1444.7 1283.26,1444.67 1283.48,1444.66 1283.57,1444.65 1283.76,1444.64 1283.8,1444.63 1283.89,1444.63 \n",
       "  1283.96,1444.62 1284.03,1444.62 1284.31,1444.6 1284.37,1444.59 1284.54,1444.58 1284.68,1444.57 1284.69,1444.57 1284.86,1444.56 1284.96,1444.55 1285.1,1444.54 \n",
       "  1285.1,1444.54 1285.22,1444.53 1285.46,1444.51 1285.53,1444.5 1286.06,1444.46 1286.5,1444.43 1287.57,1444.34 1287.92,1444.31 1288.13,1444.29 1288.34,1444.27 \n",
       "  1288.42,1444.27 1288.43,1444.27 1288.77,1444.24 1288.87,1444.23 1288.89,1444.23 1289.2,1444.2 1289.36,1444.18 1289.43,1444.18 1289.57,1444.17 1290,1444.13 \n",
       "  1290.06,1444.12 1290.12,1444.12 1290.18,1444.11 1290.29,1444.1 1290.3,1444.1 1290.42,1444.09 1290.51,1444.08 1290.57,1444.08 1290.59,1444.08 1290.62,1444.07 \n",
       "  1290.8,1444.06 1291,1444.04 1291.21,1444.02 1291.75,1443.97 1292.27,1443.92 1292.51,1443.9 1292.61,1443.89 1292.78,1443.87 1293.28,1443.82 1293.4,1443.81 \n",
       "  1293.54,1443.8 1293.7,1443.78 1293.75,1443.78 1294.01,1443.75 1294.1,1443.74 1294.19,1443.73 1294.75,1443.68 1294.76,1443.67 1294.85,1443.67 1294.89,1443.66 \n",
       "  1295.12,1443.64 1295.34,1443.62 1295.49,1443.6 1295.64,1443.58 1295.88,1443.56 1295.96,1443.55 1296.09,1443.54 1296.42,1443.5 1296.46,1443.5 1296.78,1443.46 \n",
       "  1296.82,1443.46 1297.62,1443.37 1297.82,1443.35 1297.94,1443.34 1298.59,1443.27 1298.79,1443.25 1298.84,1443.24 1298.9,1443.23 1299.31,1443.19 1300.14,1443.09 \n",
       "  1300.23,1443.08 1300.25,1443.08 1300.47,1443.05 1300.63,1443.04 1300.72,1443.02 1301.09,1442.98 1301.47,1442.94 1301.83,1442.89 1301.9,1442.89 1302.34,1442.83 \n",
       "  1302.35,1442.83 1302.47,1442.82 1302.59,1442.8 1302.73,1442.79 1302.89,1442.77 1303.08,1442.74 1303.14,1442.74 1303.81,1442.65 1303.93,1442.64 1304.01,1442.63 \n",
       "  1304.12,1442.61 1304.26,1442.6 1305.07,1442.49 1305.28,1442.47 1305.33,1442.46 1305.78,1442.4 1305.79,1442.4 1306.86,1442.26 1307.03,1442.24 1307.13,1442.23 \n",
       "  1307.23,1442.21 1307.61,1442.16 1307.97,1442.11 1308.53,1442.04 1308.63,1442.03 1308.73,1442.01 1308.73,1442.01 1309.07,1441.96 1309.85,1441.86 1310.1,1441.82 \n",
       "  1310.62,1441.75 1310.63,1441.75 1311.46,1441.63 1311.8,1441.58 1311.86,1441.57 1311.92,1441.56 1312.18,1441.52 1312.5,1441.48 1312.66,1441.45 1312.68,1441.45 \n",
       "  1312.7,1441.45 1312.75,1441.44 1313.27,1441.37 1313.43,1441.34 1313.51,1441.33 1314.1,1441.24 1314.16,1441.23 1314.17,1441.23 1314.56,1441.17 1314.72,1441.15 \n",
       "  1315.24,1441.07 1315.61,1441.01 1315.73,1440.99 1315.85,1440.97 1315.88,1440.97 1315.99,1440.95 1316.36,1440.89 1316.58,1440.86 1316.69,1440.84 1316.7,1440.84 \n",
       "  1316.74,1440.84 1316.83,1440.82 1317.02,1440.79 1317.13,1440.77 1317.25,1440.76 1317.62,1440.7 1318.03,1440.63 1318.11,1440.62 1318.17,1440.61 1318.24,1440.6 \n",
       "  1318.47,1440.56 1318.54,1440.55 1318.54,1440.55 1318.59,1440.54 1319.17,1440.45 1319.26,1440.43 1320.18,1440.28 1320.39,1440.25 1320.68,1440.2 1320.82,1440.18 \n",
       "  1320.87,1440.17 1321.31,1440.09 1321.34,1440.09 1321.6,1440.04 1321.77,1440.02 1321.82,1440.01 1322.04,1439.97 1322.32,1439.92 1322.4,1439.91 1322.49,1439.89 \n",
       "  1322.57,1439.88 1322.94,1439.82 1323.13,1439.78 1323.2,1439.77 1323.23,1439.77 1323.28,1439.76 1323.8,1439.67 1323.95,1439.64 1324.27,1439.58 1324.28,1439.58 \n",
       "  1324.4,1439.56 1324.42,1439.56 1324.74,1439.5 1324.96,1439.46 1325.35,1439.39 1325.92,1439.29 1326.17,1439.25 1326.28,1439.23 1326.65,1439.16 1326.82,1439.13 \n",
       "  1326.84,1439.12 1326.92,1439.11 1326.99,1439.1 1327.14,1439.07 1327.22,1439.05 1327.23,1439.05 1327.24,1439.05 1327.29,1439.04 1327.45,1439.01 1327.48,1439.01 \n",
       "  1327.58,1438.99 1327.8,1438.95 1327.87,1438.93 1328.58,1438.8 1328.58,1438.8 1328.65,1438.79 1329.76,1438.58 1329.82,1438.57 1330.54,1438.43 1330.62,1438.42 \n",
       "  1330.7,1438.4 1330.79,1438.38 1331.37,1438.27 1331.84,1438.18 1331.97,1438.16 1332.07,1438.14 1332.41,1438.07 1332.55,1438.04 1332.61,1438.03 1332.76,1438 \n",
       "  1332.77,1438 1332.81,1437.99 1332.9,1437.97 1332.93,1437.97 1333.46,1437.86 1333.48,1437.86 1333.49,1437.86 1333.61,1437.83 1333.79,1437.8 1333.8,1437.79 \n",
       "  1333.93,1437.77 1333.99,1437.76 1334.22,1437.71 1334.36,1437.68 1334.45,1437.66 1334.8,1437.59 1335.13,1437.53 1335.17,1437.52 1335.31,1437.49 1335.31,1437.49 \n",
       "  1335.34,1437.48 1335.6,1437.43 1335.71,1437.41 1336.15,1437.32 1336.26,1437.3 1336.44,1437.26 1336.67,1437.21 1336.68,1437.21 1336.82,1437.18 1336.85,1437.17 \n",
       "  1337.34,1437.07 1337.95,1436.94 1337.96,1436.94 1338.02,1436.93 1338.02,1436.93 1338.38,1436.85 1338.46,1436.84 1338.66,1436.79 1338.66,1436.79 1338.69,1436.79 \n",
       "  1338.9,1436.74 1339.09,1436.7 1339.15,1436.69 1339.19,1436.68 1339.24,1436.67 1339.32,1436.65 1340.11,1436.48 1340.39,1436.42 1340.62,1436.37 1340.95,1436.3 \n",
       "  1341.35,1436.22 1341.46,1436.19 1341.65,1436.15 1341.66,1436.15 1341.94,1436.09 1341.96,1436.08 1342.18,1436.03 1342.23,1436.02 1342.43,1435.98 1342.51,1435.96 \n",
       "  1342.88,1435.88 1343.01,1435.85 1343.48,1435.74 1343.5,1435.74 1343.63,1435.71 1343.99,1435.63 1344.6,1435.49 1344.63,1435.48 1344.68,1435.47 1344.69,1435.47 \n",
       "  1344.75,1435.46 1344.98,1435.4 1345.17,1435.36 1345.39,1435.31 1345.62,1435.26 1345.64,1435.25 1346.02,1435.17 1346.33,1435.09 1346.48,1435.06 1347.65,1434.79 \n",
       "  1347.83,1434.74 1348.03,1434.7 1348.1,1434.68 1348.11,1434.68 1348.11,1434.68 1348.4,1434.61 1348.43,1434.6 1348.58,1434.57 1349.32,1434.39 1349.73,1434.29 \n",
       "  1349.95,1434.24 1350.19,1434.18 1350.34,1434.14 1350.41,1434.13 1350.78,1434.04 1351.22,1433.93 1351.39,1433.89 1351.48,1433.87 1351.5,1433.86 1351.53,1433.86 \n",
       "  1351.58,1433.84 1351.97,1433.75 1352.5,1433.62 1352.89,1433.52 1353.04,1433.48 1353.32,1433.41 1353.45,1433.38 1353.47,1433.38 1353.63,1433.34 1353.75,1433.31 \n",
       "  1353.97,1433.25 1354.06,1433.23 1354.43,1433.14 1354.67,1433.08 1354.8,1433.04 1354.82,1433.04 1354.95,1433 1355.18,1432.95 1355.2,1432.94 1355.79,1432.79 \n",
       "  1355.83,1432.78 1356.06,1432.72 1356.06,1432.72 1356.18,1432.69 1356.87,1432.51 1356.95,1432.49 1356.98,1432.49 1357.43,1432.37 1357.57,1432.33 1357.58,1432.33 \n",
       "  1358.04,1432.21 1358.06,1432.21 1358.12,1432.19 1358.3,1432.14 1358.35,1432.13 1358.63,1432.06 1358.72,1432.03 1358.77,1432.02 1358.83,1432 1359.05,1431.95 \n",
       "  1359.17,1431.91 1359.19,1431.91 1359.27,1431.89 1360.51,1431.56 1360.58,1431.54 1361.01,1431.42 1361.05,1431.41 1361.5,1431.29 1361.7,1431.24 1361.71,1431.24 \n",
       "  1362.12,1431.13 1362.36,1431.06 1362.63,1430.99 1362.88,1430.92 1362.97,1430.89 1363.25,1430.82 1363.32,1430.8 1363.39,1430.78 1363.39,1430.78 1363.79,1430.67 \n",
       "  1364.11,1430.58 1364.34,1430.52 1364.54,1430.46 1364.59,1430.45 1364.85,1430.38 1365.26,1430.26 1365.32,1430.25 1365.73,1430.13 1366.34,1429.96 1366.4,1429.94 \n",
       "  1366.64,1429.87 1366.69,1429.86 1366.74,1429.85 1366.76,1429.84 1366.77,1429.84 1366.81,1429.83 1367.31,1429.68 1367.45,1429.64 1367.51,1429.63 1367.58,1429.61 \n",
       "  1367.78,1429.55 1367.88,1429.52 1367.91,1429.52 1368.44,1429.36 1368.47,1429.35 1368.74,1429.28 1368.85,1429.24 1368.89,1429.23 1368.9,1429.23 1369.06,1429.19 \n",
       "  1369.08,1429.18 1369.19,1429.15 1369.24,1429.13 1370.56,1428.75 1370.85,1428.66 1370.91,1428.65 1371.28,1428.54 1372.44,1428.19 1372.47,1428.19 1372.49,1428.18 \n",
       "  1372.51,1428.17 1372.53,1428.17 1372.82,1428.08 1372.89,1428.06 1372.92,1428.05 1372.93,1428.05 1373.26,1427.95 1373.29,1427.94 1374.25,1427.65 1374.42,1427.6 \n",
       "  1374.52,1427.57 1374.89,1427.46 1375.49,1427.28 1375.6,1427.24 1375.94,1427.14 1376.05,1427.1 1376.27,1427.04 1376.49,1426.97 1376.5,1426.97 1376.62,1426.93 \n",
       "  1376.62,1426.93 1376.8,1426.87 1376.81,1426.87 1377.6,1426.63 1377.65,1426.61 1377.74,1426.58 1377.91,1426.53 1377.98,1426.51 1378.18,1426.45 1378.35,1426.39 \n",
       "  1378.35,1426.39 1378.45,1426.36 1378.55,1426.33 1379.06,1426.17 1379.22,1426.12 1379.55,1426.02 1379.57,1426.01 1380.47,1425.73 1380.8,1425.62 1380.85,1425.61 \n",
       "  1381.25,1425.48 1381.44,1425.42 1381.47,1425.41 1381.64,1425.35 1382.11,1425.2 1382.21,1425.17 1382.46,1425.09 1382.46,1425.09 1382.48,1425.08 1382.71,1425.01 \n",
       "  1382.72,1425.01 1382.85,1424.96 1383.38,1424.79 1383.47,1424.76 1383.62,1424.71 1383.69,1424.69 1384.37,1424.47 1384.4,1424.46 1384.71,1424.36 1385.45,1424.11 \n",
       "  1385.59,1424.07 1385.91,1423.96 1386.23,1423.86 1386.29,1423.84 1386.68,1423.71 1386.95,1423.62 1387,1423.6 1387.29,1423.5 1387.55,1423.42 1387.9,1423.3 \n",
       "  1388.3,1423.17 1389.02,1422.92 1390.39,1422.46 1390.66,1422.36 1390.66,1422.36 1390.72,1422.34 1390.8,1422.32 1390.83,1422.3 1390.84,1422.3 1390.96,1422.26 \n",
       "  1391.02,1422.24 1391.06,1422.22 1391.27,1422.15 1391.67,1422.01 1391.89,1421.94 1392.56,1421.71 1392.66,1421.67 1392.8,1421.62 1392.89,1421.59 1392.91,1421.58 \n",
       "  1393.12,1421.51 1393.22,1421.48 1393.27,1421.46 1393.49,1421.38 1393.77,1421.28 1394.25,1421.11 1394.31,1421.09 1394.6,1420.99 1394.68,1420.96 1394.71,1420.95 \n",
       "  1394.97,1420.86 1395.02,1420.84 1395.09,1420.82 1395.15,1420.8 1395.54,1420.66 1395.93,1420.52 1395.94,1420.51 1396.25,1420.4 1396.7,1420.24 1396.84,1420.19 \n",
       "  1396.95,1420.15 1397.32,1420.02 1397.55,1419.94 1398.04,1419.76 1398.1,1419.74 1398.73,1419.51 1399.33,1419.29 1400.04,1419.03 1400.55,1418.84 1400.66,1418.81 \n",
       "  1400.9,1418.72 1400.99,1418.68 1401.42,1418.53 1401.53,1418.49 1401.83,1418.37 1402.04,1418.3 1402.37,1418.17 1402.66,1418.07 1402.67,1418.06 1402.84,1418 \n",
       "  1403.01,1417.93 1403.6,1417.71 1403.7,1417.67 1403.82,1417.63 1404,1417.56 1404.44,1417.39 1404.76,1417.27 1404.81,1417.25 1404.99,1417.19 1405.17,1417.12 \n",
       "  1405.49,1417 1405.7,1416.92 1405.79,1416.88 1405.92,1416.83 1406.93,1416.45 1407.2,1416.34 1407.2,1416.34 1407.44,1416.25 1407.99,1416.04 1408.16,1415.97 \n",
       "  1408.31,1415.91 1408.67,1415.77 1409.77,1415.35 1410.17,1415.19 1410.42,1415.09 1410.67,1414.99 1411.07,1414.83 1411.09,1414.83 1411.13,1414.81 1411.26,1414.76 \n",
       "  1411.27,1414.76 1411.44,1414.69 1411.46,1414.68 1411.81,1414.54 1412.69,1414.19 1413.08,1414.04 1413.21,1413.99 1413.25,1413.97 1413.46,1413.88 1413.54,1413.85 \n",
       "  1413.64,1413.82 1413.89,1413.71 1414.07,1413.64 1414.1,1413.63 1414.13,1413.61 1414.3,1413.55 1414.32,1413.54 1414.55,1413.45 1414.75,1413.37 1414.93,1413.3 \n",
       "  1415.06,1413.24 1415.36,1413.12 1416.02,1412.85 1416.28,1412.75 1416.33,1412.72 1416.36,1412.71 1416.43,1412.68 1416.83,1412.52 1416.89,1412.5 1417.02,1412.45 \n",
       "  1417.19,1412.38 1417.32,1412.32 1417.64,1412.19 1417.66,1412.18 1417.87,1412.09 1418.25,1411.94 1418.26,1411.94 1418.38,1411.88 1418.38,1411.88 1418.42,1411.87 \n",
       "  1418.56,1411.81 1418.7,1411.75 1418.81,1411.71 1419.08,1411.59 1419.21,1411.54 1419.28,1411.51 1419.34,1411.49 1419.93,1411.24 1420.25,1411.11 1420.45,1411.02 \n",
       "  1420.52,1410.99 1420.54,1410.99 1420.69,1410.92 1421.12,1410.74 1421.22,1410.7 1421.57,1410.56 1421.59,1410.54 1421.67,1410.51 1421.84,1410.44 1422.06,1410.35 \n",
       "  1422.16,1410.3 1422.21,1410.28 1422.4,1410.21 1422.43,1410.19 1423.15,1409.89 1423.66,1409.67 1424.15,1409.46 1424.17,1409.45 1424.51,1409.31 1424.72,1409.22 \n",
       "  1424.75,1409.2 1424.8,1409.18 1424.82,1409.17 1424.86,1409.16 1424.88,1409.15 1425.03,1409.08 1425.4,1408.92 1425.44,1408.91 1426.05,1408.64 1426.57,1408.42 \n",
       "  1426.62,1408.39 1426.82,1408.31 1426.95,1408.25 1427,1408.23 1427.01,1408.23 1427.13,1408.17 1427.26,1408.12 1427.37,1408.07 1427.44,1408.04 1427.63,1407.96 \n",
       "  1427.99,1407.8 1428.07,1407.77 1428.17,1407.72 1428.44,1407.6 1428.95,1407.38 1428.98,1407.37 1429.05,1407.33 1429.36,1407.2 1429.57,1407.11 1429.88,1406.97 \n",
       "  1430.25,1406.81 1430.34,1406.76 1430.35,1406.76 1430.38,1406.75 1430.42,1406.73 1430.53,1406.68 1430.58,1406.66 1430.64,1406.64 1430.7,1406.61 1430.82,1406.55 \n",
       "  1430.9,1406.52 1431.12,1406.42 1431.21,1406.38 1431.76,1406.14 1432.4,1405.85 1432.48,1405.81 1432.74,1405.7 1432.83,1405.66 1432.87,1405.64 1433.11,1405.53 \n",
       "  1433.23,1405.47 1433.53,1405.34 1433.92,1405.16 1434.24,1405.02 1434.27,1405.01 1434.31,1404.99 1434.67,1404.83 1434.78,1404.78 1434.8,1404.77 1435.11,1404.62 \n",
       "  1435.32,1404.53 1435.44,1404.47 1435.59,1404.41 1435.59,1404.4 1435.62,1404.39 1435.89,1404.27 1437.15,1403.69 1437.25,1403.64 1437.3,1403.62 1437.56,1403.5 \n",
       "  1437.64,1403.47 1437.73,1403.43 1437.82,1403.38 1437.9,1403.35 1437.91,1403.34 1438.56,1403.04 1438.67,1402.99 1438.83,1402.91 1439.98,1402.38 1440.3,1402.23 \n",
       "  1440.38,1402.19 1440.47,1402.15 1440.57,1402.1 1440.59,1402.09 1441.06,1401.87 1441.06,1401.87 1441.16,1401.82 1441.24,1401.79 1441.3,1401.76 1441.49,1401.67 \n",
       "  1441.56,1401.64 1441.58,1401.63 1441.83,1401.51 1442.9,1401 1442.92,1400.99 1442.97,1400.97 1443.13,1400.89 1443.92,1400.52 1444.04,1400.46 1444.05,1400.46 \n",
       "  1444.16,1400.4 1444.49,1400.24 1444.7,1400.14 1444.74,1400.13 1445.09,1399.96 1445.34,1399.84 1445.41,1399.81 1445.56,1399.73 1445.63,1399.7 1445.66,1399.68 \n",
       "  1446.21,1399.42 1446.41,1399.32 1446.97,1399.05 1447.35,1398.86 1447.52,1398.78 1447.82,1398.64 1447.85,1398.62 1447.91,1398.59 1447.92,1398.59 1448.06,1398.52 \n",
       "  1448.46,1398.33 1448.77,1398.17 1448.96,1398.08 1449.2,1397.96 1449.69,1397.72 1450.43,1397.36 1450.6,1397.27 1450.75,1397.2 1451.14,1397 1451.51,1396.82 \n",
       "  1451.61,1396.78 1451.85,1396.65 1452.02,1396.57 1452.4,1396.38 1452.66,1396.25 1453.16,1396 1453.18,1395.99 1453.23,1395.97 1453.35,1395.91 1453.43,1395.87 \n",
       "  1453.43,1395.86 1453.71,1395.73 1453.81,1395.67 1454.3,1395.43 1454.46,1395.35 1454.71,1395.22 1454.72,1395.22 1454.87,1395.14 1454.95,1395.1 1454.99,1395.08 \n",
       "  1455.26,1394.94 1455.76,1394.69 1455.83,1394.66 1455.86,1394.64 1456.18,1394.48 1456.25,1394.44 1456.92,1394.1 1456.98,1394.07 1457.23,1393.94 1457.24,1393.94 \n",
       "  1457.44,1393.83 1457.75,1393.68 1458.12,1393.49 1458.59,1393.24 1458.67,1393.21 1458.71,1393.18 1458.85,1393.11 1459.25,1392.9 1459.31,1392.87 1459.68,1392.68 \n",
       "  1459.95,1392.54 1460.45,1392.28 1461.71,1391.63 1461.84,1391.56 1461.85,1391.56 1461.89,1391.54 1461.91,1391.52 1462.17,1391.39 1462.24,1391.35 1462.49,1391.22 \n",
       "  1462.65,1391.14 1463.17,1390.86 1463.47,1390.7 1463.79,1390.54 1463.79,1390.54 1463.84,1390.51 1464.36,1390.24 1464.46,1390.18 1464.56,1390.13 1464.7,1390.06 \n",
       "  1464.72,1390.05 1464.72,1390.05 1465.07,1389.86 1465.18,1389.8 1465.22,1389.78 1465.38,1389.7 1465.41,1389.68 1465.53,1389.62 1465.72,1389.51 1465.88,1389.43 \n",
       "  1465.99,1389.37 1466.04,1389.35 1466.24,1389.24 1466.58,1389.06 1466.73,1388.97 1466.84,1388.92 1466.9,1388.88 1467.03,1388.82 1467.18,1388.73 1467.32,1388.66 \n",
       "  1467.45,1388.59 1467.66,1388.48 1467.78,1388.41 1467.82,1388.39 1467.85,1388.37 1467.86,1388.37 1467.87,1388.36 1468.98,1387.77 1469.19,1387.65 1469.54,1387.46 \n",
       "  1469.65,1387.41 1470.24,1387.08 1470.77,1386.79 1470.81,1386.78 1470.94,1386.7 1471.35,1386.48 1471.63,1386.33 1471.8,1386.23 1472.31,1385.95 1472.35,1385.93 \n",
       "  1472.83,1385.67 1472.89,1385.64 1473.17,1385.48 1473.18,1385.48 1473.23,1385.45 1473.51,1385.3 1473.62,1385.23 1473.67,1385.21 1473.96,1385.04 1474.12,1384.96 \n",
       "  1474.28,1384.87 1474.42,1384.79 1474.51,1384.74 1474.67,1384.65 1474.67,1384.65 1474.95,1384.5 1474.99,1384.47 1475.04,1384.44 1475.71,1384.07 1475.88,1383.98 \n",
       "  1475.9,1383.97 1475.94,1383.94 1476.14,1383.83 1476.45,1383.66 1476.49,1383.64 1476.5,1383.63 1476.69,1383.53 1477.29,1383.19 1477.37,1383.15 1477.51,1383.07 \n",
       "  1477.72,1382.95 1478.16,1382.7 1478.3,1382.62 1478.55,1382.48 1479.29,1382.06 1479.31,1382.05 1479.31,1382.05 1479.87,1381.73 1479.93,1381.7 1479.93,1381.7 \n",
       "  1479.99,1381.66 1480.19,1381.55 1480.57,1381.33 1480.73,1381.24 1481.22,1380.96 1481.5,1380.81 1481.5,1380.81 1481.72,1380.68 1482.04,1380.49 1482.1,1380.46 \n",
       "  1482.54,1380.21 1483.22,1379.82 1483.23,1379.81 1483.35,1379.74 1483.97,1379.38 1483.99,1379.37 1484.22,1379.24 1484.33,1379.18 1484.51,1379.07 1484.71,1378.96 \n",
       "  1484.75,1378.93 1485.55,1378.46 1485.56,1378.46 1486.1,1378.14 1486.28,1378.04 1487.01,1377.61 1487.17,1377.52 1487.4,1377.39 1487.51,1377.32 1487.58,1377.28 \n",
       "  1488.07,1376.99 1488.14,1376.95 1488.18,1376.92 1488.36,1376.82 1488.66,1376.64 1488.94,1376.48 1489.03,1376.43 1489.17,1376.34 1489.22,1376.31 1489.51,1376.14 \n",
       "  1489.64,1376.07 1490.73,1375.42 1490.76,1375.4 1491.33,1375.06 1491.41,1375.01 1491.46,1374.99 1492.28,1374.49 1492.3,1374.48 1492.42,1374.41 1492.53,1374.34 \n",
       "  1492.86,1374.14 1492.87,1374.14 1492.91,1374.11 1492.92,1374.11 1492.93,1374.1 1492.98,1374.07 1493.11,1373.99 1493.13,1373.98 1493.15,1373.97 1493.41,1373.81 \n",
       "  1493.58,1373.71 1493.86,1373.54 1493.92,1373.51 1494.19,1373.34 1494.39,1373.22 1494.47,1373.17 1494.5,1373.16 1494.53,1373.14 1494.71,1373.03 1494.8,1372.98 \n",
       "  1494.9,1372.92 1495.33,1372.65 1495.5,1372.55 1495.74,1372.4 1495.87,1372.33 1496.06,1372.21 1496.23,1372.1 1496.25,1372.09 1496.26,1372.09 1496.74,1371.8 \n",
       "  1497.1,1371.57 1497.61,1371.26 1497.96,1371.05 1497.99,1371.03 1498.12,1370.95 1498.24,1370.88 1498.53,1370.7 1498.61,1370.65 1498.65,1370.62 1498.75,1370.56 \n",
       "  1499.39,1370.17 1499.62,1370.03 1499.65,1370.01 1499.74,1369.96 1500.07,1369.75 1500.23,1369.65 1500.46,1369.51 1500.49,1369.49 1500.56,1369.44 1500.64,1369.4 \n",
       "  1500.73,1369.34 1500.98,1369.18 1500.99,1369.18 1501.29,1368.99 1501.66,1368.76 1501.73,1368.72 1501.76,1368.7 1502.27,1368.38 1502.48,1368.25 1502.91,1367.98 \n",
       "  1503.2,1367.8 1503.38,1367.69 1503.7,1367.49 1504.03,1367.28 1504.35,1367.08 1504.47,1367 1504.47,1367 1504.54,1366.96 1504.84,1366.77 1504.94,1366.7 \n",
       "  1505.02,1366.66 1505.24,1366.52 1505.32,1366.47 1505.39,1366.42 1506.01,1366.03 1506.25,1365.88 1506.49,1365.72 1506.84,1365.5 1507.04,1365.37 1507.88,1364.84 \n",
       "  1507.99,1364.77 1508.04,1364.74 1508.19,1364.64 1508.32,1364.56 1508.48,1364.46 1508.64,1364.36 1508.81,1364.24 1508.86,1364.21 1509.13,1364.04 1509.17,1364.01 \n",
       "  1510,1363.48 1510.38,1363.24 1511.01,1362.83 1511.05,1362.8 1511.42,1362.56 1511.43,1362.56 1512.06,1362.15 1512.08,1362.14 1512.1,1362.12 1512.43,1361.91 \n",
       "  1512.76,1361.7 1513,1361.54 1513.09,1361.48 1513.11,1361.47 1513.31,1361.34 1513.39,1361.28 1513.73,1361.06 1513.78,1361.03 1514.07,1360.84 1514.13,1360.8 \n",
       "  1514.33,1360.67 1514.6,1360.49 1515.23,1360.08 1515.42,1359.96 1515.47,1359.92 1515.49,1359.91 1515.69,1359.78 1515.94,1359.61 1516.34,1359.35 1516.69,1359.12 \n",
       "  1516.85,1359.01 1516.92,1358.97 1516.98,1358.92 1517.12,1358.83 1517.26,1358.74 1517.45,1358.62 1517.6,1358.51 1517.83,1358.36 1518.3,1358.05 1518.39,1357.99 \n",
       "  1518.42,1357.97 1518.64,1357.82 1518.68,1357.8 1518.72,1357.77 1518.93,1357.63 1518.96,1357.61 1519.11,1357.52 1519.89,1356.99 1519.99,1356.93 1520.3,1356.72 \n",
       "  1520.36,1356.68 1520.61,1356.51 1520.66,1356.47 1521.1,1356.18 1521.4,1355.98 1521.63,1355.82 1521.77,1355.73 1521.85,1355.68 1522.23,1355.42 1522.25,1355.41 \n",
       "  1522.48,1355.25 1522.85,1355 1522.87,1354.99 1523.03,1354.88 1523.2,1354.76 1523.24,1354.74 1523.27,1354.72 1523.82,1354.34 1523.95,1354.25 1524.02,1354.21 \n",
       "  1524.21,1354.08 1524.43,1353.93 1524.7,1353.74 1524.81,1353.67 1524.88,1353.63 1525.23,1353.38 1525.76,1353.02 1526.16,1352.75 1526.22,1352.71 1526.23,1352.7 \n",
       "  1526.38,1352.6 1526.48,1352.53 1526.63,1352.43 1526.72,1352.37 1526.73,1352.36 1526.84,1352.29 1526.92,1352.23 1527,1352.17 1527.18,1352.05 1527.69,1351.7 \n",
       "  1527.74,1351.66 1528.04,1351.46 1528.05,1351.45 1528.08,1351.43 1528.11,1351.41 1528.44,1351.18 1528.6,1351.07 1528.75,1350.97 1529.17,1350.68 1529.33,1350.57 \n",
       "  1529.44,1350.49 1529.52,1350.43 1529.57,1350.4 1529.89,1350.18 1529.99,1350.11 1530.07,1350.05 1530.15,1350 1530.23,1349.95 1530.68,1349.63 1530.79,1349.56 \n",
       "  1530.81,1349.54 1530.93,1349.46 1531.29,1349.2 1531.6,1348.99 1531.74,1348.89 1531.76,1348.88 1531.82,1348.84 1531.88,1348.79 1531.98,1348.72 1532.04,1348.68 \n",
       "  1532.37,1348.45 1532.48,1348.37 1532.54,1348.33 1532.57,1348.31 1532.75,1348.18 1532.92,1348.06 1533.01,1348 1533.16,1347.9 1533.4,1347.73 1533.42,1347.71 \n",
       "  1533.43,1347.71 1533.48,1347.67 1533.48,1347.67 1533.95,1347.34 1534.33,1347.07 1535.04,1346.57 1535.76,1346.06 1535.91,1345.96 1536.21,1345.74 1536.32,1345.67 \n",
       "  1536.87,1345.28 1537.17,1345.06 1537.44,1344.87 1537.86,1344.57 1538.17,1344.35 1538.18,1344.34 1538.45,1344.15 1539.09,1343.69 1539.24,1343.58 1539.36,1343.5 \n",
       "  1539.69,1343.26 1539.77,1343.2 1540.01,1343.03 1540.22,1342.87 1540.25,1342.86 1540.53,1342.65 1540.85,1342.42 1541.1,1342.24 1541.15,1342.21 1541.18,1342.19 \n",
       "  1541.26,1342.12 1541.49,1341.96 1541.69,1341.82 1541.71,1341.8 1542.3,1341.37 1542.36,1341.33 1542.38,1341.32 1542.46,1341.25 1542.55,1341.19 1542.59,1341.16 \n",
       "  1542.62,1341.14 1542.69,1341.09 1542.7,1341.09 1542.77,1341.03 1542.91,1340.93 1543.06,1340.82 1543.08,1340.81 1543.3,1340.64 1543.46,1340.53 1543.47,1340.52 \n",
       "  1543.74,1340.33 1544.08,1340.08 1544.1,1340.07 1544.3,1339.92 1544.37,1339.87 1544.87,1339.5 1544.96,1339.44 1545.12,1339.32 1545.52,1339.03 1545.89,1338.76 \n",
       "  1546.51,1338.3 1546.71,1338.15 1546.85,1338.05 1547.37,1337.66 1547.58,1337.51 1548.08,1337.14 1548.11,1337.12 1548.2,1337.05 1548.45,1336.87 1548.58,1336.77 \n",
       "  1548.82,1336.6 1548.84,1336.57 1549.28,1336.25 1549.41,1336.15 1549.44,1336.13 1549.88,1335.8 1550,1335.72 1550.01,1335.71 1550.01,1335.71 1550.2,1335.57 \n",
       "  1550.42,1335.41 1550.46,1335.37 1550.72,1335.18 1550.72,1335.18 1550.74,1335.17 1550.78,1335.13 1550.92,1335.03 1551.01,1334.96 1551.32,1334.73 1551.49,1334.6 \n",
       "  1551.6,1334.52 1551.62,1334.51 1551.82,1334.36 1552.19,1334.08 1552.28,1334.01 1552.43,1333.9 1552.49,1333.86 1552.59,1333.78 1552.74,1333.67 1552.75,1333.66 \n",
       "  1553.03,1333.45 1553.25,1333.28 1553.76,1332.9 1553.92,1332.78 1554.07,1332.67 1554.11,1332.63 1554.13,1332.62 1554.33,1332.47 1554.45,1332.38 1554.46,1332.37 \n",
       "  1554.5,1332.34 1554.51,1332.33 1555.46,1331.62 1555.55,1331.55 1555.89,1331.29 1556.18,1331.06 1556.55,1330.78 1557.45,1330.1 1557.6,1329.99 1557.75,1329.87 \n",
       "  1557.91,1329.75 1558.08,1329.62 1558.57,1329.24 1559.14,1328.81 1559.24,1328.73 1559.72,1328.36 1559.78,1328.31 1559.99,1328.15 1560.02,1328.13 1560.08,1328.08 \n",
       "  1560.25,1327.95 1560.49,1327.77 1560.55,1327.72 1560.69,1327.61 1560.71,1327.6 1560.79,1327.54 1561.27,1327.16 1561.29,1327.15 1561.44,1327.03 1561.58,1326.92 \n",
       "  1562.09,1326.53 1562.33,1326.35 1562.61,1326.13 1562.71,1326.05 1562.8,1325.98 1562.85,1325.94 1563.23,1325.65 1563.25,1325.63 1563.36,1325.54 1563.64,1325.33 \n",
       "  1563.8,1325.2 1564,1325.05 1564.06,1325 1564.31,1324.8 1564.38,1324.75 1564.42,1324.72 1564.74,1324.47 1564.79,1324.43 1564.79,1324.43 1564.8,1324.42 \n",
       "  1564.85,1324.38 1564.92,1324.33 1565.34,1324 1565.78,1323.65 1565.97,1323.51 1566.03,1323.45 1566.22,1323.31 1566.33,1323.22 1566.35,1323.21 1566.42,1323.15 \n",
       "  1566.44,1323.14 1566.69,1322.94 1566.82,1322.84 1567.01,1322.69 1567.12,1322.6 1567.36,1322.41 1567.55,1322.26 1567.57,1322.25 1567.89,1321.99 1568.29,1321.68 \n",
       "  1568.31,1321.66 1568.41,1321.58 1568.79,1321.28 1569.29,1320.89 1569.34,1320.85 1569.61,1320.63 1569.99,1320.33 1570.04,1320.29 1570.07,1320.26 1570.2,1320.16 \n",
       "  1570.24,1320.13 1570.27,1320.11 1570.31,1320.08 1570.63,1319.82 1571.09,1319.46 1571.09,1319.46 1571.26,1319.32 1571.29,1319.3 1571.29,1319.29 1571.42,1319.19 \n",
       "  1571.49,1319.13 1571.7,1318.96 1571.91,1318.8 1571.99,1318.74 1572.04,1318.69 1572.09,1318.66 1572.17,1318.59 1572.57,1318.27 1572.59,1318.25 1573.29,1317.69 \n",
       "  1573.36,1317.63 1573.91,1317.19 1574.4,1316.8 1574.62,1316.62 1574.87,1316.42 1574.96,1316.34 1575.47,1315.93 1575.63,1315.81 1575.66,1315.78 1575.89,1315.59 \n",
       "  1576.52,1315.09 1576.53,1315.08 1576.75,1314.9 1576.77,1314.88 1577.03,1314.67 1577.65,1314.17 1577.86,1313.99 1578.29,1313.64 1578.62,1313.38 1578.71,1313.3 \n",
       "  1578.73,1313.29 1578.77,1313.26 1578.85,1313.19 1579.47,1312.68 1579.52,1312.64 1579.8,1312.41 1579.86,1312.36 1579.98,1312.26 1580.06,1312.2 1580.41,1311.91 \n",
       "  1580.65,1311.71 1580.74,1311.64 1580.83,1311.57 1580.94,1311.47 1581.05,1311.38 1581.26,1311.21 1581.49,1311.02 1581.73,1310.82 1581.8,1310.77 1581.82,1310.75 \n",
       "  1581.93,1310.66 1582.57,1310.13 1582.61,1310.1 1583,1309.78 1583.13,1309.66 1583.38,1309.46 1583.93,1309.01 1584.06,1308.9 1584.1,1308.87 1584.52,1308.51 \n",
       "  1584.7,1308.37 1584.81,1308.27 1584.88,1308.21 1584.89,1308.21 1585.09,1308.04 1585.53,1307.67 1585.62,1307.59 1585.66,1307.57 1587.09,1306.37 1587.13,1306.34 \n",
       "  1587.32,1306.17 1587.34,1306.16 1587.37,1306.14 1587.48,1306.04 1587.66,1305.89 1587.69,1305.86 1588.76,1304.96 1588.79,1304.94 1588.86,1304.89 1588.92,1304.83 \n",
       "  1589.05,1304.72 1589.12,1304.67 1589.19,1304.6 1589.28,1304.53 1589.75,1304.13 1590.1,1303.84 1590.13,1303.81 1590.53,1303.47 1590.62,1303.39 1591.11,1302.98 \n",
       "  1591.35,1302.78 1591.41,1302.72 1591.48,1302.66 1591.53,1302.62 1591.55,1302.61 1591.91,1302.3 1592.72,1301.61 1592.74,1301.6 1592.93,1301.44 1593.16,1301.24 \n",
       "  1593.44,1300.99 1593.45,1300.99 1594.01,1300.51 1594.03,1300.49 1594.49,1300.1 1595.67,1299.08 1595.7,1299.06 1595.71,1299.05 1595.75,1299.02 1595.77,1299 \n",
       "  1595.88,1298.91 1596.03,1298.78 1596.08,1298.73 1596.23,1298.61 1596.67,1298.22 1596.68,1298.21 1596.86,1298.07 1597.21,1297.76 1597.25,1297.72 1597.5,1297.51 \n",
       "  1597.58,1297.44 1597.68,1297.36 1597.73,1297.31 1597.87,1297.19 1598.37,1296.75 1598.5,1296.65 1598.61,1296.55 1599.35,1295.91 1599.45,1295.82 1599.52,1295.75 \n",
       "  1599.99,1295.35 1600.07,1295.28 1600.24,1295.13 1600.25,1295.12 1600.39,1295 1600.62,1294.8 1600.72,1294.72 1600.82,1294.62 1601.31,1294.2 1601.59,1293.95 \n",
       "  1601.67,1293.88 1601.78,1293.78 1601.81,1293.76 1602.05,1293.56 1602.32,1293.31 1602.55,1293.11 1602.72,1292.97 1602.8,1292.9 1602.84,1292.85 1603.08,1292.65 \n",
       "  1603.33,1292.43 1603.42,1292.35 1603.76,1292.05 1603.86,1291.96 1603.88,1291.94 1604.05,1291.8 1604.2,1291.66 1604.58,1291.33 1604.71,1291.22 1604.93,1291.02 \n",
       "  1605.67,1290.36 1607.52,1288.72 1607.55,1288.7 1607.56,1288.69 1607.57,1288.68 1607.59,1288.66 1607.59,1288.66 1607.72,1288.55 1608.16,1288.15 1608.25,1288.07 \n",
       "  1608.37,1287.97 1608.66,1287.71 1608.73,1287.65 1609.02,1287.39 1609.56,1286.91 1609.96,1286.54 1610.02,1286.5 1610.15,1286.38 1610.31,1286.24 1610.8,1285.79 \n",
       "  1610.87,1285.73 1610.97,1285.64 1611.66,1285.02 1611.8,1284.9 1611.9,1284.8 1612.4,1284.35 1612.41,1284.35 1612.56,1284.21 1612.71,1284.07 1612.79,1284 \n",
       "  1613.68,1283.2 1613.7,1283.18 1613.81,1283.08 1613.95,1282.95 1614.72,1282.26 1614.87,1282.12 1615.48,1281.56 1615.67,1281.4 1615.69,1281.38 1615.96,1281.13 \n",
       "  1616.05,1281.05 1616.36,1280.76 1616.69,1280.46 1616.76,1280.4 1616.83,1280.34 1616.85,1280.31 1616.92,1280.25 1616.92,1280.25 1616.99,1280.19 1617.13,1280.06 \n",
       "  1617.14,1280.05 1617.15,1280.04 1617.3,1279.91 1617.57,1279.66 1617.81,1279.43 1617.87,1279.38 1617.96,1279.3 1618.02,1279.24 1618.57,1278.74 1618.8,1278.53 \n",
       "  1618.82,1278.52 1618.97,1278.38 1619.08,1278.28 1619.13,1278.23 1619.44,1277.95 1619.49,1277.9 1619.51,1277.88 1619.83,1277.58 1620.11,1277.32 1620.55,1276.92 \n",
       "  1620.87,1276.63 1620.99,1276.51 1621.11,1276.41 1621.16,1276.36 1621.22,1276.3 1621.35,1276.18 1621.71,1275.85 1621.73,1275.83 1621.91,1275.67 1621.93,1275.64 \n",
       "  1621.94,1275.64 1622.1,1275.49 1622.28,1275.32 1622.37,1275.24 1622.84,1274.8 1622.97,1274.68 1622.98,1274.67 1623.72,1273.99 1623.93,1273.79 1624,1273.73 \n",
       "  1624.22,1273.52 1624.26,1273.48 1624.49,1273.27 1624.68,1273.09 1625.53,1272.3 1625.71,1272.13 1625.79,1272.06 1625.8,1272.04 1625.83,1272.01 1625.98,1271.88 \n",
       "  1626.25,1271.62 1626.34,1271.54 1626.4,1271.48 1626.49,1271.4 1626.49,1271.39 1626.77,1271.13 1626.88,1271.03 1626.92,1270.99 1627.3,1270.64 1627.43,1270.52 \n",
       "  1627.74,1270.22 1627.85,1270.12 1627.9,1270.07 1628.04,1269.94 1628.42,1269.58 1628.78,1269.25 1628.82,1269.21 1628.84,1269.19 1628.89,1269.14 1629.05,1268.99 \n",
       "  1629.11,1268.94 1629.17,1268.88 1629.52,1268.54 1629.71,1268.37 1629.73,1268.35 1629.75,1268.33 1629.86,1268.22 1629.86,1268.22 1629.91,1268.18 1630.15,1267.95 \n",
       "  1630.15,1267.95 1630.72,1267.41 1630.77,1267.36 1630.81,1267.32 1631.3,1266.86 1631.43,1266.73 1631.46,1266.71 1631.66,1266.52 1631.69,1266.49 1631.94,1266.26 \n",
       "  1632.04,1266.16 1632.12,1266.09 1632.24,1265.97 1632.64,1265.59 1632.9,1265.33 1633.01,1265.24 1633.11,1265.14 1633.23,1265.02 1633.5,1264.76 1633.75,1264.53 \n",
       "  1634.19,1264.11 1634.3,1264 1634.35,1263.96 1634.99,1263.34 1635.3,1263.04 1635.36,1262.98 1635.69,1262.67 1636.15,1262.23 1636.31,1262.07 1636.34,1262.04 \n",
       "  1636.38,1262.01 1636.51,1261.88 1636.56,1261.83 1636.83,1261.58 1636.94,1261.47 1636.96,1261.45 1637.19,1261.23 1637.67,1260.76 1637.81,1260.63 1637.81,1260.62 \n",
       "  1638.05,1260.39 1638.43,1260.03 1638.52,1259.94 1638.93,1259.54 1638.95,1259.52 1639.12,1259.36 1639.2,1259.28 1639.34,1259.14 1639.5,1258.99 1639.74,1258.76 \n",
       "  1639.83,1258.67 1639.85,1258.65 1639.96,1258.54 1640.3,1258.21 1640.89,1257.64 1641.11,1257.42 1641.95,1256.61 1642.22,1256.34 1642.46,1256.11 1642.51,1256.06 \n",
       "  1642.56,1256.01 1642.56,1256.01 1642.98,1255.6 1643.17,1255.42 1643.2,1255.38 1643.26,1255.32 1644.18,1254.43 1644.24,1254.37 1644.48,1254.13 1644.53,1254.08 \n",
       "  1644.53,1254.08 1644.63,1253.98 1644.88,1253.74 1644.89,1253.73 1645.34,1253.29 1645.57,1253.06 1645.57,1253.06 1645.8,1252.83 1645.93,1252.7 1646.01,1252.62 \n",
       "  1646.37,1252.26 1646.43,1252.2 1646.86,1251.78 1647.03,1251.62 1647.07,1251.57 1647.09,1251.55 1647.16,1251.49 1647.4,1251.25 1647.51,1251.14 1647.52,1251.13 \n",
       "  1647.53,1251.12 1647.65,1251 1647.97,1250.68 1647.99,1250.66 1648.11,1250.55 1648.65,1250.01 1648.91,1249.75 1649.17,1249.5 1649.32,1249.34 1649.36,1249.3 \n",
       "  1649.64,1249.02 1649.73,1248.93 1649.82,1248.85 1650.08,1248.59 1650.22,1248.45 1650.34,1248.33 1650.39,1248.28 1650.58,1248.09 1650.82,1247.85 1650.93,1247.74 \n",
       "  1651,1247.67 1651.57,1247.1 1651.74,1246.93 1651.83,1246.84 1651.92,1246.75 1652.3,1246.37 1652.33,1246.34 1652.43,1246.24 1652.47,1246.2 1652.66,1246.01 \n",
       "  1652.74,1245.92 1652.96,1245.71 1653.02,1245.65 1653.15,1245.52 1653.2,1245.46 1653.26,1245.41 1653.29,1245.37 1653.31,1245.35 1653.42,1245.25 1653.5,1245.16 \n",
       "  1654.33,1244.33 1654.4,1244.26 1654.58,1244.08 1655.32,1243.33 1655.49,1243.16 1656.51,1242.13 1656.51,1242.13 1656.69,1241.94 1656.96,1241.67 1657.11,1241.52 \n",
       "  1657.69,1240.93 1657.79,1240.83 1657.82,1240.8 1657.86,1240.76 1658.01,1240.6 1658.48,1240.13 1658.49,1240.11 1658.77,1239.83 1658.78,1239.82 1659.17,1239.42 \n",
       "  1659.32,1239.27 1659.44,1239.15 1659.88,1238.7 1660.02,1238.56 1660.03,1238.54 1660.14,1238.43 1660.37,1238.2 1660.55,1238.02 1660.57,1237.99 1660.83,1237.72 \n",
       "  1660.89,1237.67 1661.24,1237.31 1661.32,1237.22 1661.36,1237.19 1661.37,1237.18 1661.71,1236.82 1661.86,1236.67 1662.13,1236.39 1662.25,1236.28 1662.33,1236.19 \n",
       "  1662.63,1235.88 1663.06,1235.44 1663.34,1235.15 1663.52,1234.97 1663.59,1234.89 1663.6,1234.89 1664.2,1234.27 1664.49,1233.96 1664.88,1233.56 1664.98,1233.45 \n",
       "  1665.15,1233.28 1665.2,1233.23 1665.59,1232.82 1665.78,1232.63 1665.88,1232.53 1666,1232.4 1666.07,1232.32 1666.45,1231.94 1666.45,1231.93 1666.58,1231.8 \n",
       "  1666.67,1231.71 1666.68,1231.69 1666.96,1231.41 1667.14,1231.22 1667.2,1231.16 1667.43,1230.92 1667.5,1230.84 1668.08,1230.24 1668.31,1230 1668.44,1229.86 \n",
       "  1668.5,1229.8 1668.68,1229.61 1668.73,1229.56 1668.86,1229.42 1669,1229.28 1669.21,1229.06 1669.52,1228.74 1669.53,1228.72 1669.61,1228.64 1670.03,1228.2 \n",
       "  1670.08,1228.15 1670.18,1228.04 1670.76,1227.43 1670.78,1227.42 1671.01,1227.18 1671.33,1226.84 1671.44,1226.72 1671.87,1226.27 1672.2,1225.92 1672.5,1225.61 \n",
       "  1672.6,1225.51 1672.61,1225.5 1672.64,1225.46 1673.02,1225.07 1673.19,1224.88 1673.49,1224.57 1673.49,1224.57 1673.56,1224.49 1673.79,1224.25 1673.87,1224.16 \n",
       "  1674.18,1223.84 1674.37,1223.63 1674.5,1223.5 1674.59,1223.4 1674.91,1223.07 1675.15,1222.81 1675.26,1222.7 1675.38,1222.56 1675.53,1222.41 1675.67,1222.25 \n",
       "  1675.88,1222.04 1675.94,1221.98 1676.22,1221.67 1676.29,1221.6 1676.43,1221.45 1676.62,1221.25 1676.81,1221.04 1677.32,1220.5 1677.66,1220.14 1678.08,1219.7 \n",
       "  1678.21,1219.56 1678.43,1219.32 1678.64,1219.1 1678.64,1219.09 1678.9,1218.81 1679.18,1218.52 1679.32,1218.36 1679.33,1218.36 1679.47,1218.21 1679.49,1218.19 \n",
       "  1680.32,1217.29 1680.51,1217.09 1680.67,1216.92 1680.7,1216.89 1680.84,1216.74 1680.94,1216.63 1680.96,1216.61 1681.14,1216.41 1682.01,1215.48 1682.3,1215.17 \n",
       "  1682.34,1215.12 1682.51,1214.94 1682.59,1214.86 1682.63,1214.81 1682.69,1214.74 1682.72,1214.72 1682.79,1214.64 1683.1,1214.31 1683.38,1214 1683.43,1213.95 \n",
       "  1683.81,1213.54 1684,1213.33 1684.1,1213.22 1684.22,1213.09 1684.64,1212.64 1684.72,1212.55 1685.51,1211.69 1685.91,1211.25 1685.92,1211.25 1686.12,1211.03 \n",
       "  1686.35,1210.78 1686.46,1210.66 1686.5,1210.61 1686.66,1210.44 1686.72,1210.37 1687,1210.07 1687.33,1209.71 1687.35,1209.69 1687.44,1209.59 1687.52,1209.51 \n",
       "  1688.06,1208.91 1688.18,1208.78 1688.56,1208.37 1688.82,1208.08 1688.92,1207.97 1689.06,1207.83 1689.25,1207.61 1689.31,1207.54 1689.52,1207.32 1689.76,1207.05 \n",
       "  1689.85,1206.96 1689.91,1206.89 1690.22,1206.55 1690.24,1206.53 1690.33,1206.43 1690.63,1206.1 1690.81,1205.9 1690.99,1205.7 1691.33,1205.33 1691.45,1205.2 \n",
       "  1691.46,1205.19 1691.72,1204.9 1692.02,1204.57 1692.24,1204.33 1692.47,1204.08 1693.2,1203.27 1693.77,1202.64 1693.83,1202.57 1694.17,1202.2 1694.18,1202.18 \n",
       "  1694.6,1201.72 1694.68,1201.63 1695.06,1201.21 1695.06,1201.2 1695.23,1201.03 1695.58,1200.63 1695.79,1200.4 1695.97,1200.2 1696.39,1199.73 1696.57,1199.53 \n",
       "  1696.74,1199.34 1696.96,1199.09 1696.96,1199.09 1697.24,1198.78 1697.3,1198.71 1697.31,1198.71 1697.56,1198.43 1697.56,1198.43 1697.81,1198.14 1697.94,1198 \n",
       "  1698.04,1197.89 1698.05,1197.87 1698.08,1197.85 1698.27,1197.63 1698.49,1197.38 1698.75,1197.1 1698.83,1197.01 1699.09,1196.71 1699.12,1196.68 1699.58,1196.17 \n",
       "  1699.58,1196.17 1699.67,1196.06 1699.67,1196.06 1699.94,1195.77 1700.03,1195.66 1700.22,1195.44 1700.25,1195.42 1700.3,1195.36 1701.08,1194.48 1701.12,1194.44 \n",
       "  1701.42,1194.1 1701.49,1194.02 1701.77,1193.7 1701.87,1193.59 1701.97,1193.47 1702.04,1193.4 1702.28,1193.13 1702.32,1193.09 1702.62,1192.74 1702.86,1192.47 \n",
       "  1702.87,1192.46 1702.97,1192.35 1703.03,1192.28 1703.3,1191.97 1703.79,1191.42 1704.32,1190.82 1704.51,1190.61 1704.73,1190.36 1705.11,1189.93 1705.24,1189.78 \n",
       "  1705.33,1189.67 1705.8,1189.14 1705.97,1188.95 1706.11,1188.79 1706.12,1188.77 1706.37,1188.49 1706.45,1188.41 1706.58,1188.26 1706.94,1187.84 1706.96,1187.82 \n",
       "  1707.26,1187.48 1707.45,1187.27 1707.52,1187.19 1707.59,1187.1 1707.75,1186.92 1707.78,1186.88 1707.85,1186.8 1708.02,1186.61 1708.08,1186.54 1708.26,1186.33 \n",
       "  1708.56,1186 1708.76,1185.77 1708.78,1185.75 1708.83,1185.69 1708.99,1185.5 1709.17,1185.3 1709.34,1185.1 1709.45,1184.98 1710.01,1184.33 1710.03,1184.31 \n",
       "  1710.29,1184.01 1710.96,1183.24 1711.14,1183.03 1711.15,1183.03 1711.18,1182.99 1711.47,1182.65 1711.52,1182.6 1711.54,1182.57 1711.77,1182.31 1712,1182.04 \n",
       "  1712.05,1181.98 1712.22,1181.79 1712.27,1181.74 1712.33,1181.67 1712.83,1181.09 1712.87,1181.05 1712.88,1181.03 1713.11,1180.77 1713.24,1180.62 1713.27,1180.58 \n",
       "  1713.3,1180.54 1713.33,1180.5 1713.71,1180.07 1713.77,1180 1713.87,1179.89 1713.99,1179.75 1714.47,1179.19 1714.72,1178.9 1714.73,1178.89 1714.79,1178.82 \n",
       "  1714.84,1178.76 1714.91,1178.68 1715.09,1178.47 1715.11,1178.45 1715.27,1178.26 1715.3,1178.22 1715.38,1178.14 1715.38,1178.13 1715.47,1178.03 1715.49,1178.01 \n",
       "  1716.37,1176.98 1716.46,1176.87 1716.46,1176.87 1716.57,1176.75 1716.69,1176.61 1716.8,1176.48 1716.98,1176.27 1717.01,1176.24 1717.42,1175.76 1717.45,1175.73 \n",
       "  1717.54,1175.62 1717.61,1175.53 1717.62,1175.52 1717.78,1175.34 1718.23,1174.81 1718.25,1174.79 1718.67,1174.3 1718.85,1174.09 1719.07,1173.83 1719.37,1173.48 \n",
       "  1720.07,1172.66 1720.24,1172.47 1720.77,1171.84 1720.83,1171.77 1720.98,1171.59 1721.11,1171.43 1721.12,1171.43 1721.28,1171.24 1721.43,1171.06 1721.63,1170.83 \n",
       "  1721.66,1170.79 1722.03,1170.36 1722.08,1170.3 1722.14,1170.22 1722.39,1169.94 1722.39,1169.93 1722.5,1169.81 1722.7,1169.56 1722.96,1169.26 1723.02,1169.18 \n",
       "  1723.14,1169.05 1723.65,1168.45 1724.32,1167.65 1724.38,1167.58 1724.52,1167.42 1725.01,1166.84 1725.24,1166.56 1725.47,1166.28 1725.89,1165.79 1725.9,1165.78 \n",
       "  1725.98,1165.68 1726.08,1165.57 1726.12,1165.52 1726.47,1165.1 1726.6,1164.95 1726.9,1164.59 1727.4,1164 1727.82,1163.49 1728.02,1163.26 1728.03,1163.25 \n",
       "  1728.43,1162.77 1729.05,1162.02 1729.33,1161.69 1729.43,1161.57 1729.45,1161.55 1730.05,1160.83 1730.13,1160.73 1730.24,1160.6 1730.38,1160.44 1730.45,1160.35 \n",
       "  1730.46,1160.33 1730.59,1160.19 1731.24,1159.4 1731.25,1159.38 1731.37,1159.24 1731.5,1159.08 1731.66,1158.89 1732.12,1158.34 1732.38,1158.03 1732.59,1157.78 \n",
       "  1732.94,1157.36 1733.6,1156.56 1733.8,1156.31 1733.82,1156.29 1733.94,1156.15 1734.01,1156.06 1734.06,1156 1734.12,1155.93 1734.44,1155.54 1734.74,1155.19 \n",
       "  1735.15,1154.68 1735.65,1154.08 1735.69,1154.03 1735.82,1153.88 1735.98,1153.68 1736.34,1153.25 1736.7,1152.8 1736.71,1152.79 1736.72,1152.78 1736.93,1152.53 \n",
       "  1737.05,1152.38 1737.18,1152.22 1737.24,1152.15 1737.27,1152.12 1737.27,1152.11 1737.44,1151.91 1737.54,1151.79 1737.8,1151.47 1737.9,1151.35 1738.16,1151.03 \n",
       "  1738.28,1150.88 1738.4,1150.74 1738.53,1150.58 1738.55,1150.56 1738.65,1150.43 1739.67,1149.19 1740.2,1148.53 1740.42,1148.27 1740.44,1148.24 1740.84,1147.76 \n",
       "  1740.87,1147.71 1741.04,1147.51 1741.22,1147.28 1741.56,1146.86 1741.73,1146.66 1741.76,1146.62 1742.09,1146.22 1742.19,1146.1 1742.28,1145.99 1742.34,1145.91 \n",
       "  1742.52,1145.69 1742.57,1145.63 1742.65,1145.53 1742.85,1145.29 1743,1145.1 1743.06,1145.03 1743.2,1144.85 1743.21,1144.84 1743.21,1144.84 1743.31,1144.72 \n",
       "  1743.37,1144.65 1743.38,1144.64 1743.58,1144.39 1743.87,1144.02 1744.47,1143.29 1744.48,1143.28 1744.57,1143.16 1744.62,1143.11 1744.87,1142.79 1746.2,1141.15 \n",
       "  1746.3,1141.03 1746.94,1140.23 1746.96,1140.2 1747.08,1140.05 1747.64,1139.36 1748.24,1138.61 1748.69,1138.06 1748.9,1137.79 1749.05,1137.61 1749.2,1137.42 \n",
       "  1749.33,1137.26 1749.61,1136.91 1749.91,1136.53 1749.96,1136.48 1750.21,1136.16 1750.42,1135.9 1750.52,1135.77 1750.58,1135.7 1751.21,1134.9 1751.48,1134.57 \n",
       "  1751.63,1134.38 1751.63,1134.38 1751.97,1133.96 1752.34,1133.5 1752.75,1132.98 1753.05,1132.61 1753.17,1132.46 1753.75,1131.72 1753.96,1131.46 1754.26,1131.08 \n",
       "  1754.42,1130.88 1754.43,1130.86 1754.93,1130.24 1754.93,1130.23 1755.16,1129.95 1755.19,1129.91 1755.45,1129.58 1755.58,1129.41 1755.68,1129.3 1755.8,1129.15 \n",
       "  1756.25,1128.57 1756.26,1128.56 1756.34,1128.46 1756.5,1128.25 1756.6,1128.13 1756.8,1127.88 1757.5,1126.99 1757.55,1126.93 1757.55,1126.93 1757.56,1126.91 \n",
       "  1757.7,1126.73 1757.79,1126.62 1757.99,1126.37 1758.07,1126.26 1758.42,1125.82 1758.42,1125.82 1758.58,1125.62 1758.66,1125.52 1758.78,1125.37 1759.07,1125 \n",
       "  1759.15,1124.9 1759.16,1124.88 1759.38,1124.61 1759.7,1124.19 1759.78,1124.09 1759.95,1123.87 1760.28,1123.46 1760.28,1123.46 1760.63,1123.01 1760.9,1122.67 \n",
       "  1761.17,1122.33 1761.3,1122.16 1761.34,1122.1 1761.55,1121.84 1761.55,1121.83 1761.7,1121.64 1761.93,1121.36 1762,1121.26 1762.28,1120.9 1762.28,1120.9 \n",
       "  1762.36,1120.8 1762.52,1120.59 1762.61,1120.48 1762.69,1120.38 1762.74,1120.31 1762.88,1120.13 1762.89,1120.13 1762.9,1120.11 1763.57,1119.24 1763.66,1119.13 \n",
       "  1763.67,1119.12 1763.93,1118.79 1764.25,1118.38 1764.28,1118.34 1764.43,1118.15 1764.47,1118.1 1764.55,1118 1764.89,1117.55 1765.03,1117.37 1765.03,1117.37 \n",
       "  1765.12,1117.26 1765.28,1117.05 1765.34,1116.98 1765.54,1116.72 1765.69,1116.53 1766.1,1116 1766.49,1115.49 1766.5,1115.48 1766.85,1115.02 1767.02,1114.81 \n",
       "  1767.08,1114.73 1767.32,1114.42 1767.47,1114.22 1767.94,1113.62 1768.42,1113.01 1768.88,1112.41 1768.99,1112.26 1769.01,1112.23 1769.23,1111.95 1769.3,1111.86 \n",
       "  1769.34,1111.81 1769.79,1111.22 1770.05,1110.88 1770.09,1110.84 1770.3,1110.57 1770.34,1110.5 1770.45,1110.37 1770.65,1110.11 1770.72,1110.02 1771.09,1109.53 \n",
       "  1771.27,1109.29 1771.4,1109.13 1771.75,1108.67 1771.89,1108.49 1772.12,1108.19 1772.14,1108.17 1772.21,1108.08 1772.35,1107.89 1772.82,1107.27 1772.94,1107.12 \n",
       "  1773.03,1107 1773.25,1106.72 1773.33,1106.62 1773.34,1106.6 1773.39,1106.54 1773.69,1106.14 1774.3,1105.34 1774.37,1105.25 1775.19,1104.17 1775.43,1103.86 \n",
       "  1776.29,1102.73 1776.52,1102.43 1777,1101.8 1777.7,1100.88 1777.77,1100.78 1778.3,1100.08 1778.33,1100.04 1778.76,1099.48 1778.87,1099.33 1779.28,1098.79 \n",
       "  1779.44,1098.58 1779.72,1098.2 1779.74,1098.18 1779.85,1098.04 1779.85,1098.04 1780.1,1097.7 1780.34,1097.39 1780.78,1096.81 1781.14,1096.33 1781.64,1095.66 \n",
       "  1781.82,1095.42 1782.08,1095.08 1782.15,1094.98 1782.19,1094.94 1782.22,1094.89 1782.23,1094.88 1782.65,1094.32 1782.68,1094.28 1782.89,1094 1783.02,1093.83 \n",
       "  1783.18,1093.62 1783.21,1093.57 1783.73,1092.89 1783.74,1092.87 1783.87,1092.69 1783.88,1092.68 1783.95,1092.59 1784.62,1091.69 1785.53,1090.48 1785.8,1090.12 \n",
       "  1785.89,1090 1786.41,1089.3 1786.59,1089.05 1786.8,1088.78 1786.96,1088.57 1787.04,1088.45 1787.32,1088.08 1787.65,1087.64 1787.73,1087.52 1788.4,1086.62 \n",
       "  1788.53,1086.45 1788.85,1086.02 1789.45,1085.21 1789.7,1084.87 1790.04,1084.42 1790.16,1084.26 1791.13,1082.94 1791.2,1082.85 1791.3,1082.72 1791.36,1082.63 \n",
       "  1791.51,1082.42 1791.54,1082.39 1791.84,1081.98 1792.07,1081.68 1792.38,1081.26 1792.51,1081.08 1792.65,1080.89 1792.75,1080.75 1792.97,1080.45 1793.1,1080.27 \n",
       "  1793.25,1080.08 1793.45,1079.8 1793.78,1079.35 1794.32,1078.62 1794.5,1078.38 1794.59,1078.25 1794.65,1078.17 1795.05,1077.62 1795.64,1076.82 1795.67,1076.79 \n",
       "  1795.94,1076.42 1796.05,1076.26 1796.15,1076.13 1796.43,1075.74 1796.52,1075.62 1796.86,1075.16 1796.95,1075.04 1797.18,1074.71 1797.33,1074.52 1797.52,1074.26 \n",
       "  1797.7,1074.01 1797.74,1073.95 1797.95,1073.66 1798.12,1073.43 1798.23,1073.28 1798.35,1073.12 1798.41,1073.04 1798.51,1072.9 1798.59,1072.79 1798.94,1072.3 \n",
       "  1799.04,1072.17 1799.21,1071.94 1799.98,1070.88 1800.08,1070.74 1800.12,1070.69 1800.3,1070.44 1800.64,1069.98 1800.85,1069.69 1800.85,1069.68 1801.02,1069.45 \n",
       "  1801.11,1069.32 1801.34,1069.01 1801.58,1068.67 1801.59,1068.66 1801.84,1068.31 1801.98,1068.13 1802.09,1067.98 1802.76,1067.05 1802.98,1066.74 1803.05,1066.65 \n",
       "  1803.1,1066.58 1803.29,1066.32 1803.35,1066.24 1803.41,1066.15 1803.68,1065.78 1803.74,1065.7 1803.83,1065.58 1803.97,1065.38 1804.05,1065.26 1804.06,1065.25 \n",
       "  1804.27,1064.96 1804.29,1064.94 1804.38,1064.81 1804.56,1064.56 1804.69,1064.38 1805.17,1063.72 1805.37,1063.44 1805.45,1063.33 1805.65,1063.05 1805.75,1062.91 \n",
       "  1805.9,1062.7 1805.99,1062.58 1806,1062.56 1806.29,1062.16 1806.47,1061.91 1806.55,1061.8 1806.7,1061.59 1807.23,1060.86 1807.52,1060.45 1807.54,1060.42 \n",
       "  1807.74,1060.13 1807.81,1060.04 1808.14,1059.59 1808.24,1059.44 1808.26,1059.41 1808.6,1058.94 1808.84,1058.61 1808.92,1058.49 1808.96,1058.44 1809.07,1058.28 \n",
       "  1809.31,1057.94 1809.64,1057.49 1809.85,1057.2 1810.14,1056.79 1810.25,1056.64 1810.33,1056.52 1810.37,1056.46 1810.39,1056.44 1811.11,1055.43 1811.17,1055.34 \n",
       "  1811.29,1055.17 1811.84,1054.41 1811.89,1054.34 1812.35,1053.69 1812.48,1053.51 1812.52,1053.45 1812.63,1053.29 1812.65,1053.27 1813.04,1052.72 1813.1,1052.63 \n",
       "  1813.33,1052.31 1813.74,1051.74 1814.19,1051.1 1814.54,1050.61 1814.75,1050.3 1814.9,1050.09 1815.73,1048.92 1815.92,1048.65 1816.02,1048.52 1816.47,1047.87 \n",
       "  1816.58,1047.72 1816.88,1047.29 1817.16,1046.9 1817.45,1046.48 1817.59,1046.28 1817.67,1046.18 1817.68,1046.16 1817.86,1045.9 1817.93,1045.81 1817.95,1045.78 \n",
       "  1819.13,1044.1 1819.14,1044.09 1819.7,1043.29 1819.75,1043.22 1819.85,1043.08 1819.93,1042.97 1820.86,1041.64 1821.03,1041.39 1821.43,1040.83 1821.44,1040.81 \n",
       "  1821.46,1040.78 1821.51,1040.7 1821.61,1040.57 1821.63,1040.54 1821.76,1040.35 1821.86,1040.2 1821.87,1040.2 1821.96,1040.06 1823.59,1037.73 1823.75,1037.5 \n",
       "  1824,1037.15 1824.5,1036.42 1825.1,1035.57 1825.21,1035.4 1825.4,1035.13 1825.63,1034.79 1825.96,1034.33 1826.5,1033.55 1827.13,1032.65 1827.15,1032.61 \n",
       "  1827.2,1032.54 1827.24,1032.48 1827.66,1031.87 1827.73,1031.77 1828.16,1031.16 1828.76,1030.28 1829.12,1029.76 1829.13,1029.75 1829.13,1029.74 1829.27,1029.55 \n",
       "  1829.36,1029.42 1829.36,1029.41 1829.54,1029.16 1829.55,1029.14 1829.7,1028.92 1829.83,1028.74 1829.95,1028.55 1830.92,1027.16 1831.08,1026.92 1831.39,1026.48 \n",
       "  1831.61,1026.15 1831.86,1025.79 1831.98,1025.61 1832.02,1025.56 1832.2,1025.29 1832.24,1025.23 1832.25,1025.22 1832.43,1024.96 1833.04,1024.06 1833.07,1024.03 \n",
       "  1833.25,1023.76 1833.3,1023.69 1833.43,1023.5 1833.5,1023.4 1833.57,1023.3 1833.7,1023.11 1833.73,1023.07 1833.73,1023.06 1834.77,1021.54 1834.79,1021.51 \n",
       "  1835.09,1021.08 1835.37,1020.66 1835.41,1020.61 1835.81,1020.02 1835.96,1019.8 1836.46,1019.07 1836.61,1018.84 1836.92,1018.4 1837.7,1017.25 1837.92,1016.93 \n",
       "  1837.95,1016.88 1837.99,1016.82 1838.05,1016.74 1838.33,1016.33 1838.52,1016.04 1838.63,1015.88 1838.67,1015.82 1838.79,1015.65 1838.97,1015.39 1839.06,1015.25 \n",
       "  1839.17,1015.09 1839.31,1014.88 1839.34,1014.84 1839.37,1014.79 1839.4,1014.75 1839.45,1014.68 1839.51,1014.58 1840.3,1013.41 1840.43,1013.23 1840.86,1012.59 \n",
       "  1840.92,1012.5 1840.93,1012.48 1841.12,1012.2 1841.2,1012.09 1841.27,1011.98 1841.36,1011.85 1841.43,1011.75 1841.79,1011.22 1841.96,1010.96 1842.05,1010.84 \n",
       "  1842.07,1010.81 1842.35,1010.39 1842.36,1010.37 1842.45,1010.23 1842.75,1009.8 1842.75,1009.8 1843.2,1009.12 1843.38,1008.86 1843.43,1008.78 1844.21,1007.63 \n",
       "  1844.34,1007.44 1844.7,1006.9 1845.26,1006.06 1845.46,1005.76 1845.59,1005.58 1845.85,1005.18 1846.23,1004.62 1846.27,1004.56 1846.33,1004.47 1846.42,1004.34 \n",
       "  1846.44,1004.32 1846.58,1004.1 1846.59,1004.08 1846.62,1004.05 1846.73,1003.88 1846.96,1003.53 1847.17,1003.22 1847.54,1002.66 1847.67,1002.47 1848.1,1001.83 \n",
       "  1848.42,1001.35 1848.74,1000.88 1848.82,1000.75 1849.11,1000.32 1849.15,1000.26 1849.15,1000.25 1849.45,999.814 1849.46,999.789 1849.67,999.486 1850.33,998.489 \n",
       "  1850.37,998.427 1850.84,997.724 1851.25,997.106 1851.38,996.913 1851.46,996.793 1851.54,996.665 1851.59,996.593 1851.61,996.572 1852.31,995.515 1852.89,994.631 \n",
       "  1852.97,994.517 1853.07,994.371 1853.1,994.326 1853.26,994.084 1853.26,994.072 1853.51,993.705 1853.77,993.311 1853.96,993.017 1854.22,992.636 1854.22,992.623 \n",
       "  1854.44,992.3 1854.55,992.13 1854.61,992.047 1854.87,991.651 1854.9,991.601 1855.09,991.313 1855.76,990.303 1855.85,990.166 1855.93,990.041 1855.97,989.979 \n",
       "  1855.98,989.961 1856.07,989.836 1856.14,989.726 1856.53,989.128 1856.54,989.114 1856.57,989.074 1856.58,989.053 1857.19,988.131 1857.33,987.922 1857.45,987.735 \n",
       "  1857.74,987.3 1857.9,987.057 1858.05,986.826 1858.23,986.544 1858.37,986.341 1858.55,986.064 1858.59,986.008 1858.8,985.682 1858.94,985.465 1859.05,985.304 \n",
       "  1859.05,985.301 1859.17,985.127 1859.25,984.992 1859.5,984.622 1859.51,984.597 1859.6,984.46 1860.36,983.303 1860.37,983.296 1860.45,983.163 1860.84,982.576 \n",
       "  1861.15,982.102 1861.15,982.099 1861.56,981.473 1861.61,981.395 1861.7,981.251 1861.74,981.201 1862,980.805 1862.08,980.668 1862.13,980.593 1862.21,980.482 \n",
       "  1862.3,980.339 1862.47,980.073 1862.65,979.806 1863.49,978.516 1863.72,978.155 1863.83,977.99 1863.89,977.898 1864,977.725 1864.73,976.617 1864.8,976.496 \n",
       "  1865.58,975.302 1865.62,975.247 1866.14,974.432 1866.16,974.416 1866.4,974.041 1866.56,973.79 1866.73,973.524 1866.89,973.28 1867.11,972.942 1867.45,972.418 \n",
       "  1867.57,972.235 1868.23,971.221 1868.64,970.579 1868.9,970.177 1868.93,970.134 1868.97,970.072 1869.29,969.574 1869.39,969.413 1869.47,969.289 1869.49,969.265 \n",
       "  1869.74,968.871 1869.88,968.656 1869.9,968.628 1870.05,968.39 1870.1,968.312 1870.24,968.106 1870.45,967.77 1871.01,966.902 1871.06,966.824 1871.28,966.48 \n",
       "  1871.34,966.4 1871.58,966.023 1871.67,965.874 1871.78,965.711 1871.85,965.602 1872.19,965.063 1872.58,964.456 1872.68,964.304 1873.11,963.636 1873.28,963.377 \n",
       "  1873.62,962.846 1873.74,962.661 1874.43,961.578 1874.53,961.428 1874.66,961.213 1874.72,961.131 1874.82,960.961 1875.18,960.4 1875.31,960.205 1875.7,959.587 \n",
       "  1875.9,959.286 1876,959.125 1876.05,959.052 1876.12,958.938 1876.55,958.255 1876.65,958.108 1876.96,957.613 1877.08,957.432 1877.19,957.253 1877.38,956.961 \n",
       "  1877.38,956.957 1877.42,956.904 1877.42,956.902 1877.45,956.847 1877.57,956.659 1877.61,956.605 1878,955.988 1878.1,955.822 1878.27,955.563 1878.72,954.851 \n",
       "  1879.16,954.164 1879.22,954.07 1879.38,953.813 1879.62,953.431 1879.66,953.373 1879.71,953.296 1879.74,953.244 1880.25,952.453 1880.63,951.845 1880.74,951.676 \n",
       "  1880.91,951.4 1880.99,951.273 1881.16,951.011 1881.58,950.347 1881.95,949.769 1882.44,948.99 1882.85,948.341 1882.86,948.321 1883.3,947.625 1883.51,947.299 \n",
       "  1883.64,947.079 1883.69,947.007 1883.7,946.998 1884.16,946.268 1884.34,945.977 1884.45,945.796 1884.75,945.332 1885.14,944.713 1885.19,944.626 1885.35,944.37 \n",
       "  1886.09,943.196 1886.38,942.727 1886.5,942.537 1886.54,942.48 1886.67,942.274 1886.91,941.896 1886.97,941.798 1886.98,941.776 1887.34,941.206 1887.75,940.545 \n",
       "  1888.4,939.52 1888.56,939.258 1888.84,938.814 1888.97,938.601 1889.13,938.348 1889.18,938.267 1889.46,937.825 1889.47,937.8 1889.56,937.662 1889.83,937.229 \n",
       "  1889.93,937.061 1890.06,936.86 1890.43,936.263 1890.85,935.592 1891.11,935.175 1891.52,934.524 1891.74,934.167 1891.8,934.069 1892.48,932.977 1892.72,932.59 \n",
       "  1893.47,931.389 1893.66,931.084 1894.17,930.247 1894.38,929.917 1894.49,929.737 1894.61,929.548 1894.68,929.428 1894.84,929.175 1895,928.921 1895.27,928.482 \n",
       "  1895.33,928.387 1895.35,928.351 1895.57,927.998 1895.6,927.951 1896.06,927.206 1896.29,926.838 1896.58,926.362 1896.61,926.315 1896.71,926.155 1896.95,925.768 \n",
       "  1897.37,925.087 1897.39,925.051 1897.58,924.751 1897.89,924.236 1898.06,923.96 1898.15,923.815 1898.22,923.707 1898.26,923.642 1898.64,923.03 1898.87,922.659 \n",
       "  1898.95,922.519 1899.03,922.389 1899.07,922.335 1899.16,922.176 1899.2,922.11 1899.38,921.817 1899.88,921.011 1899.94,920.907 1900,920.819 1900.06,920.718 \n",
       "  1900.1,920.646 1900.11,920.632 1900.16,920.551 1900.46,920.06 1901.1,919.024 1901.21,918.841 1901.23,918.81 1901.52,918.341 1901.6,918.209 1901.78,917.921 \n",
       "  1901.81,917.87 1902.73,916.374 1903,915.931 1903.2,915.592 1903.21,915.575 1903.73,914.737 1903.81,914.6 1904.12,914.091 1904.19,913.98 1904.43,913.586 \n",
       "  1904.72,913.114 1904.78,913.017 1904.86,912.875 1904.87,912.861 1904.97,912.708 1905.16,912.385 1905.38,912.028 1905.66,911.574 1905.71,911.494 1905.85,911.251 \n",
       "  1905.99,911.028 1906.06,910.908 1906.49,910.209 1907.21,909.028 1907.41,908.697 1908.07,907.618 1908.09,907.572 1908.1,907.559 1908.2,907.397 1908.38,907.104 \n",
       "  1908.6,906.742 1909,906.077 1909.01,906.058 1909.48,905.292 1909.51,905.234 1909.53,905.195 1909.56,905.161 1909.63,905.034 1909.9,904.589 1910.03,904.378 \n",
       "  1910.09,904.27 1910.33,903.885 1910.54,903.531 1910.78,903.138 1910.86,903.009 1911.03,902.727 1911.05,902.689 1911.17,902.487 1911.31,902.255 1911.48,901.985 \n",
       "  1911.51,901.927 1911.83,901.401 1911.84,901.379 1912.02,901.08 1912.15,900.868 1912.17,900.829 1912.2,900.781 1912.52,900.259 1912.55,900.213 1913.21,899.119 \n",
       "  1913.26,899.035 1913.99,897.814 1914.04,897.738 1914.38,897.174 1914.52,896.939 1915,896.131 1915.31,895.616 1915.53,895.258 1915.75,894.887 1916.22,894.112 \n",
       "  1916.28,894.001 1916.42,893.772 1916.49,893.663 1916.68,893.333 1916.79,893.159 1917.03,892.751 1917.29,892.323 1917.36,892.211 1917.47,892.026 1918.21,890.782 \n",
       "  1918.33,890.575 1918.36,890.537 1918.53,890.245 1918.61,890.106 1918.86,889.702 1918.99,889.477 1919.23,889.077 1919.5,888.618 1919.69,888.304 1919.73,888.232 \n",
       "  1919.94,887.889 1920.07,887.668 1920.29,887.3 1920.47,886.99 1920.82,886.412 1921,886.103 1921.18,885.801 1921.34,885.537 1921.6,885.104 1921.62,885.06 \n",
       "  1921.76,884.833 1922.45,883.665 1922.46,883.658 1922.71,883.239 1922.81,883.064 1923.64,881.67 1923.7,881.561 1923.94,881.166 1924.21,880.702 1924.24,880.651 \n",
       "  1924.57,880.096 1924.83,879.659 1924.91,879.519 1924.99,879.39 1925.14,879.135 1925.2,879.036 1925.61,878.34 1925.8,878.011 1926.05,877.594 1926.2,877.346 \n",
       "  1926.43,876.946 1926.55,876.751 1926.58,876.693 1926.7,876.498 1927.08,875.843 1927.09,875.828 1927.12,875.786 1927.27,875.528 1927.31,875.464 1927.33,875.42 \n",
       "  1927.43,875.257 1927.63,874.918 1927.68,874.831 1927.97,874.34 1928.38,873.646 1929.12,872.388 1929.68,871.43 1930.18,870.587 1930.24,870.481 1930.46,870.107 \n",
       "  1930.85,869.438 1930.95,869.28 1931.36,868.577 1932.15,867.225 1932.35,866.877 1932.66,866.361 1932.7,866.296 1932.83,866.066 1933.05,865.689 1933.21,865.41 \n",
       "  1933.3,865.255 1933.31,865.248 1933.34,865.2 1933.38,865.127 1934.06,863.965 1934.12,863.854 1934.29,863.568 1934.37,863.427 1934.67,862.921 1936.11,860.451 \n",
       "  1936.13,860.413 1936.4,859.94 1936.61,859.595 1936.76,859.336 1936.87,859.144 1936.9,859.081 1937.73,857.665 1937.74,857.641 1937.84,857.468 1937.95,857.282 \n",
       "  1937.97,857.242 1938.02,857.167 1938.05,857.107 1938.07,857.07 1938.46,856.401 1938.82,855.777 1939.11,855.278 1939.31,854.94 1939.31,854.937 1939.4,854.779 \n",
       "  1939.57,854.492 1939.62,854.398 1939.84,854.023 1939.97,853.796 1940.17,853.457 1940.82,852.323 1941.03,851.967 1941.08,851.875 1941.77,850.689 1941.87,850.514 \n",
       "  1942.13,850.06 1942.32,849.733 1942.33,849.711 1942.41,849.575 1942.54,849.354 1942.86,848.794 1943.19,848.22 1943.29,848.051 1943.53,847.633 1943.54,847.624 \n",
       "  1943.56,847.578 1943.69,847.354 1943.73,847.29 1944.29,846.312 1944.35,846.215 1944.91,845.23 1945.05,845 1945.3,844.561 1945.6,844.029 1945.73,843.801 \n",
       "  1945.75,843.769 1945.79,843.7 1945.82,843.654 1945.83,843.633 1946.93,841.719 1947.08,841.457 1947.22,841.214 1947.28,841.107 1947.65,840.461 1947.84,840.134 \n",
       "  1948.24,839.426 1948.25,839.411 1948.49,838.993 1948.68,838.663 1948.68,838.655 1948.91,838.251 1948.99,838.127 1949.4,837.399 1949.46,837.293 1949.63,836.995 \n",
       "  1949.89,836.539 1949.92,836.485 1949.94,836.447 1950.08,836.201 1950.15,836.089 1950.42,835.605 1950.58,835.337 1950.64,835.228 1950.73,835.07 1950.77,835.005 \n",
       "  1950.88,834.799 1951.19,834.265 1951.46,833.79 1951.86,833.081 1952.03,832.786 1952.41,832.124 1952.5,831.954 1952.69,831.632 1953.14,830.836 1953.36,830.45 \n",
       "  1953.45,830.282 1953.46,830.279 1953.59,830.051 1954.04,829.246 1954.34,828.724 1954.6,828.271 1954.68,828.116 1954.82,827.868 1954.87,827.793 1955.1,827.372 \n",
       "  1955.27,827.086 1955.62,826.469 1955.74,826.249 1955.9,825.96 1955.95,825.881 1956.32,825.217 1956.39,825.094 1956.42,825.04 1956.6,824.723 1956.94,824.134 \n",
       "  1956.95,824.107 1957.16,823.733 1957.24,823.592 1957.66,822.845 1957.67,822.833 1958.02,822.219 1958.37,821.595 1958.49,821.378 1958.82,820.794 1959.18,820.162 \n",
       "  1959.3,819.948 1959.51,819.565 1959.53,819.527 1959.71,819.22 1959.82,819.029 1959.99,818.712 1960.37,818.039 1960.6,817.626 1960.68,817.493 1960.96,816.997 \n",
       "  1961.46,816.097 1961.68,815.706 1961.85,815.402 1961.9,815.324 1962.34,814.543 1962.47,814.297 1962.58,814.112 1962.84,813.634 1963.46,812.534 1963.58,812.327 \n",
       "  1963.69,812.127 1963.94,811.676 1964.2,811.213 1964.32,810.998 1964.45,810.757 1964.53,810.615 1964.74,810.241 1965.11,809.584 1965.51,808.862 1965.88,808.198 \n",
       "  1965.89,808.191 1966.02,807.945 1966.09,807.832 1966.52,807.061 1966.75,806.637 1966.85,806.462 1966.87,806.428 1967.24,805.766 1967.35,805.573 1967.76,804.833 \n",
       "  1968.46,803.58 1968.66,803.221 1968.7,803.147 1968.82,802.929 1968.83,802.902 1968.99,802.615 1969.14,802.343 1969.27,802.107 1969.46,801.781 1969.77,801.213 \n",
       "  1970.19,800.456 1970.38,800.107 1970.63,799.657 1970.71,799.527 1970.92,799.144 1971.36,798.352 1971.63,797.865 1971.85,797.465 1971.94,797.303 1971.95,797.274 \n",
       "  1972.01,797.176 1972.22,796.797 1972.22,796.789 1972.31,796.635 1972.66,795.986 1972.77,795.789 1972.84,795.663 1972.92,795.517 1973.45,794.565 1973.59,794.306 \n",
       "  1973.65,794.209 1973.78,793.965 1974.16,793.286 1974.64,792.411 1975.08,791.616 1975.1,791.579 1975.2,791.399 1975.3,791.202 1975.43,790.974 1975.44,790.958 \n",
       "  1975.72,790.45 1976.33,789.343 1976.61,788.837 1976.83,788.424 1977.2,787.763 1977.23,787.704 1977.71,786.833 1977.87,786.528 1977.9,786.48 1978.07,786.172 \n",
       "  1978.08,786.151 1978.1,786.105 1978.44,785.493 1978.52,785.347 1978.8,784.839 1978.84,784.765 1979.04,784.397 1979.06,784.358 1979.1,784.296 1979.27,783.982 \n",
       "  1979.7,783.188 1980.08,782.493 1980.26,782.168 1980.64,781.483 1980.75,781.28 1981,780.818 1981.04,780.75 1981.05,780.732 1981.46,779.979 1981.5,779.896 \n",
       "  1981.68,779.579 1981.79,779.375 1982.11,778.782 1982.23,778.565 1982.51,778.045 1982.95,777.24 1982.97,777.209 1983.35,776.514 1983.84,775.611 1983.84,775.602 \n",
       "  1983.85,775.587 1984.08,775.171 1984.18,774.987 1984.54,774.324 1984.56,774.28 1984.85,773.752 1984.99,773.491 1985.24,773.03 1985.28,772.955 1985.44,772.669 \n",
       "  1985.47,772.606 1985.68,772.218 1985.71,772.162 1985.79,772.023 1985.83,771.94 1985.84,771.934 1986.04,771.566 1986.07,771.507 1986.1,771.441 1986.27,771.144 \n",
       "  1986.82,770.125 1986.85,770.068 1987.43,768.994 1987.47,768.928 1987.87,768.176 1988.09,767.779 1988.09,767.768 1988.12,767.726 1988.15,767.672 1988.15,767.668 \n",
       "  1988.49,767.031 1989.23,765.673 1989.23,765.67 1989.25,765.634 1989.29,765.554 1989.3,765.533 1989.38,765.394 1989.42,765.321 1989.55,765.081 1989.57,765.029 \n",
       "  1989.89,764.436 1990.11,764.029 1990.17,763.932 1990.24,763.79 1990.33,763.623 1990.36,763.581 1990.59,763.15 1990.95,762.477 1991.04,762.309 1991.34,761.755 \n",
       "  1991.6,761.264 1991.84,760.833 1991.91,760.698 1991.94,760.645 1992.08,760.388 1992.1,760.351 1992.18,760.199 1992.19,760.167 1992.3,759.97 1992.39,759.804 \n",
       "  1992.5,759.608 1992.6,759.421 1992.72,759.194 1992.93,758.808 1993.11,758.464 1993.72,757.329 1994.12,756.588 1994.17,756.499 1994.34,756.17 1994.37,756.124 \n",
       "  1994.58,755.736 1994.61,755.663 1994.96,755.017 1995.22,754.543 1995.82,753.411 1995.91,753.252 1996.07,752.941 1996.48,752.182 1996.58,751.986 1996.85,751.48 \n",
       "  1997.07,751.078 1997.12,750.975 1997.26,750.73 1997.43,750.401 1997.73,749.844 1997.75,749.807 1997.85,749.608 1998.19,748.972 1998.28,748.809 1998.42,748.553 \n",
       "  1998.44,748.518 1998.7,748.022 1998.84,747.76 1998.92,747.613 1998.93,747.592 1999,747.453 1999.22,747.057 1999.4,746.706 1999.47,746.586 1999.5,746.515 \n",
       "  1999.51,746.499 1999.55,746.438 1999.74,746.069 1999.89,745.798 1999.92,745.731 1999.93,745.715 2000.01,745.571 2000.7,744.263 2001.02,743.658 2001.03,743.641 \n",
       "  2001.15,743.427 2001.18,743.361 2001.34,743.066 2001.86,742.08 2001.91,742 2001.93,741.951 2001.94,741.932 2002.01,741.811 2002.07,741.687 2002.7,740.497 \n",
       "  2002.75,740.415 2002.76,740.395 2003.2,739.568 2003.24,739.485 2003.64,738.738 2003.69,738.645 2003.8,738.434 2003.8,738.425 2004.11,737.852 2004.2,737.665 \n",
       "  2004.44,737.215 2004.79,736.557 2004.95,736.248 2005.07,736.027 2005.32,735.558 2005.46,735.299 2005.7,734.832 2005.98,734.31 2006.2,733.881 2006.23,733.827 \n",
       "  2006.52,733.278 2006.64,733.059 2006.96,732.443 2006.98,732.415 2007.23,731.946 2007.91,730.646 2007.98,730.505 2008.15,730.186 2008.28,729.944 2008.33,729.852 \n",
       "  2008.64,729.257 2008.84,728.882 2008.86,728.84 2008.92,728.728 2008.96,728.658 2009,728.579 2009.21,728.181 2009.22,728.163 2009.26,728.081 2009.35,727.904 \n",
       "  2009.38,727.849 2009.91,726.842 2010.27,726.153 2010.4,725.921 2010.71,725.331 2011.19,724.406 2011.29,724.219 2011.8,723.244 2011.9,723.051 2011.94,722.976 \n",
       "  2011.96,722.931 2011.98,722.902 2011.99,722.889 2012.04,722.792 2012.16,722.557 2012.17,722.547 2012.18,722.515 2012.44,722.016 2012.47,721.963 2013,720.947 \n",
       "  2013.14,720.683 2013.16,720.652 2013.18,720.615 2013.2,720.57 2013.32,720.347 2013.43,720.127 2013.52,719.961 2013.62,719.768 2014.41,718.257 2014.66,717.772 \n",
       "  2014.69,717.72 2014.78,717.539 2014.93,717.254 2014.99,717.137 2015.2,716.75 2015.25,716.649 2015.26,716.633 2016.27,714.691 2016.32,714.595 2016.69,713.876 \n",
       "  2016.7,713.872 2017.11,713.082 2017.42,712.475 2017.42,712.473 2017.55,712.227 2017.67,711.994 2017.8,711.743 2018.18,711.014 2018.45,710.495 2018.52,710.375 \n",
       "  2018.55,710.311 2018.6,710.211 2018.63,710.155 2019.16,709.139 2019.16,709.126 2019.18,709.098 2019.44,708.587 2019.5,708.469 2019.52,708.448 2019.59,708.299 \n",
       "  2019.99,707.525 2020,707.513 2020.09,707.338 2020.17,707.184 2020.19,707.152 2020.25,707.033 2020.31,706.918 2020.41,706.717 2020.55,706.454 2020.69,706.178 \n",
       "  2020.82,705.941 2020.88,705.822 2020.89,705.802 2020.96,705.653 2021.05,705.49 2021.11,705.363 2021.18,705.231 2021.28,705.044 2021.51,704.594 2021.59,704.445 \n",
       "  2022.14,703.39 2022.15,703.367 2022.19,703.289 2022.45,702.776 2022.46,702.764 2022.47,702.735 2022.59,702.506 2022.99,701.733 2023.14,701.442 2023.59,700.573 \n",
       "  2023.61,700.539 2023.72,700.326 2024.09,699.608 2024.1,699.591 2024.21,699.366 2024.37,699.063 2024.81,698.203 2024.87,698.089 2024.95,697.94 2025.02,697.795 \n",
       "  2025.07,697.698 2025.5,696.87 2025.87,696.152 2025.93,696.024 2026.11,695.691 2026.12,695.667 2026.48,694.963 2026.64,694.644 2026.73,694.48 2026.8,694.34 \n",
       "  2026.98,693.986 2027.05,693.86 2027.12,693.719 2027.21,693.547 2027.51,692.964 2027.59,692.806 2027.65,692.684 2029.15,689.765 2029.71,688.671 2029.78,688.532 \n",
       "  2029.93,688.245 2029.97,688.152 2030.62,686.891 2030.99,686.168 2031.69,684.789 2031.79,684.602 2032.27,683.658 2032.4,683.402 2032.46,683.284 2032.5,683.209 \n",
       "  2032.5,683.208 2033.17,681.901 2033.25,681.735 2033.33,681.577 2033.75,680.75 2033.96,680.337 2034.24,679.794 2034.55,679.177 2034.75,678.79 2035.39,677.533 \n",
       "  2035.52,677.281 2036.94,674.483 2037.37,673.641 2037.42,673.535 2037.45,673.474 2037.63,673.112 2037.78,672.83 2038.09,672.214 2038.15,672.097 2038.18,672.04 \n",
       "  2039.52,669.38 2039.62,669.189 2040,668.44 2040.08,668.27 2040.2,668.036 2040.63,667.181 2040.8,666.857 2040.97,666.51 2041.06,666.338 2041.12,666.217 \n",
       "  2041.63,665.201 2042.15,664.185 2042.28,663.926 2042.32,663.834 2042.58,663.312 2042.59,663.294 2043.11,662.273 2043.15,662.187 2043.39,661.708 2043.56,661.376 \n",
       "  2043.6,661.299 2043.76,660.974 2043.89,660.725 2043.9,660.692 2044.63,659.247 2044.91,658.688 2045.23,658.046 2045.47,657.563 2045.66,657.185 2046.53,655.465 \n",
       "  2046.53,655.462 2046.57,655.372 2046.71,655.103 2046.8,654.926 2047.05,654.422 2047.29,653.936 2047.42,653.675 2047.67,653.179 2047.91,652.696 2048.09,652.334 \n",
       "  2048.17,652.179 2048.18,652.155 2048.24,652.046 2048.38,651.772 2049.05,650.423 2049.34,649.846 2049.35,649.821 2049.45,649.626 2049.46,649.602 2049.72,649.087 \n",
       "  2049.8,648.912 2049.97,648.584 2050.18,648.161 2050.45,647.624 2050.54,647.429 2050.59,647.345 2050.61,647.291 2050.69,647.144 2050.72,647.072 2050.77,646.967 \n",
       "  2050.94,646.627 2050.97,646.57 2051.09,646.336 2051.24,646.026 2051.74,645.019 2051.84,644.819 2051.92,644.67 2052.13,644.236 2052.23,644.051 2052.28,643.947 \n",
       "  2052.33,643.853 2052.53,643.448 2052.93,642.637 2053.01,642.485 2053.08,642.344 2053.39,641.72 2053.52,641.443 2053.64,641.209 2053.77,640.94 2054.47,639.534 \n",
       "  2054.74,638.989 2054.83,638.819 2054.83,638.812 2055.7,637.056 2055.77,636.906 2056.4,635.631 2056.49,635.46 2056.64,635.157 2056.67,635.097 2056.69,635.051 \n",
       "  2056.8,634.832 2057.26,633.894 2057.53,633.355 2057.6,633.216 2057.85,632.699 2057.97,632.456 2058,632.405 2058.01,632.379 2058.16,632.088 2058.3,631.804 \n",
       "  2058.32,631.752 2058.66,631.073 2058.67,631.051 2058.73,630.928 2059.17,630.042 2059.36,629.657 2059.93,628.488 2060.37,627.606 2060.41,627.52 2060.47,627.402 \n",
       "  2060.88,626.564 2060.89,626.537 2060.98,626.353 2061.14,626.037 2061.26,625.791 2061.28,625.754 2061.29,625.723 2061.36,625.59 2061.39,625.52 2061.42,625.469 \n",
       "  2061.47,625.369 2061.47,625.362 2061.86,624.568 2061.91,624.469 2061.91,624.467 2062.08,624.126 2062.18,623.917 2062.23,623.811 2062.37,623.529 2062.53,623.212 \n",
       "  2062.6,623.06 2062.78,622.699 2062.87,622.507 2063.07,622.114 2063.08,622.086 2063.13,621.979 2063.3,621.633 2063.32,621.597 2063.46,621.318 2063.46,621.309 \n",
       "  2063.79,620.642 2063.98,620.246 2064.13,619.941 2064.26,619.672 2064.39,619.415 2064.47,619.251 2064.77,618.651 2064.77,618.645 2064.96,618.258 2064.97,618.23 \n",
       "  2065.03,618.106 2065.21,617.75 2065.47,617.21 2065.93,616.273 2066.21,615.708 2066.4,615.317 2066.43,615.247 2066.53,615.052 2066.97,614.154 2067.13,613.809 \n",
       "  2067.4,613.264 2067.59,612.868 2067.63,612.797 2067.91,612.209 2068.02,612 2068.02,611.996 2068.06,611.906 2068.71,610.571 2068.79,610.409 2068.93,610.127 \n",
       "  2068.96,610.058 2069,609.991 2069,609.977 2069.26,609.443 2069.73,608.486 2069.78,608.389 2069.87,608.205 2069.88,608.174 2070.17,607.587 2070.48,606.934 \n",
       "  2070.55,606.807 2070.55,606.804 2070.64,606.623 2070.71,606.463 2070.73,606.436 2070.9,606.079 2070.96,605.96 2071.13,605.615 2071.15,605.556 2071.25,605.353 \n",
       "  2071.43,604.998 2072.14,603.536 2072.27,603.254 2072.3,603.203 2072.3,603.192 2072.61,602.559 2072.65,602.473 2072.84,602.081 2072.93,601.904 2073.01,601.73 \n",
       "  2073.21,601.325 2073.26,601.212 2073.32,601.099 2073.37,600.983 2073.58,600.56 2073.83,600.045 2074.18,599.323 2074.32,599.021 2074.46,598.741 2074.89,597.859 \n",
       "  2075.41,596.78 2075.53,596.533 2075.68,596.216 2076.17,595.207 2076.27,594.996 2076.42,594.679 2076.49,594.55 2077.26,592.949 2078.12,591.159 2078.29,590.821 \n",
       "  2078.33,590.735 2078.36,590.671 2078.59,590.198 2078.75,589.846 2078.9,589.544 2079.32,588.668 2079.46,588.389 2080.66,585.892 2080.82,585.544 2080.93,585.313 \n",
       "  2081.29,584.572 2081.38,584.383 2081.84,583.429 2081.9,583.299 2082.15,582.777 2082.19,582.69 2082.26,582.559 2082.64,581.755 2082.79,581.449 2083.15,580.689 \n",
       "  2083.17,580.645 2083.18,580.626 2083.44,580.094 2083.5,579.954 2083.74,579.469 2084.02,578.867 2084.1,578.711 2084.32,578.25 2084.42,578.045 2084.61,577.651 \n",
       "  2084.76,577.335 2085.56,575.652 2085.96,574.821 2086.1,574.513 2086.35,573.99 2086.48,573.735 2086.74,573.172 2086.94,572.764 2086.98,572.672 2087.01,572.614 \n",
       "  2087.31,571.981 2087.39,571.826 2087.7,571.166 2087.74,571.076 2088.5,569.481 2088.89,568.678 2089.03,568.378 2090.12,566.087 2090.26,565.781 2090.51,565.253 \n",
       "  2090.6,565.073 2090.8,564.646 2092.04,562.038 2092.11,561.893 2092.35,561.374 2092.66,560.715 2092.75,560.531 2092.91,560.199 2092.95,560.12 2092.97,560.076 \n",
       "  2093.24,559.5 2093.5,558.95 2093.61,558.721 2093.77,558.369 2093.78,558.36 2094.1,557.673 2094.13,557.624 2094.23,557.409 2094.55,556.739 2094.89,556.019 \n",
       "  2095.21,555.326 2095.28,555.184 2095.44,554.848 2095.82,554.033 2096.03,553.587 2096.68,552.215 2097.19,551.137 2097.2,551.11 2097.33,550.841 2097.71,550.019 \n",
       "  2098.01,549.396 2098.12,549.148 2098.37,548.622 2098.48,548.389 2098.59,548.167 2098.63,548.071 2098.66,548.017 2099.07,547.137 2099.14,546.992 2099.27,546.717 \n",
       "  2099.86,545.459 2100.02,545.117 2100.27,544.58 2100.44,544.229 2100.6,543.875 2101.13,542.737 2101.63,541.691 2101.63,541.69 2101.69,541.549 2101.82,541.268 \n",
       "  2101.87,541.162 2101.94,541.014 2101.98,540.94 2101.99,540.917 2102.06,540.755 2102.24,540.381 2102.61,539.582 2102.62,539.562 2103.47,537.76 2103.64,537.392 \n",
       "  2103.84,536.951 2103.88,536.862 2104.35,535.872 2104.71,535.104 2104.76,534.988 2104.87,534.747 2105.25,533.942 2105.46,533.483 2105.52,533.369 2105.7,532.967 \n",
       "  2105.82,532.718 2106.19,531.913 2106.44,531.386 2106.89,530.426 2107.39,529.355 2107.48,529.149 2107.54,529.015 2107.83,528.405 2107.84,528.384 2107.9,528.247 \n",
       "  2108.64,526.655 2108.72,526.485 2108.79,526.328 2109.27,525.309 2109.58,524.641 2109.66,524.462 2110.02,523.675 2110.03,523.666 2110.37,522.93 2110.37,522.922 \n",
       "  2110.55,522.551 2110.96,521.651 2111.22,521.105 2111.29,520.939 2111.31,520.906 2111.32,520.89 2111.37,520.763 2111.83,519.772 2112.13,519.138 2112.25,518.878 \n",
       "  2112.38,518.598 2112.38,518.594 2112.43,518.485 2112.61,518.085 2113.59,515.984 2113.7,515.743 2113.8,515.515 2114.13,514.801 2114.46,514.096 2114.47,514.063 \n",
       "  2114.76,513.445 2114.76,513.431 2114.9,513.134 2114.92,513.102 2114.98,512.968 2115.08,512.755 2115.23,512.428 2115.26,512.362 2115.44,511.965 2115.46,511.916 \n",
       "  2115.48,511.883 2115.8,511.183 2115.81,511.162 2115.99,510.761 2116.21,510.292 2116.33,510.041 2116.4,509.891 2116.43,509.813 2116.57,509.518 2116.62,509.398 \n",
       "  2116.88,508.841 2117.39,507.731 2117.42,507.657 2117.5,507.497 2117.67,507.123 2117.71,507.029 2117.79,506.853 2118.06,506.278 2118.28,505.801 2118.46,505.41 \n",
       "  2118.55,505.213 2118.7,504.878 2118.81,504.65 2119.11,503.983 2119.17,503.861 2119.27,503.63 2119.34,503.48 2119.55,503.036 2119.66,502.796 2119.67,502.756 \n",
       "  2119.85,502.367 2119.87,502.331 2119.98,502.094 2120.14,501.745 2120.2,501.617 2120.26,501.478 2120.6,500.736 2120.79,500.333 2120.83,500.242 2120.93,500.029 \n",
       "  2121.34,499.115 2121.36,499.074 2121.45,498.891 2121.53,498.708 2121.68,498.387 2121.97,497.739 2122.6,496.362 2122.76,496.023 2123.37,494.682 2123.5,494.395 \n",
       "  2123.62,494.142 2123.91,493.498 2124.15,492.972 2124.32,492.612 2124.32,492.603 2124.35,492.537 2124.47,492.277 2124.64,491.913 2124.74,491.684 2124.91,491.308 \n",
       "  2124.99,491.142 2125.43,490.167 2125.57,489.872 2125.57,489.854 2125.81,489.325 2125.82,489.319 2125.89,489.16 2125.95,489.022 2126.09,488.72 2126.56,487.699 \n",
       "  2126.69,487.403 2126.79,487.189 2126.81,487.134 2127.02,486.686 2127.59,485.413 2127.69,485.202 2127.8,484.967 2127.99,484.543 2128.1,484.31 2128.16,484.174 \n",
       "  2128.61,483.171 2128.78,482.811 2128.82,482.723 2128.85,482.646 2129.09,482.113 2129.15,481.987 2129.44,481.35 2129.9,480.33 2130.29,479.484 2130.79,478.366 \n",
       "  2131.04,477.821 2131.17,477.527 2131.55,476.701 2131.72,476.31 2131.85,476.04 2131.97,475.774 2132.16,475.339 2132.66,474.24 2133.09,473.295 2133.17,473.115 \n",
       "  2133.32,472.771 2133.39,472.63 2133.47,472.438 2134.18,470.875 2134.36,470.464 2134.54,470.076 2135.41,468.134 2135.58,467.775 2135.98,466.882 2136.17,466.466 \n",
       "  2136.44,465.856 2136.47,465.785 2136.49,465.735 2136.59,465.532 2136.84,464.967 2137.56,463.371 2137.63,463.221 2137.66,463.152 2137.82,462.786 2138.57,461.109 \n",
       "  2138.88,460.419 2138.97,460.221 2139,460.165 2139.22,459.666 2139.49,459.065 2139.59,458.853 2139.91,458.126 2140.02,457.88 2140.07,457.773 2140.08,457.756 \n",
       "  2140.23,457.425 2140.72,456.32 2140.83,456.072 2140.84,456.048 2141.06,455.567 2141.06,455.565 2142.25,452.895 2142.27,452.87 2142.31,452.778 2142.72,451.85 \n",
       "  2143.04,451.143 2143.11,450.979 2143.33,450.495 2143.33,450.477 2143.72,449.614 2144.07,448.833 2144.25,448.421 2144.94,446.879 2144.99,446.765 2145.36,445.928 \n",
       "  2145.5,445.63 2145.5,445.626 2145.52,445.574 2145.65,445.288 2145.99,444.511 2146.21,444.035 2146.25,443.94 2146.32,443.786 2146.38,443.639 2146.74,442.837 \n",
       "  2147.19,441.82 2147.82,440.403 2147.87,440.296 2147.87,440.289 2148.35,439.21 2148.37,439.176 2148.41,439.084 2148.54,438.782 2148.65,438.529 2148.88,438.008 \n",
       "  2149.12,437.468 2149.48,436.671 2149.5,436.631 2149.64,436.305 2149.77,436.008 2149.97,435.561 2150.07,435.344 2150.07,435.341 2150.07,435.337 2150.3,434.811 \n",
       "  2150.56,434.236 2150.85,433.566 2150.87,433.525 2151.41,432.322 2151.88,431.253 2151.94,431.117 2152.19,430.539 2152.21,430.5 2152.45,429.95 2152.93,428.881 \n",
       "  2153.11,428.462 2154.23,425.926 2154.32,425.727 2154.32,425.726 2154.47,425.382 2154.86,424.49 2155.01,424.153 2155.45,423.161 2155.54,422.959 2155.57,422.882 \n",
       "  2155.65,422.709 2155.83,422.297 2156.17,421.537 2156.5,420.776 2157,419.644 2157.04,419.559 2157.16,419.286 2157.39,418.752 2157.47,418.577 2157.5,418.493 \n",
       "  2157.52,418.462 2157.52,418.457 2157.76,417.91 2157.82,417.785 2158.16,417.007 2158.19,416.938 2158.28,416.736 2158.41,416.439 2158.67,415.83 2158.84,415.45 \n",
       "  2158.98,415.124 2159.3,414.397 2159.55,413.829 2159.61,413.702 2160.15,412.454 2160.28,412.171 2160.89,410.775 2161.18,410.107 2161.22,410.031 2161.28,409.894 \n",
       "  2161.37,409.674 2161.38,409.657 2161.49,409.394 2161.72,408.88 2161.75,408.809 2161.82,408.643 2162.23,407.715 2162.45,407.214 2162.45,407.209 2162.85,406.295 \n",
       "  2163.13,405.655 2163.28,405.318 2163.96,403.743 2164.03,403.591 2164.04,403.569 2164.1,403.431 2164.55,402.398 2164.83,401.763 2165,401.376 2165.41,400.421 \n",
       "  2165.61,399.967 2165.99,399.096 2166.43,398.086 2166.73,397.398 2166.88,397.05 2167.06,396.626 2167.17,396.393 2167.71,395.147 2167.94,394.62 2168.14,394.144 \n",
       "  2168.3,393.792 2168.38,393.6 2168.39,393.568 2168.64,392.995 2168.65,392.968 2169.14,391.853 2169.18,391.763 2169.29,391.495 2169.48,391.06 2169.75,390.453 \n",
       "  2169.93,390.034 2170.05,389.754 2170.21,389.387 2170.23,389.328 2170.27,389.243 2170.32,389.123 2170.41,388.924 2171.19,387.108 2171.2,387.086 2171.49,386.418 \n",
       "  2171.51,386.382 2171.76,385.801 2172.04,385.156 2172.21,384.753 2172.23,384.714 2172.35,384.447 2172.47,384.167 2172.77,383.473 2173.04,382.847 2174.24,380.054 \n",
       "  2174.53,379.394 2174.95,378.412 2175.45,377.255 2175.8,376.437 2176.64,374.487 2177.11,373.391 2177.17,373.254 2177.23,373.121 2177.23,373.118 2177.24,373.09 \n",
       "  2177.42,372.68 2177.77,371.858 2178.11,371.085 2178.17,370.928 2178.33,370.576 2178.41,370.38 2178.65,369.817 2178.86,369.329 2179.13,368.709 2179.25,368.413 \n",
       "  2179.94,366.822 2179.96,366.768 2180.05,366.554 2180.51,365.479 2180.54,365.425 2180.82,364.752 2180.88,364.625 2180.97,364.406 2181.07,364.179 2181.26,363.732 \n",
       "  2181.41,363.386 2181.91,362.209 2182.01,361.987 2182.08,361.81 2182.38,361.112 2182.75,360.251 2183.53,358.435 2184.03,357.265 2184.12,357.042 2184.4,356.389 \n",
       "  2184.54,356.068 2184.6,355.928 2184.64,355.829 2184.66,355.77 2184.71,355.672 2184.85,355.326 2185.16,354.609 2185.37,354.107 2185.52,353.771 2185.53,353.738 \n",
       "  2185.54,353.725 2185.76,353.196 2185.84,353.019 2185.95,352.765 2186.02,352.598 2186.82,350.703 2186.88,350.58 2187.04,350.194 2187.63,348.816 2187.79,348.438 \n",
       "  2187.99,347.964 2188.4,346.999 2188.56,346.622 2188.71,346.27 2188.76,346.139 2188.91,345.799 2188.91,345.786 2189.05,345.462 2189.1,345.346 2189.1,345.34 \n",
       "  2189.3,344.878 2189.68,343.975 2189.79,343.722 2190,343.226 2190.27,342.589 2190.31,342.493 2190.37,342.366 2190.88,341.16 2190.98,340.916 2191.13,340.567 \n",
       "  2191.26,340.267 2191.26,340.25 2191.54,339.602 2191.73,339.144 2192.21,338.016 2192.65,336.974 2192.91,336.361 2193.08,335.959 2193.73,334.414 2193.94,333.931 \n",
       "  2194.33,332.998 2194.45,332.715 2194.84,331.79 2194.86,331.756 2194.92,331.6 2194.95,331.532 2195.46,330.323 2196.14,328.712 2196.4,328.084 2196.4,328.083 \n",
       "  2196.79,327.167 2197.07,326.509 2197.19,326.209 2197.24,326.11 2197.45,325.607 2197.48,325.519 2197.51,325.461 2197.65,325.114 2197.74,324.917 2197.88,324.59 \n",
       "  2198.19,323.842 2198.2,323.826 2198.53,323.031 2198.61,322.838 2198.89,322.166 2199.05,321.79 2199.14,321.588 2199.28,321.244 2199.6,320.478 2200.68,317.911 \n",
       "  2200.8,317.623 2200.88,317.442 2201.06,316.996 2201.13,316.85 2201.19,316.686 2201.25,316.564 2201.64,315.613 2201.66,315.576 2201.79,315.262 2201.86,315.088 \n",
       "  2202.09,314.541 2202.41,313.774 2202.52,313.522 2202.57,313.414 2203.14,312.039 2203.2,311.889 2203.64,310.849 2203.94,310.119 2204.19,309.535 2204.31,309.232 \n",
       "  2204.86,307.933 2205.21,307.091 2205.38,306.671 2205.5,306.396 2205.75,305.783 2205.81,305.651 2205.91,305.422 2206.01,305.176 2206.11,304.941 2206.77,303.359 \n",
       "  2206.85,303.154 2206.91,303.01 2206.93,302.972 2206.94,302.94 2206.97,302.879 2207.24,302.216 2207.74,301.011 2207.81,300.848 2207.91,300.621 2208.29,299.703 \n",
       "  2208.36,299.533 2208.48,299.242 2208.51,299.164 2208.59,298.97 2208.61,298.938 2208.65,298.837 2208.99,298.007 2209.05,297.869 2209.2,297.512 2209.28,297.31 \n",
       "  2209.4,297.022 2209.51,296.775 2209.56,296.635 2209.6,296.543 2210.08,295.391 2210.34,294.77 2210.61,294.11 2210.63,294.067 2210.95,293.286 2210.98,293.226 \n",
       "  2211.2,292.699 2211.23,292.62 2211.38,292.273 2211.78,291.299 2211.96,290.873 2212.03,290.685 2212.28,290.094 2212.86,288.686 2213.02,288.311 2213.17,287.941 \n",
       "  2213.46,287.246 2213.73,286.586 2213.76,286.51 2213.89,286.205 2213.91,286.154 2214.07,285.755 2214.4,284.971 2214.42,284.922 2214.45,284.838 2214.68,284.286 \n",
       "  2215.22,282.993 2215.42,282.506 2215.88,281.381 2215.89,281.369 2216.43,280.05 2216.76,279.257 2216.8,279.165 2216.87,278.976 2217.14,278.343 2217.19,278.213 \n",
       "  2217.2,278.198 2217.58,277.273 2217.59,277.237 2217.67,277.039 2217.7,276.975 2217.7,276.974 2217.98,276.306 2217.98,276.305 2217.99,276.26 2218.18,275.801 \n",
       "  2218.3,275.527 2218.65,274.671 2218.7,274.539 2218.82,274.251 2218.9,274.055 2219.14,273.487 2220.26,270.754 2220.29,270.687 2220.58,269.965 2220.77,269.516 \n",
       "  2220.95,269.085 2221.37,268.055 2221.49,267.747 2221.57,267.56 2221.78,267.04 2221.82,266.949 2221.85,266.891 2221.9,266.753 2222.13,266.209 2222.25,265.914 \n",
       "  2222.38,265.597 2222.44,265.448 2222.46,265.386 2222.82,264.51 2223,264.07 2223.12,263.778 2223.25,263.476 2223.35,263.232 2223.49,262.879 2223.81,262.093 \n",
       "  2223.94,261.778 2224.05,261.524 2224.07,261.47 2224.1,261.385 2224.16,261.254 2224.18,261.206 2224.3,260.912 2224.71,259.892 2225.33,258.382 2225.44,258.105 \n",
       "  2225.79,257.261 2226,256.752 2226.02,256.702 2226.12,256.439 2226.24,256.166 2226.36,255.863 2226.81,254.768 2226.96,254.399 2227.38,253.365 2227.39,253.34 \n",
       "  2227.41,253.289 2227.42,253.273 2227.7,252.577 2228.33,251.04 2228.8,249.893 2228.8,249.883 2228.84,249.781 2228.92,249.596 2229.03,249.315 2229.17,248.984 \n",
       "  2229.32,248.604 2229.46,248.263 2229.74,247.573 2229.92,247.14 2230,246.923 2230.51,245.679 2230.69,245.248 2230.89,244.754 2230.93,244.651 2231.66,242.857 \n",
       "  2231.91,242.239 2232.16,241.619 2232.31,241.242 2232.55,240.669 2232.72,240.23 2233.35,238.685 2233.35,238.681 2233.64,237.979 2234.35,236.22 2234.83,235.04 \n",
       "  2234.83,235.026 2234.89,234.885 2235.22,234.063 2235.33,233.803 2235.37,233.695 2235.39,233.653 2235.42,233.566 2235.74,232.794 2235.98,232.185 2236.36,231.257 \n",
       "  2236.67,230.481 2236.7,230.404 2236.86,230.007 2236.87,229.991 2236.88,229.953 2237.13,229.34 2237.31,228.903 2237.72,227.895 2237.72,227.873 2238.39,226.221 \n",
       "  2238.85,225.072 2239.12,224.424 2239.53,223.384 2239.59,223.256 2239.88,222.517 2239.92,222.431 2239.93,222.401 2239.97,222.302 2240.24,221.632 2240.43,221.153 \n",
       "  2240.47,221.051 2240.55,220.876 2240.85,220.122 2240.95,219.859 2241.06,219.585 2241.16,219.35 2241.44,218.661 2241.86,217.604 2241.94,217.413 2242.01,217.222 \n",
       "  2242.44,216.169 2242.55,215.881 2242.61,215.749 2242.68,215.575 2243.26,214.124 2243.33,213.935 2243.88,212.576 2243.98,212.316 2244.52,210.989 2244.58,210.826 \n",
       "  2244.78,210.327 2245.29,209.049 2245.34,208.946 2245.5,208.53 2245.51,208.514 2245.58,208.337 2245.66,208.13 2245.72,207.983 2245.91,207.515 2246.2,206.799 \n",
       "  2246.49,206.056 2246.56,205.887 2246.96,204.899 2247.11,204.504 2247.24,204.177 2248.01,202.271 2248.11,202.013 2248.39,201.301 2248.47,201.117 2248.62,200.729 \n",
       "  2248.66,200.64 2248.71,200.518 2249.1,199.524 2249.34,198.934 2249.4,198.768 2250.42,196.21 2250.46,196.123 2250.56,195.872 2250.7,195.523 2250.84,195.16 \n",
       "  2250.89,195.042 2250.96,194.852 2251.07,194.59 2251.15,194.393 2251.63,193.174 2251.82,192.717 2252.4,191.256 2252.45,191.133 2252.62,190.699 2253.04,189.629 \n",
       "  2253.48,188.53 2253.93,187.389 2253.97,187.302 2254.27,186.546 2254.52,185.91 2254.54,185.871 2254.81,185.174 2254.82,185.155 2254.89,184.979 2255.32,183.903 \n",
       "  2255.39,183.723 2255.42,183.635 2255.74,182.823 2255.79,182.706 2255.83,182.602 2256.04,182.089 2256.19,181.704 2256.52,180.878 2256.66,180.506 2256.69,180.435 \n",
       "  2257.48,178.453 2257.82,177.574 2257.93,177.302 2258.09,176.897 2258.15,176.751 2258.54,175.765 2258.66,175.464 2258.9,174.845 2258.94,174.737 2259.15,174.222 \n",
       "  2259.19,174.126 2259.54,173.23 2259.56,173.187 2259.67,172.897 2260.12,171.755 2260.24,171.462 2260.37,171.117 2260.59,170.559 2260.67,170.365 2260.84,169.937 \n",
       "  2260.86,169.878 2260.87,169.856 2260.9,169.778 2261.06,169.381 2261.22,168.974 2261.29,168.788 2261.45,168.393 2261.58,168.05 2261.6,168.015 2261.83,167.423 \n",
       "  2262.33,166.164 2262.38,166.021 2262.44,165.876 2262.45,165.861 2262.47,165.794 2262.49,165.76 2262.8,164.965 2262.86,164.798 2263.05,164.336 2263.15,164.062 \n",
       "  2263.17,164.013 2263.19,163.971 2263.26,163.786 2263.36,163.539 2263.39,163.47 2263.55,163.057 2263.6,162.929 2263.64,162.84 2263.77,162.507 2264.27,161.217 \n",
       "  2264.33,161.07 2264.66,160.224 2264.93,159.555 2265.32,158.551 2265.47,158.158 2265.48,158.147 2265.59,157.877 2265.65,157.716 2265.7,157.594 2266.4,155.795 \n",
       "  2266.41,155.774 2266.86,154.626 2266.96,154.363 2267.03,154.187 2267.54,152.891 2267.56,152.842 2267.68,152.528 2267.7,152.472 2267.94,151.874 2267.94,151.86 \n",
       "  2269.12,148.867 2269.17,148.732 2269.26,148.495 2269.52,147.823 2269.62,147.572 2269.77,147.186 2269.83,147.052 2270.04,146.5 2270.05,146.476 2270.88,144.347 \n",
       "  2270.95,144.165 2271.09,143.828 2271.41,142.985 2271.74,142.15 2271.79,142.023 2271.91,141.718 2272,141.482 2272.72,139.628 2272.87,139.244 2272.96,139.025 \n",
       "  2272.98,138.98 2273.22,138.348 2273.77,136.941 2274.13,136.025 2274.37,135.405 2274.87,134.115 2275.14,133.416 2275.22,133.226 2275.36,132.843 2276.08,131.008 \n",
       "  2276.51,129.884 2276.66,129.508 2276.84,129.041 2277.03,128.567 2277.39,127.624 2277.86,126.416 2278.01,126.021 2278.05,125.92 2278.08,125.859 2278.11,125.762 \n",
       "  2278.22,125.495 2278.32,125.241 2278.44,124.913 2278.45,124.908 2278.64,124.406 2278.92,123.671 2278.95,123.604 2279.07,123.284 2279.32,122.661 2279.38,122.502 \n",
       "  2279.41,122.423 2279.44,122.342 2280.09,120.651 2280.25,120.243 2280.59,119.358 2280.82,118.779 2281.2,117.796 2281.34,117.43 2281.53,116.934 2281.65,116.62 \n",
       "  2282.01,115.701 2282.08,115.517 2282.13,115.379 2282.42,114.639 2282.71,113.893 2282.82,113.591 2283.12,112.833 2283.12,112.832 2283.22,112.559 2283.57,111.666 \n",
       "  2284.03,110.457 2284.31,109.743 2284.32,109.697 2284.87,108.292 2285.03,107.876 2285.16,107.536 2285.7,106.12 2285.8,105.861 2285.82,105.817 2286.04,105.251 \n",
       "  2286.07,105.162 2286.27,104.639 2286.43,104.238 2286.61,103.764 2287.15,102.359 2287.2,102.223 2287.22,102.171 2287.28,102.026 2287.3,101.97 2287.33,101.9 \n",
       "  2288.62,98.5199 2288.86,97.9018 2289.01,97.5053 2289.17,97.0874 2289.19,97.0327 2289.91,95.1668 2290.29,94.165 2290.31,94.1122 2290.42,93.8352 2290.58,93.4168 \n",
       "  2290.94,92.4897 2290.94,92.4816 2291.05,92.1843 2291.26,91.6485 2291.34,91.4241 2291.87,90.0374 2292.08,89.5001 2292.27,88.9991 2292.29,88.959 2292.66,87.9763 \n",
       "  \n",
       "  \"/>\n",
       "<polyline clip-path=\"url(#clip362)\" style=\"stroke:#e26f46; stroke-linecap:butt; stroke-linejoin:round; stroke-width:4; stroke-opacity:1; fill:none\" stroke-dasharray=\"16, 10\" points=\"\n",
       "  1254.5,2925.65 1254.5,-1391.96 \n",
       "  \"/>\n",
       "<polyline clip-path=\"url(#clip362)\" style=\"stroke:#3da44d; stroke-linecap:butt; stroke-linejoin:round; stroke-width:4; stroke-opacity:1; fill:none\" points=\"\n",
       "  -1893.87,1445.72 4476.07,1445.72 \n",
       "  \"/>\n",
       "</svg>\n"
      ]
     },
     "execution_count": 39,
     "metadata": {},
     "output_type": "execute_result"
    }
   ],
   "source": [
    "plot(b₁, uss, label = \"\", seriestype = :line)\n",
    "vline!([bOLS], label = \"\", linestyle = :dash)\n",
    "hline!([ussOLS], label = \"\")"
   ]
  },
  {
   "cell_type": "code",
   "execution_count": null,
   "metadata": {},
   "outputs": [],
   "source": []
  }
 ],
 "metadata": {
  "@webio": {
   "lastCommId": null,
   "lastKernelId": null
  },
  "kernelspec": {
   "display_name": "Julia 1.7.1",
   "language": "julia",
   "name": "julia-1.7"
  },
  "language_info": {
   "file_extension": ".jl",
   "mimetype": "application/julia",
   "name": "julia",
   "version": "1.7.1"
  }
 },
 "nbformat": 4,
 "nbformat_minor": 4
}
