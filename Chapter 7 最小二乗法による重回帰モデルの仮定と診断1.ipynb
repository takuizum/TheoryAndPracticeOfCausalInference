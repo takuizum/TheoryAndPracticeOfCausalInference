{
 "cells": [
  {
   "cell_type": "code",
   "execution_count": 2,
   "metadata": {},
   "outputs": [
    {
     "name": "stderr",
     "output_type": "stream",
     "text": [
      "\u001b[32m\u001b[1m  Activating\u001b[22m\u001b[39m project at `~/local_Documents/TheoryAndPracticeOfCausalInference`\n"
     ]
    }
   ],
   "source": [
    "using Pkg\n",
    "Pkg.activate(\".\")"
   ]
  },
  {
   "cell_type": "code",
   "execution_count": 3,
   "metadata": {},
   "outputs": [
    {
     "name": "stderr",
     "output_type": "stream",
     "text": [
      "\u001b[32m\u001b[1m    Updating\u001b[22m\u001b[39m registry at `~/.julia/registries/General`\n",
      "\u001b[32m\u001b[1m    Updating\u001b[22m\u001b[39m git-repo `https://github.com/JuliaRegistries/General.git`\n",
      "\u001b[32m\u001b[1m   Resolving\u001b[22m\u001b[39m package versions...\n",
      "\u001b[32m\u001b[1m  No Changes\u001b[22m\u001b[39m to `~/local_Documents/TheoryAndPracticeOfCausalInference/Project.toml`\n",
      "\u001b[32m\u001b[1m    Updating\u001b[22m\u001b[39m `~/local_Documents/TheoryAndPracticeOfCausalInference/Manifest.toml`\n",
      " \u001b[90m [88015f11] \u001b[39m\u001b[92m+ LERC_jll v3.0.0+1\u001b[39m\n",
      " \u001b[90m [89763e89] \u001b[39m\u001b[93m↑ Libtiff_jll v4.3.0+0 ⇒ v4.3.0+1\u001b[39m\n"
     ]
    }
   ],
   "source": [
    "Pkg.add([\"Random\", \"Distributions\", \"GLM\", \"DataFrames\", \"StatsPlots\"])\n",
    "using Random, Distributions, GLM, DataFrames"
   ]
  },
  {
   "cell_type": "code",
   "execution_count": 4,
   "metadata": {},
   "outputs": [
    {
     "data": {
      "text/plain": [
       "rnorm (generic function with 3 methods)"
      ]
     },
     "execution_count": 4,
     "metadata": {},
     "output_type": "execute_result"
    }
   ],
   "source": [
    "rnorm(n, μ = 0.0, σ = 1.0) = rand(Normal(μ, σ), n)"
   ]
  },
  {
   "cell_type": "markdown",
   "metadata": {},
   "source": [
    "## 仮定1：誤差項の期待値ゼロ\n",
    "\n",
    "誤差項の期待値が0のシミュレーションデータを作成して，`lm`の推定結果を確認する。\n",
    "\n",
    "これで真値に近い推定結果が得られていれば，`lm`において当てはめているのは誤差項の期待値0を仮定したモデルであることがわかる。"
   ]
  },
  {
   "cell_type": "code",
   "execution_count": 5,
   "metadata": {},
   "outputs": [
    {
     "data": {
      "text/plain": [
       "StatsModels.TableRegressionModel{LinearModel{GLM.LmResp{Vector{Float64}}, GLM.DensePredChol{Float64, LinearAlgebra.CholeskyPivoted{Float64, Matrix{Float64}}}}, Matrix{Float64}}\n",
       "\n",
       "y1 ~ 1 + x1\n",
       "\n",
       "Coefficients:\n",
       "────────────────────────────────────────────────────────────────────────\n",
       "               Coef.  Std. Error       t  Pr(>|t|)  Lower 95%  Upper 95%\n",
       "────────────────────────────────────────────────────────────────────────\n",
       "(Intercept)  9.97372   0.0324032  307.80    <1e-99    9.91014   10.0373\n",
       "x1           1.07459   0.03152     34.09    <1e-99    1.01273    1.13644\n",
       "────────────────────────────────────────────────────────────────────────"
      ]
     },
     "execution_count": 5,
     "metadata": {},
     "output_type": "execute_result"
    }
   ],
   "source": [
    "Random.seed!(1)\n",
    "n1 = 1_000\n",
    "a0, b1 = 1.0, 1.5\n",
    "x1 = rnorm(n1)\n",
    "u1 = rnorm(n1, 10, 1)\n",
    "y1 = @. a0 * x1 + u1\n",
    "model1 = lm(@formula(y1 ~ x1), DataFrame(y1 = y1, x1 = x1))"
   ]
  },
  {
   "cell_type": "markdown",
   "metadata": {},
   "source": [
    "## 仮定2：パラメタにおける線形性\n",
    "\n",
    "パラメタが線形＝モデル中のパラメタが線形結合で表されている。\n",
    "\n",
    "たとえば，$x_1$\n",
    "\n",
    "$Y_{1i} = \\beta_0 + \\beta_1X_{1i} + \\varepsilon_i$\n",
    "\n",
    "$Y_{1i} = \\beta_0 + \\beta_1X_{1i} + \\log(X_{2i}) + \\varepsilon_i$\n",
    "\n",
    "$Y_{1i} = \\exp(\\beta_0 + \\beta_1X_{1i} + \\varepsilon_i)$\n",
    "\n",
    "は線形結合だが，\n",
    "\n",
    "$\\beta_0X_{2i}^{\\beta_1}e^{\\varepsilon_i}$\n",
    "\n",
    "は線形結合ではない。\n",
    "\n",
    "線形性はは最小二乗法による推定値が不偏推定量である条件でもある。\n",
    "\n",
    "順番に見ていく。1つ目のモデル$Y_{1i} = \\beta_0 + \\beta_1X_{1i} + \\varepsilon_i$は通常の線形回帰モデルであるため，正しい推定値が得られるはずである。"
   ]
  },
  {
   "cell_type": "code",
   "execution_count": 6,
   "metadata": {},
   "outputs": [
    {
     "name": "stderr",
     "output_type": "stream",
     "text": [
      "\u001b[32m\u001b[1m   Resolving\u001b[22m\u001b[39m package versions...\n",
      "\u001b[32m\u001b[1m  No Changes\u001b[22m\u001b[39m to `~/local_Documents/TheoryAndPracticeOfCausalInference/Project.toml`\n",
      "\u001b[32m\u001b[1m  No Changes\u001b[22m\u001b[39m to `~/local_Documents/TheoryAndPracticeOfCausalInference/Manifest.toml`\n"
     ]
    }
   ],
   "source": [
    "Pkg.add([\"CSV\", \"HTTP\"])\n",
    "using CSV, HTTP"
   ]
  },
  {
   "cell_type": "code",
   "execution_count": 7,
   "metadata": {},
   "outputs": [
    {
     "data": {
      "text/html": [
       "<div class=\"data-frame\"><p>1,000 rows × 6 columns</p><table class=\"data-frame\"><thead><tr><th></th><th>y1</th><th>y2</th><th>y3</th><th>y4</th><th>x1</th><th>x2</th></tr><tr><th></th><th title=\"Float64\">Float64</th><th title=\"Float64\">Float64</th><th title=\"Float64\">Float64</th><th title=\"Float64\">Float64</th><th title=\"Float64\">Float64</th><th title=\"Float64\">Float64</th></tr></thead><tbody><tr><th>1</th><td>2.07599</td><td>-0.955678</td><td>7.97247</td><td>0.141469</td><td>1.13497</td><td>0.41224</td></tr><tr><th>2</th><td>2.85154</td><td>-1.69974</td><td>17.3144</td><td>0.0672231</td><td>1.11193</td><td>0.146277</td></tr><tr><th>3</th><td>-1.1418</td><td>2.59392</td><td>0.319245</td><td>4.92302</td><td>-0.870778</td><td>5.05158</td></tr><tr><th>4</th><td>2.91138</td><td>3.37419</td><td>18.3821</td><td>10.7423</td><td>0.210732</td><td>1.6808</td></tr><tr><th>5</th><td>1.4336</td><td>1.24573</td><td>4.19377</td><td>1.27856</td><td>0.0693956</td><td>0.945681</td></tr><tr><th>6</th><td>-2.31444</td><td>1.22416</td><td>0.0988213</td><td>1.25127</td><td>-1.66265</td><td>2.00655</td></tr><tr><th>7</th><td>2.70369</td><td>1.5677</td><td>14.9347</td><td>1.76421</td><td>0.81084</td><td>1.05497</td></tr><tr><th>8</th><td>-1.13019</td><td>-0.227101</td><td>0.322971</td><td>0.293141</td><td>-1.91235</td><td>0.269744</td></tr><tr><th>9</th><td>-0.294349</td><td>-1.60882</td><td>0.745017</td><td>0.0736215</td><td>-1.24675</td><td>0.119664</td></tr><tr><th>10</th><td>2.19184</td><td>0.382494</td><td>8.9517</td><td>0.539288</td><td>0.998154</td><td>0.812143</td></tr><tr><th>11</th><td>1.70047</td><td>2.0426</td><td>5.47653</td><td>2.83659</td><td>-0.540873</td><td>0.731406</td></tr><tr><th>12</th><td>1.06528</td><td>-0.19751</td><td>2.90165</td><td>0.301945</td><td>-0.216376</td><td>0.347068</td></tr><tr><th>13</th><td>-2.05415</td><td>1.00459</td><td>0.128202</td><td>1.00461</td><td>-1.62194</td><td>1.51774</td></tr><tr><th>14</th><td>-3.39115</td><td>-1.68788</td><td>0.0336701</td><td>0.0680252</td><td>-1.45096</td><td>0.729459</td></tr><tr><th>15</th><td>2.6513</td><td>3.36325</td><td>14.1724</td><td>10.6255</td><td>0.35091</td><td>2.28313</td></tr><tr><th>16</th><td>0.693246</td><td>2.89197</td><td>2.0002</td><td>6.63245</td><td>-0.174547</td><td>3.63741</td></tr><tr><th>17</th><td>0.096667</td><td>0.0461523</td><td>1.10149</td><td>0.385256</td><td>-0.591428</td><td>0.535205</td></tr><tr><th>18</th><td>-0.0572047</td><td>0.631116</td><td>0.944401</td><td>0.691506</td><td>-1.33403</td><td>0.416801</td></tr><tr><th>19</th><td>0.175273</td><td>2.03626</td><td>1.19157</td><td>2.81865</td><td>-1.0973</td><td>1.15414</td></tr><tr><th>20</th><td>4.64806</td><td>3.73169</td><td>104.382</td><td>15.3588</td><td>2.0361</td><td>4.15865</td></tr><tr><th>21</th><td>1.42924</td><td>-0.683147</td><td>4.17554</td><td>0.185788</td><td>-0.32649</td><td>0.176444</td></tr><tr><th>22</th><td>2.94314</td><td>0.526029</td><td>18.9754</td><td>0.622526</td><td>0.774005</td><td>0.432832</td></tr><tr><th>23</th><td>2.25207</td><td>0.00093606</td><td>9.50744</td><td>0.368224</td><td>0.785006</td><td>0.488824</td></tr><tr><th>24</th><td>0.155517</td><td>-0.42712</td><td>1.16826</td><td>0.239999</td><td>0.763246</td><td>1.45473</td></tr><tr><th>25</th><td>2.06204</td><td>5.19482</td><td>7.86198</td><td>66.3416</td><td>0.294809</td><td>10.8409</td></tr><tr><th>26</th><td>-0.934663</td><td>0.248002</td><td>0.392718</td><td>0.471424</td><td>-1.25236</td><td>0.628818</td></tr><tr><th>27</th><td>-0.670051</td><td>0.204454</td><td>0.511682</td><td>0.451335</td><td>-1.0095</td><td>0.65279</td></tr><tr><th>28</th><td>0.656334</td><td>-3.0254</td><td>1.92771</td><td>0.0178564</td><td>0.751391</td><td>0.182119</td></tr><tr><th>29</th><td>-1.44068</td><td>-1.0404</td><td>0.236767</td><td>0.129977</td><td>-1.30835</td><td>0.352926</td></tr><tr><th>30</th><td>2.20925</td><td>2.57104</td><td>9.1089</td><td>4.81167</td><td>0.52754</td><td>2.15704</td></tr><tr><th>&vellip;</th><td>&vellip;</td><td>&vellip;</td><td>&vellip;</td><td>&vellip;</td><td>&vellip;</td><td>&vellip;</td></tr></tbody></table></div>"
      ],
      "text/latex": [
       "\\begin{tabular}{r|cccccc}\n",
       "\t& y1 & y2 & y3 & y4 & x1 & x2\\\\\n",
       "\t\\hline\n",
       "\t& Float64 & Float64 & Float64 & Float64 & Float64 & Float64\\\\\n",
       "\t\\hline\n",
       "\t1 & 2.07599 & -0.955678 & 7.97247 & 0.141469 & 1.13497 & 0.41224 \\\\\n",
       "\t2 & 2.85154 & -1.69974 & 17.3144 & 0.0672231 & 1.11193 & 0.146277 \\\\\n",
       "\t3 & -1.1418 & 2.59392 & 0.319245 & 4.92302 & -0.870778 & 5.05158 \\\\\n",
       "\t4 & 2.91138 & 3.37419 & 18.3821 & 10.7423 & 0.210732 & 1.6808 \\\\\n",
       "\t5 & 1.4336 & 1.24573 & 4.19377 & 1.27856 & 0.0693956 & 0.945681 \\\\\n",
       "\t6 & -2.31444 & 1.22416 & 0.0988213 & 1.25127 & -1.66265 & 2.00655 \\\\\n",
       "\t7 & 2.70369 & 1.5677 & 14.9347 & 1.76421 & 0.81084 & 1.05497 \\\\\n",
       "\t8 & -1.13019 & -0.227101 & 0.322971 & 0.293141 & -1.91235 & 0.269744 \\\\\n",
       "\t9 & -0.294349 & -1.60882 & 0.745017 & 0.0736215 & -1.24675 & 0.119664 \\\\\n",
       "\t10 & 2.19184 & 0.382494 & 8.9517 & 0.539288 & 0.998154 & 0.812143 \\\\\n",
       "\t11 & 1.70047 & 2.0426 & 5.47653 & 2.83659 & -0.540873 & 0.731406 \\\\\n",
       "\t12 & 1.06528 & -0.19751 & 2.90165 & 0.301945 & -0.216376 & 0.347068 \\\\\n",
       "\t13 & -2.05415 & 1.00459 & 0.128202 & 1.00461 & -1.62194 & 1.51774 \\\\\n",
       "\t14 & -3.39115 & -1.68788 & 0.0336701 & 0.0680252 & -1.45096 & 0.729459 \\\\\n",
       "\t15 & 2.6513 & 3.36325 & 14.1724 & 10.6255 & 0.35091 & 2.28313 \\\\\n",
       "\t16 & 0.693246 & 2.89197 & 2.0002 & 6.63245 & -0.174547 & 3.63741 \\\\\n",
       "\t17 & 0.096667 & 0.0461523 & 1.10149 & 0.385256 & -0.591428 & 0.535205 \\\\\n",
       "\t18 & -0.0572047 & 0.631116 & 0.944401 & 0.691506 & -1.33403 & 0.416801 \\\\\n",
       "\t19 & 0.175273 & 2.03626 & 1.19157 & 2.81865 & -1.0973 & 1.15414 \\\\\n",
       "\t20 & 4.64806 & 3.73169 & 104.382 & 15.3588 & 2.0361 & 4.15865 \\\\\n",
       "\t21 & 1.42924 & -0.683147 & 4.17554 & 0.185788 & -0.32649 & 0.176444 \\\\\n",
       "\t22 & 2.94314 & 0.526029 & 18.9754 & 0.622526 & 0.774005 & 0.432832 \\\\\n",
       "\t23 & 2.25207 & 0.00093606 & 9.50744 & 0.368224 & 0.785006 & 0.488824 \\\\\n",
       "\t24 & 0.155517 & -0.42712 & 1.16826 & 0.239999 & 0.763246 & 1.45473 \\\\\n",
       "\t25 & 2.06204 & 5.19482 & 7.86198 & 66.3416 & 0.294809 & 10.8409 \\\\\n",
       "\t26 & -0.934663 & 0.248002 & 0.392718 & 0.471424 & -1.25236 & 0.628818 \\\\\n",
       "\t27 & -0.670051 & 0.204454 & 0.511682 & 0.451335 & -1.0095 & 0.65279 \\\\\n",
       "\t28 & 0.656334 & -3.0254 & 1.92771 & 0.0178564 & 0.751391 & 0.182119 \\\\\n",
       "\t29 & -1.44068 & -1.0404 & 0.236767 & 0.129977 & -1.30835 & 0.352926 \\\\\n",
       "\t30 & 2.20925 & 2.57104 & 9.1089 & 4.81167 & 0.52754 & 2.15704 \\\\\n",
       "\t$\\dots$ & $\\dots$ & $\\dots$ & $\\dots$ & $\\dots$ & $\\dots$ & $\\dots$ \\\\\n",
       "\\end{tabular}\n"
      ],
      "text/plain": [
       "\u001b[1m1000×6 DataFrame\u001b[0m\n",
       "\u001b[1m  Row \u001b[0m│\u001b[1m y1        \u001b[0m\u001b[1m y2        \u001b[0m\u001b[1m y3         \u001b[0m\u001b[1m y4         \u001b[0m\u001b[1m x1          \u001b[0m\u001b[1m x2        \u001b[0m\n",
       "\u001b[1m      \u001b[0m│\u001b[90m Float64   \u001b[0m\u001b[90m Float64   \u001b[0m\u001b[90m Float64    \u001b[0m\u001b[90m Float64    \u001b[0m\u001b[90m Float64     \u001b[0m\u001b[90m Float64   \u001b[0m\n",
       "──────┼──────────────────────────────────────────────────────────────────────\n",
       "    1 │  2.07599   -0.955678   7.97247     0.141469    1.13497     0.41224\n",
       "    2 │  2.85154   -1.69974   17.3144      0.0672231   1.11193     0.146277\n",
       "    3 │ -1.1418     2.59392    0.319245    4.92302    -0.870778    5.05158\n",
       "    4 │  2.91138    3.37419   18.3821     10.7423      0.210732    1.6808\n",
       "    5 │  1.4336     1.24573    4.19377     1.27856     0.0693956   0.945681\n",
       "    6 │ -2.31444    1.22416    0.0988213   1.25127    -1.66265     2.00655\n",
       "    7 │  2.70369    1.5677    14.9347      1.76421     0.81084     1.05497\n",
       "    8 │ -1.13019   -0.227101   0.322971    0.293141   -1.91235     0.269744\n",
       "    9 │ -0.294349  -1.60882    0.745017    0.0736215  -1.24675     0.119664\n",
       "   10 │  2.19184    0.382494   8.9517      0.539288    0.998154    0.812143\n",
       "   11 │  1.70047    2.0426     5.47653     2.83659    -0.540873    0.731406\n",
       "  ⋮   │     ⋮          ⋮          ⋮           ⋮            ⋮           ⋮\n",
       "  991 │  1.27143    3.23563    3.56593     9.35235     0.502719    6.12382\n",
       "  992 │  1.59909   -1.46358    4.94852     0.0851299   0.845467    0.302308\n",
       "  993 │  2.21367   -2.52485    9.14925     0.0294562   0.467247    0.0677611\n",
       "  994 │  1.44583    2.86868    4.24536     6.47974    -0.402055    1.72722\n",
       "  995 │  2.50635    2.27445   12.2601      3.57673     0.923527    2.15745\n",
       "  996 │  0.674624   0.40657    1.96329     0.552429   -0.00805564  0.829645\n",
       "  997 │  1.67001   -0.22471    5.3122      0.293843    1.03378     0.795042\n",
       "  998 │ -0.617977   3.02599    0.539034    7.58363    -0.799127    5.10482\n",
       "  999 │  1.0236    -3.72976    2.78319     0.0088286   1.00423     0.114788\n",
       " 1000 │ -0.165278  -1.31398    0.847658    0.0988668  -0.311973    0.340352\n",
       "\u001b[36m                                                             979 rows omitted\u001b[0m"
      ]
     },
     "execution_count": 7,
     "metadata": {},
     "output_type": "execute_result"
    }
   ],
   "source": [
    "data07a = CSV.read(HTTP.get(\"https://raw.githubusercontent.com/mtakahashi123/causality/main/data07a.csv\").body, DataFrame; missingstring = \"\")"
   ]
  },
  {
   "cell_type": "code",
   "execution_count": 8,
   "metadata": {},
   "outputs": [
    {
     "data": {
      "text/html": [
       "<div class=\"data-frame\"><p>6 rows × 7 columns</p><table class=\"data-frame\"><thead><tr><th></th><th>variable</th><th>mean</th><th>min</th><th>median</th><th>max</th><th>nmissing</th><th>eltype</th></tr><tr><th></th><th title=\"Symbol\">Symbol</th><th title=\"Float64\">Float64</th><th title=\"Float64\">Float64</th><th title=\"Float64\">Float64</th><th title=\"Float64\">Float64</th><th title=\"Int64\">Int64</th><th title=\"DataType\">DataType</th></tr></thead><tbody><tr><th>1</th><td>y1</td><td>0.963959</td><td>-4.85489</td><td>0.985075</td><td>8.23779</td><td>0</td><td>Float64</td></tr><tr><th>2</th><td>y2</td><td>1.01132</td><td>-4.32519</td><td>1.0138</td><td>6.74444</td><td>0</td><td>Float64</td></tr><tr><th>3</th><td>y3</td><td>19.6848</td><td>0.00779019</td><td>2.67801</td><td>3781.17</td><td>0</td><td>Float64</td></tr><tr><th>4</th><td>y4</td><td>5.49271</td><td>0.00486742</td><td>1.0139</td><td>312.449</td><td>0</td><td>Float64</td></tr><tr><th>5</th><td>x1</td><td>-0.0162619</td><td>-3.25322</td><td>-0.0344829</td><td>3.63957</td><td>0</td><td>Float64</td></tr><tr><th>6</th><td>x2</td><td>1.68969</td><td>0.0290253</td><td>0.994519</td><td>17.499</td><td>0</td><td>Float64</td></tr></tbody></table></div>"
      ],
      "text/latex": [
       "\\begin{tabular}{r|ccccccc}\n",
       "\t& variable & mean & min & median & max & nmissing & eltype\\\\\n",
       "\t\\hline\n",
       "\t& Symbol & Float64 & Float64 & Float64 & Float64 & Int64 & DataType\\\\\n",
       "\t\\hline\n",
       "\t1 & y1 & 0.963959 & -4.85489 & 0.985075 & 8.23779 & 0 & Float64 \\\\\n",
       "\t2 & y2 & 1.01132 & -4.32519 & 1.0138 & 6.74444 & 0 & Float64 \\\\\n",
       "\t3 & y3 & 19.6848 & 0.00779019 & 2.67801 & 3781.17 & 0 & Float64 \\\\\n",
       "\t4 & y4 & 5.49271 & 0.00486742 & 1.0139 & 312.449 & 0 & Float64 \\\\\n",
       "\t5 & x1 & -0.0162619 & -3.25322 & -0.0344829 & 3.63957 & 0 & Float64 \\\\\n",
       "\t6 & x2 & 1.68969 & 0.0290253 & 0.994519 & 17.499 & 0 & Float64 \\\\\n",
       "\\end{tabular}\n"
      ],
      "text/plain": [
       "\u001b[1m6×7 DataFrame\u001b[0m\n",
       "\u001b[1m Row \u001b[0m│\u001b[1m variable \u001b[0m\u001b[1m mean       \u001b[0m\u001b[1m min         \u001b[0m\u001b[1m median     \u001b[0m\u001b[1m max        \u001b[0m\u001b[1m nmissing \u001b[0m\u001b[1m el\u001b[0m ⋯\n",
       "\u001b[1m     \u001b[0m│\u001b[90m Symbol   \u001b[0m\u001b[90m Float64    \u001b[0m\u001b[90m Float64     \u001b[0m\u001b[90m Float64    \u001b[0m\u001b[90m Float64    \u001b[0m\u001b[90m Int64    \u001b[0m\u001b[90m Da\u001b[0m ⋯\n",
       "─────┼──────────────────────────────────────────────────────────────────────────\n",
       "   1 │ y1         0.963959   -4.85489      0.985075      8.23779         0  Fl ⋯\n",
       "   2 │ y2         1.01132    -4.32519      1.0138        6.74444         0  Fl\n",
       "   3 │ y3        19.6848      0.00779019   2.67801    3781.17            0  Fl\n",
       "   4 │ y4         5.49271     0.00486742   1.0139      312.449           0  Fl\n",
       "   5 │ x1        -0.0162619  -3.25322     -0.0344829     3.63957         0  Fl ⋯\n",
       "   6 │ x2         1.68969     0.0290253    0.994519     17.499           0  Fl\n",
       "\u001b[36m                                                                1 column omitted\u001b[0m"
      ]
     },
     "execution_count": 8,
     "metadata": {},
     "output_type": "execute_result"
    }
   ],
   "source": [
    "describe(data07a)"
   ]
  },
  {
   "cell_type": "code",
   "execution_count": 9,
   "metadata": {},
   "outputs": [
    {
     "data": {
      "text/plain": [
       "StatsModels.TableRegressionModel{LinearModel{GLM.LmResp{Vector{Float64}}, GLM.DensePredChol{Float64, LinearAlgebra.CholeskyPivoted{Float64, Matrix{Float64}}}}, Matrix{Float64}}\n",
       "\n",
       "y1 ~ 1 + x1\n",
       "\n",
       "Coefficients:\n",
       "────────────────────────────────────────────────────────────────────────\n",
       "                Coef.  Std. Error      t  Pr(>|t|)  Lower 95%  Upper 95%\n",
       "────────────────────────────────────────────────────────────────────────\n",
       "(Intercept)  0.988455   0.0327466  30.18    <1e-99   0.924195    1.05272\n",
       "x1           1.50637    0.0314996  47.82    <1e-99   1.44456     1.56818\n",
       "────────────────────────────────────────────────────────────────────────"
      ]
     },
     "execution_count": 9,
     "metadata": {},
     "output_type": "execute_result"
    }
   ],
   "source": [
    "model1 = lm(@formula(y1 ~ x1), data07a)"
   ]
  },
  {
   "cell_type": "markdown",
   "metadata": {},
   "source": [
    "ここでは回帰係数のうち傾き（x1のパラメタ）の真値は1.5，切片の真値は1.0と設定されているため，概ね適切な推定値が得られていると判断できる。\n",
    "\n",
    "2つ目のモデル$Y_{1i} = \\beta_0 + \\beta_1X_{1i} + \\log(X_{2i}) + \\varepsilon_i$は説明変数が対数変換されている。したがって線形回帰モデルに投入する変数もあらかじめ対数変換しておく。\n",
    "\n",
    "Rの`lm`ならベクトルを直接モデル式に渡せるが，Juliaではデータフレームで渡す必要があるため，一時的に`transform`で対数変換した変数を作成する。"
   ]
  },
  {
   "cell_type": "code",
   "execution_count": 10,
   "metadata": {},
   "outputs": [
    {
     "data": {
      "text/plain": [
       "StatsModels.TableRegressionModel{LinearModel{GLM.LmResp{Vector{Float64}}, GLM.DensePredChol{Float64, LinearAlgebra.CholeskyPivoted{Float64, Matrix{Float64}}}}, Matrix{Float64}}\n",
       "\n",
       "y2 ~ 1 + lx2\n",
       "\n",
       "Coefficients:\n",
       "────────────────────────────────────────────────────────────────────────\n",
       "                Coef.  Std. Error      t  Pr(>|t|)  Lower 95%  Upper 95%\n",
       "────────────────────────────────────────────────────────────────────────\n",
       "(Intercept)  0.987593   0.032707   30.20    <1e-99   0.923411    1.05178\n",
       "lx2          1.54955    0.0317326  48.83    <1e-99   1.48728     1.61182\n",
       "────────────────────────────────────────────────────────────────────────"
      ]
     },
     "execution_count": 10,
     "metadata": {},
     "output_type": "execute_result"
    }
   ],
   "source": [
    "lm(@formula(y2 ~ lx2), transform(data07a, :x2 => ByRow(log) => :lx2))"
   ]
  },
  {
   "cell_type": "code",
   "execution_count": 11,
   "metadata": {},
   "outputs": [
    {
     "data": {
      "text/plain": [
       "StatsModels.TableRegressionModel{LinearModel{GLM.LmResp{Vector{Float64}}, GLM.DensePredChol{Float64, LinearAlgebra.CholeskyPivoted{Float64, Matrix{Float64}}}}, Matrix{Float64}}\n",
       "\n",
       "ly3 ~ 1 + x1\n",
       "\n",
       "Coefficients:\n",
       "────────────────────────────────────────────────────────────────────────\n",
       "                Coef.  Std. Error      t  Pr(>|t|)  Lower 95%  Upper 95%\n",
       "────────────────────────────────────────────────────────────────────────\n",
       "(Intercept)  0.988455   0.0327466  30.18    <1e-99   0.924195    1.05272\n",
       "x1           1.50637    0.0314996  47.82    <1e-99   1.44456     1.56818\n",
       "────────────────────────────────────────────────────────────────────────"
      ]
     },
     "execution_count": 11,
     "metadata": {},
     "output_type": "execute_result"
    }
   ],
   "source": [
    "lm(@formula(ly3 ~ x1), transform(data07a, :y3 => ByRow(log) => :ly3))"
   ]
  },
  {
   "cell_type": "code",
   "execution_count": 12,
   "metadata": {},
   "outputs": [
    {
     "data": {
      "text/plain": [
       "StatsModels.TableRegressionModel{LinearModel{GLM.LmResp{Vector{Float64}}, GLM.DensePredChol{Float64, LinearAlgebra.CholeskyPivoted{Float64, Matrix{Float64}}}}, Matrix{Float64}}\n",
       "\n",
       "ly4 ~ 1 + lx2\n",
       "\n",
       "Coefficients:\n",
       "───────────────────────────────────────────────────────────────────────────\n",
       "                  Coef.  Std. Error      t  Pr(>|t|)   Lower 95%  Upper 95%\n",
       "───────────────────────────────────────────────────────────────────────────\n",
       "(Intercept)  -0.0124068   0.032707   -0.38    0.7045  -0.0765891  0.0517756\n",
       "lx2           1.54955     0.0317326  48.83    <1e-99   1.48728    1.61182\n",
       "───────────────────────────────────────────────────────────────────────────"
      ]
     },
     "execution_count": 12,
     "metadata": {},
     "output_type": "execute_result"
    }
   ],
   "source": [
    "lm(@formula(ly4 ~ lx2), transform(data07a, [:y4, :x2] .=> ByRow(log) .=> [:ly4, :lx2]))"
   ]
  },
  {
   "cell_type": "markdown",
   "metadata": {},
   "source": [
    "対数変換後の係数の解釈について。\n",
    "\n",
    "- 何も変換しない：$x_1$が1単位変化すれば，$y$は$\\hat{\\beta_1}$単位変化する。\n",
    "\n",
    "これが，説明変数を対数変換すると，\n",
    "\n",
    "- $x_1$を対数変換：$x_1$が1**％**変化すれば，$y$は$\\hat{\\beta_1}/100$単位変化する。\n",
    "\n",
    "となる。"
   ]
  },
  {
   "cell_type": "markdown",
   "metadata": {},
   "source": []
  },
  {
   "cell_type": "code",
   "execution_count": 13,
   "metadata": {},
   "outputs": [
    {
     "name": "stderr",
     "output_type": "stream",
     "text": [
      "\u001b[32m\u001b[1m   Resolving\u001b[22m\u001b[39m package versions...\n",
      "\u001b[32m\u001b[1m  No Changes\u001b[22m\u001b[39m to `~/local_Documents/TheoryAndPracticeOfCausalInference/Project.toml`\n",
      "\u001b[32m\u001b[1m  No Changes\u001b[22m\u001b[39m to `~/local_Documents/TheoryAndPracticeOfCausalInference/Manifest.toml`\n"
     ]
    }
   ],
   "source": [
    "Pkg.add(\"TaylorSeries\")\n",
    "using TaylorSeries"
   ]
  },
  {
   "cell_type": "code",
   "execution_count": 14,
   "metadata": {},
   "outputs": [
    {
     "data": {
      "text/plain": [
       " 1.0 t - 0.5 t² + 0.3333333333333333 t³ - 0.25 t⁴ + 𝒪(t⁵)"
      ]
     },
     "execution_count": 14,
     "metadata": {},
     "output_type": "execute_result"
    }
   ],
   "source": [
    "t = Taylor1(Float64, 4)\n",
    "log(1+t)"
   ]
  },
  {
   "cell_type": "code",
   "execution_count": 15,
   "metadata": {},
   "outputs": [
    {
     "data": {
      "text/plain": [
       "f (generic function with 1 method)"
      ]
     },
     "execution_count": 15,
     "metadata": {},
     "output_type": "execute_result"
    }
   ],
   "source": [
    "f(x) = log(1+t)(x)"
   ]
  },
  {
   "cell_type": "code",
   "execution_count": 16,
   "metadata": {},
   "outputs": [
    {
     "data": {
      "text/plain": [
       "0.09531017980432493"
      ]
     },
     "execution_count": 16,
     "metadata": {},
     "output_type": "execute_result"
    }
   ],
   "source": [
    "log(1 + 0.1)"
   ]
  },
  {
   "cell_type": "code",
   "execution_count": 17,
   "metadata": {},
   "outputs": [
    {
     "data": {
      "text/plain": [
       "0.09530833333333333"
      ]
     },
     "execution_count": 17,
     "metadata": {},
     "output_type": "execute_result"
    }
   ],
   "source": [
    "f(0.1)"
   ]
  },
  {
   "cell_type": "code",
   "execution_count": 18,
   "metadata": {},
   "outputs": [
    {
     "name": "stderr",
     "output_type": "stream",
     "text": [
      "\u001b[32m\u001b[1m   Resolving\u001b[22m\u001b[39m package versions...\n",
      "\u001b[32m\u001b[1m  No Changes\u001b[22m\u001b[39m to `~/local_Documents/TheoryAndPracticeOfCausalInference/Project.toml`\n",
      "\u001b[32m\u001b[1m  No Changes\u001b[22m\u001b[39m to `~/local_Documents/TheoryAndPracticeOfCausalInference/Manifest.toml`\n"
     ]
    }
   ],
   "source": [
    "Pkg.add(\"Plots\")\n",
    "using Plots"
   ]
  },
  {
   "cell_type": "code",
   "execution_count": 19,
   "metadata": {},
   "outputs": [
    {
     "data": {
      "image/svg+xml": "<?xml version=\"1.0\" encoding=\"utf-8\"?>\n<svg xmlns=\"http://www.w3.org/2000/svg\" xmlns:xlink=\"http://www.w3.org/1999/xlink\" width=\"600\" height=\"400\" viewBox=\"0 0 2400 1600\">\n<defs>\n  <clipPath id=\"clip310\">\n    <rect x=\"0\" y=\"0\" width=\"2400\" height=\"1600\"/>\n  </clipPath>\n</defs>\n<path clip-path=\"url(#clip310)\" d=\"\nM0 1600 L2400 1600 L2400 0 L0 0  Z\n  \" fill=\"#ffffff\" fill-rule=\"evenodd\" fill-opacity=\"1\"/>\n<defs>\n  <clipPath id=\"clip311\">\n    <rect x=\"480\" y=\"0\" width=\"1681\" height=\"1600\"/>\n  </clipPath>\n</defs>\n<path clip-path=\"url(#clip310)\" d=\"\nM156.112 1486.45 L2352.76 1486.45 L2352.76 47.2441 L156.112 47.2441  Z\n  \" fill=\"#ffffff\" fill-rule=\"evenodd\" fill-opacity=\"1\"/>\n<defs>\n  <clipPath id=\"clip312\">\n    <rect x=\"156\" y=\"47\" width=\"2198\" height=\"1440\"/>\n  </clipPath>\n</defs>\n<polyline clip-path=\"url(#clip312)\" style=\"stroke:#000000; stroke-linecap:butt; stroke-linejoin:round; stroke-width:2; stroke-opacity:0.1; fill:none\" points=\"\n  213.088,1486.45 213.088,47.2441 \n  \"/>\n<polyline clip-path=\"url(#clip312)\" style=\"stroke:#000000; stroke-linecap:butt; stroke-linejoin:round; stroke-width:2; stroke-opacity:0.1; fill:none\" points=\"\n  732.462,1486.45 732.462,47.2441 \n  \"/>\n<polyline clip-path=\"url(#clip312)\" style=\"stroke:#000000; stroke-linecap:butt; stroke-linejoin:round; stroke-width:2; stroke-opacity:0.1; fill:none\" points=\"\n  1251.84,1486.45 1251.84,47.2441 \n  \"/>\n<polyline clip-path=\"url(#clip312)\" style=\"stroke:#000000; stroke-linecap:butt; stroke-linejoin:round; stroke-width:2; stroke-opacity:0.1; fill:none\" points=\"\n  1771.21,1486.45 1771.21,47.2441 \n  \"/>\n<polyline clip-path=\"url(#clip312)\" style=\"stroke:#000000; stroke-linecap:butt; stroke-linejoin:round; stroke-width:2; stroke-opacity:0.1; fill:none\" points=\"\n  2290.59,1486.45 2290.59,47.2441 \n  \"/>\n<polyline clip-path=\"url(#clip310)\" style=\"stroke:#000000; stroke-linecap:butt; stroke-linejoin:round; stroke-width:4; stroke-opacity:1; fill:none\" points=\"\n  156.112,1486.45 2352.76,1486.45 \n  \"/>\n<polyline clip-path=\"url(#clip310)\" style=\"stroke:#000000; stroke-linecap:butt; stroke-linejoin:round; stroke-width:4; stroke-opacity:1; fill:none\" points=\"\n  213.088,1486.45 213.088,1467.55 \n  \"/>\n<polyline clip-path=\"url(#clip310)\" style=\"stroke:#000000; stroke-linecap:butt; stroke-linejoin:round; stroke-width:4; stroke-opacity:1; fill:none\" points=\"\n  732.462,1486.45 732.462,1467.55 \n  \"/>\n<polyline clip-path=\"url(#clip310)\" style=\"stroke:#000000; stroke-linecap:butt; stroke-linejoin:round; stroke-width:4; stroke-opacity:1; fill:none\" points=\"\n  1251.84,1486.45 1251.84,1467.55 \n  \"/>\n<polyline clip-path=\"url(#clip310)\" style=\"stroke:#000000; stroke-linecap:butt; stroke-linejoin:round; stroke-width:4; stroke-opacity:1; fill:none\" points=\"\n  1771.21,1486.45 1771.21,1467.55 \n  \"/>\n<polyline clip-path=\"url(#clip310)\" style=\"stroke:#000000; stroke-linecap:butt; stroke-linejoin:round; stroke-width:4; stroke-opacity:1; fill:none\" points=\"\n  2290.59,1486.45 2290.59,1467.55 \n  \"/>\n<path clip-path=\"url(#clip310)\" d=\"M213.088 1517.37 Q209.476 1517.37 207.648 1520.93 Q205.842 1524.47 205.842 1531.6 Q205.842 1538.71 207.648 1542.27 Q209.476 1545.82 213.088 1545.82 Q216.722 1545.82 218.527 1542.27 Q220.356 1538.71 220.356 1531.6 Q220.356 1524.47 218.527 1520.93 Q216.722 1517.37 213.088 1517.37 M213.088 1513.66 Q218.898 1513.66 221.953 1518.27 Q225.032 1522.85 225.032 1531.6 Q225.032 1540.33 221.953 1544.94 Q218.898 1549.52 213.088 1549.52 Q207.277 1549.52 204.199 1544.94 Q201.143 1540.33 201.143 1531.6 Q201.143 1522.85 204.199 1518.27 Q207.277 1513.66 213.088 1513.66 Z\" fill=\"#000000\" fill-rule=\"evenodd\" fill-opacity=\"1\" /><path clip-path=\"url(#clip310)\" d=\"M722.844 1544.91 L730.483 1544.91 L730.483 1518.55 L722.173 1520.21 L722.173 1515.95 L730.437 1514.29 L735.113 1514.29 L735.113 1544.91 L742.752 1544.91 L742.752 1548.85 L722.844 1548.85 L722.844 1544.91 Z\" fill=\"#000000\" fill-rule=\"evenodd\" fill-opacity=\"1\" /><path clip-path=\"url(#clip310)\" d=\"M1246.49 1544.91 L1262.81 1544.91 L1262.81 1548.85 L1240.86 1548.85 L1240.86 1544.91 Q1243.53 1542.16 1248.11 1537.53 Q1252.72 1532.88 1253.9 1531.53 Q1256.14 1529.01 1257.02 1527.27 Q1257.93 1525.51 1257.93 1523.82 Q1257.93 1521.07 1255.98 1519.33 Q1254.06 1517.6 1250.96 1517.6 Q1248.76 1517.6 1246.3 1518.36 Q1243.87 1519.13 1241.1 1520.68 L1241.1 1515.95 Q1243.92 1514.82 1246.37 1514.24 Q1248.83 1513.66 1250.86 1513.66 Q1256.24 1513.66 1259.43 1516.35 Q1262.62 1519.03 1262.62 1523.52 Q1262.62 1525.65 1261.81 1527.57 Q1261.03 1529.47 1258.92 1532.07 Q1258.34 1532.74 1255.24 1535.95 Q1252.14 1539.15 1246.49 1544.91 Z\" fill=\"#000000\" fill-rule=\"evenodd\" fill-opacity=\"1\" /><path clip-path=\"url(#clip310)\" d=\"M1775.46 1530.21 Q1778.82 1530.93 1780.69 1533.2 Q1782.59 1535.47 1782.59 1538.8 Q1782.59 1543.92 1779.07 1546.72 Q1775.55 1549.52 1769.07 1549.52 Q1766.89 1549.52 1764.58 1549.08 Q1762.29 1548.66 1759.83 1547.81 L1759.83 1543.29 Q1761.78 1544.43 1764.09 1545.01 Q1766.41 1545.58 1768.93 1545.58 Q1773.33 1545.58 1775.62 1543.85 Q1777.94 1542.11 1777.94 1538.8 Q1777.94 1535.75 1775.78 1534.03 Q1773.65 1532.3 1769.83 1532.3 L1765.81 1532.3 L1765.81 1528.45 L1770.02 1528.45 Q1773.47 1528.45 1775.3 1527.09 Q1777.13 1525.7 1777.13 1523.11 Q1777.13 1520.45 1775.23 1519.03 Q1773.35 1517.6 1769.83 1517.6 Q1767.91 1517.6 1765.71 1518.01 Q1763.52 1518.43 1760.88 1519.31 L1760.88 1515.14 Q1763.54 1514.4 1765.85 1514.03 Q1768.19 1513.66 1770.25 1513.66 Q1775.58 1513.66 1778.68 1516.09 Q1781.78 1518.5 1781.78 1522.62 Q1781.78 1525.49 1780.14 1527.48 Q1778.49 1529.45 1775.46 1530.21 Z\" fill=\"#000000\" fill-rule=\"evenodd\" fill-opacity=\"1\" /><path clip-path=\"url(#clip310)\" d=\"M2293.6 1518.36 L2281.79 1536.81 L2293.6 1536.81 L2293.6 1518.36 M2292.37 1514.29 L2298.25 1514.29 L2298.25 1536.81 L2303.18 1536.81 L2303.18 1540.7 L2298.25 1540.7 L2298.25 1548.85 L2293.6 1548.85 L2293.6 1540.7 L2277.99 1540.7 L2277.99 1536.19 L2292.37 1514.29 Z\" fill=\"#000000\" fill-rule=\"evenodd\" fill-opacity=\"1\" /><polyline clip-path=\"url(#clip312)\" style=\"stroke:#000000; stroke-linecap:butt; stroke-linejoin:round; stroke-width:2; stroke-opacity:0.1; fill:none\" points=\"\n  156.112,1486.45 2352.76,1486.45 \n  \"/>\n<polyline clip-path=\"url(#clip312)\" style=\"stroke:#000000; stroke-linecap:butt; stroke-linejoin:round; stroke-width:2; stroke-opacity:0.1; fill:none\" points=\"\n  156.112,1126.65 2352.76,1126.65 \n  \"/>\n<polyline clip-path=\"url(#clip312)\" style=\"stroke:#000000; stroke-linecap:butt; stroke-linejoin:round; stroke-width:2; stroke-opacity:0.1; fill:none\" points=\"\n  156.112,766.846 2352.76,766.846 \n  \"/>\n<polyline clip-path=\"url(#clip312)\" style=\"stroke:#000000; stroke-linecap:butt; stroke-linejoin:round; stroke-width:2; stroke-opacity:0.1; fill:none\" points=\"\n  156.112,407.045 2352.76,407.045 \n  \"/>\n<polyline clip-path=\"url(#clip312)\" style=\"stroke:#000000; stroke-linecap:butt; stroke-linejoin:round; stroke-width:2; stroke-opacity:0.1; fill:none\" points=\"\n  156.112,47.2441 2352.76,47.2441 \n  \"/>\n<polyline clip-path=\"url(#clip310)\" style=\"stroke:#000000; stroke-linecap:butt; stroke-linejoin:round; stroke-width:4; stroke-opacity:1; fill:none\" points=\"\n  156.112,1486.45 156.112,47.2441 \n  \"/>\n<polyline clip-path=\"url(#clip310)\" style=\"stroke:#000000; stroke-linecap:butt; stroke-linejoin:round; stroke-width:4; stroke-opacity:1; fill:none\" points=\"\n  156.112,1486.45 175.01,1486.45 \n  \"/>\n<polyline clip-path=\"url(#clip310)\" style=\"stroke:#000000; stroke-linecap:butt; stroke-linejoin:round; stroke-width:4; stroke-opacity:1; fill:none\" points=\"\n  156.112,1126.65 175.01,1126.65 \n  \"/>\n<polyline clip-path=\"url(#clip310)\" style=\"stroke:#000000; stroke-linecap:butt; stroke-linejoin:round; stroke-width:4; stroke-opacity:1; fill:none\" points=\"\n  156.112,766.846 175.01,766.846 \n  \"/>\n<polyline clip-path=\"url(#clip310)\" style=\"stroke:#000000; stroke-linecap:butt; stroke-linejoin:round; stroke-width:4; stroke-opacity:1; fill:none\" points=\"\n  156.112,407.045 175.01,407.045 \n  \"/>\n<polyline clip-path=\"url(#clip310)\" style=\"stroke:#000000; stroke-linecap:butt; stroke-linejoin:round; stroke-width:4; stroke-opacity:1; fill:none\" points=\"\n  156.112,47.2441 175.01,47.2441 \n  \"/>\n<path clip-path=\"url(#clip310)\" d=\"M62.9365 1472.25 Q59.3254 1472.25 57.4967 1475.81 Q55.6912 1479.35 55.6912 1486.48 Q55.6912 1493.59 57.4967 1497.15 Q59.3254 1500.7 62.9365 1500.7 Q66.5707 1500.7 68.3763 1497.15 Q70.205 1493.59 70.205 1486.48 Q70.205 1479.35 68.3763 1475.81 Q66.5707 1472.25 62.9365 1472.25 M62.9365 1468.54 Q68.7467 1468.54 71.8022 1473.15 Q74.8809 1477.73 74.8809 1486.48 Q74.8809 1495.21 71.8022 1499.82 Q68.7467 1504.4 62.9365 1504.4 Q57.1264 1504.4 54.0477 1499.82 Q50.9921 1495.21 50.9921 1486.48 Q50.9921 1477.73 54.0477 1473.15 Q57.1264 1468.54 62.9365 1468.54 Z\" fill=\"#000000\" fill-rule=\"evenodd\" fill-opacity=\"1\" /><path clip-path=\"url(#clip310)\" d=\"M83.0984 1497.85 L87.9827 1497.85 L87.9827 1503.73 L83.0984 1503.73 L83.0984 1497.85 Z\" fill=\"#000000\" fill-rule=\"evenodd\" fill-opacity=\"1\" /><path clip-path=\"url(#clip310)\" d=\"M108.168 1472.25 Q104.557 1472.25 102.728 1475.81 Q100.922 1479.35 100.922 1486.48 Q100.922 1493.59 102.728 1497.15 Q104.557 1500.7 108.168 1500.7 Q111.802 1500.7 113.608 1497.15 Q115.436 1493.59 115.436 1486.48 Q115.436 1479.35 113.608 1475.81 Q111.802 1472.25 108.168 1472.25 M108.168 1468.54 Q113.978 1468.54 117.033 1473.15 Q120.112 1477.73 120.112 1486.48 Q120.112 1495.21 117.033 1499.82 Q113.978 1504.4 108.168 1504.4 Q102.358 1504.4 99.2789 1499.82 Q96.2234 1495.21 96.2234 1486.48 Q96.2234 1477.73 99.2789 1473.15 Q102.358 1468.54 108.168 1468.54 Z\" fill=\"#000000\" fill-rule=\"evenodd\" fill-opacity=\"1\" /><path clip-path=\"url(#clip310)\" d=\"M63.9319 1112.45 Q60.3208 1112.45 58.4921 1116.01 Q56.6865 1119.55 56.6865 1126.68 Q56.6865 1133.79 58.4921 1137.35 Q60.3208 1140.89 63.9319 1140.89 Q67.5661 1140.89 69.3717 1137.35 Q71.2004 1133.79 71.2004 1126.68 Q71.2004 1119.55 69.3717 1116.01 Q67.5661 1112.45 63.9319 1112.45 M63.9319 1108.74 Q69.742 1108.74 72.7976 1113.35 Q75.8763 1117.93 75.8763 1126.68 Q75.8763 1135.41 72.7976 1140.01 Q69.742 1144.6 63.9319 1144.6 Q58.1217 1144.6 55.043 1140.01 Q51.9875 1135.41 51.9875 1126.68 Q51.9875 1117.93 55.043 1113.35 Q58.1217 1108.74 63.9319 1108.74 Z\" fill=\"#000000\" fill-rule=\"evenodd\" fill-opacity=\"1\" /><path clip-path=\"url(#clip310)\" d=\"M84.0938 1138.05 L88.978 1138.05 L88.978 1143.93 L84.0938 1143.93 L84.0938 1138.05 Z\" fill=\"#000000\" fill-rule=\"evenodd\" fill-opacity=\"1\" /><path clip-path=\"url(#clip310)\" d=\"M99.2095 1109.37 L117.566 1109.37 L117.566 1113.3 L103.492 1113.3 L103.492 1121.77 Q104.51 1121.43 105.529 1121.27 Q106.547 1121.08 107.566 1121.08 Q113.353 1121.08 116.733 1124.25 Q120.112 1127.42 120.112 1132.84 Q120.112 1138.42 116.64 1141.52 Q113.168 1144.6 106.848 1144.6 Q104.672 1144.6 102.404 1144.23 Q100.159 1143.86 97.7511 1143.12 L97.7511 1138.42 Q99.8345 1139.55 102.057 1140.11 Q104.279 1140.66 106.756 1140.66 Q110.76 1140.66 113.098 1138.56 Q115.436 1136.45 115.436 1132.84 Q115.436 1129.23 113.098 1127.12 Q110.76 1125.01 106.756 1125.01 Q104.881 1125.01 103.006 1125.43 Q101.154 1125.85 99.2095 1126.73 L99.2095 1109.37 Z\" fill=\"#000000\" fill-rule=\"evenodd\" fill-opacity=\"1\" /><path clip-path=\"url(#clip310)\" d=\"M53.7467 780.191 L61.3856 780.191 L61.3856 753.825 L53.0754 755.492 L53.0754 751.233 L61.3393 749.566 L66.0152 749.566 L66.0152 780.191 L73.654 780.191 L73.654 784.126 L53.7467 784.126 L53.7467 780.191 Z\" fill=\"#000000\" fill-rule=\"evenodd\" fill-opacity=\"1\" /><path clip-path=\"url(#clip310)\" d=\"M83.0984 778.246 L87.9827 778.246 L87.9827 784.126 L83.0984 784.126 L83.0984 778.246 Z\" fill=\"#000000\" fill-rule=\"evenodd\" fill-opacity=\"1\" /><path clip-path=\"url(#clip310)\" d=\"M108.168 752.645 Q104.557 752.645 102.728 756.209 Q100.922 759.751 100.922 766.881 Q100.922 773.987 102.728 777.552 Q104.557 781.094 108.168 781.094 Q111.802 781.094 113.608 777.552 Q115.436 773.987 115.436 766.881 Q115.436 759.751 113.608 756.209 Q111.802 752.645 108.168 752.645 M108.168 748.941 Q113.978 748.941 117.033 753.547 Q120.112 758.131 120.112 766.881 Q120.112 775.608 117.033 780.214 Q113.978 784.797 108.168 784.797 Q102.358 784.797 99.2789 780.214 Q96.2234 775.608 96.2234 766.881 Q96.2234 758.131 99.2789 753.547 Q102.358 748.941 108.168 748.941 Z\" fill=\"#000000\" fill-rule=\"evenodd\" fill-opacity=\"1\" /><path clip-path=\"url(#clip310)\" d=\"M54.7421 420.39 L62.381 420.39 L62.381 394.024 L54.0708 395.691 L54.0708 391.432 L62.3347 389.765 L67.0106 389.765 L67.0106 420.39 L74.6494 420.39 L74.6494 424.325 L54.7421 424.325 L54.7421 420.39 Z\" fill=\"#000000\" fill-rule=\"evenodd\" fill-opacity=\"1\" /><path clip-path=\"url(#clip310)\" d=\"M84.0938 418.445 L88.978 418.445 L88.978 424.325 L84.0938 424.325 L84.0938 418.445 Z\" fill=\"#000000\" fill-rule=\"evenodd\" fill-opacity=\"1\" /><path clip-path=\"url(#clip310)\" d=\"M99.2095 389.765 L117.566 389.765 L117.566 393.7 L103.492 393.7 L103.492 402.172 Q104.51 401.825 105.529 401.663 Q106.547 401.478 107.566 401.478 Q113.353 401.478 116.733 404.649 Q120.112 407.82 120.112 413.237 Q120.112 418.816 116.64 421.918 Q113.168 424.996 106.848 424.996 Q104.672 424.996 102.404 424.626 Q100.159 424.256 97.7511 423.515 L97.7511 418.816 Q99.8345 419.95 102.057 420.506 Q104.279 421.061 106.756 421.061 Q110.76 421.061 113.098 418.955 Q115.436 416.848 115.436 413.237 Q115.436 409.626 113.098 407.52 Q110.76 405.413 106.756 405.413 Q104.881 405.413 103.006 405.83 Q101.154 406.246 99.2095 407.126 L99.2095 389.765 Z\" fill=\"#000000\" fill-rule=\"evenodd\" fill-opacity=\"1\" /><path clip-path=\"url(#clip310)\" d=\"M56.9643 60.5889 L73.2837 60.5889 L73.2837 64.5241 L51.3393 64.5241 L51.3393 60.5889 Q54.0014 57.8343 58.5847 53.2047 Q63.1911 48.552 64.3717 47.2094 Q66.617 44.6862 67.4967 42.9501 Q68.3994 41.1909 68.3994 39.5011 Q68.3994 36.7465 66.455 35.0104 Q64.5337 33.2743 61.4319 33.2743 Q59.2328 33.2743 56.7791 34.0381 Q54.3486 34.802 51.5708 36.3529 L51.5708 31.6308 Q54.3949 30.4965 56.8486 29.9178 Q59.3023 29.3391 61.3393 29.3391 Q66.7096 29.3391 69.9041 32.0243 Q73.0985 34.7094 73.0985 39.2002 Q73.0985 41.3298 72.2883 43.2511 Q71.5013 45.1492 69.3948 47.7418 Q68.8161 48.4131 65.7143 51.6306 Q62.6124 54.8251 56.9643 60.5889 Z\" fill=\"#000000\" fill-rule=\"evenodd\" fill-opacity=\"1\" /><path clip-path=\"url(#clip310)\" d=\"M83.0984 58.6445 L87.9827 58.6445 L87.9827 64.5241 L83.0984 64.5241 L83.0984 58.6445 Z\" fill=\"#000000\" fill-rule=\"evenodd\" fill-opacity=\"1\" /><path clip-path=\"url(#clip310)\" d=\"M108.168 33.0428 Q104.557 33.0428 102.728 36.6076 Q100.922 40.1492 100.922 47.2788 Q100.922 54.3853 102.728 57.9501 Q104.557 61.4917 108.168 61.4917 Q111.802 61.4917 113.608 57.9501 Q115.436 54.3853 115.436 47.2788 Q115.436 40.1492 113.608 36.6076 Q111.802 33.0428 108.168 33.0428 M108.168 29.3391 Q113.978 29.3391 117.033 33.9456 Q120.112 38.5289 120.112 47.2788 Q120.112 56.0056 117.033 60.6121 Q113.978 65.1954 108.168 65.1954 Q102.358 65.1954 99.2789 60.6121 Q96.2234 56.0056 96.2234 47.2788 Q96.2234 38.5289 99.2789 33.9456 Q102.358 29.3391 108.168 29.3391 Z\" fill=\"#000000\" fill-rule=\"evenodd\" fill-opacity=\"1\" /><polyline clip-path=\"url(#clip312)\" style=\"stroke:#009af9; stroke-linecap:butt; stroke-linejoin:round; stroke-width:4; stroke-opacity:1; fill:none\" points=\"\n  218.281,1479.29 223.475,1472.2 228.669,1465.18 233.863,1458.22 239.056,1451.34 244.25,1444.52 249.444,1437.76 254.638,1431.07 259.831,1424.43 265.025,1417.86 \n  270.219,1411.35 275.413,1404.9 280.606,1398.5 285.8,1392.16 290.994,1385.87 296.188,1379.64 301.381,1373.47 306.575,1367.34 311.769,1361.27 316.963,1355.25 \n  322.156,1349.28 327.35,1343.35 332.544,1337.48 337.737,1331.65 342.931,1325.87 348.125,1320.14 353.319,1314.45 358.512,1308.81 363.706,1303.21 368.9,1297.65 \n  374.094,1292.14 379.287,1286.66 384.481,1281.23 389.675,1275.84 394.869,1270.49 400.062,1265.18 405.256,1259.91 410.45,1254.68 415.644,1249.48 420.837,1244.32 \n  426.031,1239.2 431.225,1234.11 436.419,1229.06 441.612,1224.05 446.806,1219.07 452,1214.12 457.194,1209.21 462.387,1204.33 467.581,1199.49 472.775,1194.67 \n  477.969,1189.89 483.162,1185.14 488.356,1180.42 493.55,1175.74 498.744,1171.08 503.937,1166.45 509.131,1161.85 514.325,1157.28 519.519,1152.74 524.712,1148.23 \n  529.906,1143.75 535.1,1139.29 540.294,1134.86 545.487,1130.46 550.681,1126.09 555.875,1121.74 561.069,1117.42 566.262,1113.12 571.456,1108.85 576.65,1104.61 \n  581.844,1100.39 587.037,1096.19 592.231,1092.02 597.425,1087.87 602.619,1083.75 607.812,1079.65 613.006,1075.57 618.2,1071.52 623.394,1067.48 628.587,1063.48 \n  633.781,1059.49 638.975,1055.52 644.169,1051.58 649.362,1047.66 654.556,1043.76 659.75,1039.88 664.944,1036.02 670.137,1032.18 675.331,1028.37 680.525,1024.57 \n  685.719,1020.79 690.912,1017.03 696.106,1013.3 701.3,1009.58 706.494,1005.88 711.687,1002.2 716.881,998.534 722.075,994.89 727.269,991.265 732.462,987.658 \n  737.656,984.069 742.85,980.498 748.044,976.944 753.237,973.408 758.431,969.889 763.625,966.387 768.819,962.903 774.012,959.435 779.206,955.983 784.4,952.548 \n  789.594,949.13 794.787,945.727 799.981,942.341 805.175,938.971 810.369,935.616 815.562,932.277 820.756,928.953 825.95,925.644 831.144,922.351 836.337,919.072 \n  841.531,915.809 846.725,912.56 851.919,909.326 857.112,906.106 862.306,902.901 867.5,899.71 872.694,896.533 877.887,893.37 883.081,890.22 888.275,887.085 \n  893.469,883.963 898.662,880.855 903.856,877.759 909.05,874.678 914.244,871.609 919.437,868.553 924.631,865.511 929.825,862.481 935.019,859.464 940.212,856.459 \n  945.406,853.467 950.6,850.487 955.794,847.52 960.987,844.564 966.181,841.621 971.375,838.69 976.568,835.771 981.762,832.863 986.956,829.968 992.15,827.083 \n  997.343,824.211 1002.54,821.349 1007.73,818.5 1012.92,815.661 1018.12,812.833 1023.31,810.017 1028.51,807.211 1033.7,804.417 1038.89,801.633 1044.09,798.86 \n  1049.28,796.098 1054.47,793.346 1059.67,790.604 1064.86,787.874 1070.06,785.153 1075.25,782.443 1080.44,779.742 1085.64,777.052 1090.83,774.372 1096.02,771.702 \n  1101.22,769.042 1106.41,766.391 1111.61,763.751 1116.8,761.119 1121.99,758.498 1127.19,755.886 1132.38,753.283 1137.57,750.69 1142.77,748.106 1147.96,745.532 \n  1153.16,742.966 1158.35,740.41 1163.54,737.863 1168.74,735.325 1173.93,732.795 1179.12,730.275 1184.32,727.763 1189.51,725.26 1194.71,722.766 1199.9,720.28 \n  1205.09,717.803 1210.29,715.334 1215.48,712.874 1220.67,710.422 1225.87,707.979 1231.06,705.544 1236.26,703.117 1241.45,700.698 1246.64,698.287 1251.84,695.884 \n  1257.03,693.49 1262.22,691.103 1267.42,688.724 1272.61,686.353 1277.81,683.99 1283,681.634 1288.19,679.287 1293.39,676.946 1298.58,674.614 1303.77,672.289 \n  1308.97,669.971 1314.16,667.661 1319.36,665.358 1324.55,663.063 1329.74,660.775 1334.94,658.494 1340.13,656.22 1345.32,653.954 1350.52,651.695 1355.71,649.442 \n  1360.91,647.197 1366.1,644.959 1371.29,642.728 1376.49,640.503 1381.68,638.286 1386.87,636.075 1392.07,633.871 1397.26,631.674 1402.46,629.483 1407.65,627.299 \n  1412.84,625.122 1418.04,622.951 1423.23,620.787 1428.42,618.629 1433.62,616.478 1438.81,614.333 1444.01,612.194 1449.2,610.062 1454.39,607.936 1459.59,605.817 \n  1464.78,603.703 1469.97,601.596 1475.17,599.495 1480.36,597.4 1485.56,595.311 1490.75,593.229 1495.94,591.152 1501.14,589.081 1506.33,587.016 1511.52,584.957 \n  1516.72,582.904 1521.91,580.857 1527.11,578.816 1532.3,576.78 1537.49,574.75 1542.69,572.726 1547.88,570.707 1553.07,568.694 1558.27,566.687 1563.46,564.685 \n  1568.66,562.689 1573.85,560.699 1579.04,558.714 1584.24,556.734 1589.43,554.76 1594.62,552.791 1599.82,550.827 1605.01,548.869 1610.21,546.917 1615.4,544.969 \n  1620.59,543.027 1625.79,541.09 1630.98,539.158 1636.17,537.231 1641.37,535.31 1646.56,533.393 1651.76,531.482 1656.95,529.576 1662.14,527.675 1667.34,525.779 \n  1672.53,523.887 1677.72,522.001 1682.92,520.12 1688.11,518.243 1693.31,516.372 1698.5,514.505 1703.69,512.643 1708.89,510.786 1714.08,508.934 1719.27,507.087 \n  1724.47,505.244 1729.66,503.406 1734.86,501.572 1740.05,499.744 1745.24,497.92 1750.44,496.1 1755.63,494.285 1760.82,492.475 1766.02,490.669 1771.21,488.868 \n  1776.41,487.071 1781.6,485.279 1786.79,483.491 1791.99,481.708 1797.18,479.929 1802.37,478.154 1807.57,476.384 1812.76,474.618 1817.96,472.856 1823.15,471.099 \n  1828.34,469.346 1833.54,467.597 1838.73,465.853 1843.92,464.113 1849.12,462.376 1854.31,460.645 1859.51,458.917 1864.7,457.193 1869.89,455.474 1875.09,453.758 \n  1880.28,452.047 1885.47,450.34 1890.67,448.637 1895.86,446.937 1901.06,445.242 1906.25,443.551 1911.44,441.864 1916.64,440.181 1921.83,438.501 1927.02,436.826 \n  1932.22,435.154 1937.41,433.487 1942.61,431.823 1947.8,430.163 1952.99,428.507 1958.19,426.854 1963.38,425.206 1968.57,423.561 1973.77,421.92 1978.96,420.282 \n  1984.16,418.649 1989.35,417.019 1994.54,415.393 1999.74,413.77 2004.93,412.151 2010.12,410.536 2015.32,408.924 2020.51,407.316 2025.71,405.712 2030.9,404.111 \n  2036.09,402.514 2041.29,400.92 2046.48,399.33 2051.67,397.743 2056.87,396.159 2062.06,394.58 2067.26,393.003 2072.45,391.43 2077.64,389.861 2082.84,388.295 \n  2088.03,386.732 2093.22,385.173 2098.42,383.617 2103.61,382.065 2108.81,380.515 2114,378.969 2119.19,377.427 2124.39,375.888 2129.58,374.352 2134.77,372.819 \n  2139.97,371.29 2145.16,369.763 2150.36,368.24 2155.55,366.721 2160.74,365.204 2165.94,363.691 2171.13,362.181 2176.32,360.674 2181.52,359.17 2186.71,357.669 \n  2191.91,356.171 2197.1,354.677 2202.29,353.185 2207.49,351.697 2212.68,350.212 2217.87,348.73 2223.07,347.25 2228.26,345.774 2233.46,344.301 2238.65,342.831 \n  2243.84,341.364 2249.04,339.9 2254.23,338.439 2259.42,336.981 2264.62,335.526 2269.81,334.073 2275.01,332.624 2280.2,331.177 2285.39,329.734 2290.59,328.293 \n  \n  \"/>\n<polyline clip-path=\"url(#clip312)\" style=\"stroke:#e26f46; stroke-linecap:butt; stroke-linejoin:round; stroke-width:4; stroke-opacity:1; fill:none\" points=\"\n  218.281,1479.29 223.475,1472.2 228.669,1465.18 233.863,1458.22 239.056,1451.34 244.25,1444.52 249.444,1437.76 254.638,1431.07 259.831,1424.44 265.025,1417.86 \n  270.219,1411.35 275.413,1404.9 280.606,1398.5 285.8,1392.17 290.994,1385.88 296.188,1379.66 301.381,1373.49 306.575,1367.37 311.769,1361.3 316.963,1355.29 \n  322.156,1349.33 327.35,1343.42 332.544,1337.56 337.737,1331.75 342.931,1325.99 348.125,1320.28 353.319,1314.62 358.512,1309.01 363.706,1303.44 368.9,1297.93 \n  374.094,1292.46 379.287,1287.05 384.481,1281.67 389.675,1276.35 394.869,1271.08 400.062,1265.85 405.256,1260.67 410.45,1255.54 415.644,1250.46 420.837,1245.43 \n  426.031,1240.45 431.225,1235.51 436.419,1230.63 441.612,1225.79 446.806,1221.01 452,1216.27 457.194,1211.59 462.387,1206.96 467.581,1202.38 472.775,1197.86 \n  477.969,1193.39 483.162,1188.97 488.356,1184.61 493.55,1180.31 498.744,1176.06 503.937,1171.87 509.131,1167.74 514.325,1163.67 519.519,1159.66 524.712,1155.72 \n  529.906,1151.84 535.1,1148.02 540.294,1144.27 545.487,1140.58 550.681,1136.96 555.875,1133.41 561.069,1129.94 566.262,1126.53 571.456,1123.2 576.65,1119.95 \n  581.844,1116.77 587.037,1113.67 592.231,1110.65 597.425,1107.72 602.619,1104.86 607.812,1102.09 613.006,1099.41 618.2,1096.82 623.394,1094.32 628.587,1091.91 \n  633.781,1089.6 638.975,1087.39 644.169,1085.27 649.362,1083.25 654.556,1081.34 659.75,1079.54 664.944,1077.84 670.137,1076.25 675.331,1074.78 680.525,1073.41 \n  685.719,1072.17 690.912,1071.05 696.106,1070.05 701.3,1069.17 706.494,1068.42 711.687,1067.8 716.881,1067.31 722.075,1066.96 727.269,1066.75 732.462,1066.68 \n  737.656,1066.75 742.85,1066.97 748.044,1067.34 753.237,1067.86 758.431,1068.54 763.625,1069.38 768.819,1070.38 774.012,1071.54 779.206,1072.87 784.4,1074.37 \n  789.594,1076.05 794.787,1077.91 799.981,1079.95 805.175,1082.17 810.369,1084.58 815.562,1087.18 820.756,1089.98 825.95,1092.98 831.144,1096.18 836.337,1099.59 \n  841.531,1103.21 846.725,1107.04 851.919,1111.09 857.112,1115.36 862.306,1119.85 867.5,1124.58 872.694,1129.54 877.887,1134.73 883.081,1140.17 888.275,1145.85 \n  893.469,1151.79 898.662,1157.97 903.856,1164.42 909.05,1171.13 914.244,1178.1 919.437,1185.34 924.631,1192.87 929.825,1200.67 935.019,1208.75 940.212,1217.12 \n  945.406,1225.79 950.6,1234.76 955.794,1244.03 960.987,1253.6 966.181,1263.49 971.375,1273.7 976.568,1284.23 981.762,1295.08 986.956,1306.27 992.15,1317.79 \n  997.343,1329.66 1002.54,1341.87 1007.73,1354.43 1012.92,1367.35 1018.12,1380.64 1023.31,1394.29 1028.51,1408.31 1033.7,1422.71 1038.89,1437.5 1044.09,1452.67 \n  1049.28,1468.24 1054.47,1484.21 1059.67,1500.59 1064.86,1517.37 1070.06,1534.57 1075.25,1552.2 1080.44,1570.25 1085.64,1588.73 1090.83,1607.66 1096.02,1627.03 \n  1101.22,1646.85 1106.41,1667.13 1111.61,1687.87 1116.8,1709.08 1121.99,1730.77 1127.19,1752.93 1132.38,1775.59 1137.57,1798.74 1142.77,1822.38 1147.96,1846.54 \n  1153.16,1871.2 1158.35,1896.39 1163.54,1922.1 1168.74,1948.34 1173.93,1975.12 1179.12,2002.44 1184.32,2030.32 1189.51,2058.75 1194.71,2087.75 1199.9,2117.32 \n  1205.09,2147.46 1210.29,2178.19 1215.48,2209.52 1220.67,2241.44 1225.87,2273.96 1231.06,2307.1 1236.26,2340.86 1241.45,2375.24 1246.64,2410.26 1251.84,2445.92 \n  1257.03,2482.22 1262.22,2519.18 1267.42,2556.8 1272.61,2595.1 1277.81,2634.06 1283,2673.72 1288.19,2714.06 1293.39,2755.1 1298.58,2796.85 1303.77,2839.32 \n  1308.97,2882.5 1314.16,2926.42 1319.36,2971.07 1324.55,3016.47 1329.74,3062.62 1334.94,3109.53 1340.13,3157.21 1345.32,3205.66 1350.52,3254.9 1355.71,3304.93 \n  1360.91,3355.76 1366.1,3407.4 1371.29,3459.86 1376.49,3513.14 1381.68,3567.25 1386.87,3622.2 1392.07,3678.01 1397.26,3734.67 1402.46,3792.2 1407.65,3850.6 \n  1412.84,3909.88 1418.04,3970.06 1423.23,4031.14 1428.42,4093.12 1433.62,4156.02 1438.81,4219.85 1444.01,4284.61 1449.2,4350.32 1454.39,4416.98 1459.59,4484.6 \n  1464.78,4553.19 1469.97,4622.76 1475.17,4693.31 1480.36,4764.87 1485.56,4837.43 1490.75,4911 1495.94,4985.6 1501.14,5061.23 1506.33,5137.91 1511.52,5215.63 \n  1516.72,5294.42 1521.91,5374.28 1527.11,5455.22 1532.3,5537.25 1537.49,5620.38 1542.69,5704.62 1547.88,5789.98 1553.07,5876.46 1558.27,5964.08 1563.46,6052.85 \n  1568.66,6142.78 1573.85,6233.87 1579.04,6326.14 1584.24,6419.59 1589.43,6514.25 1594.62,6610.11 1599.82,6707.18 1605.01,6805.49 1610.21,6905.03 1615.4,7005.81 \n  1620.59,7107.86 1625.79,7211.17 1630.98,7315.76 1636.17,7421.63 1641.37,7528.81 1646.56,7637.29 1651.76,7747.1 1656.95,7858.23 1662.14,7970.7 1667.34,8084.53 \n  1672.53,8199.71 1677.72,8316.27 1682.92,8434.21 1688.11,8553.54 1693.31,8674.28 1698.5,8796.44 1703.69,8920.02 1708.89,9045.03 1714.08,9171.5 1719.27,9299.42 \n  1724.47,9428.82 1729.66,9559.69 1734.86,9692.06 1740.05,9825.93 1745.24,9961.32 1750.44,10098.2 1755.63,10236.7 1760.82,10376.7 1766.02,10518.2 1771.21,10661.4 \n  1776.41,10806.1 1781.6,10952.4 1786.79,11100.3 1791.99,11249.8 1797.18,11401 1802.37,11553.8 1807.57,11708.3 1812.76,11864.4 1817.96,12022.2 1823.15,12181.7 \n  1828.34,12342.9 1833.54,12505.8 1838.73,12670.4 1843.92,12836.7 1849.12,13004.8 1854.31,13174.7 1859.51,13346.4 1864.7,13519.8 1869.89,13695 1875.09,13872 \n  1880.28,14050.9 1885.47,14231.6 1890.67,14414.1 1895.86,14598.5 1901.06,14784.8 1906.25,14972.9 1911.44,15163 1916.64,15355 1921.83,15548.8 1927.02,15744.7 \n  1932.22,15942.4 1937.41,16142.1 1942.61,16343.8 1947.8,16547.5 1952.99,16753.2 1958.19,16960.9 1963.38,17170.6 1968.57,17382.4 1973.77,17596.2 1978.96,17812.1 \n  1984.16,18030.1 1989.35,18250.1 1994.54,18472.3 1999.74,18696.5 2004.93,18922.9 2010.12,19151.5 2015.32,19382.2 2020.51,19615.1 2025.71,19850.1 2030.9,20087.4 \n  2036.09,20326.9 2041.29,20568.6 2046.48,20812.5 2051.67,21058.7 2056.87,21307.2 2062.06,21557.9 2067.26,21811 2072.45,22066.3 2077.64,22324 2082.84,22584 \n  2088.03,22846.4 2093.22,23111.1 2098.42,23378.2 2103.61,23647.7 2108.81,23919.6 2114,24194 2119.19,24470.8 2124.39,24750 2129.58,25031.7 2134.77,25315.8 \n  2139.97,25602.5 2145.16,25891.7 2150.36,26183.4 2155.55,26477.6 2160.74,26774.4 2165.94,27073.8 2171.13,27375.7 2176.32,27680.3 2181.52,27987.4 2186.71,28297.2 \n  2191.91,28609.6 2197.1,28924.7 2202.29,29242.4 2207.49,29562.9 2212.68,29886 2217.87,30211.9 2223.07,30540.5 2228.26,30871.8 2233.46,31205.9 2238.65,31542.8 \n  2243.84,31882.5 2249.04,32225 2254.23,32570.3 2259.42,32918.4 2264.62,33269.4 2269.81,33623.3 2275.01,33980.1 2280.2,34339.8 2285.39,34702.3 2290.59,35067.9 \n  \n  \"/>\n<path clip-path=\"url(#clip310)\" d=\"\nM1856.94 250.738 L2279.53 250.738 L2279.53 95.2176 L1856.94 95.2176  Z\n  \" fill=\"#ffffff\" fill-rule=\"evenodd\" fill-opacity=\"1\"/>\n<polyline clip-path=\"url(#clip310)\" style=\"stroke:#000000; stroke-linecap:butt; stroke-linejoin:round; stroke-width:4; stroke-opacity:1; fill:none\" points=\"\n  1856.94,250.738 2279.53,250.738 2279.53,95.2176 1856.94,95.2176 1856.94,250.738 \n  \"/>\n<polyline clip-path=\"url(#clip310)\" style=\"stroke:#009af9; stroke-linecap:butt; stroke-linejoin:round; stroke-width:4; stroke-opacity:1; fill:none\" points=\"\n  1880.94,147.058 2024.94,147.058 \n  \"/>\n<path clip-path=\"url(#clip310)\" d=\"M2072.97 150.31 L2072.97 152.393 L2053.39 152.393 Q2053.67 156.791 2056.03 159.106 Q2058.41 161.398 2062.65 161.398 Q2065.1 161.398 2067.39 160.796 Q2069.71 160.194 2071.98 158.99 L2071.98 163.018 Q2069.68 163.99 2067.28 164.5 Q2064.87 165.009 2062.39 165.009 Q2056.19 165.009 2052.55 161.398 Q2048.94 157.787 2048.94 151.629 Q2048.94 145.264 2052.37 141.537 Q2055.82 137.787 2061.65 137.787 Q2066.88 137.787 2069.91 141.166 Q2072.97 144.523 2072.97 150.31 M2068.71 149.06 Q2068.66 145.565 2066.74 143.481 Q2064.85 141.398 2061.7 141.398 Q2058.13 141.398 2055.98 143.412 Q2053.85 145.426 2053.53 149.083 L2068.71 149.06 Z\" fill=\"#000000\" fill-rule=\"evenodd\" fill-opacity=\"1\" /><path clip-path=\"url(#clip310)\" d=\"M2100.68 138.412 L2091.3 151.027 L2101.16 164.338 L2096.14 164.338 L2088.6 154.152 L2081.05 164.338 L2076.03 164.338 L2086.1 150.773 L2076.88 138.412 L2081.91 138.412 L2088.78 147.648 L2095.66 138.412 L2100.68 138.412 Z\" fill=\"#000000\" fill-rule=\"evenodd\" fill-opacity=\"1\" /><path clip-path=\"url(#clip310)\" d=\"M2118.97 151.305 Q2113.8 151.305 2111.81 152.486 Q2109.82 153.666 2109.82 156.514 Q2109.82 158.782 2111.3 160.125 Q2112.81 161.444 2115.38 161.444 Q2118.92 161.444 2121.05 158.944 Q2123.2 156.421 2123.2 152.254 L2123.2 151.305 L2118.97 151.305 M2127.46 149.546 L2127.46 164.338 L2123.2 164.338 L2123.2 160.402 Q2121.74 162.763 2119.57 163.898 Q2117.39 165.009 2114.24 165.009 Q2110.26 165.009 2107.9 162.787 Q2105.56 160.541 2105.56 156.791 Q2105.56 152.416 2108.48 150.194 Q2111.42 147.972 2117.23 147.972 L2123.2 147.972 L2123.2 147.555 Q2123.2 144.615 2121.26 143.018 Q2119.34 141.398 2115.84 141.398 Q2113.62 141.398 2111.51 141.93 Q2109.41 142.463 2107.46 143.527 L2107.46 139.592 Q2109.8 138.69 2112 138.25 Q2114.2 137.787 2116.28 137.787 Q2121.91 137.787 2124.68 140.703 Q2127.46 143.62 2127.46 149.546 Z\" fill=\"#000000\" fill-rule=\"evenodd\" fill-opacity=\"1\" /><path clip-path=\"url(#clip310)\" d=\"M2154.89 139.407 L2154.89 143.389 Q2153.09 142.393 2151.26 141.907 Q2149.45 141.398 2147.6 141.398 Q2143.46 141.398 2141.16 144.037 Q2138.87 146.652 2138.87 151.398 Q2138.87 156.143 2141.16 158.782 Q2143.46 161.398 2147.6 161.398 Q2149.45 161.398 2151.26 160.912 Q2153.09 160.402 2154.89 159.407 L2154.89 163.342 Q2153.11 164.176 2151.19 164.592 Q2149.29 165.009 2147.14 165.009 Q2141.28 165.009 2137.83 161.328 Q2134.38 157.648 2134.38 151.398 Q2134.38 145.055 2137.85 141.421 Q2141.35 137.787 2147.41 137.787 Q2149.38 137.787 2151.26 138.203 Q2153.13 138.597 2154.89 139.407 Z\" fill=\"#000000\" fill-rule=\"evenodd\" fill-opacity=\"1\" /><path clip-path=\"url(#clip310)\" d=\"M2166.51 131.051 L2166.51 138.412 L2175.28 138.412 L2175.28 141.722 L2166.51 141.722 L2166.51 155.796 Q2166.51 158.967 2167.37 159.87 Q2168.25 160.773 2170.91 160.773 L2175.28 160.773 L2175.28 164.338 L2170.91 164.338 Q2165.98 164.338 2164.1 162.509 Q2162.23 160.657 2162.23 155.796 L2162.23 141.722 L2159.1 141.722 L2159.1 138.412 L2162.23 138.412 L2162.23 131.051 L2166.51 131.051 Z\" fill=\"#000000\" fill-rule=\"evenodd\" fill-opacity=\"1\" /><polyline clip-path=\"url(#clip310)\" style=\"stroke:#e26f46; stroke-linecap:butt; stroke-linejoin:round; stroke-width:4; stroke-opacity:1; fill:none\" points=\"\n  1880.94,198.898 2024.94,198.898 \n  \"/>\n<path clip-path=\"url(#clip310)\" d=\"M2048.94 181.618 L2078.18 181.618 L2078.18 185.553 L2065.91 185.553 L2065.91 216.178 L2061.21 216.178 L2061.21 185.553 L2048.94 185.553 L2048.94 181.618 Z\" fill=\"#000000\" fill-rule=\"evenodd\" fill-opacity=\"1\" /><path clip-path=\"url(#clip310)\" d=\"M2086.44 203.145 Q2081.28 203.145 2079.29 204.326 Q2077.3 205.506 2077.3 208.354 Q2077.3 210.622 2078.78 211.965 Q2080.29 213.284 2082.85 213.284 Q2086.4 213.284 2088.53 210.784 Q2090.68 208.261 2090.68 204.094 L2090.68 203.145 L2086.44 203.145 M2094.94 201.386 L2094.94 216.178 L2090.68 216.178 L2090.68 212.242 Q2089.22 214.603 2087.04 215.738 Q2084.87 216.849 2081.72 216.849 Q2077.74 216.849 2075.38 214.627 Q2073.04 212.381 2073.04 208.631 Q2073.04 204.256 2075.96 202.034 Q2078.9 199.812 2084.71 199.812 L2090.68 199.812 L2090.68 199.395 Q2090.68 196.455 2088.73 194.858 Q2086.81 193.238 2083.32 193.238 Q2081.1 193.238 2078.99 193.77 Q2076.88 194.303 2074.94 195.367 L2074.94 191.432 Q2077.28 190.53 2079.48 190.09 Q2081.67 189.627 2083.76 189.627 Q2089.38 189.627 2092.16 192.543 Q2094.94 195.46 2094.94 201.386 Z\" fill=\"#000000\" fill-rule=\"evenodd\" fill-opacity=\"1\" /><path clip-path=\"url(#clip310)\" d=\"M2114.5 218.585 Q2112.69 223.215 2110.98 224.627 Q2109.27 226.039 2106.4 226.039 L2102.99 226.039 L2102.99 222.474 L2105.49 222.474 Q2107.25 222.474 2108.22 221.64 Q2109.2 220.807 2110.38 217.705 L2111.14 215.761 L2100.66 190.252 L2105.17 190.252 L2113.27 210.529 L2121.37 190.252 L2125.89 190.252 L2114.5 218.585 Z\" fill=\"#000000\" fill-rule=\"evenodd\" fill-opacity=\"1\" /><path clip-path=\"url(#clip310)\" d=\"M2131.77 180.159 L2136.03 180.159 L2136.03 216.178 L2131.77 216.178 L2131.77 180.159 Z\" fill=\"#000000\" fill-rule=\"evenodd\" fill-opacity=\"1\" /><path clip-path=\"url(#clip310)\" d=\"M2154.98 193.238 Q2151.56 193.238 2149.57 195.923 Q2147.58 198.585 2147.58 203.238 Q2147.58 207.891 2149.54 210.576 Q2151.53 213.238 2154.98 213.238 Q2158.39 213.238 2160.38 210.553 Q2162.37 207.867 2162.37 203.238 Q2162.37 198.631 2160.38 195.946 Q2158.39 193.238 2154.98 193.238 M2154.98 189.627 Q2160.54 189.627 2163.71 193.238 Q2166.88 196.849 2166.88 203.238 Q2166.88 209.604 2163.71 213.238 Q2160.54 216.849 2154.98 216.849 Q2149.41 216.849 2146.23 213.238 Q2143.09 209.604 2143.09 203.238 Q2143.09 196.849 2146.23 193.238 Q2149.41 189.627 2154.98 189.627 Z\" fill=\"#000000\" fill-rule=\"evenodd\" fill-opacity=\"1\" /><path clip-path=\"url(#clip310)\" d=\"M2188.97 194.233 Q2188.25 193.817 2187.39 193.631 Q2186.56 193.423 2185.54 193.423 Q2181.93 193.423 2179.98 195.784 Q2178.06 198.122 2178.06 202.52 L2178.06 216.178 L2173.78 216.178 L2173.78 190.252 L2178.06 190.252 L2178.06 194.28 Q2179.41 191.918 2181.56 190.784 Q2183.71 189.627 2186.79 189.627 Q2187.23 189.627 2187.76 189.696 Q2188.29 189.743 2188.94 189.858 L2188.97 194.233 Z\" fill=\"#000000\" fill-rule=\"evenodd\" fill-opacity=\"1\" /><path clip-path=\"url(#clip310)\" d=\"M2221.95 185.692 L2210.15 204.141 L2221.95 204.141 L2221.95 185.692 M2220.72 181.618 L2226.6 181.618 L2226.6 204.141 L2231.53 204.141 L2231.53 208.029 L2226.6 208.029 L2226.6 216.178 L2221.95 216.178 L2221.95 208.029 L2206.35 208.029 L2206.35 203.516 L2220.72 181.618 Z\" fill=\"#000000\" fill-rule=\"evenodd\" fill-opacity=\"1\" /></svg>\n"
     },
     "execution_count": 19,
     "metadata": {},
     "output_type": "execute_result"
    },
    {
     "name": "stderr",
     "output_type": "stream",
     "text": [
      "┌ Info: Precompiling GR_jll [d2c73de3-f751-5644-a686-071e5b155ba9]\n",
      "└ @ Base loading.jl:1423\n"
     ]
    }
   ],
   "source": [
    "x = collect(0.01:0.01:4)\n",
    "plot(x, log.(1 .+ x), label = \"exact\")\n",
    "plot!(x, f.(x), label = \"Taylor 4\")\n",
    "ylims!(0, 2)"
   ]
  },
  {
   "cell_type": "markdown",
   "metadata": {},
   "source": [
    "変数の線形性≠パラメタの線形性\n",
    "\n",
    "変数における非線形性は，適切に変数変換することで，線形回帰モデルで適切に推定できるが，パラメタが線形結合でないモデルは禁止されている。\n",
    "\n",
    "※非線形なパラメタを容易に線形に変換できないとあるが，具体的にどう努力すれば変換できるのか？"
   ]
  },
  {
   "cell_type": "code",
   "execution_count": null,
   "metadata": {},
   "outputs": [],
   "source": []
  }
 ],
 "metadata": {
  "kernelspec": {
   "display_name": "Julia 1.7.2",
   "language": "julia",
   "name": "julia-1.7"
  },
  "language_info": {
   "file_extension": ".jl",
   "mimetype": "application/julia",
   "name": "julia",
   "version": "1.7.2"
  }
 },
 "nbformat": 4,
 "nbformat_minor": 4
}
